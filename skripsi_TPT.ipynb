{
  "cells": [
    {
      "cell_type": "markdown",
      "metadata": {
        "id": "KZ1fszmhpPZM"
      },
      "source": [
        "# Import Library\n"
      ]
    },
    {
      "cell_type": "code",
      "execution_count": 330,
      "metadata": {},
      "outputs": [],
      "source": [
        "import os\n",
        "os.chdir(\"D:\\KULIAH\\SKRIPSI\\IMPLEMENT\\project-skripsi\\data_pengangguran\")"
      ]
    },
    {
      "cell_type": "code",
      "execution_count": 1,
      "metadata": {
        "id": "iRQSBsyqo-VG"
      },
      "outputs": [],
      "source": [
        "import numpy as np\n",
        "import pandas as pd\n",
        "import matplotlib.pyplot as plt\n",
        "import plotly.express as px\n",
        "import plotly.graph_objects as go\n",
        "from sklearn.cluster import KMeans\n",
        "from sklearn.metrics import davies_bouldin_score\n",
        "from sklearn.preprocessing import MinMaxScaler\n",
        "from sklearn.metrics import silhouette_score"
      ]
    },
    {
      "cell_type": "markdown",
      "metadata": {
        "id": "iHmSE4t7rGwe"
      },
      "source": [
        "# Import Dataset\n"
      ]
    },
    {
      "cell_type": "code",
      "execution_count": 332,
      "metadata": {
        "id": "5vfmBTrvrDLZ"
      },
      "outputs": [],
      "source": [
        "df_2013 = pd.read_csv('TPT-2013.csv')\n",
        "df_2014 = pd.read_csv('TPT-2014.csv')\n",
        "df_2015 = pd.read_csv('TPT-2015.csv')\n",
        "df_2016 = pd.read_csv('TPT-2016.csv')\n",
        "df_2017 = pd.read_csv('TPT-2017.csv')\n",
        "df_2018 = pd.read_csv('TPT-2018.csv')\n",
        "df_2019 = pd.read_csv('TPT-2019.csv')\n",
        "df_2020 = pd.read_csv('TPT-2020.csv')\n",
        "df_2021 = pd.read_csv('TPT-2021.csv')\n",
        "df_2022 = pd.read_csv('TPT-2022.csv')\n",
        "df_2023 = pd.read_csv('TPT-2023.csv')"
      ]
    },
    {
      "cell_type": "markdown",
      "metadata": {
        "id": "pKD2zByKuZtq"
      },
      "source": [
        "# Data Cleaning & Feature Engineering"
      ]
    },
    {
      "cell_type": "markdown",
      "metadata": {},
      "source": [
        "## Func if needed"
      ]
    },
    {
      "cell_type": "code",
      "execution_count": 333,
      "metadata": {},
      "outputs": [],
      "source": [
        "def conv_float(column):\n",
        "    return column.astype(float)"
      ]
    },
    {
      "cell_type": "markdown",
      "metadata": {
        "id": "nS9J-PXIe301"
      },
      "source": [
        "## TPT - 2013"
      ]
    },
    {
      "cell_type": "code",
      "execution_count": 334,
      "metadata": {},
      "outputs": [
        {
          "name": "stdout",
          "output_type": "stream",
          "text": [
            "<class 'pandas.core.frame.DataFrame'>\n",
            "RangeIndex: 35 entries, 0 to 34\n",
            "Data columns (total 3 columns):\n",
            " #   Column                                         Non-Null Count  Dtype \n",
            "---  ------                                         --------------  ----- \n",
            " 0   Provinsi                                       35 non-null     object\n",
            " 1   Tingkat Pengangguran Terbuka (TPT) - Februari  35 non-null     object\n",
            " 2   Tingkat Pengangguran Terbuka (TPT) - Agustus   35 non-null     object\n",
            "dtypes: object(3)\n",
            "memory usage: 972.0+ bytes\n"
          ]
        }
      ],
      "source": [
        "df_2013.info()"
      ]
    },
    {
      "cell_type": "code",
      "execution_count": 335,
      "metadata": {
        "id": "geKi2dPSe7Uz"
      },
      "outputs": [],
      "source": [
        "df_2013 = df_2013.rename(columns={'Provinsi':'provinsi',  'Tingkat Pengangguran Terbuka (TPT) - Februari':'februari', 'Tingkat Pengangguran Terbuka (TPT) - Agustus':'agustus'})"
      ]
    },
    {
      "cell_type": "code",
      "execution_count": 336,
      "metadata": {
        "id": "BY8z9GX-fYT5"
      },
      "outputs": [],
      "source": [
        "df_2013.drop(df_2013.tail(1).index, inplace=True)"
      ]
    },
    {
      "cell_type": "code",
      "execution_count": 337,
      "metadata": {
        "colab": {
          "base_uri": "https://localhost:8080/"
        },
        "id": "uEn-bahaf_Gf",
        "outputId": "8c2599eb-ff6c-4ead-c110-78d2a0320f08"
      },
      "outputs": [
        {
          "data": {
            "text/plain": [
              "provinsi    0\n",
              "februari    0\n",
              "agustus     0\n",
              "dtype: int64"
            ]
          },
          "execution_count": 337,
          "metadata": {},
          "output_type": "execute_result"
        }
      ],
      "source": [
        "df_2013.isna().sum()"
      ]
    },
    {
      "cell_type": "code",
      "execution_count": 338,
      "metadata": {},
      "outputs": [],
      "source": [
        "df_2013.replace('-', 0, inplace=True)"
      ]
    },
    {
      "cell_type": "code",
      "execution_count": 339,
      "metadata": {},
      "outputs": [],
      "source": [
        "df_2013[['februari', 'agustus']] = df_2013[['februari', 'agustus']].apply(conv_float)"
      ]
    },
    {
      "cell_type": "code",
      "execution_count": 340,
      "metadata": {},
      "outputs": [
        {
          "data": {
            "text/plain": [
              "provinsi     object\n",
              "februari    float64\n",
              "agustus     float64\n",
              "dtype: object"
            ]
          },
          "execution_count": 340,
          "metadata": {},
          "output_type": "execute_result"
        }
      ],
      "source": [
        "df_2013.dtypes"
      ]
    },
    {
      "cell_type": "code",
      "execution_count": 341,
      "metadata": {},
      "outputs": [],
      "source": [
        "df_2013['avg-2013'] = df_2013[['februari', 'agustus']].mean(axis=1).round(2)"
      ]
    },
    {
      "cell_type": "code",
      "execution_count": 342,
      "metadata": {},
      "outputs": [],
      "source": [
        "df_2013.drop(columns=df_2013[['februari', 'agustus']], axis=0, inplace=True)"
      ]
    },
    {
      "cell_type": "code",
      "execution_count": 343,
      "metadata": {},
      "outputs": [
        {
          "data": {
            "text/html": [
              "<div>\n",
              "<style scoped>\n",
              "    .dataframe tbody tr th:only-of-type {\n",
              "        vertical-align: middle;\n",
              "    }\n",
              "\n",
              "    .dataframe tbody tr th {\n",
              "        vertical-align: top;\n",
              "    }\n",
              "\n",
              "    .dataframe thead th {\n",
              "        text-align: right;\n",
              "    }\n",
              "</style>\n",
              "<table border=\"1\" class=\"dataframe\">\n",
              "  <thead>\n",
              "    <tr style=\"text-align: right;\">\n",
              "      <th></th>\n",
              "      <th>provinsi</th>\n",
              "      <th>avg-2013</th>\n",
              "    </tr>\n",
              "  </thead>\n",
              "  <tbody>\n",
              "    <tr>\n",
              "      <th>0</th>\n",
              "      <td>ACEH</td>\n",
              "      <td>9.23</td>\n",
              "    </tr>\n",
              "    <tr>\n",
              "      <th>1</th>\n",
              "      <td>SUMATERA UTARA</td>\n",
              "      <td>6.27</td>\n",
              "    </tr>\n",
              "    <tr>\n",
              "      <th>2</th>\n",
              "      <td>SUMATERA BARAT</td>\n",
              "      <td>6.70</td>\n",
              "    </tr>\n",
              "    <tr>\n",
              "      <th>3</th>\n",
              "      <td>RIAU</td>\n",
              "      <td>4.84</td>\n",
              "    </tr>\n",
              "    <tr>\n",
              "      <th>4</th>\n",
              "      <td>JAMBI</td>\n",
              "      <td>3.82</td>\n",
              "    </tr>\n",
              "    <tr>\n",
              "      <th>5</th>\n",
              "      <td>SUMATERA SELATAN</td>\n",
              "      <td>5.12</td>\n",
              "    </tr>\n",
              "    <tr>\n",
              "      <th>6</th>\n",
              "      <td>BENGKULU</td>\n",
              "      <td>3.36</td>\n",
              "    </tr>\n",
              "    <tr>\n",
              "      <th>7</th>\n",
              "      <td>LAMPUNG</td>\n",
              "      <td>5.38</td>\n",
              "    </tr>\n",
              "    <tr>\n",
              "      <th>8</th>\n",
              "      <td>KEPULAUAN BANGKA BELITUNG</td>\n",
              "      <td>3.44</td>\n",
              "    </tr>\n",
              "    <tr>\n",
              "      <th>9</th>\n",
              "      <td>KEPULAUAN RIAU</td>\n",
              "      <td>5.84</td>\n",
              "    </tr>\n",
              "  </tbody>\n",
              "</table>\n",
              "</div>"
            ],
            "text/plain": [
              "                    provinsi  avg-2013\n",
              "0                       ACEH      9.23\n",
              "1             SUMATERA UTARA      6.27\n",
              "2             SUMATERA BARAT      6.70\n",
              "3                       RIAU      4.84\n",
              "4                      JAMBI      3.82\n",
              "5           SUMATERA SELATAN      5.12\n",
              "6                   BENGKULU      3.36\n",
              "7                    LAMPUNG      5.38\n",
              "8  KEPULAUAN BANGKA BELITUNG      3.44\n",
              "9             KEPULAUAN RIAU      5.84"
            ]
          },
          "execution_count": 343,
          "metadata": {},
          "output_type": "execute_result"
        }
      ],
      "source": [
        "df_2013.head(10)"
      ]
    },
    {
      "cell_type": "markdown",
      "metadata": {
        "id": "6KW1VxUngLmV"
      },
      "source": [
        "## TPT - 2014"
      ]
    },
    {
      "cell_type": "code",
      "execution_count": 344,
      "metadata": {},
      "outputs": [
        {
          "name": "stdout",
          "output_type": "stream",
          "text": [
            "<class 'pandas.core.frame.DataFrame'>\n",
            "RangeIndex: 35 entries, 0 to 34\n",
            "Data columns (total 3 columns):\n",
            " #   Column                                         Non-Null Count  Dtype \n",
            "---  ------                                         --------------  ----- \n",
            " 0   Provinsi                                       35 non-null     object\n",
            " 1   Tingkat Pengangguran Terbuka (TPT) - Februari  35 non-null     object\n",
            " 2   Tingkat Pengangguran Terbuka (TPT) - Agustus   35 non-null     object\n",
            "dtypes: object(3)\n",
            "memory usage: 972.0+ bytes\n"
          ]
        }
      ],
      "source": [
        "df_2014.info()"
      ]
    },
    {
      "cell_type": "code",
      "execution_count": 345,
      "metadata": {
        "id": "RyIPgkhigPJ9"
      },
      "outputs": [],
      "source": [
        "df_2014 = df_2014.rename(columns={'Provinsi':'provinsi',  'Tingkat Pengangguran Terbuka (TPT) - Februari':'februari', 'Tingkat Pengangguran Terbuka (TPT) - Agustus':'agustus'})"
      ]
    },
    {
      "cell_type": "code",
      "execution_count": 346,
      "metadata": {
        "id": "2VgJ8mH7grxv"
      },
      "outputs": [],
      "source": [
        "df_2014.drop(df_2014.tail(1).index, inplace=True)"
      ]
    },
    {
      "cell_type": "code",
      "execution_count": 347,
      "metadata": {
        "colab": {
          "base_uri": "https://localhost:8080/"
        },
        "id": "rwF0M5eng6oE",
        "outputId": "8756fedb-5d12-4256-d76f-5a1fa5caabad"
      },
      "outputs": [
        {
          "data": {
            "text/plain": [
              "provinsi    0\n",
              "februari    0\n",
              "agustus     0\n",
              "dtype: int64"
            ]
          },
          "execution_count": 347,
          "metadata": {},
          "output_type": "execute_result"
        }
      ],
      "source": [
        "df_2014.isna().sum()"
      ]
    },
    {
      "cell_type": "code",
      "execution_count": 348,
      "metadata": {},
      "outputs": [],
      "source": [
        "df_2014.replace('-', 0, inplace=True)"
      ]
    },
    {
      "cell_type": "code",
      "execution_count": 349,
      "metadata": {},
      "outputs": [],
      "source": [
        "df_2014[['februari', 'agustus']] = df_2014[['februari', 'agustus']].apply(conv_float)"
      ]
    },
    {
      "cell_type": "code",
      "execution_count": 350,
      "metadata": {},
      "outputs": [],
      "source": [
        "df_2014['avg-2014'] = df_2014[['februari', 'agustus']].mean(axis=1).round(2)"
      ]
    },
    {
      "cell_type": "code",
      "execution_count": 351,
      "metadata": {},
      "outputs": [],
      "source": [
        "df_2014.drop(columns=df_2014[['februari', 'agustus']], axis=0, inplace=True)"
      ]
    },
    {
      "cell_type": "code",
      "execution_count": 352,
      "metadata": {},
      "outputs": [
        {
          "data": {
            "text/html": [
              "<div>\n",
              "<style scoped>\n",
              "    .dataframe tbody tr th:only-of-type {\n",
              "        vertical-align: middle;\n",
              "    }\n",
              "\n",
              "    .dataframe tbody tr th {\n",
              "        vertical-align: top;\n",
              "    }\n",
              "\n",
              "    .dataframe thead th {\n",
              "        text-align: right;\n",
              "    }\n",
              "</style>\n",
              "<table border=\"1\" class=\"dataframe\">\n",
              "  <thead>\n",
              "    <tr style=\"text-align: right;\">\n",
              "      <th></th>\n",
              "      <th>provinsi</th>\n",
              "      <th>avg-2014</th>\n",
              "    </tr>\n",
              "  </thead>\n",
              "  <tbody>\n",
              "    <tr>\n",
              "      <th>0</th>\n",
              "      <td>ACEH</td>\n",
              "      <td>7.88</td>\n",
              "    </tr>\n",
              "    <tr>\n",
              "      <th>1</th>\n",
              "      <td>SUMATERA UTARA</td>\n",
              "      <td>6.09</td>\n",
              "    </tr>\n",
              "    <tr>\n",
              "      <th>2</th>\n",
              "      <td>SUMATERA BARAT</td>\n",
              "      <td>6.41</td>\n",
              "    </tr>\n",
              "    <tr>\n",
              "      <th>3</th>\n",
              "      <td>RIAU</td>\n",
              "      <td>5.78</td>\n",
              "    </tr>\n",
              "    <tr>\n",
              "      <th>4</th>\n",
              "      <td>JAMBI</td>\n",
              "      <td>3.79</td>\n",
              "    </tr>\n",
              "  </tbody>\n",
              "</table>\n",
              "</div>"
            ],
            "text/plain": [
              "         provinsi  avg-2014\n",
              "0            ACEH      7.88\n",
              "1  SUMATERA UTARA      6.09\n",
              "2  SUMATERA BARAT      6.41\n",
              "3            RIAU      5.78\n",
              "4           JAMBI      3.79"
            ]
          },
          "execution_count": 352,
          "metadata": {},
          "output_type": "execute_result"
        }
      ],
      "source": [
        "df_2014.head()"
      ]
    },
    {
      "cell_type": "markdown",
      "metadata": {
        "id": "EkBBMq-thHSW"
      },
      "source": [
        "## TPT - 2015"
      ]
    },
    {
      "cell_type": "code",
      "execution_count": 353,
      "metadata": {},
      "outputs": [
        {
          "name": "stdout",
          "output_type": "stream",
          "text": [
            "<class 'pandas.core.frame.DataFrame'>\n",
            "RangeIndex: 35 entries, 0 to 34\n",
            "Data columns (total 3 columns):\n",
            " #   Column                                         Non-Null Count  Dtype  \n",
            "---  ------                                         --------------  -----  \n",
            " 0   Provinsi                                       35 non-null     object \n",
            " 1   Tingkat Pengangguran Terbuka (TPT) - Februari  35 non-null     float64\n",
            " 2   Tingkat Pengangguran Terbuka (TPT) - Agustus   35 non-null     float64\n",
            "dtypes: float64(2), object(1)\n",
            "memory usage: 972.0+ bytes\n"
          ]
        }
      ],
      "source": [
        "df_2015.info()"
      ]
    },
    {
      "cell_type": "code",
      "execution_count": 354,
      "metadata": {
        "id": "eoYeObEThJkN"
      },
      "outputs": [],
      "source": [
        "df_2015 = df_2015.rename(columns={'Provinsi':'provinsi',  'Tingkat Pengangguran Terbuka (TPT) - Februari':'februari', 'Tingkat Pengangguran Terbuka (TPT) - Agustus':'agustus'})"
      ]
    },
    {
      "cell_type": "code",
      "execution_count": 355,
      "metadata": {
        "id": "aFTlm4LrhjLs"
      },
      "outputs": [],
      "source": [
        "df_2015.drop(df_2015.tail(1).index, inplace=True)"
      ]
    },
    {
      "cell_type": "code",
      "execution_count": 356,
      "metadata": {},
      "outputs": [],
      "source": [
        "df_2015['avg-2015'] = df_2015[['februari', 'agustus']].mean(axis=1).round(2)"
      ]
    },
    {
      "cell_type": "code",
      "execution_count": 357,
      "metadata": {},
      "outputs": [],
      "source": [
        "df_2015.drop(columns=df_2015[['februari', 'agustus']], axis=0, inplace=True)"
      ]
    },
    {
      "cell_type": "code",
      "execution_count": 358,
      "metadata": {},
      "outputs": [
        {
          "data": {
            "text/html": [
              "<div>\n",
              "<style scoped>\n",
              "    .dataframe tbody tr th:only-of-type {\n",
              "        vertical-align: middle;\n",
              "    }\n",
              "\n",
              "    .dataframe tbody tr th {\n",
              "        vertical-align: top;\n",
              "    }\n",
              "\n",
              "    .dataframe thead th {\n",
              "        text-align: right;\n",
              "    }\n",
              "</style>\n",
              "<table border=\"1\" class=\"dataframe\">\n",
              "  <thead>\n",
              "    <tr style=\"text-align: right;\">\n",
              "      <th></th>\n",
              "      <th>provinsi</th>\n",
              "      <th>avg-2015</th>\n",
              "    </tr>\n",
              "  </thead>\n",
              "  <tbody>\n",
              "    <tr>\n",
              "      <th>0</th>\n",
              "      <td>ACEH</td>\n",
              "      <td>8.83</td>\n",
              "    </tr>\n",
              "    <tr>\n",
              "      <th>1</th>\n",
              "      <td>SUMATERA UTARA</td>\n",
              "      <td>6.55</td>\n",
              "    </tr>\n",
              "    <tr>\n",
              "      <th>2</th>\n",
              "      <td>SUMATERA BARAT</td>\n",
              "      <td>6.44</td>\n",
              "    </tr>\n",
              "    <tr>\n",
              "      <th>3</th>\n",
              "      <td>RIAU</td>\n",
              "      <td>7.28</td>\n",
              "    </tr>\n",
              "    <tr>\n",
              "      <th>4</th>\n",
              "      <td>JAMBI</td>\n",
              "      <td>3.54</td>\n",
              "    </tr>\n",
              "  </tbody>\n",
              "</table>\n",
              "</div>"
            ],
            "text/plain": [
              "         provinsi  avg-2015\n",
              "0            ACEH      8.83\n",
              "1  SUMATERA UTARA      6.55\n",
              "2  SUMATERA BARAT      6.44\n",
              "3            RIAU      7.28\n",
              "4           JAMBI      3.54"
            ]
          },
          "execution_count": 358,
          "metadata": {},
          "output_type": "execute_result"
        }
      ],
      "source": [
        "df_2015.head()"
      ]
    },
    {
      "cell_type": "markdown",
      "metadata": {
        "id": "1iDcNErshuK7"
      },
      "source": [
        "## TPT - 2016"
      ]
    },
    {
      "cell_type": "code",
      "execution_count": 359,
      "metadata": {},
      "outputs": [
        {
          "name": "stdout",
          "output_type": "stream",
          "text": [
            "<class 'pandas.core.frame.DataFrame'>\n",
            "RangeIndex: 35 entries, 0 to 34\n",
            "Data columns (total 3 columns):\n",
            " #   Column                                         Non-Null Count  Dtype  \n",
            "---  ------                                         --------------  -----  \n",
            " 0   Provinsi                                       35 non-null     object \n",
            " 1   Tingkat Pengangguran Terbuka (TPT) - Februari  35 non-null     float64\n",
            " 2   Tingkat Pengangguran Terbuka (TPT) - Agustus   35 non-null     float64\n",
            "dtypes: float64(2), object(1)\n",
            "memory usage: 972.0+ bytes\n"
          ]
        }
      ],
      "source": [
        "df_2016.info()"
      ]
    },
    {
      "cell_type": "code",
      "execution_count": 360,
      "metadata": {
        "id": "zSGpMBmAhyNR"
      },
      "outputs": [],
      "source": [
        "df_2016 = df_2016.rename(columns={'Provinsi':'provinsi',  'Tingkat Pengangguran Terbuka (TPT) - Februari':'februari', 'Tingkat Pengangguran Terbuka (TPT) - Agustus':'agustus'})"
      ]
    },
    {
      "cell_type": "code",
      "execution_count": 361,
      "metadata": {
        "id": "hQwlnXVxiK3Z"
      },
      "outputs": [],
      "source": [
        "df_2016.drop(df_2016.tail(1).index, inplace=True)"
      ]
    },
    {
      "cell_type": "code",
      "execution_count": 362,
      "metadata": {},
      "outputs": [],
      "source": [
        "df_2016['avg-2016'] = df_2016[['februari', 'agustus']].mean(axis=1).round(2)"
      ]
    },
    {
      "cell_type": "code",
      "execution_count": 363,
      "metadata": {},
      "outputs": [],
      "source": [
        "df_2016.drop(columns=df_2016[['februari', 'agustus']], axis=0, inplace=True)"
      ]
    },
    {
      "cell_type": "code",
      "execution_count": 364,
      "metadata": {},
      "outputs": [
        {
          "data": {
            "text/html": [
              "<div>\n",
              "<style scoped>\n",
              "    .dataframe tbody tr th:only-of-type {\n",
              "        vertical-align: middle;\n",
              "    }\n",
              "\n",
              "    .dataframe tbody tr th {\n",
              "        vertical-align: top;\n",
              "    }\n",
              "\n",
              "    .dataframe thead th {\n",
              "        text-align: right;\n",
              "    }\n",
              "</style>\n",
              "<table border=\"1\" class=\"dataframe\">\n",
              "  <thead>\n",
              "    <tr style=\"text-align: right;\">\n",
              "      <th></th>\n",
              "      <th>provinsi</th>\n",
              "      <th>avg-2016</th>\n",
              "    </tr>\n",
              "  </thead>\n",
              "  <tbody>\n",
              "    <tr>\n",
              "      <th>0</th>\n",
              "      <td>ACEH</td>\n",
              "      <td>7.85</td>\n",
              "    </tr>\n",
              "    <tr>\n",
              "      <th>1</th>\n",
              "      <td>SUMATERA UTARA</td>\n",
              "      <td>6.16</td>\n",
              "    </tr>\n",
              "    <tr>\n",
              "      <th>2</th>\n",
              "      <td>SUMATERA BARAT</td>\n",
              "      <td>5.45</td>\n",
              "    </tr>\n",
              "    <tr>\n",
              "      <th>3</th>\n",
              "      <td>RIAU</td>\n",
              "      <td>6.68</td>\n",
              "    </tr>\n",
              "    <tr>\n",
              "      <th>4</th>\n",
              "      <td>JAMBI</td>\n",
              "      <td>4.33</td>\n",
              "    </tr>\n",
              "  </tbody>\n",
              "</table>\n",
              "</div>"
            ],
            "text/plain": [
              "         provinsi  avg-2016\n",
              "0            ACEH      7.85\n",
              "1  SUMATERA UTARA      6.16\n",
              "2  SUMATERA BARAT      5.45\n",
              "3            RIAU      6.68\n",
              "4           JAMBI      4.33"
            ]
          },
          "execution_count": 364,
          "metadata": {},
          "output_type": "execute_result"
        }
      ],
      "source": [
        "df_2016.head()"
      ]
    },
    {
      "cell_type": "markdown",
      "metadata": {
        "id": "aFK7tSS5ujGI"
      },
      "source": [
        "## TPT - 2017"
      ]
    },
    {
      "cell_type": "code",
      "execution_count": 365,
      "metadata": {},
      "outputs": [
        {
          "name": "stdout",
          "output_type": "stream",
          "text": [
            "<class 'pandas.core.frame.DataFrame'>\n",
            "RangeIndex: 35 entries, 0 to 34\n",
            "Data columns (total 5 columns):\n",
            " #   Column                                                Non-Null Count  Dtype  \n",
            "---  ------                                                --------------  -----  \n",
            " 0   Provinsi                                              35 non-null     object \n",
            " 1   Tingkat Pengangguran Terbuka (TPT) - Februari         35 non-null     float64\n",
            " 2   Tingkat Pengangguran Terbuka (TPT) - Agustus          35 non-null     float64\n",
            " 3   Tingkat Partisipasi Angkatan Kerja (TPAK) - Februari  35 non-null     float64\n",
            " 4   Tingkat Partisipasi Angkatan Kerja (TPAK) - Agustus   35 non-null     float64\n",
            "dtypes: float64(4), object(1)\n",
            "memory usage: 1.5+ KB\n"
          ]
        }
      ],
      "source": [
        "df_2017.info()"
      ]
    },
    {
      "cell_type": "code",
      "execution_count": 366,
      "metadata": {
        "id": "OeubLSMBsodX"
      },
      "outputs": [],
      "source": [
        "drop_cols = df_2017[['Tingkat Partisipasi Angkatan Kerja (TPAK) - Februari', 'Tingkat Partisipasi Angkatan Kerja (TPAK) - Agustus']]\n",
        "df_2017.drop(axis=1, columns=drop_cols, inplace=True)"
      ]
    },
    {
      "cell_type": "code",
      "execution_count": 367,
      "metadata": {
        "id": "l5v5zQrJsBmC"
      },
      "outputs": [],
      "source": [
        "df_2017 = df_2017.rename(columns={'Provinsi':'provinsi',  'Tingkat Pengangguran Terbuka (TPT) - Februari':'februari', 'Tingkat Pengangguran Terbuka (TPT) - Agustus':'agustus'})"
      ]
    },
    {
      "cell_type": "code",
      "execution_count": 368,
      "metadata": {
        "id": "6mlFp0aF4Bkh"
      },
      "outputs": [],
      "source": [
        "df_2017.drop(df_2017.tail(1).index, inplace=True)"
      ]
    },
    {
      "cell_type": "code",
      "execution_count": 369,
      "metadata": {},
      "outputs": [],
      "source": [
        "df_2017['avg-2017'] = df_2017[['februari', 'agustus']].mean(axis=1).round(2)"
      ]
    },
    {
      "cell_type": "code",
      "execution_count": 370,
      "metadata": {},
      "outputs": [],
      "source": [
        "df_2017.drop(columns=df_2017[['februari', 'agustus']], axis=0, inplace=True)"
      ]
    },
    {
      "cell_type": "code",
      "execution_count": 371,
      "metadata": {},
      "outputs": [
        {
          "data": {
            "text/html": [
              "<div>\n",
              "<style scoped>\n",
              "    .dataframe tbody tr th:only-of-type {\n",
              "        vertical-align: middle;\n",
              "    }\n",
              "\n",
              "    .dataframe tbody tr th {\n",
              "        vertical-align: top;\n",
              "    }\n",
              "\n",
              "    .dataframe thead th {\n",
              "        text-align: right;\n",
              "    }\n",
              "</style>\n",
              "<table border=\"1\" class=\"dataframe\">\n",
              "  <thead>\n",
              "    <tr style=\"text-align: right;\">\n",
              "      <th></th>\n",
              "      <th>provinsi</th>\n",
              "      <th>avg-2017</th>\n",
              "    </tr>\n",
              "  </thead>\n",
              "  <tbody>\n",
              "    <tr>\n",
              "      <th>0</th>\n",
              "      <td>Aceh</td>\n",
              "      <td>6.98</td>\n",
              "    </tr>\n",
              "    <tr>\n",
              "      <th>1</th>\n",
              "      <td>Sumatera Utara</td>\n",
              "      <td>6.00</td>\n",
              "    </tr>\n",
              "    <tr>\n",
              "      <th>2</th>\n",
              "      <td>Sumatera Barat</td>\n",
              "      <td>5.69</td>\n",
              "    </tr>\n",
              "    <tr>\n",
              "      <th>3</th>\n",
              "      <td>Riau</td>\n",
              "      <td>5.99</td>\n",
              "    </tr>\n",
              "    <tr>\n",
              "      <th>4</th>\n",
              "      <td>Jambi</td>\n",
              "      <td>3.77</td>\n",
              "    </tr>\n",
              "  </tbody>\n",
              "</table>\n",
              "</div>"
            ],
            "text/plain": [
              "         provinsi  avg-2017\n",
              "0            Aceh      6.98\n",
              "1  Sumatera Utara      6.00\n",
              "2  Sumatera Barat      5.69\n",
              "3            Riau      5.99\n",
              "4           Jambi      3.77"
            ]
          },
          "execution_count": 371,
          "metadata": {},
          "output_type": "execute_result"
        }
      ],
      "source": [
        "df_2017.head()"
      ]
    },
    {
      "cell_type": "code",
      "execution_count": 372,
      "metadata": {},
      "outputs": [
        {
          "data": {
            "text/html": [
              "<div>\n",
              "<style scoped>\n",
              "    .dataframe tbody tr th:only-of-type {\n",
              "        vertical-align: middle;\n",
              "    }\n",
              "\n",
              "    .dataframe tbody tr th {\n",
              "        vertical-align: top;\n",
              "    }\n",
              "\n",
              "    .dataframe thead th {\n",
              "        text-align: right;\n",
              "    }\n",
              "</style>\n",
              "<table border=\"1\" class=\"dataframe\">\n",
              "  <thead>\n",
              "    <tr style=\"text-align: right;\">\n",
              "      <th></th>\n",
              "      <th>provinsi</th>\n",
              "      <th>avg-2017</th>\n",
              "    </tr>\n",
              "  </thead>\n",
              "  <tbody>\n",
              "    <tr>\n",
              "      <th>0</th>\n",
              "      <td>ACEH</td>\n",
              "      <td>6.98</td>\n",
              "    </tr>\n",
              "    <tr>\n",
              "      <th>1</th>\n",
              "      <td>SUMATERA UTARA</td>\n",
              "      <td>6.00</td>\n",
              "    </tr>\n",
              "    <tr>\n",
              "      <th>2</th>\n",
              "      <td>SUMATERA BARAT</td>\n",
              "      <td>5.69</td>\n",
              "    </tr>\n",
              "    <tr>\n",
              "      <th>3</th>\n",
              "      <td>RIAU</td>\n",
              "      <td>5.99</td>\n",
              "    </tr>\n",
              "    <tr>\n",
              "      <th>4</th>\n",
              "      <td>JAMBI</td>\n",
              "      <td>3.77</td>\n",
              "    </tr>\n",
              "  </tbody>\n",
              "</table>\n",
              "</div>"
            ],
            "text/plain": [
              "         provinsi  avg-2017\n",
              "0            ACEH      6.98\n",
              "1  SUMATERA UTARA      6.00\n",
              "2  SUMATERA BARAT      5.69\n",
              "3            RIAU      5.99\n",
              "4           JAMBI      3.77"
            ]
          },
          "execution_count": 372,
          "metadata": {},
          "output_type": "execute_result"
        }
      ],
      "source": [
        "df_2017['provinsi'] = df_2017['provinsi'].str.upper()\n",
        "df_2017.head()"
      ]
    },
    {
      "cell_type": "markdown",
      "metadata": {
        "id": "VpV-9OrB4adH"
      },
      "source": [
        "## TPT - 2018"
      ]
    },
    {
      "cell_type": "code",
      "execution_count": 373,
      "metadata": {},
      "outputs": [
        {
          "name": "stdout",
          "output_type": "stream",
          "text": [
            "<class 'pandas.core.frame.DataFrame'>\n",
            "RangeIndex: 35 entries, 0 to 34\n",
            "Data columns (total 5 columns):\n",
            " #   Column                                                Non-Null Count  Dtype  \n",
            "---  ------                                                --------------  -----  \n",
            " 0   Provinsi                                              35 non-null     object \n",
            " 1   Tingkat Pengangguran Terbuka (TPT) - Februari         35 non-null     float64\n",
            " 2   Tingkat Pengangguran Terbuka (TPT) - Agustus          35 non-null     float64\n",
            " 3   Tingkat Partisipasi Angkatan Kerja (TPAK) - Februari  35 non-null     float64\n",
            " 4   Tingkat Partisipasi Angkatan Kerja (TPAK) - Agustus   35 non-null     float64\n",
            "dtypes: float64(4), object(1)\n",
            "memory usage: 1.5+ KB\n"
          ]
        }
      ],
      "source": [
        "df_2018.info()"
      ]
    },
    {
      "cell_type": "code",
      "execution_count": 374,
      "metadata": {
        "id": "bSzFM6hJ4eB-"
      },
      "outputs": [],
      "source": [
        "drop_cols = df_2018[['Tingkat Partisipasi Angkatan Kerja (TPAK) - Februari', 'Tingkat Partisipasi Angkatan Kerja (TPAK) - Agustus']]\n",
        "df_2018.drop(axis=1, columns=drop_cols, inplace=True)"
      ]
    },
    {
      "cell_type": "code",
      "execution_count": 375,
      "metadata": {
        "id": "TC5Wn9l-4xWv"
      },
      "outputs": [],
      "source": [
        "df_2018 = df_2018.rename(columns={'Provinsi':'provinsi',  'Tingkat Pengangguran Terbuka (TPT) - Februari':'februari', 'Tingkat Pengangguran Terbuka (TPT) - Agustus':'agustus'})"
      ]
    },
    {
      "cell_type": "code",
      "execution_count": 376,
      "metadata": {
        "id": "CT2ZhZlk5kwe"
      },
      "outputs": [],
      "source": [
        "df_2018.drop(df_2018.tail(1).index, inplace=True)"
      ]
    },
    {
      "cell_type": "code",
      "execution_count": 377,
      "metadata": {},
      "outputs": [],
      "source": [
        "df_2018['avg-2018'] = df_2018[['februari', 'agustus']].mean(axis=1).round(2)"
      ]
    },
    {
      "cell_type": "code",
      "execution_count": 378,
      "metadata": {},
      "outputs": [],
      "source": [
        "df_2018.drop(columns=df_2018[['februari', 'agustus']], axis=0, inplace=True)"
      ]
    },
    {
      "cell_type": "code",
      "execution_count": 379,
      "metadata": {},
      "outputs": [
        {
          "data": {
            "text/html": [
              "<div>\n",
              "<style scoped>\n",
              "    .dataframe tbody tr th:only-of-type {\n",
              "        vertical-align: middle;\n",
              "    }\n",
              "\n",
              "    .dataframe tbody tr th {\n",
              "        vertical-align: top;\n",
              "    }\n",
              "\n",
              "    .dataframe thead th {\n",
              "        text-align: right;\n",
              "    }\n",
              "</style>\n",
              "<table border=\"1\" class=\"dataframe\">\n",
              "  <thead>\n",
              "    <tr style=\"text-align: right;\">\n",
              "      <th></th>\n",
              "      <th>provinsi</th>\n",
              "      <th>avg-2018</th>\n",
              "    </tr>\n",
              "  </thead>\n",
              "  <tbody>\n",
              "    <tr>\n",
              "      <th>0</th>\n",
              "      <td>Aceh</td>\n",
              "      <td>6.44</td>\n",
              "    </tr>\n",
              "    <tr>\n",
              "      <th>1</th>\n",
              "      <td>Sumatera Utara</td>\n",
              "      <td>5.58</td>\n",
              "    </tr>\n",
              "    <tr>\n",
              "      <th>2</th>\n",
              "      <td>Sumatera Barat</td>\n",
              "      <td>5.67</td>\n",
              "    </tr>\n",
              "    <tr>\n",
              "      <th>3</th>\n",
              "      <td>Riau</td>\n",
              "      <td>5.76</td>\n",
              "    </tr>\n",
              "    <tr>\n",
              "      <th>4</th>\n",
              "      <td>Jambi</td>\n",
              "      <td>3.64</td>\n",
              "    </tr>\n",
              "  </tbody>\n",
              "</table>\n",
              "</div>"
            ],
            "text/plain": [
              "         provinsi  avg-2018\n",
              "0            Aceh      6.44\n",
              "1  Sumatera Utara      5.58\n",
              "2  Sumatera Barat      5.67\n",
              "3            Riau      5.76\n",
              "4           Jambi      3.64"
            ]
          },
          "execution_count": 379,
          "metadata": {},
          "output_type": "execute_result"
        }
      ],
      "source": [
        "df_2018.head()"
      ]
    },
    {
      "cell_type": "code",
      "execution_count": 380,
      "metadata": {},
      "outputs": [
        {
          "data": {
            "text/html": [
              "<div>\n",
              "<style scoped>\n",
              "    .dataframe tbody tr th:only-of-type {\n",
              "        vertical-align: middle;\n",
              "    }\n",
              "\n",
              "    .dataframe tbody tr th {\n",
              "        vertical-align: top;\n",
              "    }\n",
              "\n",
              "    .dataframe thead th {\n",
              "        text-align: right;\n",
              "    }\n",
              "</style>\n",
              "<table border=\"1\" class=\"dataframe\">\n",
              "  <thead>\n",
              "    <tr style=\"text-align: right;\">\n",
              "      <th></th>\n",
              "      <th>provinsi</th>\n",
              "      <th>avg-2018</th>\n",
              "    </tr>\n",
              "  </thead>\n",
              "  <tbody>\n",
              "    <tr>\n",
              "      <th>0</th>\n",
              "      <td>ACEH</td>\n",
              "      <td>6.44</td>\n",
              "    </tr>\n",
              "    <tr>\n",
              "      <th>1</th>\n",
              "      <td>SUMATERA UTARA</td>\n",
              "      <td>5.58</td>\n",
              "    </tr>\n",
              "    <tr>\n",
              "      <th>2</th>\n",
              "      <td>SUMATERA BARAT</td>\n",
              "      <td>5.67</td>\n",
              "    </tr>\n",
              "    <tr>\n",
              "      <th>3</th>\n",
              "      <td>RIAU</td>\n",
              "      <td>5.76</td>\n",
              "    </tr>\n",
              "    <tr>\n",
              "      <th>4</th>\n",
              "      <td>JAMBI</td>\n",
              "      <td>3.64</td>\n",
              "    </tr>\n",
              "  </tbody>\n",
              "</table>\n",
              "</div>"
            ],
            "text/plain": [
              "         provinsi  avg-2018\n",
              "0            ACEH      6.44\n",
              "1  SUMATERA UTARA      5.58\n",
              "2  SUMATERA BARAT      5.67\n",
              "3            RIAU      5.76\n",
              "4           JAMBI      3.64"
            ]
          },
          "execution_count": 380,
          "metadata": {},
          "output_type": "execute_result"
        }
      ],
      "source": [
        "df_2018['provinsi'] = df_2018['provinsi'].str.upper()\n",
        "df_2018.head()"
      ]
    },
    {
      "cell_type": "markdown",
      "metadata": {
        "id": "qSr4xiequyH7"
      },
      "source": [
        "## TPT - 2019"
      ]
    },
    {
      "cell_type": "code",
      "execution_count": 381,
      "metadata": {},
      "outputs": [
        {
          "name": "stdout",
          "output_type": "stream",
          "text": [
            "<class 'pandas.core.frame.DataFrame'>\n",
            "RangeIndex: 35 entries, 0 to 34\n",
            "Data columns (total 5 columns):\n",
            " #   Column                                                Non-Null Count  Dtype  \n",
            "---  ------                                                --------------  -----  \n",
            " 0   Provinsi                                              35 non-null     object \n",
            " 1   Tingkat Pengangguran Terbuka (TPT) - Februari         35 non-null     float64\n",
            " 2   Tingkat Pengangguran Terbuka (TPT) - Agustus          35 non-null     float64\n",
            " 3   Tingkat Partisipasi Angkatan Kerja (TPAK) - Februari  35 non-null     float64\n",
            " 4   Tingkat Partisipasi Angkatan Kerja (TPAK) - Agustus   35 non-null     float64\n",
            "dtypes: float64(4), object(1)\n",
            "memory usage: 1.5+ KB\n"
          ]
        }
      ],
      "source": [
        "df_2019.info()"
      ]
    },
    {
      "cell_type": "code",
      "execution_count": 382,
      "metadata": {},
      "outputs": [
        {
          "data": {
            "text/html": [
              "<div>\n",
              "<style scoped>\n",
              "    .dataframe tbody tr th:only-of-type {\n",
              "        vertical-align: middle;\n",
              "    }\n",
              "\n",
              "    .dataframe tbody tr th {\n",
              "        vertical-align: top;\n",
              "    }\n",
              "\n",
              "    .dataframe thead th {\n",
              "        text-align: right;\n",
              "    }\n",
              "</style>\n",
              "<table border=\"1\" class=\"dataframe\">\n",
              "  <thead>\n",
              "    <tr style=\"text-align: right;\">\n",
              "      <th></th>\n",
              "      <th>Provinsi</th>\n",
              "      <th>Tingkat Pengangguran Terbuka (TPT) - Februari</th>\n",
              "      <th>Tingkat Pengangguran Terbuka (TPT) - Agustus</th>\n",
              "      <th>Tingkat Partisipasi Angkatan Kerja (TPAK) - Februari</th>\n",
              "      <th>Tingkat Partisipasi Angkatan Kerja (TPAK) - Agustus</th>\n",
              "    </tr>\n",
              "  </thead>\n",
              "  <tbody>\n",
              "    <tr>\n",
              "      <th>0</th>\n",
              "      <td>Aceh</td>\n",
              "      <td>5.48</td>\n",
              "      <td>6.17</td>\n",
              "      <td>66.26</td>\n",
              "      <td>63.13</td>\n",
              "    </tr>\n",
              "    <tr>\n",
              "      <th>1</th>\n",
              "      <td>Sumatera Utara</td>\n",
              "      <td>5.57</td>\n",
              "      <td>5.39</td>\n",
              "      <td>74.72</td>\n",
              "      <td>70.37</td>\n",
              "    </tr>\n",
              "    <tr>\n",
              "      <th>2</th>\n",
              "      <td>Sumatera Barat</td>\n",
              "      <td>5.38</td>\n",
              "      <td>5.38</td>\n",
              "      <td>70.62</td>\n",
              "      <td>67.88</td>\n",
              "    </tr>\n",
              "    <tr>\n",
              "      <th>3</th>\n",
              "      <td>Riau</td>\n",
              "      <td>5.36</td>\n",
              "      <td>5.76</td>\n",
              "      <td>68.32</td>\n",
              "      <td>64.94</td>\n",
              "    </tr>\n",
              "    <tr>\n",
              "      <th>4</th>\n",
              "      <td>Jambi</td>\n",
              "      <td>3.52</td>\n",
              "      <td>4.06</td>\n",
              "      <td>67.41</td>\n",
              "      <td>65.79</td>\n",
              "    </tr>\n",
              "    <tr>\n",
              "      <th>5</th>\n",
              "      <td>Sumatera Selatan</td>\n",
              "      <td>4.02</td>\n",
              "      <td>4.53</td>\n",
              "      <td>71.21</td>\n",
              "      <td>67.67</td>\n",
              "    </tr>\n",
              "    <tr>\n",
              "      <th>6</th>\n",
              "      <td>Bengkulu</td>\n",
              "      <td>2.41</td>\n",
              "      <td>3.26</td>\n",
              "      <td>72.40</td>\n",
              "      <td>70.09</td>\n",
              "    </tr>\n",
              "    <tr>\n",
              "      <th>7</th>\n",
              "      <td>Lampung</td>\n",
              "      <td>3.95</td>\n",
              "      <td>4.03</td>\n",
              "      <td>72.09</td>\n",
              "      <td>69.06</td>\n",
              "    </tr>\n",
              "    <tr>\n",
              "      <th>8</th>\n",
              "      <td>Kepulauan Bangka Belitung</td>\n",
              "      <td>3.32</td>\n",
              "      <td>3.58</td>\n",
              "      <td>67.53</td>\n",
              "      <td>67.10</td>\n",
              "    </tr>\n",
              "    <tr>\n",
              "      <th>9</th>\n",
              "      <td>Kepulauan Riau</td>\n",
              "      <td>7.02</td>\n",
              "      <td>7.50</td>\n",
              "      <td>67.91</td>\n",
              "      <td>64.69</td>\n",
              "    </tr>\n",
              "  </tbody>\n",
              "</table>\n",
              "</div>"
            ],
            "text/plain": [
              "                    Provinsi  Tingkat Pengangguran Terbuka (TPT) - Februari  \\\n",
              "0                       Aceh                                           5.48   \n",
              "1             Sumatera Utara                                           5.57   \n",
              "2             Sumatera Barat                                           5.38   \n",
              "3                       Riau                                           5.36   \n",
              "4                      Jambi                                           3.52   \n",
              "5           Sumatera Selatan                                           4.02   \n",
              "6                   Bengkulu                                           2.41   \n",
              "7                    Lampung                                           3.95   \n",
              "8  Kepulauan Bangka Belitung                                           3.32   \n",
              "9             Kepulauan Riau                                           7.02   \n",
              "\n",
              "   Tingkat Pengangguran Terbuka (TPT) - Agustus  \\\n",
              "0                                          6.17   \n",
              "1                                          5.39   \n",
              "2                                          5.38   \n",
              "3                                          5.76   \n",
              "4                                          4.06   \n",
              "5                                          4.53   \n",
              "6                                          3.26   \n",
              "7                                          4.03   \n",
              "8                                          3.58   \n",
              "9                                          7.50   \n",
              "\n",
              "   Tingkat Partisipasi Angkatan Kerja (TPAK) - Februari  \\\n",
              "0                                              66.26      \n",
              "1                                              74.72      \n",
              "2                                              70.62      \n",
              "3                                              68.32      \n",
              "4                                              67.41      \n",
              "5                                              71.21      \n",
              "6                                              72.40      \n",
              "7                                              72.09      \n",
              "8                                              67.53      \n",
              "9                                              67.91      \n",
              "\n",
              "   Tingkat Partisipasi Angkatan Kerja (TPAK) - Agustus  \n",
              "0                                              63.13    \n",
              "1                                              70.37    \n",
              "2                                              67.88    \n",
              "3                                              64.94    \n",
              "4                                              65.79    \n",
              "5                                              67.67    \n",
              "6                                              70.09    \n",
              "7                                              69.06    \n",
              "8                                              67.10    \n",
              "9                                              64.69    "
            ]
          },
          "execution_count": 382,
          "metadata": {},
          "output_type": "execute_result"
        }
      ],
      "source": [
        "df_2019.head(10)"
      ]
    },
    {
      "cell_type": "code",
      "execution_count": 383,
      "metadata": {
        "id": "TXfUj0Sju0HU"
      },
      "outputs": [],
      "source": [
        "drop_cols = df_2019[['Tingkat Partisipasi Angkatan Kerja (TPAK) - Februari', 'Tingkat Partisipasi Angkatan Kerja (TPAK) - Agustus']]\n",
        "df_2019.drop(axis=1, columns=drop_cols, inplace=True)"
      ]
    },
    {
      "cell_type": "code",
      "execution_count": 384,
      "metadata": {
        "id": "_5BH5GMgvDmp"
      },
      "outputs": [],
      "source": [
        "df_2019 = df_2019.rename(columns={'Provinsi':'provinsi',  'Tingkat Pengangguran Terbuka (TPT) - Februari':'februari', 'Tingkat Pengangguran Terbuka (TPT) - Agustus':'agustus'})"
      ]
    },
    {
      "cell_type": "code",
      "execution_count": 385,
      "metadata": {
        "id": "AcGJQUPg59Ez"
      },
      "outputs": [],
      "source": [
        "df_2019.drop(df_2019.tail(1).index, inplace=True)"
      ]
    },
    {
      "cell_type": "code",
      "execution_count": 386,
      "metadata": {},
      "outputs": [],
      "source": [
        "df_2019['avg-2019'] = df_2019[['februari', 'agustus']].mean(axis=1).round(2)"
      ]
    },
    {
      "cell_type": "code",
      "execution_count": 387,
      "metadata": {},
      "outputs": [],
      "source": [
        "df_2019.drop(columns=df_2019[['februari', 'agustus']], axis=0, inplace=True)"
      ]
    },
    {
      "cell_type": "code",
      "execution_count": 388,
      "metadata": {},
      "outputs": [
        {
          "data": {
            "text/html": [
              "<div>\n",
              "<style scoped>\n",
              "    .dataframe tbody tr th:only-of-type {\n",
              "        vertical-align: middle;\n",
              "    }\n",
              "\n",
              "    .dataframe tbody tr th {\n",
              "        vertical-align: top;\n",
              "    }\n",
              "\n",
              "    .dataframe thead th {\n",
              "        text-align: right;\n",
              "    }\n",
              "</style>\n",
              "<table border=\"1\" class=\"dataframe\">\n",
              "  <thead>\n",
              "    <tr style=\"text-align: right;\">\n",
              "      <th></th>\n",
              "      <th>provinsi</th>\n",
              "      <th>avg-2019</th>\n",
              "    </tr>\n",
              "  </thead>\n",
              "  <tbody>\n",
              "    <tr>\n",
              "      <th>0</th>\n",
              "      <td>Aceh</td>\n",
              "      <td>5.82</td>\n",
              "    </tr>\n",
              "    <tr>\n",
              "      <th>1</th>\n",
              "      <td>Sumatera Utara</td>\n",
              "      <td>5.48</td>\n",
              "    </tr>\n",
              "    <tr>\n",
              "      <th>2</th>\n",
              "      <td>Sumatera Barat</td>\n",
              "      <td>5.38</td>\n",
              "    </tr>\n",
              "    <tr>\n",
              "      <th>3</th>\n",
              "      <td>Riau</td>\n",
              "      <td>5.56</td>\n",
              "    </tr>\n",
              "    <tr>\n",
              "      <th>4</th>\n",
              "      <td>Jambi</td>\n",
              "      <td>3.79</td>\n",
              "    </tr>\n",
              "  </tbody>\n",
              "</table>\n",
              "</div>"
            ],
            "text/plain": [
              "         provinsi  avg-2019\n",
              "0            Aceh      5.82\n",
              "1  Sumatera Utara      5.48\n",
              "2  Sumatera Barat      5.38\n",
              "3            Riau      5.56\n",
              "4           Jambi      3.79"
            ]
          },
          "execution_count": 388,
          "metadata": {},
          "output_type": "execute_result"
        }
      ],
      "source": [
        "df_2019.head()"
      ]
    },
    {
      "cell_type": "code",
      "execution_count": 389,
      "metadata": {},
      "outputs": [
        {
          "data": {
            "text/html": [
              "<div>\n",
              "<style scoped>\n",
              "    .dataframe tbody tr th:only-of-type {\n",
              "        vertical-align: middle;\n",
              "    }\n",
              "\n",
              "    .dataframe tbody tr th {\n",
              "        vertical-align: top;\n",
              "    }\n",
              "\n",
              "    .dataframe thead th {\n",
              "        text-align: right;\n",
              "    }\n",
              "</style>\n",
              "<table border=\"1\" class=\"dataframe\">\n",
              "  <thead>\n",
              "    <tr style=\"text-align: right;\">\n",
              "      <th></th>\n",
              "      <th>provinsi</th>\n",
              "      <th>avg-2019</th>\n",
              "    </tr>\n",
              "  </thead>\n",
              "  <tbody>\n",
              "    <tr>\n",
              "      <th>0</th>\n",
              "      <td>ACEH</td>\n",
              "      <td>5.82</td>\n",
              "    </tr>\n",
              "    <tr>\n",
              "      <th>1</th>\n",
              "      <td>SUMATERA UTARA</td>\n",
              "      <td>5.48</td>\n",
              "    </tr>\n",
              "    <tr>\n",
              "      <th>2</th>\n",
              "      <td>SUMATERA BARAT</td>\n",
              "      <td>5.38</td>\n",
              "    </tr>\n",
              "    <tr>\n",
              "      <th>3</th>\n",
              "      <td>RIAU</td>\n",
              "      <td>5.56</td>\n",
              "    </tr>\n",
              "    <tr>\n",
              "      <th>4</th>\n",
              "      <td>JAMBI</td>\n",
              "      <td>3.79</td>\n",
              "    </tr>\n",
              "  </tbody>\n",
              "</table>\n",
              "</div>"
            ],
            "text/plain": [
              "         provinsi  avg-2019\n",
              "0            ACEH      5.82\n",
              "1  SUMATERA UTARA      5.48\n",
              "2  SUMATERA BARAT      5.38\n",
              "3            RIAU      5.56\n",
              "4           JAMBI      3.79"
            ]
          },
          "execution_count": 389,
          "metadata": {},
          "output_type": "execute_result"
        }
      ],
      "source": [
        "df_2019['provinsi'] = df_2019['provinsi'].str.upper()\n",
        "df_2019.head()"
      ]
    },
    {
      "cell_type": "markdown",
      "metadata": {
        "id": "DHCp21H2vTyc"
      },
      "source": [
        "## TPT - 2020"
      ]
    },
    {
      "cell_type": "code",
      "execution_count": 390,
      "metadata": {},
      "outputs": [
        {
          "name": "stdout",
          "output_type": "stream",
          "text": [
            "<class 'pandas.core.frame.DataFrame'>\n",
            "RangeIndex: 35 entries, 0 to 34\n",
            "Data columns (total 5 columns):\n",
            " #   Column                                                Non-Null Count  Dtype  \n",
            "---  ------                                                --------------  -----  \n",
            " 0   Provinsi                                              35 non-null     object \n",
            " 1   Tingkat Pengangguran Terbuka (TPT) - Februari         35 non-null     float64\n",
            " 2   Tingkat Pengangguran Terbuka (TPT) - Agustus          35 non-null     float64\n",
            " 3   Tingkat Partisipasi Angkatan Kerja (TPAK) - Februari  35 non-null     float64\n",
            " 4   Tingkat Partisipasi Angkatan Kerja (TPAK) - Agustus   35 non-null     float64\n",
            "dtypes: float64(4), object(1)\n",
            "memory usage: 1.5+ KB\n"
          ]
        }
      ],
      "source": [
        "df_2020.info()"
      ]
    },
    {
      "cell_type": "code",
      "execution_count": 391,
      "metadata": {
        "id": "LOFVpDwfvVSR"
      },
      "outputs": [],
      "source": [
        "drop_cols = df_2020[['Tingkat Partisipasi Angkatan Kerja (TPAK) - Februari', 'Tingkat Partisipasi Angkatan Kerja (TPAK) - Agustus']]\n",
        "df_2020.drop(axis=1, columns=drop_cols, inplace=True)"
      ]
    },
    {
      "cell_type": "code",
      "execution_count": 392,
      "metadata": {
        "id": "Cnt0l8DRvh1c"
      },
      "outputs": [],
      "source": [
        "df_2020 = df_2020.rename(columns={'Provinsi':'provinsi',  'Tingkat Pengangguran Terbuka (TPT) - Februari':'februari', 'Tingkat Pengangguran Terbuka (TPT) - Agustus':'agustus'})"
      ]
    },
    {
      "cell_type": "code",
      "execution_count": 393,
      "metadata": {
        "id": "M_-UXsRf6Bzo"
      },
      "outputs": [],
      "source": [
        "df_2020.drop(df_2020.tail(1).index, inplace=True)"
      ]
    },
    {
      "cell_type": "code",
      "execution_count": 394,
      "metadata": {},
      "outputs": [],
      "source": [
        "df_2020['avg-2020'] = df_2020[['februari', 'agustus']].mean(axis=1).round(2)"
      ]
    },
    {
      "cell_type": "code",
      "execution_count": 395,
      "metadata": {},
      "outputs": [],
      "source": [
        "df_2020.drop(columns=df_2020[['februari', 'agustus']], axis=0, inplace=True)"
      ]
    },
    {
      "cell_type": "code",
      "execution_count": 396,
      "metadata": {},
      "outputs": [
        {
          "data": {
            "text/html": [
              "<div>\n",
              "<style scoped>\n",
              "    .dataframe tbody tr th:only-of-type {\n",
              "        vertical-align: middle;\n",
              "    }\n",
              "\n",
              "    .dataframe tbody tr th {\n",
              "        vertical-align: top;\n",
              "    }\n",
              "\n",
              "    .dataframe thead th {\n",
              "        text-align: right;\n",
              "    }\n",
              "</style>\n",
              "<table border=\"1\" class=\"dataframe\">\n",
              "  <thead>\n",
              "    <tr style=\"text-align: right;\">\n",
              "      <th></th>\n",
              "      <th>provinsi</th>\n",
              "      <th>avg-2020</th>\n",
              "    </tr>\n",
              "  </thead>\n",
              "  <tbody>\n",
              "    <tr>\n",
              "      <th>0</th>\n",
              "      <td>Aceh</td>\n",
              "      <td>6.00</td>\n",
              "    </tr>\n",
              "    <tr>\n",
              "      <th>1</th>\n",
              "      <td>Sumatera Utara</td>\n",
              "      <td>5.81</td>\n",
              "    </tr>\n",
              "    <tr>\n",
              "      <th>2</th>\n",
              "      <td>Sumatera Barat</td>\n",
              "      <td>6.06</td>\n",
              "    </tr>\n",
              "    <tr>\n",
              "      <th>3</th>\n",
              "      <td>Riau</td>\n",
              "      <td>5.62</td>\n",
              "    </tr>\n",
              "    <tr>\n",
              "      <th>4</th>\n",
              "      <td>Jambi</td>\n",
              "      <td>4.70</td>\n",
              "    </tr>\n",
              "  </tbody>\n",
              "</table>\n",
              "</div>"
            ],
            "text/plain": [
              "         provinsi  avg-2020\n",
              "0            Aceh      6.00\n",
              "1  Sumatera Utara      5.81\n",
              "2  Sumatera Barat      6.06\n",
              "3            Riau      5.62\n",
              "4           Jambi      4.70"
            ]
          },
          "execution_count": 396,
          "metadata": {},
          "output_type": "execute_result"
        }
      ],
      "source": [
        "df_2020.head()"
      ]
    },
    {
      "cell_type": "code",
      "execution_count": 397,
      "metadata": {},
      "outputs": [
        {
          "data": {
            "text/html": [
              "<div>\n",
              "<style scoped>\n",
              "    .dataframe tbody tr th:only-of-type {\n",
              "        vertical-align: middle;\n",
              "    }\n",
              "\n",
              "    .dataframe tbody tr th {\n",
              "        vertical-align: top;\n",
              "    }\n",
              "\n",
              "    .dataframe thead th {\n",
              "        text-align: right;\n",
              "    }\n",
              "</style>\n",
              "<table border=\"1\" class=\"dataframe\">\n",
              "  <thead>\n",
              "    <tr style=\"text-align: right;\">\n",
              "      <th></th>\n",
              "      <th>provinsi</th>\n",
              "      <th>avg-2020</th>\n",
              "    </tr>\n",
              "  </thead>\n",
              "  <tbody>\n",
              "    <tr>\n",
              "      <th>0</th>\n",
              "      <td>ACEH</td>\n",
              "      <td>6.00</td>\n",
              "    </tr>\n",
              "    <tr>\n",
              "      <th>1</th>\n",
              "      <td>SUMATERA UTARA</td>\n",
              "      <td>5.81</td>\n",
              "    </tr>\n",
              "    <tr>\n",
              "      <th>2</th>\n",
              "      <td>SUMATERA BARAT</td>\n",
              "      <td>6.06</td>\n",
              "    </tr>\n",
              "    <tr>\n",
              "      <th>3</th>\n",
              "      <td>RIAU</td>\n",
              "      <td>5.62</td>\n",
              "    </tr>\n",
              "    <tr>\n",
              "      <th>4</th>\n",
              "      <td>JAMBI</td>\n",
              "      <td>4.70</td>\n",
              "    </tr>\n",
              "  </tbody>\n",
              "</table>\n",
              "</div>"
            ],
            "text/plain": [
              "         provinsi  avg-2020\n",
              "0            ACEH      6.00\n",
              "1  SUMATERA UTARA      5.81\n",
              "2  SUMATERA BARAT      6.06\n",
              "3            RIAU      5.62\n",
              "4           JAMBI      4.70"
            ]
          },
          "execution_count": 397,
          "metadata": {},
          "output_type": "execute_result"
        }
      ],
      "source": [
        "df_2020['provinsi'] = df_2020['provinsi'].str.upper()\n",
        "df_2020.head()"
      ]
    },
    {
      "cell_type": "markdown",
      "metadata": {
        "id": "szQxCiBNvyvP"
      },
      "source": [
        "## TPT - 2021"
      ]
    },
    {
      "cell_type": "code",
      "execution_count": 398,
      "metadata": {},
      "outputs": [
        {
          "name": "stdout",
          "output_type": "stream",
          "text": [
            "<class 'pandas.core.frame.DataFrame'>\n",
            "RangeIndex: 35 entries, 0 to 34\n",
            "Data columns (total 5 columns):\n",
            " #   Column                                                Non-Null Count  Dtype  \n",
            "---  ------                                                --------------  -----  \n",
            " 0   Provinsi                                              35 non-null     object \n",
            " 1   Tingkat Pengangguran Terbuka (TPT) - Februari         35 non-null     float64\n",
            " 2   Tingkat Pengangguran Terbuka (TPT) - Agustus          35 non-null     float64\n",
            " 3   Tingkat Partisipasi Angkatan Kerja (TPAK) - Februari  35 non-null     float64\n",
            " 4   Tingkat Partisipasi Angkatan Kerja (TPAK) - Agustus   35 non-null     float64\n",
            "dtypes: float64(4), object(1)\n",
            "memory usage: 1.5+ KB\n"
          ]
        }
      ],
      "source": [
        "df_2021.info()"
      ]
    },
    {
      "cell_type": "code",
      "execution_count": 399,
      "metadata": {
        "id": "kCVSxge9v1YA"
      },
      "outputs": [],
      "source": [
        "drop_cols = df_2021[['Tingkat Partisipasi Angkatan Kerja (TPAK) - Februari', 'Tingkat Partisipasi Angkatan Kerja (TPAK) - Agustus']]\n",
        "df_2021.drop(axis=1, columns=drop_cols, inplace=True)"
      ]
    },
    {
      "cell_type": "code",
      "execution_count": 400,
      "metadata": {
        "id": "3yd5ymjQv6Q8"
      },
      "outputs": [],
      "source": [
        "df_2021 = df_2021.rename(columns={'Provinsi':'provinsi',  'Tingkat Pengangguran Terbuka (TPT) - Februari':'februari', 'Tingkat Pengangguran Terbuka (TPT) - Agustus':'agustus'})"
      ]
    },
    {
      "cell_type": "code",
      "execution_count": 401,
      "metadata": {
        "id": "ZlekD9lm6FxB"
      },
      "outputs": [],
      "source": [
        "df_2021.drop(df_2021.tail(1).index, inplace=True)"
      ]
    },
    {
      "cell_type": "code",
      "execution_count": 402,
      "metadata": {},
      "outputs": [],
      "source": [
        "df_2021['avg-2021'] = df_2021[['februari', 'agustus']].mean(axis=1).round(2)"
      ]
    },
    {
      "cell_type": "code",
      "execution_count": 403,
      "metadata": {},
      "outputs": [],
      "source": [
        "df_2021.drop(columns=df_2021[['februari', 'agustus']], axis=0, inplace=True)"
      ]
    },
    {
      "cell_type": "code",
      "execution_count": 404,
      "metadata": {},
      "outputs": [
        {
          "data": {
            "text/html": [
              "<div>\n",
              "<style scoped>\n",
              "    .dataframe tbody tr th:only-of-type {\n",
              "        vertical-align: middle;\n",
              "    }\n",
              "\n",
              "    .dataframe tbody tr th {\n",
              "        vertical-align: top;\n",
              "    }\n",
              "\n",
              "    .dataframe thead th {\n",
              "        text-align: right;\n",
              "    }\n",
              "</style>\n",
              "<table border=\"1\" class=\"dataframe\">\n",
              "  <thead>\n",
              "    <tr style=\"text-align: right;\">\n",
              "      <th></th>\n",
              "      <th>provinsi</th>\n",
              "      <th>avg-2021</th>\n",
              "    </tr>\n",
              "  </thead>\n",
              "  <tbody>\n",
              "    <tr>\n",
              "      <th>0</th>\n",
              "      <td>Aceh</td>\n",
              "      <td>6.30</td>\n",
              "    </tr>\n",
              "    <tr>\n",
              "      <th>1</th>\n",
              "      <td>Sumatera Utara</td>\n",
              "      <td>6.17</td>\n",
              "    </tr>\n",
              "    <tr>\n",
              "      <th>2</th>\n",
              "      <td>Sumatera Barat</td>\n",
              "      <td>6.60</td>\n",
              "    </tr>\n",
              "    <tr>\n",
              "      <th>3</th>\n",
              "      <td>Riau</td>\n",
              "      <td>4.69</td>\n",
              "    </tr>\n",
              "    <tr>\n",
              "      <th>4</th>\n",
              "      <td>Jambi</td>\n",
              "      <td>4.92</td>\n",
              "    </tr>\n",
              "  </tbody>\n",
              "</table>\n",
              "</div>"
            ],
            "text/plain": [
              "         provinsi  avg-2021\n",
              "0            Aceh      6.30\n",
              "1  Sumatera Utara      6.17\n",
              "2  Sumatera Barat      6.60\n",
              "3            Riau      4.69\n",
              "4           Jambi      4.92"
            ]
          },
          "execution_count": 404,
          "metadata": {},
          "output_type": "execute_result"
        }
      ],
      "source": [
        "df_2021.head()"
      ]
    },
    {
      "cell_type": "code",
      "execution_count": 405,
      "metadata": {},
      "outputs": [
        {
          "data": {
            "text/html": [
              "<div>\n",
              "<style scoped>\n",
              "    .dataframe tbody tr th:only-of-type {\n",
              "        vertical-align: middle;\n",
              "    }\n",
              "\n",
              "    .dataframe tbody tr th {\n",
              "        vertical-align: top;\n",
              "    }\n",
              "\n",
              "    .dataframe thead th {\n",
              "        text-align: right;\n",
              "    }\n",
              "</style>\n",
              "<table border=\"1\" class=\"dataframe\">\n",
              "  <thead>\n",
              "    <tr style=\"text-align: right;\">\n",
              "      <th></th>\n",
              "      <th>provinsi</th>\n",
              "      <th>avg-2021</th>\n",
              "    </tr>\n",
              "  </thead>\n",
              "  <tbody>\n",
              "    <tr>\n",
              "      <th>0</th>\n",
              "      <td>ACEH</td>\n",
              "      <td>6.30</td>\n",
              "    </tr>\n",
              "    <tr>\n",
              "      <th>1</th>\n",
              "      <td>SUMATERA UTARA</td>\n",
              "      <td>6.17</td>\n",
              "    </tr>\n",
              "    <tr>\n",
              "      <th>2</th>\n",
              "      <td>SUMATERA BARAT</td>\n",
              "      <td>6.60</td>\n",
              "    </tr>\n",
              "    <tr>\n",
              "      <th>3</th>\n",
              "      <td>RIAU</td>\n",
              "      <td>4.69</td>\n",
              "    </tr>\n",
              "    <tr>\n",
              "      <th>4</th>\n",
              "      <td>JAMBI</td>\n",
              "      <td>4.92</td>\n",
              "    </tr>\n",
              "  </tbody>\n",
              "</table>\n",
              "</div>"
            ],
            "text/plain": [
              "         provinsi  avg-2021\n",
              "0            ACEH      6.30\n",
              "1  SUMATERA UTARA      6.17\n",
              "2  SUMATERA BARAT      6.60\n",
              "3            RIAU      4.69\n",
              "4           JAMBI      4.92"
            ]
          },
          "execution_count": 405,
          "metadata": {},
          "output_type": "execute_result"
        }
      ],
      "source": [
        "df_2021['provinsi'] = df_2021['provinsi'].str.upper()\n",
        "df_2021.head()"
      ]
    },
    {
      "cell_type": "markdown",
      "metadata": {
        "id": "rIFkWuKJwFIo"
      },
      "source": [
        "## TPT - 2022"
      ]
    },
    {
      "cell_type": "code",
      "execution_count": 406,
      "metadata": {},
      "outputs": [
        {
          "name": "stdout",
          "output_type": "stream",
          "text": [
            "<class 'pandas.core.frame.DataFrame'>\n",
            "RangeIndex: 35 entries, 0 to 34\n",
            "Data columns (total 5 columns):\n",
            " #   Column                                                Non-Null Count  Dtype  \n",
            "---  ------                                                --------------  -----  \n",
            " 0   Provinsi                                              35 non-null     object \n",
            " 1   Tingkat Pengangguran Terbuka (TPT) - Februari         35 non-null     float64\n",
            " 2   Tingkat Pengangguran Terbuka (TPT) - Agustus          35 non-null     float64\n",
            " 3   Tingkat Partisipasi Angkatan Kerja (TPAK) - Februari  35 non-null     float64\n",
            " 4   Tingkat Partisipasi Angkatan Kerja (TPAK) - Agustus   35 non-null     float64\n",
            "dtypes: float64(4), object(1)\n",
            "memory usage: 1.5+ KB\n"
          ]
        }
      ],
      "source": [
        "df_2022.info()"
      ]
    },
    {
      "cell_type": "code",
      "execution_count": 407,
      "metadata": {
        "id": "b1ZETqIawHv4"
      },
      "outputs": [],
      "source": [
        "drop_cols = df_2022[['Tingkat Partisipasi Angkatan Kerja (TPAK) - Februari', 'Tingkat Partisipasi Angkatan Kerja (TPAK) - Agustus']]\n",
        "df_2022.drop(axis=1, columns=drop_cols, inplace=True)"
      ]
    },
    {
      "cell_type": "code",
      "execution_count": 408,
      "metadata": {
        "id": "CVWrTjJfwNgY"
      },
      "outputs": [],
      "source": [
        "df_2022 = df_2022.rename(columns={'Provinsi':'provinsi',  'Tingkat Pengangguran Terbuka (TPT) - Februari':'februari', 'Tingkat Pengangguran Terbuka (TPT) - Agustus':'agustus'})"
      ]
    },
    {
      "cell_type": "code",
      "execution_count": 409,
      "metadata": {
        "id": "lUfHAB0u6JVI"
      },
      "outputs": [],
      "source": [
        "df_2022.drop(df_2022.tail(1).index, inplace=True)"
      ]
    },
    {
      "cell_type": "code",
      "execution_count": 410,
      "metadata": {},
      "outputs": [],
      "source": [
        "df_2022['avg-2022'] = df_2022[['februari', 'agustus']].mean(axis=1).round(2)"
      ]
    },
    {
      "cell_type": "code",
      "execution_count": 411,
      "metadata": {},
      "outputs": [],
      "source": [
        "df_2022.drop(columns=df_2022[['februari', 'agustus']], axis=0, inplace=True)"
      ]
    },
    {
      "cell_type": "code",
      "execution_count": 412,
      "metadata": {},
      "outputs": [
        {
          "data": {
            "text/html": [
              "<div>\n",
              "<style scoped>\n",
              "    .dataframe tbody tr th:only-of-type {\n",
              "        vertical-align: middle;\n",
              "    }\n",
              "\n",
              "    .dataframe tbody tr th {\n",
              "        vertical-align: top;\n",
              "    }\n",
              "\n",
              "    .dataframe thead th {\n",
              "        text-align: right;\n",
              "    }\n",
              "</style>\n",
              "<table border=\"1\" class=\"dataframe\">\n",
              "  <thead>\n",
              "    <tr style=\"text-align: right;\">\n",
              "      <th></th>\n",
              "      <th>provinsi</th>\n",
              "      <th>avg-2022</th>\n",
              "    </tr>\n",
              "  </thead>\n",
              "  <tbody>\n",
              "    <tr>\n",
              "      <th>0</th>\n",
              "      <td>Aceh</td>\n",
              "      <td>6.07</td>\n",
              "    </tr>\n",
              "    <tr>\n",
              "      <th>1</th>\n",
              "      <td>Sumatera Utara</td>\n",
              "      <td>5.82</td>\n",
              "    </tr>\n",
              "    <tr>\n",
              "      <th>2</th>\n",
              "      <td>Sumatera Barat</td>\n",
              "      <td>6.22</td>\n",
              "    </tr>\n",
              "    <tr>\n",
              "      <th>3</th>\n",
              "      <td>Riau</td>\n",
              "      <td>4.38</td>\n",
              "    </tr>\n",
              "    <tr>\n",
              "      <th>4</th>\n",
              "      <td>Jambi</td>\n",
              "      <td>4.64</td>\n",
              "    </tr>\n",
              "  </tbody>\n",
              "</table>\n",
              "</div>"
            ],
            "text/plain": [
              "         provinsi  avg-2022\n",
              "0            Aceh      6.07\n",
              "1  Sumatera Utara      5.82\n",
              "2  Sumatera Barat      6.22\n",
              "3            Riau      4.38\n",
              "4           Jambi      4.64"
            ]
          },
          "execution_count": 412,
          "metadata": {},
          "output_type": "execute_result"
        }
      ],
      "source": [
        "df_2022.head()"
      ]
    },
    {
      "cell_type": "code",
      "execution_count": 413,
      "metadata": {},
      "outputs": [
        {
          "data": {
            "text/html": [
              "<div>\n",
              "<style scoped>\n",
              "    .dataframe tbody tr th:only-of-type {\n",
              "        vertical-align: middle;\n",
              "    }\n",
              "\n",
              "    .dataframe tbody tr th {\n",
              "        vertical-align: top;\n",
              "    }\n",
              "\n",
              "    .dataframe thead th {\n",
              "        text-align: right;\n",
              "    }\n",
              "</style>\n",
              "<table border=\"1\" class=\"dataframe\">\n",
              "  <thead>\n",
              "    <tr style=\"text-align: right;\">\n",
              "      <th></th>\n",
              "      <th>provinsi</th>\n",
              "      <th>avg-2022</th>\n",
              "    </tr>\n",
              "  </thead>\n",
              "  <tbody>\n",
              "    <tr>\n",
              "      <th>0</th>\n",
              "      <td>ACEH</td>\n",
              "      <td>6.07</td>\n",
              "    </tr>\n",
              "    <tr>\n",
              "      <th>1</th>\n",
              "      <td>SUMATERA UTARA</td>\n",
              "      <td>5.82</td>\n",
              "    </tr>\n",
              "    <tr>\n",
              "      <th>2</th>\n",
              "      <td>SUMATERA BARAT</td>\n",
              "      <td>6.22</td>\n",
              "    </tr>\n",
              "    <tr>\n",
              "      <th>3</th>\n",
              "      <td>RIAU</td>\n",
              "      <td>4.38</td>\n",
              "    </tr>\n",
              "    <tr>\n",
              "      <th>4</th>\n",
              "      <td>JAMBI</td>\n",
              "      <td>4.64</td>\n",
              "    </tr>\n",
              "  </tbody>\n",
              "</table>\n",
              "</div>"
            ],
            "text/plain": [
              "         provinsi  avg-2022\n",
              "0            ACEH      6.07\n",
              "1  SUMATERA UTARA      5.82\n",
              "2  SUMATERA BARAT      6.22\n",
              "3            RIAU      4.38\n",
              "4           JAMBI      4.64"
            ]
          },
          "execution_count": 413,
          "metadata": {},
          "output_type": "execute_result"
        }
      ],
      "source": [
        "df_2022['provinsi'] = df_2022['provinsi'].str.upper()\n",
        "df_2022.head()"
      ]
    },
    {
      "cell_type": "markdown",
      "metadata": {
        "id": "8H1a3kDgwbag"
      },
      "source": [
        "## TPT - 2023"
      ]
    },
    {
      "cell_type": "code",
      "execution_count": 414,
      "metadata": {},
      "outputs": [
        {
          "name": "stdout",
          "output_type": "stream",
          "text": [
            "<class 'pandas.core.frame.DataFrame'>\n",
            "RangeIndex: 35 entries, 0 to 34\n",
            "Data columns (total 3 columns):\n",
            " #   Column                                         Non-Null Count  Dtype  \n",
            "---  ------                                         --------------  -----  \n",
            " 0   PROVINSI                                       35 non-null     object \n",
            " 1   Tingkat Pengangguran Terbuka (TPT) - Februari  35 non-null     float64\n",
            " 2   Tingkat Pengangguran Terbuka (TPT) - Agustus   35 non-null     float64\n",
            "dtypes: float64(2), object(1)\n",
            "memory usage: 972.0+ bytes\n"
          ]
        }
      ],
      "source": [
        "df_2023.info()"
      ]
    },
    {
      "cell_type": "code",
      "execution_count": 415,
      "metadata": {
        "id": "u7r7nrCZwfE3"
      },
      "outputs": [],
      "source": [
        "df_2023 = df_2023.rename(columns={'PROVINSI':'provinsi',  'Tingkat Pengangguran Terbuka (TPT) - Februari':'februari', 'Tingkat Pengangguran Terbuka (TPT) - Agustus':'agustus'})"
      ]
    },
    {
      "cell_type": "code",
      "execution_count": 416,
      "metadata": {
        "id": "GUgs7EoS6NhN"
      },
      "outputs": [],
      "source": [
        "df_2023.drop(df_2023.tail(1).index, inplace=True)"
      ]
    },
    {
      "cell_type": "code",
      "execution_count": 417,
      "metadata": {},
      "outputs": [],
      "source": [
        "df_2023['avg-2023'] = df_2023[['februari', 'agustus']].mean(axis=1).round(2)"
      ]
    },
    {
      "cell_type": "code",
      "execution_count": 418,
      "metadata": {},
      "outputs": [],
      "source": [
        "df_2023.drop(columns=df_2023[['februari', 'agustus']], axis=0, inplace=True)"
      ]
    },
    {
      "cell_type": "code",
      "execution_count": 419,
      "metadata": {},
      "outputs": [
        {
          "data": {
            "text/html": [
              "<div>\n",
              "<style scoped>\n",
              "    .dataframe tbody tr th:only-of-type {\n",
              "        vertical-align: middle;\n",
              "    }\n",
              "\n",
              "    .dataframe tbody tr th {\n",
              "        vertical-align: top;\n",
              "    }\n",
              "\n",
              "    .dataframe thead th {\n",
              "        text-align: right;\n",
              "    }\n",
              "</style>\n",
              "<table border=\"1\" class=\"dataframe\">\n",
              "  <thead>\n",
              "    <tr style=\"text-align: right;\">\n",
              "      <th></th>\n",
              "      <th>provinsi</th>\n",
              "      <th>avg-2023</th>\n",
              "    </tr>\n",
              "  </thead>\n",
              "  <tbody>\n",
              "    <tr>\n",
              "      <th>0</th>\n",
              "      <td>ACEH</td>\n",
              "      <td>5.89</td>\n",
              "    </tr>\n",
              "    <tr>\n",
              "      <th>1</th>\n",
              "      <td>SUMATERA UTARA</td>\n",
              "      <td>5.56</td>\n",
              "    </tr>\n",
              "    <tr>\n",
              "      <th>2</th>\n",
              "      <td>SUMATERA BARAT</td>\n",
              "      <td>5.92</td>\n",
              "    </tr>\n",
              "    <tr>\n",
              "      <th>3</th>\n",
              "      <td>RIAU</td>\n",
              "      <td>4.24</td>\n",
              "    </tr>\n",
              "    <tr>\n",
              "      <th>4</th>\n",
              "      <td>JAMBI</td>\n",
              "      <td>4.52</td>\n",
              "    </tr>\n",
              "  </tbody>\n",
              "</table>\n",
              "</div>"
            ],
            "text/plain": [
              "         provinsi  avg-2023\n",
              "0            ACEH      5.89\n",
              "1  SUMATERA UTARA      5.56\n",
              "2  SUMATERA BARAT      5.92\n",
              "3            RIAU      4.24\n",
              "4           JAMBI      4.52"
            ]
          },
          "execution_count": 419,
          "metadata": {},
          "output_type": "execute_result"
        }
      ],
      "source": [
        "df_2023.head()"
      ]
    },
    {
      "cell_type": "markdown",
      "metadata": {},
      "source": [
        "# Merging Data"
      ]
    },
    {
      "cell_type": "code",
      "execution_count": 425,
      "metadata": {},
      "outputs": [],
      "source": [
        "df = pd.merge(df_2013, df_2014, on= 'provinsi')\n",
        "df = df.merge(right=df_2015, how='left', on= 'provinsi')\n",
        "df = df.merge(right=df_2016, how='left', on= 'provinsi')\n",
        "df = df.merge(right=df_2017, how='left', on= 'provinsi')\n",
        "df = df.merge(right=df_2018, how='left', on= 'provinsi')\n",
        "df = df.merge(right=df_2019, how='left', on= 'provinsi')\n",
        "df = df.merge(right=df_2020, how='left', on= 'provinsi')\n",
        "df = df.merge(right=df_2021, how='left', on= 'provinsi')\n",
        "df = df.merge(right=df_2022, how='left', on= 'provinsi')\n",
        "df = df.merge(right=df_2023, how='left', on= 'provinsi')\n"
      ]
    },
    {
      "cell_type": "code",
      "execution_count": 426,
      "metadata": {},
      "outputs": [
        {
          "data": {
            "text/html": [
              "<div>\n",
              "<style scoped>\n",
              "    .dataframe tbody tr th:only-of-type {\n",
              "        vertical-align: middle;\n",
              "    }\n",
              "\n",
              "    .dataframe tbody tr th {\n",
              "        vertical-align: top;\n",
              "    }\n",
              "\n",
              "    .dataframe thead th {\n",
              "        text-align: right;\n",
              "    }\n",
              "</style>\n",
              "<table border=\"1\" class=\"dataframe\">\n",
              "  <thead>\n",
              "    <tr style=\"text-align: right;\">\n",
              "      <th></th>\n",
              "      <th>provinsi</th>\n",
              "      <th>avg-2013</th>\n",
              "      <th>avg-2014</th>\n",
              "      <th>avg-2015</th>\n",
              "      <th>avg-2016</th>\n",
              "      <th>avg-2017</th>\n",
              "      <th>avg-2018</th>\n",
              "      <th>avg-2019</th>\n",
              "      <th>avg-2020</th>\n",
              "      <th>avg-2021</th>\n",
              "      <th>avg-2022</th>\n",
              "      <th>avg-2023</th>\n",
              "    </tr>\n",
              "  </thead>\n",
              "  <tbody>\n",
              "    <tr>\n",
              "      <th>0</th>\n",
              "      <td>ACEH</td>\n",
              "      <td>9.23</td>\n",
              "      <td>7.88</td>\n",
              "      <td>8.83</td>\n",
              "      <td>7.85</td>\n",
              "      <td>6.98</td>\n",
              "      <td>6.44</td>\n",
              "      <td>5.82</td>\n",
              "      <td>6.00</td>\n",
              "      <td>6.30</td>\n",
              "      <td>6.07</td>\n",
              "      <td>5.89</td>\n",
              "    </tr>\n",
              "    <tr>\n",
              "      <th>1</th>\n",
              "      <td>SUMATERA UTARA</td>\n",
              "      <td>6.27</td>\n",
              "      <td>6.09</td>\n",
              "      <td>6.55</td>\n",
              "      <td>6.16</td>\n",
              "      <td>6.00</td>\n",
              "      <td>5.58</td>\n",
              "      <td>5.48</td>\n",
              "      <td>5.81</td>\n",
              "      <td>6.17</td>\n",
              "      <td>5.82</td>\n",
              "      <td>5.56</td>\n",
              "    </tr>\n",
              "    <tr>\n",
              "      <th>2</th>\n",
              "      <td>SUMATERA BARAT</td>\n",
              "      <td>6.70</td>\n",
              "      <td>6.41</td>\n",
              "      <td>6.44</td>\n",
              "      <td>5.45</td>\n",
              "      <td>5.69</td>\n",
              "      <td>5.67</td>\n",
              "      <td>5.38</td>\n",
              "      <td>6.06</td>\n",
              "      <td>6.60</td>\n",
              "      <td>6.22</td>\n",
              "      <td>5.92</td>\n",
              "    </tr>\n",
              "    <tr>\n",
              "      <th>3</th>\n",
              "      <td>RIAU</td>\n",
              "      <td>4.84</td>\n",
              "      <td>5.78</td>\n",
              "      <td>7.28</td>\n",
              "      <td>6.68</td>\n",
              "      <td>5.99</td>\n",
              "      <td>5.76</td>\n",
              "      <td>5.56</td>\n",
              "      <td>5.62</td>\n",
              "      <td>4.69</td>\n",
              "      <td>4.38</td>\n",
              "      <td>4.24</td>\n",
              "    </tr>\n",
              "    <tr>\n",
              "      <th>4</th>\n",
              "      <td>JAMBI</td>\n",
              "      <td>3.82</td>\n",
              "      <td>3.79</td>\n",
              "      <td>3.54</td>\n",
              "      <td>4.33</td>\n",
              "      <td>3.77</td>\n",
              "      <td>3.64</td>\n",
              "      <td>3.79</td>\n",
              "      <td>4.70</td>\n",
              "      <td>4.92</td>\n",
              "      <td>4.64</td>\n",
              "      <td>4.52</td>\n",
              "    </tr>\n",
              "    <tr>\n",
              "      <th>5</th>\n",
              "      <td>SUMATERA SELATAN</td>\n",
              "      <td>5.12</td>\n",
              "      <td>4.40</td>\n",
              "      <td>5.55</td>\n",
              "      <td>4.12</td>\n",
              "      <td>4.10</td>\n",
              "      <td>4.18</td>\n",
              "      <td>4.28</td>\n",
              "      <td>4.70</td>\n",
              "      <td>5.08</td>\n",
              "      <td>4.69</td>\n",
              "      <td>4.32</td>\n",
              "    </tr>\n",
              "    <tr>\n",
              "      <th>6</th>\n",
              "      <td>BENGKULU</td>\n",
              "      <td>3.36</td>\n",
              "      <td>2.54</td>\n",
              "      <td>4.06</td>\n",
              "      <td>3.57</td>\n",
              "      <td>3.28</td>\n",
              "      <td>2.99</td>\n",
              "      <td>2.84</td>\n",
              "      <td>3.58</td>\n",
              "      <td>3.68</td>\n",
              "      <td>3.49</td>\n",
              "      <td>3.32</td>\n",
              "    </tr>\n",
              "    <tr>\n",
              "      <th>7</th>\n",
              "      <td>LAMPUNG</td>\n",
              "      <td>5.38</td>\n",
              "      <td>4.94</td>\n",
              "      <td>4.29</td>\n",
              "      <td>4.58</td>\n",
              "      <td>4.38</td>\n",
              "      <td>4.18</td>\n",
              "      <td>3.99</td>\n",
              "      <td>4.46</td>\n",
              "      <td>4.62</td>\n",
              "      <td>4.41</td>\n",
              "      <td>4.20</td>\n",
              "    </tr>\n",
              "    <tr>\n",
              "      <th>8</th>\n",
              "      <td>KEPULAUAN BANGKA BELITUNG</td>\n",
              "      <td>3.44</td>\n",
              "      <td>3.90</td>\n",
              "      <td>4.82</td>\n",
              "      <td>4.38</td>\n",
              "      <td>4.12</td>\n",
              "      <td>3.60</td>\n",
              "      <td>3.45</td>\n",
              "      <td>4.30</td>\n",
              "      <td>5.04</td>\n",
              "      <td>4.47</td>\n",
              "      <td>4.22</td>\n",
              "    </tr>\n",
              "    <tr>\n",
              "      <th>9</th>\n",
              "      <td>KEPULAUAN RIAU</td>\n",
              "      <td>5.84</td>\n",
              "      <td>5.98</td>\n",
              "      <td>7.62</td>\n",
              "      <td>8.36</td>\n",
              "      <td>6.80</td>\n",
              "      <td>7.67</td>\n",
              "      <td>7.26</td>\n",
              "      <td>8.16</td>\n",
              "      <td>10.02</td>\n",
              "      <td>8.12</td>\n",
              "      <td>7.20</td>\n",
              "    </tr>\n",
              "  </tbody>\n",
              "</table>\n",
              "</div>"
            ],
            "text/plain": [
              "                    provinsi  avg-2013  avg-2014  avg-2015  avg-2016  \\\n",
              "0                       ACEH      9.23      7.88      8.83      7.85   \n",
              "1             SUMATERA UTARA      6.27      6.09      6.55      6.16   \n",
              "2             SUMATERA BARAT      6.70      6.41      6.44      5.45   \n",
              "3                       RIAU      4.84      5.78      7.28      6.68   \n",
              "4                      JAMBI      3.82      3.79      3.54      4.33   \n",
              "5           SUMATERA SELATAN      5.12      4.40      5.55      4.12   \n",
              "6                   BENGKULU      3.36      2.54      4.06      3.57   \n",
              "7                    LAMPUNG      5.38      4.94      4.29      4.58   \n",
              "8  KEPULAUAN BANGKA BELITUNG      3.44      3.90      4.82      4.38   \n",
              "9             KEPULAUAN RIAU      5.84      5.98      7.62      8.36   \n",
              "\n",
              "   avg-2017  avg-2018  avg-2019  avg-2020  avg-2021  avg-2022  avg-2023  \n",
              "0      6.98      6.44      5.82      6.00      6.30      6.07      5.89  \n",
              "1      6.00      5.58      5.48      5.81      6.17      5.82      5.56  \n",
              "2      5.69      5.67      5.38      6.06      6.60      6.22      5.92  \n",
              "3      5.99      5.76      5.56      5.62      4.69      4.38      4.24  \n",
              "4      3.77      3.64      3.79      4.70      4.92      4.64      4.52  \n",
              "5      4.10      4.18      4.28      4.70      5.08      4.69      4.32  \n",
              "6      3.28      2.99      2.84      3.58      3.68      3.49      3.32  \n",
              "7      4.38      4.18      3.99      4.46      4.62      4.41      4.20  \n",
              "8      4.12      3.60      3.45      4.30      5.04      4.47      4.22  \n",
              "9      6.80      7.67      7.26      8.16     10.02      8.12      7.20  "
            ]
          },
          "execution_count": 426,
          "metadata": {},
          "output_type": "execute_result"
        }
      ],
      "source": [
        "df.head(10)"
      ]
    },
    {
      "cell_type": "code",
      "execution_count": 308,
      "metadata": {},
      "outputs": [],
      "source": [
        "cols_avg = df.drop(['provinsi'], axis=1)\n",
        "df['avg-total'] = cols_avg.mean(axis=1).round(2)"
      ]
    },
    {
      "cell_type": "code",
      "execution_count": 309,
      "metadata": {},
      "outputs": [],
      "source": [
        "df.drop(columns= cols_avg, axis=1, inplace=True)"
      ]
    },
    {
      "cell_type": "code",
      "execution_count": 310,
      "metadata": {},
      "outputs": [
        {
          "data": {
            "text/html": [
              "<div>\n",
              "<style scoped>\n",
              "    .dataframe tbody tr th:only-of-type {\n",
              "        vertical-align: middle;\n",
              "    }\n",
              "\n",
              "    .dataframe tbody tr th {\n",
              "        vertical-align: top;\n",
              "    }\n",
              "\n",
              "    .dataframe thead th {\n",
              "        text-align: right;\n",
              "    }\n",
              "</style>\n",
              "<table border=\"1\" class=\"dataframe\">\n",
              "  <thead>\n",
              "    <tr style=\"text-align: right;\">\n",
              "      <th></th>\n",
              "      <th>avg-total</th>\n",
              "    </tr>\n",
              "  </thead>\n",
              "  <tbody>\n",
              "    <tr>\n",
              "      <th>count</th>\n",
              "      <td>34.000000</td>\n",
              "    </tr>\n",
              "    <tr>\n",
              "      <th>mean</th>\n",
              "      <td>5.015000</td>\n",
              "    </tr>\n",
              "    <tr>\n",
              "      <th>std</th>\n",
              "      <td>1.703398</td>\n",
              "    </tr>\n",
              "    <tr>\n",
              "      <th>min</th>\n",
              "      <td>2.540000</td>\n",
              "    </tr>\n",
              "    <tr>\n",
              "      <th>25%</th>\n",
              "      <td>3.612500</td>\n",
              "    </tr>\n",
              "    <tr>\n",
              "      <th>50%</th>\n",
              "      <td>4.495000</td>\n",
              "    </tr>\n",
              "    <tr>\n",
              "      <th>75%</th>\n",
              "      <td>6.025000</td>\n",
              "    </tr>\n",
              "    <tr>\n",
              "      <th>max</th>\n",
              "      <td>8.680000</td>\n",
              "    </tr>\n",
              "  </tbody>\n",
              "</table>\n",
              "</div>"
            ],
            "text/plain": [
              "       avg-total\n",
              "count  34.000000\n",
              "mean    5.015000\n",
              "std     1.703398\n",
              "min     2.540000\n",
              "25%     3.612500\n",
              "50%     4.495000\n",
              "75%     6.025000\n",
              "max     8.680000"
            ]
          },
          "execution_count": 310,
          "metadata": {},
          "output_type": "execute_result"
        }
      ],
      "source": [
        "df.describe()"
      ]
    },
    {
      "cell_type": "code",
      "execution_count": 311,
      "metadata": {},
      "outputs": [
        {
          "data": {
            "text/html": [
              "<div>\n",
              "<style scoped>\n",
              "    .dataframe tbody tr th:only-of-type {\n",
              "        vertical-align: middle;\n",
              "    }\n",
              "\n",
              "    .dataframe tbody tr th {\n",
              "        vertical-align: top;\n",
              "    }\n",
              "\n",
              "    .dataframe thead th {\n",
              "        text-align: right;\n",
              "    }\n",
              "</style>\n",
              "<table border=\"1\" class=\"dataframe\">\n",
              "  <thead>\n",
              "    <tr style=\"text-align: right;\">\n",
              "      <th></th>\n",
              "      <th>provinsi</th>\n",
              "      <th>avg-total</th>\n",
              "    </tr>\n",
              "  </thead>\n",
              "  <tbody>\n",
              "    <tr>\n",
              "      <th>0</th>\n",
              "      <td>ACEH</td>\n",
              "      <td>7.03</td>\n",
              "    </tr>\n",
              "    <tr>\n",
              "      <th>1</th>\n",
              "      <td>SUMATERA UTARA</td>\n",
              "      <td>5.95</td>\n",
              "    </tr>\n",
              "    <tr>\n",
              "      <th>2</th>\n",
              "      <td>SUMATERA BARAT</td>\n",
              "      <td>6.05</td>\n",
              "    </tr>\n",
              "    <tr>\n",
              "      <th>3</th>\n",
              "      <td>RIAU</td>\n",
              "      <td>5.53</td>\n",
              "    </tr>\n",
              "    <tr>\n",
              "      <th>4</th>\n",
              "      <td>JAMBI</td>\n",
              "      <td>4.13</td>\n",
              "    </tr>\n",
              "  </tbody>\n",
              "</table>\n",
              "</div>"
            ],
            "text/plain": [
              "         provinsi  avg-total\n",
              "0            ACEH       7.03\n",
              "1  SUMATERA UTARA       5.95\n",
              "2  SUMATERA BARAT       6.05\n",
              "3            RIAU       5.53\n",
              "4           JAMBI       4.13"
            ]
          },
          "execution_count": 311,
          "metadata": {},
          "output_type": "execute_result"
        }
      ],
      "source": [
        "df.head()"
      ]
    },
    {
      "cell_type": "code",
      "execution_count": 312,
      "metadata": {},
      "outputs": [
        {
          "data": {
            "text/html": [
              "<div>\n",
              "<style scoped>\n",
              "    .dataframe tbody tr th:only-of-type {\n",
              "        vertical-align: middle;\n",
              "    }\n",
              "\n",
              "    .dataframe tbody tr th {\n",
              "        vertical-align: top;\n",
              "    }\n",
              "\n",
              "    .dataframe thead th {\n",
              "        text-align: right;\n",
              "    }\n",
              "</style>\n",
              "<table border=\"1\" class=\"dataframe\">\n",
              "  <thead>\n",
              "    <tr style=\"text-align: right;\">\n",
              "      <th></th>\n",
              "      <th>provinsi</th>\n",
              "      <th>avg-total</th>\n",
              "    </tr>\n",
              "  </thead>\n",
              "  <tbody>\n",
              "    <tr>\n",
              "      <th>15</th>\n",
              "      <td>BANTEN</td>\n",
              "      <td>8.68</td>\n",
              "    </tr>\n",
              "    <tr>\n",
              "      <th>11</th>\n",
              "      <td>JAWA BARAT</td>\n",
              "      <td>8.53</td>\n",
              "    </tr>\n",
              "    <tr>\n",
              "      <th>9</th>\n",
              "      <td>KEPULAUAN RIAU</td>\n",
              "      <td>7.55</td>\n",
              "    </tr>\n",
              "    <tr>\n",
              "      <th>10</th>\n",
              "      <td>DKI JAKARTA</td>\n",
              "      <td>7.43</td>\n",
              "    </tr>\n",
              "    <tr>\n",
              "      <th>30</th>\n",
              "      <td>MALUKU</td>\n",
              "      <td>7.40</td>\n",
              "    </tr>\n",
              "    <tr>\n",
              "      <th>22</th>\n",
              "      <td>KALIMANTAN TIMUR</td>\n",
              "      <td>7.15</td>\n",
              "    </tr>\n",
              "    <tr>\n",
              "      <th>0</th>\n",
              "      <td>ACEH</td>\n",
              "      <td>7.03</td>\n",
              "    </tr>\n",
              "    <tr>\n",
              "      <th>24</th>\n",
              "      <td>SULAWESI UTARA</td>\n",
              "      <td>6.83</td>\n",
              "    </tr>\n",
              "    <tr>\n",
              "      <th>2</th>\n",
              "      <td>SUMATERA BARAT</td>\n",
              "      <td>6.05</td>\n",
              "    </tr>\n",
              "    <tr>\n",
              "      <th>1</th>\n",
              "      <td>SUMATERA UTARA</td>\n",
              "      <td>5.95</td>\n",
              "    </tr>\n",
              "    <tr>\n",
              "      <th>32</th>\n",
              "      <td>PAPUA BARAT</td>\n",
              "      <td>5.91</td>\n",
              "    </tr>\n",
              "    <tr>\n",
              "      <th>3</th>\n",
              "      <td>RIAU</td>\n",
              "      <td>5.53</td>\n",
              "    </tr>\n",
              "    <tr>\n",
              "      <th>26</th>\n",
              "      <td>SULAWESI SELATAN</td>\n",
              "      <td>5.32</td>\n",
              "    </tr>\n",
              "    <tr>\n",
              "      <th>12</th>\n",
              "      <td>JAWA TENGAH</td>\n",
              "      <td>5.10</td>\n",
              "    </tr>\n",
              "    <tr>\n",
              "      <th>31</th>\n",
              "      <td>MALUKU UTARA</td>\n",
              "      <td>4.79</td>\n",
              "    </tr>\n",
              "    <tr>\n",
              "      <th>5</th>\n",
              "      <td>SUMATERA SELATAN</td>\n",
              "      <td>4.59</td>\n",
              "    </tr>\n",
              "    <tr>\n",
              "      <th>19</th>\n",
              "      <td>KALIMANTAN BARAT</td>\n",
              "      <td>4.50</td>\n",
              "    </tr>\n",
              "    <tr>\n",
              "      <th>7</th>\n",
              "      <td>LAMPUNG</td>\n",
              "      <td>4.49</td>\n",
              "    </tr>\n",
              "    <tr>\n",
              "      <th>14</th>\n",
              "      <td>JAWA TIMUR</td>\n",
              "      <td>4.40</td>\n",
              "    </tr>\n",
              "    <tr>\n",
              "      <th>21</th>\n",
              "      <td>KALIMANTAN SELATAN</td>\n",
              "      <td>4.23</td>\n",
              "    </tr>\n",
              "    <tr>\n",
              "      <th>8</th>\n",
              "      <td>KEPULAUAN BANGKA BELITUNG</td>\n",
              "      <td>4.16</td>\n",
              "    </tr>\n",
              "    <tr>\n",
              "      <th>4</th>\n",
              "      <td>JAMBI</td>\n",
              "      <td>4.13</td>\n",
              "    </tr>\n",
              "    <tr>\n",
              "      <th>23</th>\n",
              "      <td>KALIMANTAN UTARA</td>\n",
              "      <td>4.02</td>\n",
              "    </tr>\n",
              "    <tr>\n",
              "      <th>17</th>\n",
              "      <td>NUSA TENGGARA BARAT</td>\n",
              "      <td>4.00</td>\n",
              "    </tr>\n",
              "    <tr>\n",
              "      <th>20</th>\n",
              "      <td>KALIMANTAN TENGAH</td>\n",
              "      <td>3.71</td>\n",
              "    </tr>\n",
              "    <tr>\n",
              "      <th>27</th>\n",
              "      <td>SULAWESI TENGGARA</td>\n",
              "      <td>3.58</td>\n",
              "    </tr>\n",
              "    <tr>\n",
              "      <th>28</th>\n",
              "      <td>GORONTALO</td>\n",
              "      <td>3.53</td>\n",
              "    </tr>\n",
              "    <tr>\n",
              "      <th>13</th>\n",
              "      <td>DI YOGYAKARTA</td>\n",
              "      <td>3.47</td>\n",
              "    </tr>\n",
              "    <tr>\n",
              "      <th>33</th>\n",
              "      <td>PAPUA</td>\n",
              "      <td>3.39</td>\n",
              "    </tr>\n",
              "    <tr>\n",
              "      <th>25</th>\n",
              "      <td>SULAWESI TENGAH</td>\n",
              "      <td>3.38</td>\n",
              "    </tr>\n",
              "    <tr>\n",
              "      <th>6</th>\n",
              "      <td>BENGKULU</td>\n",
              "      <td>3.34</td>\n",
              "    </tr>\n",
              "    <tr>\n",
              "      <th>18</th>\n",
              "      <td>NUSA TENGGARA TIMUR</td>\n",
              "      <td>3.17</td>\n",
              "    </tr>\n",
              "    <tr>\n",
              "      <th>29</th>\n",
              "      <td>SULAWESI BARAT</td>\n",
              "      <td>2.63</td>\n",
              "    </tr>\n",
              "    <tr>\n",
              "      <th>16</th>\n",
              "      <td>BALI</td>\n",
              "      <td>2.54</td>\n",
              "    </tr>\n",
              "  </tbody>\n",
              "</table>\n",
              "</div>"
            ],
            "text/plain": [
              "                     provinsi  avg-total\n",
              "15                     BANTEN       8.68\n",
              "11                 JAWA BARAT       8.53\n",
              "9              KEPULAUAN RIAU       7.55\n",
              "10                DKI JAKARTA       7.43\n",
              "30                     MALUKU       7.40\n",
              "22           KALIMANTAN TIMUR       7.15\n",
              "0                        ACEH       7.03\n",
              "24             SULAWESI UTARA       6.83\n",
              "2              SUMATERA BARAT       6.05\n",
              "1              SUMATERA UTARA       5.95\n",
              "32                PAPUA BARAT       5.91\n",
              "3                        RIAU       5.53\n",
              "26           SULAWESI SELATAN       5.32\n",
              "12                JAWA TENGAH       5.10\n",
              "31               MALUKU UTARA       4.79\n",
              "5            SUMATERA SELATAN       4.59\n",
              "19           KALIMANTAN BARAT       4.50\n",
              "7                     LAMPUNG       4.49\n",
              "14                 JAWA TIMUR       4.40\n",
              "21         KALIMANTAN SELATAN       4.23\n",
              "8   KEPULAUAN BANGKA BELITUNG       4.16\n",
              "4                       JAMBI       4.13\n",
              "23           KALIMANTAN UTARA       4.02\n",
              "17        NUSA TENGGARA BARAT       4.00\n",
              "20          KALIMANTAN TENGAH       3.71\n",
              "27          SULAWESI TENGGARA       3.58\n",
              "28                  GORONTALO       3.53\n",
              "13              DI YOGYAKARTA       3.47\n",
              "33                      PAPUA       3.39\n",
              "25            SULAWESI TENGAH       3.38\n",
              "6                    BENGKULU       3.34\n",
              "18        NUSA TENGGARA TIMUR       3.17\n",
              "29             SULAWESI BARAT       2.63\n",
              "16                       BALI       2.54"
            ]
          },
          "execution_count": 312,
          "metadata": {},
          "output_type": "execute_result"
        }
      ],
      "source": [
        "df.sort_values(by='avg-total', ascending=False)"
      ]
    },
    {
      "cell_type": "markdown",
      "metadata": {},
      "source": [
        "# Modelling"
      ]
    },
    {
      "cell_type": "markdown",
      "metadata": {},
      "source": [
        "## Elbow Method for Optimal K"
      ]
    },
    {
      "cell_type": "code",
      "execution_count": 313,
      "metadata": {},
      "outputs": [
        {
          "data": {
            "application/vnd.plotly.v1+json": {
              "config": {
                "plotlyServerURL": "https://plot.ly"
              },
              "data": [
                {
                  "mode": "lines+markers",
                  "type": "scatter",
                  "x": [
                    1,
                    2,
                    3,
                    4,
                    5,
                    6,
                    7,
                    8,
                    9,
                    10
                  ],
                  "y": [
                    95.75165000000001,
                    22.43276212121212,
                    11.022203636363633,
                    5.9646633333333305,
                    3.1355966666666673,
                    1.948794166666667,
                    1.3456808333333328,
                    0.8112375000000001,
                    0.7192508333333331,
                    0.46615416666666704
                  ]
                }
              ],
              "layout": {
                "height": 500,
                "showlegend": true,
                "template": {
                  "data": {
                    "bar": [
                      {
                        "error_x": {
                          "color": "#2a3f5f"
                        },
                        "error_y": {
                          "color": "#2a3f5f"
                        },
                        "marker": {
                          "line": {
                            "color": "#E5ECF6",
                            "width": 0.5
                          },
                          "pattern": {
                            "fillmode": "overlay",
                            "size": 10,
                            "solidity": 0.2
                          }
                        },
                        "type": "bar"
                      }
                    ],
                    "barpolar": [
                      {
                        "marker": {
                          "line": {
                            "color": "#E5ECF6",
                            "width": 0.5
                          },
                          "pattern": {
                            "fillmode": "overlay",
                            "size": 10,
                            "solidity": 0.2
                          }
                        },
                        "type": "barpolar"
                      }
                    ],
                    "carpet": [
                      {
                        "aaxis": {
                          "endlinecolor": "#2a3f5f",
                          "gridcolor": "white",
                          "linecolor": "white",
                          "minorgridcolor": "white",
                          "startlinecolor": "#2a3f5f"
                        },
                        "baxis": {
                          "endlinecolor": "#2a3f5f",
                          "gridcolor": "white",
                          "linecolor": "white",
                          "minorgridcolor": "white",
                          "startlinecolor": "#2a3f5f"
                        },
                        "type": "carpet"
                      }
                    ],
                    "choropleth": [
                      {
                        "colorbar": {
                          "outlinewidth": 0,
                          "ticks": ""
                        },
                        "type": "choropleth"
                      }
                    ],
                    "contour": [
                      {
                        "colorbar": {
                          "outlinewidth": 0,
                          "ticks": ""
                        },
                        "colorscale": [
                          [
                            0,
                            "#0d0887"
                          ],
                          [
                            0.1111111111111111,
                            "#46039f"
                          ],
                          [
                            0.2222222222222222,
                            "#7201a8"
                          ],
                          [
                            0.3333333333333333,
                            "#9c179e"
                          ],
                          [
                            0.4444444444444444,
                            "#bd3786"
                          ],
                          [
                            0.5555555555555556,
                            "#d8576b"
                          ],
                          [
                            0.6666666666666666,
                            "#ed7953"
                          ],
                          [
                            0.7777777777777778,
                            "#fb9f3a"
                          ],
                          [
                            0.8888888888888888,
                            "#fdca26"
                          ],
                          [
                            1,
                            "#f0f921"
                          ]
                        ],
                        "type": "contour"
                      }
                    ],
                    "contourcarpet": [
                      {
                        "colorbar": {
                          "outlinewidth": 0,
                          "ticks": ""
                        },
                        "type": "contourcarpet"
                      }
                    ],
                    "heatmap": [
                      {
                        "colorbar": {
                          "outlinewidth": 0,
                          "ticks": ""
                        },
                        "colorscale": [
                          [
                            0,
                            "#0d0887"
                          ],
                          [
                            0.1111111111111111,
                            "#46039f"
                          ],
                          [
                            0.2222222222222222,
                            "#7201a8"
                          ],
                          [
                            0.3333333333333333,
                            "#9c179e"
                          ],
                          [
                            0.4444444444444444,
                            "#bd3786"
                          ],
                          [
                            0.5555555555555556,
                            "#d8576b"
                          ],
                          [
                            0.6666666666666666,
                            "#ed7953"
                          ],
                          [
                            0.7777777777777778,
                            "#fb9f3a"
                          ],
                          [
                            0.8888888888888888,
                            "#fdca26"
                          ],
                          [
                            1,
                            "#f0f921"
                          ]
                        ],
                        "type": "heatmap"
                      }
                    ],
                    "heatmapgl": [
                      {
                        "colorbar": {
                          "outlinewidth": 0,
                          "ticks": ""
                        },
                        "colorscale": [
                          [
                            0,
                            "#0d0887"
                          ],
                          [
                            0.1111111111111111,
                            "#46039f"
                          ],
                          [
                            0.2222222222222222,
                            "#7201a8"
                          ],
                          [
                            0.3333333333333333,
                            "#9c179e"
                          ],
                          [
                            0.4444444444444444,
                            "#bd3786"
                          ],
                          [
                            0.5555555555555556,
                            "#d8576b"
                          ],
                          [
                            0.6666666666666666,
                            "#ed7953"
                          ],
                          [
                            0.7777777777777778,
                            "#fb9f3a"
                          ],
                          [
                            0.8888888888888888,
                            "#fdca26"
                          ],
                          [
                            1,
                            "#f0f921"
                          ]
                        ],
                        "type": "heatmapgl"
                      }
                    ],
                    "histogram": [
                      {
                        "marker": {
                          "pattern": {
                            "fillmode": "overlay",
                            "size": 10,
                            "solidity": 0.2
                          }
                        },
                        "type": "histogram"
                      }
                    ],
                    "histogram2d": [
                      {
                        "colorbar": {
                          "outlinewidth": 0,
                          "ticks": ""
                        },
                        "colorscale": [
                          [
                            0,
                            "#0d0887"
                          ],
                          [
                            0.1111111111111111,
                            "#46039f"
                          ],
                          [
                            0.2222222222222222,
                            "#7201a8"
                          ],
                          [
                            0.3333333333333333,
                            "#9c179e"
                          ],
                          [
                            0.4444444444444444,
                            "#bd3786"
                          ],
                          [
                            0.5555555555555556,
                            "#d8576b"
                          ],
                          [
                            0.6666666666666666,
                            "#ed7953"
                          ],
                          [
                            0.7777777777777778,
                            "#fb9f3a"
                          ],
                          [
                            0.8888888888888888,
                            "#fdca26"
                          ],
                          [
                            1,
                            "#f0f921"
                          ]
                        ],
                        "type": "histogram2d"
                      }
                    ],
                    "histogram2dcontour": [
                      {
                        "colorbar": {
                          "outlinewidth": 0,
                          "ticks": ""
                        },
                        "colorscale": [
                          [
                            0,
                            "#0d0887"
                          ],
                          [
                            0.1111111111111111,
                            "#46039f"
                          ],
                          [
                            0.2222222222222222,
                            "#7201a8"
                          ],
                          [
                            0.3333333333333333,
                            "#9c179e"
                          ],
                          [
                            0.4444444444444444,
                            "#bd3786"
                          ],
                          [
                            0.5555555555555556,
                            "#d8576b"
                          ],
                          [
                            0.6666666666666666,
                            "#ed7953"
                          ],
                          [
                            0.7777777777777778,
                            "#fb9f3a"
                          ],
                          [
                            0.8888888888888888,
                            "#fdca26"
                          ],
                          [
                            1,
                            "#f0f921"
                          ]
                        ],
                        "type": "histogram2dcontour"
                      }
                    ],
                    "mesh3d": [
                      {
                        "colorbar": {
                          "outlinewidth": 0,
                          "ticks": ""
                        },
                        "type": "mesh3d"
                      }
                    ],
                    "parcoords": [
                      {
                        "line": {
                          "colorbar": {
                            "outlinewidth": 0,
                            "ticks": ""
                          }
                        },
                        "type": "parcoords"
                      }
                    ],
                    "pie": [
                      {
                        "automargin": true,
                        "type": "pie"
                      }
                    ],
                    "scatter": [
                      {
                        "fillpattern": {
                          "fillmode": "overlay",
                          "size": 10,
                          "solidity": 0.2
                        },
                        "type": "scatter"
                      }
                    ],
                    "scatter3d": [
                      {
                        "line": {
                          "colorbar": {
                            "outlinewidth": 0,
                            "ticks": ""
                          }
                        },
                        "marker": {
                          "colorbar": {
                            "outlinewidth": 0,
                            "ticks": ""
                          }
                        },
                        "type": "scatter3d"
                      }
                    ],
                    "scattercarpet": [
                      {
                        "marker": {
                          "colorbar": {
                            "outlinewidth": 0,
                            "ticks": ""
                          }
                        },
                        "type": "scattercarpet"
                      }
                    ],
                    "scattergeo": [
                      {
                        "marker": {
                          "colorbar": {
                            "outlinewidth": 0,
                            "ticks": ""
                          }
                        },
                        "type": "scattergeo"
                      }
                    ],
                    "scattergl": [
                      {
                        "marker": {
                          "colorbar": {
                            "outlinewidth": 0,
                            "ticks": ""
                          }
                        },
                        "type": "scattergl"
                      }
                    ],
                    "scattermapbox": [
                      {
                        "marker": {
                          "colorbar": {
                            "outlinewidth": 0,
                            "ticks": ""
                          }
                        },
                        "type": "scattermapbox"
                      }
                    ],
                    "scatterpolar": [
                      {
                        "marker": {
                          "colorbar": {
                            "outlinewidth": 0,
                            "ticks": ""
                          }
                        },
                        "type": "scatterpolar"
                      }
                    ],
                    "scatterpolargl": [
                      {
                        "marker": {
                          "colorbar": {
                            "outlinewidth": 0,
                            "ticks": ""
                          }
                        },
                        "type": "scatterpolargl"
                      }
                    ],
                    "scatterternary": [
                      {
                        "marker": {
                          "colorbar": {
                            "outlinewidth": 0,
                            "ticks": ""
                          }
                        },
                        "type": "scatterternary"
                      }
                    ],
                    "surface": [
                      {
                        "colorbar": {
                          "outlinewidth": 0,
                          "ticks": ""
                        },
                        "colorscale": [
                          [
                            0,
                            "#0d0887"
                          ],
                          [
                            0.1111111111111111,
                            "#46039f"
                          ],
                          [
                            0.2222222222222222,
                            "#7201a8"
                          ],
                          [
                            0.3333333333333333,
                            "#9c179e"
                          ],
                          [
                            0.4444444444444444,
                            "#bd3786"
                          ],
                          [
                            0.5555555555555556,
                            "#d8576b"
                          ],
                          [
                            0.6666666666666666,
                            "#ed7953"
                          ],
                          [
                            0.7777777777777778,
                            "#fb9f3a"
                          ],
                          [
                            0.8888888888888888,
                            "#fdca26"
                          ],
                          [
                            1,
                            "#f0f921"
                          ]
                        ],
                        "type": "surface"
                      }
                    ],
                    "table": [
                      {
                        "cells": {
                          "fill": {
                            "color": "#EBF0F8"
                          },
                          "line": {
                            "color": "white"
                          }
                        },
                        "header": {
                          "fill": {
                            "color": "#C8D4E3"
                          },
                          "line": {
                            "color": "white"
                          }
                        },
                        "type": "table"
                      }
                    ]
                  },
                  "layout": {
                    "annotationdefaults": {
                      "arrowcolor": "#2a3f5f",
                      "arrowhead": 0,
                      "arrowwidth": 1
                    },
                    "autotypenumbers": "strict",
                    "coloraxis": {
                      "colorbar": {
                        "outlinewidth": 0,
                        "ticks": ""
                      }
                    },
                    "colorscale": {
                      "diverging": [
                        [
                          0,
                          "#8e0152"
                        ],
                        [
                          0.1,
                          "#c51b7d"
                        ],
                        [
                          0.2,
                          "#de77ae"
                        ],
                        [
                          0.3,
                          "#f1b6da"
                        ],
                        [
                          0.4,
                          "#fde0ef"
                        ],
                        [
                          0.5,
                          "#f7f7f7"
                        ],
                        [
                          0.6,
                          "#e6f5d0"
                        ],
                        [
                          0.7,
                          "#b8e186"
                        ],
                        [
                          0.8,
                          "#7fbc41"
                        ],
                        [
                          0.9,
                          "#4d9221"
                        ],
                        [
                          1,
                          "#276419"
                        ]
                      ],
                      "sequential": [
                        [
                          0,
                          "#0d0887"
                        ],
                        [
                          0.1111111111111111,
                          "#46039f"
                        ],
                        [
                          0.2222222222222222,
                          "#7201a8"
                        ],
                        [
                          0.3333333333333333,
                          "#9c179e"
                        ],
                        [
                          0.4444444444444444,
                          "#bd3786"
                        ],
                        [
                          0.5555555555555556,
                          "#d8576b"
                        ],
                        [
                          0.6666666666666666,
                          "#ed7953"
                        ],
                        [
                          0.7777777777777778,
                          "#fb9f3a"
                        ],
                        [
                          0.8888888888888888,
                          "#fdca26"
                        ],
                        [
                          1,
                          "#f0f921"
                        ]
                      ],
                      "sequentialminus": [
                        [
                          0,
                          "#0d0887"
                        ],
                        [
                          0.1111111111111111,
                          "#46039f"
                        ],
                        [
                          0.2222222222222222,
                          "#7201a8"
                        ],
                        [
                          0.3333333333333333,
                          "#9c179e"
                        ],
                        [
                          0.4444444444444444,
                          "#bd3786"
                        ],
                        [
                          0.5555555555555556,
                          "#d8576b"
                        ],
                        [
                          0.6666666666666666,
                          "#ed7953"
                        ],
                        [
                          0.7777777777777778,
                          "#fb9f3a"
                        ],
                        [
                          0.8888888888888888,
                          "#fdca26"
                        ],
                        [
                          1,
                          "#f0f921"
                        ]
                      ]
                    },
                    "colorway": [
                      "#636efa",
                      "#EF553B",
                      "#00cc96",
                      "#ab63fa",
                      "#FFA15A",
                      "#19d3f3",
                      "#FF6692",
                      "#B6E880",
                      "#FF97FF",
                      "#FECB52"
                    ],
                    "font": {
                      "color": "#2a3f5f"
                    },
                    "geo": {
                      "bgcolor": "white",
                      "lakecolor": "white",
                      "landcolor": "#E5ECF6",
                      "showlakes": true,
                      "showland": true,
                      "subunitcolor": "white"
                    },
                    "hoverlabel": {
                      "align": "left"
                    },
                    "hovermode": "closest",
                    "mapbox": {
                      "style": "light"
                    },
                    "paper_bgcolor": "white",
                    "plot_bgcolor": "#E5ECF6",
                    "polar": {
                      "angularaxis": {
                        "gridcolor": "white",
                        "linecolor": "white",
                        "ticks": ""
                      },
                      "bgcolor": "#E5ECF6",
                      "radialaxis": {
                        "gridcolor": "white",
                        "linecolor": "white",
                        "ticks": ""
                      }
                    },
                    "scene": {
                      "xaxis": {
                        "backgroundcolor": "#E5ECF6",
                        "gridcolor": "white",
                        "gridwidth": 2,
                        "linecolor": "white",
                        "showbackground": true,
                        "ticks": "",
                        "zerolinecolor": "white"
                      },
                      "yaxis": {
                        "backgroundcolor": "#E5ECF6",
                        "gridcolor": "white",
                        "gridwidth": 2,
                        "linecolor": "white",
                        "showbackground": true,
                        "ticks": "",
                        "zerolinecolor": "white"
                      },
                      "zaxis": {
                        "backgroundcolor": "#E5ECF6",
                        "gridcolor": "white",
                        "gridwidth": 2,
                        "linecolor": "white",
                        "showbackground": true,
                        "ticks": "",
                        "zerolinecolor": "white"
                      }
                    },
                    "shapedefaults": {
                      "line": {
                        "color": "#2a3f5f"
                      }
                    },
                    "ternary": {
                      "aaxis": {
                        "gridcolor": "white",
                        "linecolor": "white",
                        "ticks": ""
                      },
                      "baxis": {
                        "gridcolor": "white",
                        "linecolor": "white",
                        "ticks": ""
                      },
                      "bgcolor": "#E5ECF6",
                      "caxis": {
                        "gridcolor": "white",
                        "linecolor": "white",
                        "ticks": ""
                      }
                    },
                    "title": {
                      "x": 0.05
                    },
                    "xaxis": {
                      "automargin": true,
                      "gridcolor": "white",
                      "linecolor": "white",
                      "ticks": "",
                      "title": {
                        "standoff": 15
                      },
                      "zerolinecolor": "white",
                      "zerolinewidth": 2
                    },
                    "yaxis": {
                      "automargin": true,
                      "gridcolor": "white",
                      "linecolor": "white",
                      "ticks": "",
                      "title": {
                        "standoff": 15
                      },
                      "zerolinecolor": "white",
                      "zerolinewidth": 2
                    }
                  }
                },
                "title": {
                  "text": "Elbow Method For Optimal K"
                },
                "width": 900,
                "xaxis": {
                  "title": {
                    "text": "Number of clusters (K)"
                  }
                },
                "yaxis": {
                  "title": {
                    "text": "Sum of Square Distance"
                  }
                }
              }
            }
          },
          "metadata": {},
          "output_type": "display_data"
        }
      ],
      "source": [
        "#scaler = MinMaxScaler()\n",
        "#clus_col = scaler.fit_transform(df[['avg-total']])\n",
        "clus_col = df[['avg-total']]\n",
        "\n",
        "k = range(1,11)\n",
        "wcss = {}\n",
        "for k in k :\n",
        "    km = KMeans(n_clusters = k, init='random', random_state=42)\n",
        "    km.fit(clus_col)\n",
        "    wcss[k] = km.inertia_\n",
        "\n",
        "\n",
        "fig = go.Figure(data = go.Scatter(x=list(wcss.keys()), y=list(wcss.values()), mode='lines+markers'))\n",
        "fig.update_layout(title = 'Elbow Method For Optimal K',\n",
        "                  xaxis = dict(title='Number of clusters (K)'),\n",
        "                  yaxis = dict(title='Sum of Square Distance'),\n",
        "                  showlegend = True,\n",
        "                  width = 900,\n",
        "                  height = 500)\n",
        "\n",
        "fig.show()"
      ]
    },
    {
      "cell_type": "code",
      "execution_count": 328,
      "metadata": {},
      "outputs": [
        {
          "name": "stdout",
          "output_type": "stream",
          "text": [
            "k = 2 | DBI-Score = 0.4516572459967775\n",
            "k = 3 | DBI-Score = 0.5405725634981869\n",
            "k = 4 | DBI-Score = 0.46355558856973494\n",
            "k = 5 | DBI-Score = 0.39438499123725895\n",
            "k = 6 | DBI-Score = 0.333595585320513\n",
            "k = 7 | DBI-Score = 0.35913334285311355\n",
            "k = 8 | DBI-Score = 0.3033065460303356\n",
            "k = 9 | DBI-Score = 0.34593442518332895\n",
            "k = 10 | DBI-Score = 0.33112105437606293\n"
          ]
        }
      ],
      "source": [
        "dbi_score = []\n",
        "\n",
        "for k in range(2,11):\n",
        "    kmeans = KMeans(n_clusters=k, init='random', random_state=42)\n",
        "    kmeans.fit(clus_col)\n",
        "\n",
        "    labels = kmeans.labels_\n",
        "    dbi = davies_bouldin_score(clus_col, labels)\n",
        "    dbi_score.append(dbi)\n",
        "\n",
        "    print(f\"k = {k} | DBI-Score = {dbi}\")"
      ]
    },
    {
      "cell_type": "code",
      "execution_count": 315,
      "metadata": {},
      "outputs": [
        {
          "name": "stdout",
          "output_type": "stream",
          "text": [
            "k = 2 | Silhouette-Score = 0.6534396810471457\n",
            "k = 3 | Silhouette-Score = 0.5543720759199328\n",
            "k = 4 | Silhouette-Score = 0.6045036909767452\n",
            "k = 5 | Silhouette-Score = 0.641180728222633\n",
            "k = 6 | Silhouette-Score = 0.6746894380060261\n",
            "k = 7 | Silhouette-Score = 0.6461481679243803\n",
            "k = 8 | Silhouette-Score = 0.6823890297940685\n",
            "k = 9 | Silhouette-Score = 0.6621496079658038\n",
            "k = 10 | Silhouette-Score = 0.6204749921800154\n"
          ]
        }
      ],
      "source": [
        "shl_score = []\n",
        "\n",
        "for k in range(2,11):\n",
        "    kmeans = KMeans(n_clusters=k, init='random', random_state=42)\n",
        "    kmeans.fit(clus_col)\n",
        "\n",
        "    labels = kmeans.labels_\n",
        "    ss = silhouette_score(clus_col, labels)\n",
        "    shl_score.append(ss)\n",
        "\n",
        "    print(f\"k = {k} | Silhouette-Score = {ss}\")"
      ]
    },
    {
      "cell_type": "markdown",
      "metadata": {},
      "source": [
        "## K-Means Modelling"
      ]
    },
    {
      "cell_type": "markdown",
      "metadata": {},
      "source": [
        "### Modelling using K=3"
      ]
    },
    {
      "cell_type": "code",
      "execution_count": 316,
      "metadata": {},
      "outputs": [
        {
          "data": {
            "text/html": [
              "<div>\n",
              "<style scoped>\n",
              "    .dataframe tbody tr th:only-of-type {\n",
              "        vertical-align: middle;\n",
              "    }\n",
              "\n",
              "    .dataframe tbody tr th {\n",
              "        vertical-align: top;\n",
              "    }\n",
              "\n",
              "    .dataframe thead th {\n",
              "        text-align: right;\n",
              "    }\n",
              "</style>\n",
              "<table border=\"1\" class=\"dataframe\">\n",
              "  <thead>\n",
              "    <tr style=\"text-align: right;\">\n",
              "      <th></th>\n",
              "      <th>provinsi</th>\n",
              "      <th>avg-total</th>\n",
              "      <th>cluster</th>\n",
              "    </tr>\n",
              "  </thead>\n",
              "  <tbody>\n",
              "    <tr>\n",
              "      <th>0</th>\n",
              "      <td>ACEH</td>\n",
              "      <td>7.03</td>\n",
              "      <td>1</td>\n",
              "    </tr>\n",
              "    <tr>\n",
              "      <th>1</th>\n",
              "      <td>SUMATERA UTARA</td>\n",
              "      <td>5.95</td>\n",
              "      <td>0</td>\n",
              "    </tr>\n",
              "    <tr>\n",
              "      <th>2</th>\n",
              "      <td>SUMATERA BARAT</td>\n",
              "      <td>6.05</td>\n",
              "      <td>0</td>\n",
              "    </tr>\n",
              "    <tr>\n",
              "      <th>3</th>\n",
              "      <td>RIAU</td>\n",
              "      <td>5.53</td>\n",
              "      <td>0</td>\n",
              "    </tr>\n",
              "    <tr>\n",
              "      <th>4</th>\n",
              "      <td>JAMBI</td>\n",
              "      <td>4.13</td>\n",
              "      <td>2</td>\n",
              "    </tr>\n",
              "  </tbody>\n",
              "</table>\n",
              "</div>"
            ],
            "text/plain": [
              "         provinsi  avg-total  cluster\n",
              "0            ACEH       7.03        1\n",
              "1  SUMATERA UTARA       5.95        0\n",
              "2  SUMATERA BARAT       6.05        0\n",
              "3            RIAU       5.53        0\n",
              "4           JAMBI       4.13        2"
            ]
          },
          "execution_count": 316,
          "metadata": {},
          "output_type": "execute_result"
        }
      ],
      "source": [
        "kmeans = KMeans(n_clusters=3, random_state=42)\n",
        "kmeans.fit(clus_col)\n",
        "df['cluster'] = kmeans.predict(clus_col)\n",
        "df.head()"
      ]
    },
    {
      "cell_type": "code",
      "execution_count": 317,
      "metadata": {},
      "outputs": [
        {
          "data": {
            "application/vnd.plotly.v1+json": {
              "config": {
                "plotlyServerURL": "https://plot.ly"
              },
              "data": [
                {
                  "hovertemplate": "avg-total=%{x}<br>index=%{y}<br>cluster=%{marker.color}<extra></extra>",
                  "legendgroup": "",
                  "marker": {
                    "color": [
                      1,
                      0,
                      0,
                      0,
                      2,
                      2,
                      2,
                      2,
                      2,
                      1,
                      1,
                      1,
                      0,
                      2,
                      2,
                      1,
                      2,
                      2,
                      2,
                      2,
                      2,
                      2,
                      1,
                      2,
                      1,
                      2,
                      0,
                      2,
                      2,
                      2,
                      1,
                      0,
                      0,
                      2
                    ],
                    "coloraxis": "coloraxis",
                    "symbol": "circle"
                  },
                  "mode": "markers",
                  "name": "",
                  "orientation": "h",
                  "showlegend": false,
                  "type": "scatter",
                  "x": [
                    7.03,
                    5.95,
                    6.05,
                    5.53,
                    4.13,
                    4.59,
                    3.34,
                    4.49,
                    4.16,
                    7.55,
                    7.43,
                    8.53,
                    5.1,
                    3.47,
                    4.4,
                    8.68,
                    2.54,
                    4,
                    3.17,
                    4.5,
                    3.71,
                    4.23,
                    7.15,
                    4.02,
                    6.83,
                    3.38,
                    5.32,
                    3.58,
                    3.53,
                    2.63,
                    7.4,
                    4.79,
                    5.91,
                    3.39
                  ],
                  "xaxis": "x",
                  "y": [
                    0,
                    1,
                    2,
                    3,
                    4,
                    5,
                    6,
                    7,
                    8,
                    9,
                    10,
                    11,
                    12,
                    13,
                    14,
                    15,
                    16,
                    17,
                    18,
                    19,
                    20,
                    21,
                    22,
                    23,
                    24,
                    25,
                    26,
                    27,
                    28,
                    29,
                    30,
                    31,
                    32,
                    33
                  ],
                  "yaxis": "y"
                }
              ],
              "layout": {
                "coloraxis": {
                  "colorbar": {
                    "title": {
                      "text": "cluster"
                    }
                  },
                  "colorscale": [
                    [
                      0,
                      "rgb(20,44,66)"
                    ],
                    [
                      1,
                      "rgb(90,179,244)"
                    ]
                  ]
                },
                "height": 400,
                "legend": {
                  "tracegroupgap": 0
                },
                "margin": {
                  "t": 60
                },
                "template": {
                  "data": {
                    "bar": [
                      {
                        "error_x": {
                          "color": "rgb(51,51,51)"
                        },
                        "error_y": {
                          "color": "rgb(51,51,51)"
                        },
                        "marker": {
                          "line": {
                            "color": "rgb(237,237,237)",
                            "width": 0.5
                          },
                          "pattern": {
                            "fillmode": "overlay",
                            "size": 10,
                            "solidity": 0.2
                          }
                        },
                        "type": "bar"
                      }
                    ],
                    "barpolar": [
                      {
                        "marker": {
                          "line": {
                            "color": "rgb(237,237,237)",
                            "width": 0.5
                          },
                          "pattern": {
                            "fillmode": "overlay",
                            "size": 10,
                            "solidity": 0.2
                          }
                        },
                        "type": "barpolar"
                      }
                    ],
                    "carpet": [
                      {
                        "aaxis": {
                          "endlinecolor": "rgb(51,51,51)",
                          "gridcolor": "white",
                          "linecolor": "white",
                          "minorgridcolor": "white",
                          "startlinecolor": "rgb(51,51,51)"
                        },
                        "baxis": {
                          "endlinecolor": "rgb(51,51,51)",
                          "gridcolor": "white",
                          "linecolor": "white",
                          "minorgridcolor": "white",
                          "startlinecolor": "rgb(51,51,51)"
                        },
                        "type": "carpet"
                      }
                    ],
                    "choropleth": [
                      {
                        "colorbar": {
                          "outlinewidth": 0,
                          "tickcolor": "rgb(237,237,237)",
                          "ticklen": 6,
                          "ticks": "inside"
                        },
                        "type": "choropleth"
                      }
                    ],
                    "contour": [
                      {
                        "colorbar": {
                          "outlinewidth": 0,
                          "tickcolor": "rgb(237,237,237)",
                          "ticklen": 6,
                          "ticks": "inside"
                        },
                        "colorscale": [
                          [
                            0,
                            "rgb(20,44,66)"
                          ],
                          [
                            1,
                            "rgb(90,179,244)"
                          ]
                        ],
                        "type": "contour"
                      }
                    ],
                    "contourcarpet": [
                      {
                        "colorbar": {
                          "outlinewidth": 0,
                          "tickcolor": "rgb(237,237,237)",
                          "ticklen": 6,
                          "ticks": "inside"
                        },
                        "type": "contourcarpet"
                      }
                    ],
                    "heatmap": [
                      {
                        "colorbar": {
                          "outlinewidth": 0,
                          "tickcolor": "rgb(237,237,237)",
                          "ticklen": 6,
                          "ticks": "inside"
                        },
                        "colorscale": [
                          [
                            0,
                            "rgb(20,44,66)"
                          ],
                          [
                            1,
                            "rgb(90,179,244)"
                          ]
                        ],
                        "type": "heatmap"
                      }
                    ],
                    "heatmapgl": [
                      {
                        "colorbar": {
                          "outlinewidth": 0,
                          "tickcolor": "rgb(237,237,237)",
                          "ticklen": 6,
                          "ticks": "inside"
                        },
                        "colorscale": [
                          [
                            0,
                            "rgb(20,44,66)"
                          ],
                          [
                            1,
                            "rgb(90,179,244)"
                          ]
                        ],
                        "type": "heatmapgl"
                      }
                    ],
                    "histogram": [
                      {
                        "marker": {
                          "pattern": {
                            "fillmode": "overlay",
                            "size": 10,
                            "solidity": 0.2
                          }
                        },
                        "type": "histogram"
                      }
                    ],
                    "histogram2d": [
                      {
                        "colorbar": {
                          "outlinewidth": 0,
                          "tickcolor": "rgb(237,237,237)",
                          "ticklen": 6,
                          "ticks": "inside"
                        },
                        "colorscale": [
                          [
                            0,
                            "rgb(20,44,66)"
                          ],
                          [
                            1,
                            "rgb(90,179,244)"
                          ]
                        ],
                        "type": "histogram2d"
                      }
                    ],
                    "histogram2dcontour": [
                      {
                        "colorbar": {
                          "outlinewidth": 0,
                          "tickcolor": "rgb(237,237,237)",
                          "ticklen": 6,
                          "ticks": "inside"
                        },
                        "colorscale": [
                          [
                            0,
                            "rgb(20,44,66)"
                          ],
                          [
                            1,
                            "rgb(90,179,244)"
                          ]
                        ],
                        "type": "histogram2dcontour"
                      }
                    ],
                    "mesh3d": [
                      {
                        "colorbar": {
                          "outlinewidth": 0,
                          "tickcolor": "rgb(237,237,237)",
                          "ticklen": 6,
                          "ticks": "inside"
                        },
                        "type": "mesh3d"
                      }
                    ],
                    "parcoords": [
                      {
                        "line": {
                          "colorbar": {
                            "outlinewidth": 0,
                            "tickcolor": "rgb(237,237,237)",
                            "ticklen": 6,
                            "ticks": "inside"
                          }
                        },
                        "type": "parcoords"
                      }
                    ],
                    "pie": [
                      {
                        "automargin": true,
                        "type": "pie"
                      }
                    ],
                    "scatter": [
                      {
                        "fillpattern": {
                          "fillmode": "overlay",
                          "size": 10,
                          "solidity": 0.2
                        },
                        "type": "scatter"
                      }
                    ],
                    "scatter3d": [
                      {
                        "line": {
                          "colorbar": {
                            "outlinewidth": 0,
                            "tickcolor": "rgb(237,237,237)",
                            "ticklen": 6,
                            "ticks": "inside"
                          }
                        },
                        "marker": {
                          "colorbar": {
                            "outlinewidth": 0,
                            "tickcolor": "rgb(237,237,237)",
                            "ticklen": 6,
                            "ticks": "inside"
                          }
                        },
                        "type": "scatter3d"
                      }
                    ],
                    "scattercarpet": [
                      {
                        "marker": {
                          "colorbar": {
                            "outlinewidth": 0,
                            "tickcolor": "rgb(237,237,237)",
                            "ticklen": 6,
                            "ticks": "inside"
                          }
                        },
                        "type": "scattercarpet"
                      }
                    ],
                    "scattergeo": [
                      {
                        "marker": {
                          "colorbar": {
                            "outlinewidth": 0,
                            "tickcolor": "rgb(237,237,237)",
                            "ticklen": 6,
                            "ticks": "inside"
                          }
                        },
                        "type": "scattergeo"
                      }
                    ],
                    "scattergl": [
                      {
                        "marker": {
                          "colorbar": {
                            "outlinewidth": 0,
                            "tickcolor": "rgb(237,237,237)",
                            "ticklen": 6,
                            "ticks": "inside"
                          }
                        },
                        "type": "scattergl"
                      }
                    ],
                    "scattermapbox": [
                      {
                        "marker": {
                          "colorbar": {
                            "outlinewidth": 0,
                            "tickcolor": "rgb(237,237,237)",
                            "ticklen": 6,
                            "ticks": "inside"
                          }
                        },
                        "type": "scattermapbox"
                      }
                    ],
                    "scatterpolar": [
                      {
                        "marker": {
                          "colorbar": {
                            "outlinewidth": 0,
                            "tickcolor": "rgb(237,237,237)",
                            "ticklen": 6,
                            "ticks": "inside"
                          }
                        },
                        "type": "scatterpolar"
                      }
                    ],
                    "scatterpolargl": [
                      {
                        "marker": {
                          "colorbar": {
                            "outlinewidth": 0,
                            "tickcolor": "rgb(237,237,237)",
                            "ticklen": 6,
                            "ticks": "inside"
                          }
                        },
                        "type": "scatterpolargl"
                      }
                    ],
                    "scatterternary": [
                      {
                        "marker": {
                          "colorbar": {
                            "outlinewidth": 0,
                            "tickcolor": "rgb(237,237,237)",
                            "ticklen": 6,
                            "ticks": "inside"
                          }
                        },
                        "type": "scatterternary"
                      }
                    ],
                    "surface": [
                      {
                        "colorbar": {
                          "outlinewidth": 0,
                          "tickcolor": "rgb(237,237,237)",
                          "ticklen": 6,
                          "ticks": "inside"
                        },
                        "colorscale": [
                          [
                            0,
                            "rgb(20,44,66)"
                          ],
                          [
                            1,
                            "rgb(90,179,244)"
                          ]
                        ],
                        "type": "surface"
                      }
                    ],
                    "table": [
                      {
                        "cells": {
                          "fill": {
                            "color": "rgb(237,237,237)"
                          },
                          "line": {
                            "color": "white"
                          }
                        },
                        "header": {
                          "fill": {
                            "color": "rgb(217,217,217)"
                          },
                          "line": {
                            "color": "white"
                          }
                        },
                        "type": "table"
                      }
                    ]
                  },
                  "layout": {
                    "annotationdefaults": {
                      "arrowhead": 0,
                      "arrowwidth": 1
                    },
                    "autotypenumbers": "strict",
                    "coloraxis": {
                      "colorbar": {
                        "outlinewidth": 0,
                        "tickcolor": "rgb(237,237,237)",
                        "ticklen": 6,
                        "ticks": "inside"
                      }
                    },
                    "colorscale": {
                      "sequential": [
                        [
                          0,
                          "rgb(20,44,66)"
                        ],
                        [
                          1,
                          "rgb(90,179,244)"
                        ]
                      ],
                      "sequentialminus": [
                        [
                          0,
                          "rgb(20,44,66)"
                        ],
                        [
                          1,
                          "rgb(90,179,244)"
                        ]
                      ]
                    },
                    "colorway": [
                      "#F8766D",
                      "#A3A500",
                      "#00BF7D",
                      "#00B0F6",
                      "#E76BF3"
                    ],
                    "font": {
                      "color": "rgb(51,51,51)"
                    },
                    "geo": {
                      "bgcolor": "white",
                      "lakecolor": "white",
                      "landcolor": "rgb(237,237,237)",
                      "showlakes": true,
                      "showland": true,
                      "subunitcolor": "white"
                    },
                    "hoverlabel": {
                      "align": "left"
                    },
                    "hovermode": "closest",
                    "paper_bgcolor": "white",
                    "plot_bgcolor": "rgb(237,237,237)",
                    "polar": {
                      "angularaxis": {
                        "gridcolor": "white",
                        "linecolor": "white",
                        "showgrid": true,
                        "tickcolor": "rgb(51,51,51)",
                        "ticks": "outside"
                      },
                      "bgcolor": "rgb(237,237,237)",
                      "radialaxis": {
                        "gridcolor": "white",
                        "linecolor": "white",
                        "showgrid": true,
                        "tickcolor": "rgb(51,51,51)",
                        "ticks": "outside"
                      }
                    },
                    "scene": {
                      "xaxis": {
                        "backgroundcolor": "rgb(237,237,237)",
                        "gridcolor": "white",
                        "gridwidth": 2,
                        "linecolor": "white",
                        "showbackground": true,
                        "showgrid": true,
                        "tickcolor": "rgb(51,51,51)",
                        "ticks": "outside",
                        "zerolinecolor": "white"
                      },
                      "yaxis": {
                        "backgroundcolor": "rgb(237,237,237)",
                        "gridcolor": "white",
                        "gridwidth": 2,
                        "linecolor": "white",
                        "showbackground": true,
                        "showgrid": true,
                        "tickcolor": "rgb(51,51,51)",
                        "ticks": "outside",
                        "zerolinecolor": "white"
                      },
                      "zaxis": {
                        "backgroundcolor": "rgb(237,237,237)",
                        "gridcolor": "white",
                        "gridwidth": 2,
                        "linecolor": "white",
                        "showbackground": true,
                        "showgrid": true,
                        "tickcolor": "rgb(51,51,51)",
                        "ticks": "outside",
                        "zerolinecolor": "white"
                      }
                    },
                    "shapedefaults": {
                      "fillcolor": "black",
                      "line": {
                        "width": 0
                      },
                      "opacity": 0.3
                    },
                    "ternary": {
                      "aaxis": {
                        "gridcolor": "white",
                        "linecolor": "white",
                        "showgrid": true,
                        "tickcolor": "rgb(51,51,51)",
                        "ticks": "outside"
                      },
                      "baxis": {
                        "gridcolor": "white",
                        "linecolor": "white",
                        "showgrid": true,
                        "tickcolor": "rgb(51,51,51)",
                        "ticks": "outside"
                      },
                      "bgcolor": "rgb(237,237,237)",
                      "caxis": {
                        "gridcolor": "white",
                        "linecolor": "white",
                        "showgrid": true,
                        "tickcolor": "rgb(51,51,51)",
                        "ticks": "outside"
                      }
                    },
                    "xaxis": {
                      "automargin": true,
                      "gridcolor": "white",
                      "linecolor": "white",
                      "showgrid": true,
                      "tickcolor": "rgb(51,51,51)",
                      "ticks": "outside",
                      "title": {
                        "standoff": 15
                      },
                      "zerolinecolor": "white"
                    },
                    "yaxis": {
                      "automargin": true,
                      "gridcolor": "white",
                      "linecolor": "white",
                      "showgrid": true,
                      "tickcolor": "rgb(51,51,51)",
                      "ticks": "outside",
                      "title": {
                        "standoff": 15
                      },
                      "zerolinecolor": "white"
                    }
                  }
                },
                "title": {
                  "text": "cluster with K=3"
                },
                "width": 600,
                "xaxis": {
                  "anchor": "y",
                  "domain": [
                    0,
                    1
                  ],
                  "title": {
                    "text": "avg-total"
                  }
                },
                "yaxis": {
                  "anchor": "x",
                  "domain": [
                    0,
                    1
                  ],
                  "title": {
                    "text": "index"
                  }
                }
              }
            }
          },
          "metadata": {},
          "output_type": "display_data"
        }
      ],
      "source": [
        "fig = px.scatter(df, x='avg-total', \n",
        "                 color='cluster',\n",
        "                 template='ggplot2')\n",
        "\n",
        "fig.update_layout(title= 'cluster with K=3',\n",
        "                  width= 600,\n",
        "                  height= 400)\n",
        "\n",
        "fig.show()"
      ]
    },
    {
      "cell_type": "markdown",
      "metadata": {},
      "source": [
        "### Modelling Using K=2"
      ]
    },
    {
      "cell_type": "code",
      "execution_count": 318,
      "metadata": {},
      "outputs": [
        {
          "data": {
            "text/html": [
              "<div>\n",
              "<style scoped>\n",
              "    .dataframe tbody tr th:only-of-type {\n",
              "        vertical-align: middle;\n",
              "    }\n",
              "\n",
              "    .dataframe tbody tr th {\n",
              "        vertical-align: top;\n",
              "    }\n",
              "\n",
              "    .dataframe thead th {\n",
              "        text-align: right;\n",
              "    }\n",
              "</style>\n",
              "<table border=\"1\" class=\"dataframe\">\n",
              "  <thead>\n",
              "    <tr style=\"text-align: right;\">\n",
              "      <th></th>\n",
              "      <th>provinsi</th>\n",
              "      <th>avg-total</th>\n",
              "      <th>cluster</th>\n",
              "    </tr>\n",
              "  </thead>\n",
              "  <tbody>\n",
              "    <tr>\n",
              "      <th>0</th>\n",
              "      <td>ACEH</td>\n",
              "      <td>7.03</td>\n",
              "      <td>1</td>\n",
              "    </tr>\n",
              "    <tr>\n",
              "      <th>1</th>\n",
              "      <td>SUMATERA UTARA</td>\n",
              "      <td>5.95</td>\n",
              "      <td>1</td>\n",
              "    </tr>\n",
              "    <tr>\n",
              "      <th>2</th>\n",
              "      <td>SUMATERA BARAT</td>\n",
              "      <td>6.05</td>\n",
              "      <td>1</td>\n",
              "    </tr>\n",
              "    <tr>\n",
              "      <th>3</th>\n",
              "      <td>RIAU</td>\n",
              "      <td>5.53</td>\n",
              "      <td>1</td>\n",
              "    </tr>\n",
              "    <tr>\n",
              "      <th>4</th>\n",
              "      <td>JAMBI</td>\n",
              "      <td>4.13</td>\n",
              "      <td>0</td>\n",
              "    </tr>\n",
              "  </tbody>\n",
              "</table>\n",
              "</div>"
            ],
            "text/plain": [
              "         provinsi  avg-total  cluster\n",
              "0            ACEH       7.03        1\n",
              "1  SUMATERA UTARA       5.95        1\n",
              "2  SUMATERA BARAT       6.05        1\n",
              "3            RIAU       5.53        1\n",
              "4           JAMBI       4.13        0"
            ]
          },
          "execution_count": 318,
          "metadata": {},
          "output_type": "execute_result"
        }
      ],
      "source": [
        "kmeans = KMeans(n_clusters=2, init='random', random_state=42)\n",
        "kmeans.fit(clus_col)\n",
        "df['cluster'] = kmeans.predict(clus_col)\n",
        "df.head()"
      ]
    },
    {
      "cell_type": "code",
      "execution_count": 319,
      "metadata": {},
      "outputs": [
        {
          "data": {
            "application/vnd.plotly.v1+json": {
              "config": {
                "plotlyServerURL": "https://plot.ly"
              },
              "data": [
                {
                  "hovertemplate": "avg-total=%{x}<br>index=%{y}<br>cluster=%{marker.color}<extra></extra>",
                  "legendgroup": "",
                  "marker": {
                    "color": [
                      1,
                      1,
                      1,
                      1,
                      0,
                      0,
                      0,
                      0,
                      0,
                      1,
                      1,
                      1,
                      0,
                      0,
                      0,
                      1,
                      0,
                      0,
                      0,
                      0,
                      0,
                      0,
                      1,
                      0,
                      1,
                      0,
                      0,
                      0,
                      0,
                      0,
                      1,
                      0,
                      1,
                      0
                    ],
                    "coloraxis": "coloraxis",
                    "symbol": "circle"
                  },
                  "mode": "markers",
                  "name": "",
                  "orientation": "h",
                  "showlegend": false,
                  "type": "scatter",
                  "x": [
                    7.03,
                    5.95,
                    6.05,
                    5.53,
                    4.13,
                    4.59,
                    3.34,
                    4.49,
                    4.16,
                    7.55,
                    7.43,
                    8.53,
                    5.1,
                    3.47,
                    4.4,
                    8.68,
                    2.54,
                    4,
                    3.17,
                    4.5,
                    3.71,
                    4.23,
                    7.15,
                    4.02,
                    6.83,
                    3.38,
                    5.32,
                    3.58,
                    3.53,
                    2.63,
                    7.4,
                    4.79,
                    5.91,
                    3.39
                  ],
                  "xaxis": "x",
                  "y": [
                    0,
                    1,
                    2,
                    3,
                    4,
                    5,
                    6,
                    7,
                    8,
                    9,
                    10,
                    11,
                    12,
                    13,
                    14,
                    15,
                    16,
                    17,
                    18,
                    19,
                    20,
                    21,
                    22,
                    23,
                    24,
                    25,
                    26,
                    27,
                    28,
                    29,
                    30,
                    31,
                    32,
                    33
                  ],
                  "yaxis": "y"
                }
              ],
              "layout": {
                "coloraxis": {
                  "colorbar": {
                    "title": {
                      "text": "cluster"
                    }
                  },
                  "colorscale": [
                    [
                      0,
                      "rgb(20,44,66)"
                    ],
                    [
                      1,
                      "rgb(90,179,244)"
                    ]
                  ]
                },
                "height": 400,
                "legend": {
                  "tracegroupgap": 0
                },
                "margin": {
                  "t": 60
                },
                "showlegend": true,
                "template": {
                  "data": {
                    "bar": [
                      {
                        "error_x": {
                          "color": "rgb(51,51,51)"
                        },
                        "error_y": {
                          "color": "rgb(51,51,51)"
                        },
                        "marker": {
                          "line": {
                            "color": "rgb(237,237,237)",
                            "width": 0.5
                          },
                          "pattern": {
                            "fillmode": "overlay",
                            "size": 10,
                            "solidity": 0.2
                          }
                        },
                        "type": "bar"
                      }
                    ],
                    "barpolar": [
                      {
                        "marker": {
                          "line": {
                            "color": "rgb(237,237,237)",
                            "width": 0.5
                          },
                          "pattern": {
                            "fillmode": "overlay",
                            "size": 10,
                            "solidity": 0.2
                          }
                        },
                        "type": "barpolar"
                      }
                    ],
                    "carpet": [
                      {
                        "aaxis": {
                          "endlinecolor": "rgb(51,51,51)",
                          "gridcolor": "white",
                          "linecolor": "white",
                          "minorgridcolor": "white",
                          "startlinecolor": "rgb(51,51,51)"
                        },
                        "baxis": {
                          "endlinecolor": "rgb(51,51,51)",
                          "gridcolor": "white",
                          "linecolor": "white",
                          "minorgridcolor": "white",
                          "startlinecolor": "rgb(51,51,51)"
                        },
                        "type": "carpet"
                      }
                    ],
                    "choropleth": [
                      {
                        "colorbar": {
                          "outlinewidth": 0,
                          "tickcolor": "rgb(237,237,237)",
                          "ticklen": 6,
                          "ticks": "inside"
                        },
                        "type": "choropleth"
                      }
                    ],
                    "contour": [
                      {
                        "colorbar": {
                          "outlinewidth": 0,
                          "tickcolor": "rgb(237,237,237)",
                          "ticklen": 6,
                          "ticks": "inside"
                        },
                        "colorscale": [
                          [
                            0,
                            "rgb(20,44,66)"
                          ],
                          [
                            1,
                            "rgb(90,179,244)"
                          ]
                        ],
                        "type": "contour"
                      }
                    ],
                    "contourcarpet": [
                      {
                        "colorbar": {
                          "outlinewidth": 0,
                          "tickcolor": "rgb(237,237,237)",
                          "ticklen": 6,
                          "ticks": "inside"
                        },
                        "type": "contourcarpet"
                      }
                    ],
                    "heatmap": [
                      {
                        "colorbar": {
                          "outlinewidth": 0,
                          "tickcolor": "rgb(237,237,237)",
                          "ticklen": 6,
                          "ticks": "inside"
                        },
                        "colorscale": [
                          [
                            0,
                            "rgb(20,44,66)"
                          ],
                          [
                            1,
                            "rgb(90,179,244)"
                          ]
                        ],
                        "type": "heatmap"
                      }
                    ],
                    "heatmapgl": [
                      {
                        "colorbar": {
                          "outlinewidth": 0,
                          "tickcolor": "rgb(237,237,237)",
                          "ticklen": 6,
                          "ticks": "inside"
                        },
                        "colorscale": [
                          [
                            0,
                            "rgb(20,44,66)"
                          ],
                          [
                            1,
                            "rgb(90,179,244)"
                          ]
                        ],
                        "type": "heatmapgl"
                      }
                    ],
                    "histogram": [
                      {
                        "marker": {
                          "pattern": {
                            "fillmode": "overlay",
                            "size": 10,
                            "solidity": 0.2
                          }
                        },
                        "type": "histogram"
                      }
                    ],
                    "histogram2d": [
                      {
                        "colorbar": {
                          "outlinewidth": 0,
                          "tickcolor": "rgb(237,237,237)",
                          "ticklen": 6,
                          "ticks": "inside"
                        },
                        "colorscale": [
                          [
                            0,
                            "rgb(20,44,66)"
                          ],
                          [
                            1,
                            "rgb(90,179,244)"
                          ]
                        ],
                        "type": "histogram2d"
                      }
                    ],
                    "histogram2dcontour": [
                      {
                        "colorbar": {
                          "outlinewidth": 0,
                          "tickcolor": "rgb(237,237,237)",
                          "ticklen": 6,
                          "ticks": "inside"
                        },
                        "colorscale": [
                          [
                            0,
                            "rgb(20,44,66)"
                          ],
                          [
                            1,
                            "rgb(90,179,244)"
                          ]
                        ],
                        "type": "histogram2dcontour"
                      }
                    ],
                    "mesh3d": [
                      {
                        "colorbar": {
                          "outlinewidth": 0,
                          "tickcolor": "rgb(237,237,237)",
                          "ticklen": 6,
                          "ticks": "inside"
                        },
                        "type": "mesh3d"
                      }
                    ],
                    "parcoords": [
                      {
                        "line": {
                          "colorbar": {
                            "outlinewidth": 0,
                            "tickcolor": "rgb(237,237,237)",
                            "ticklen": 6,
                            "ticks": "inside"
                          }
                        },
                        "type": "parcoords"
                      }
                    ],
                    "pie": [
                      {
                        "automargin": true,
                        "type": "pie"
                      }
                    ],
                    "scatter": [
                      {
                        "fillpattern": {
                          "fillmode": "overlay",
                          "size": 10,
                          "solidity": 0.2
                        },
                        "type": "scatter"
                      }
                    ],
                    "scatter3d": [
                      {
                        "line": {
                          "colorbar": {
                            "outlinewidth": 0,
                            "tickcolor": "rgb(237,237,237)",
                            "ticklen": 6,
                            "ticks": "inside"
                          }
                        },
                        "marker": {
                          "colorbar": {
                            "outlinewidth": 0,
                            "tickcolor": "rgb(237,237,237)",
                            "ticklen": 6,
                            "ticks": "inside"
                          }
                        },
                        "type": "scatter3d"
                      }
                    ],
                    "scattercarpet": [
                      {
                        "marker": {
                          "colorbar": {
                            "outlinewidth": 0,
                            "tickcolor": "rgb(237,237,237)",
                            "ticklen": 6,
                            "ticks": "inside"
                          }
                        },
                        "type": "scattercarpet"
                      }
                    ],
                    "scattergeo": [
                      {
                        "marker": {
                          "colorbar": {
                            "outlinewidth": 0,
                            "tickcolor": "rgb(237,237,237)",
                            "ticklen": 6,
                            "ticks": "inside"
                          }
                        },
                        "type": "scattergeo"
                      }
                    ],
                    "scattergl": [
                      {
                        "marker": {
                          "colorbar": {
                            "outlinewidth": 0,
                            "tickcolor": "rgb(237,237,237)",
                            "ticklen": 6,
                            "ticks": "inside"
                          }
                        },
                        "type": "scattergl"
                      }
                    ],
                    "scattermapbox": [
                      {
                        "marker": {
                          "colorbar": {
                            "outlinewidth": 0,
                            "tickcolor": "rgb(237,237,237)",
                            "ticklen": 6,
                            "ticks": "inside"
                          }
                        },
                        "type": "scattermapbox"
                      }
                    ],
                    "scatterpolar": [
                      {
                        "marker": {
                          "colorbar": {
                            "outlinewidth": 0,
                            "tickcolor": "rgb(237,237,237)",
                            "ticklen": 6,
                            "ticks": "inside"
                          }
                        },
                        "type": "scatterpolar"
                      }
                    ],
                    "scatterpolargl": [
                      {
                        "marker": {
                          "colorbar": {
                            "outlinewidth": 0,
                            "tickcolor": "rgb(237,237,237)",
                            "ticklen": 6,
                            "ticks": "inside"
                          }
                        },
                        "type": "scatterpolargl"
                      }
                    ],
                    "scatterternary": [
                      {
                        "marker": {
                          "colorbar": {
                            "outlinewidth": 0,
                            "tickcolor": "rgb(237,237,237)",
                            "ticklen": 6,
                            "ticks": "inside"
                          }
                        },
                        "type": "scatterternary"
                      }
                    ],
                    "surface": [
                      {
                        "colorbar": {
                          "outlinewidth": 0,
                          "tickcolor": "rgb(237,237,237)",
                          "ticklen": 6,
                          "ticks": "inside"
                        },
                        "colorscale": [
                          [
                            0,
                            "rgb(20,44,66)"
                          ],
                          [
                            1,
                            "rgb(90,179,244)"
                          ]
                        ],
                        "type": "surface"
                      }
                    ],
                    "table": [
                      {
                        "cells": {
                          "fill": {
                            "color": "rgb(237,237,237)"
                          },
                          "line": {
                            "color": "white"
                          }
                        },
                        "header": {
                          "fill": {
                            "color": "rgb(217,217,217)"
                          },
                          "line": {
                            "color": "white"
                          }
                        },
                        "type": "table"
                      }
                    ]
                  },
                  "layout": {
                    "annotationdefaults": {
                      "arrowhead": 0,
                      "arrowwidth": 1
                    },
                    "autotypenumbers": "strict",
                    "coloraxis": {
                      "colorbar": {
                        "outlinewidth": 0,
                        "tickcolor": "rgb(237,237,237)",
                        "ticklen": 6,
                        "ticks": "inside"
                      }
                    },
                    "colorscale": {
                      "sequential": [
                        [
                          0,
                          "rgb(20,44,66)"
                        ],
                        [
                          1,
                          "rgb(90,179,244)"
                        ]
                      ],
                      "sequentialminus": [
                        [
                          0,
                          "rgb(20,44,66)"
                        ],
                        [
                          1,
                          "rgb(90,179,244)"
                        ]
                      ]
                    },
                    "colorway": [
                      "#F8766D",
                      "#A3A500",
                      "#00BF7D",
                      "#00B0F6",
                      "#E76BF3"
                    ],
                    "font": {
                      "color": "rgb(51,51,51)"
                    },
                    "geo": {
                      "bgcolor": "white",
                      "lakecolor": "white",
                      "landcolor": "rgb(237,237,237)",
                      "showlakes": true,
                      "showland": true,
                      "subunitcolor": "white"
                    },
                    "hoverlabel": {
                      "align": "left"
                    },
                    "hovermode": "closest",
                    "paper_bgcolor": "white",
                    "plot_bgcolor": "rgb(237,237,237)",
                    "polar": {
                      "angularaxis": {
                        "gridcolor": "white",
                        "linecolor": "white",
                        "showgrid": true,
                        "tickcolor": "rgb(51,51,51)",
                        "ticks": "outside"
                      },
                      "bgcolor": "rgb(237,237,237)",
                      "radialaxis": {
                        "gridcolor": "white",
                        "linecolor": "white",
                        "showgrid": true,
                        "tickcolor": "rgb(51,51,51)",
                        "ticks": "outside"
                      }
                    },
                    "scene": {
                      "xaxis": {
                        "backgroundcolor": "rgb(237,237,237)",
                        "gridcolor": "white",
                        "gridwidth": 2,
                        "linecolor": "white",
                        "showbackground": true,
                        "showgrid": true,
                        "tickcolor": "rgb(51,51,51)",
                        "ticks": "outside",
                        "zerolinecolor": "white"
                      },
                      "yaxis": {
                        "backgroundcolor": "rgb(237,237,237)",
                        "gridcolor": "white",
                        "gridwidth": 2,
                        "linecolor": "white",
                        "showbackground": true,
                        "showgrid": true,
                        "tickcolor": "rgb(51,51,51)",
                        "ticks": "outside",
                        "zerolinecolor": "white"
                      },
                      "zaxis": {
                        "backgroundcolor": "rgb(237,237,237)",
                        "gridcolor": "white",
                        "gridwidth": 2,
                        "linecolor": "white",
                        "showbackground": true,
                        "showgrid": true,
                        "tickcolor": "rgb(51,51,51)",
                        "ticks": "outside",
                        "zerolinecolor": "white"
                      }
                    },
                    "shapedefaults": {
                      "fillcolor": "black",
                      "line": {
                        "width": 0
                      },
                      "opacity": 0.3
                    },
                    "ternary": {
                      "aaxis": {
                        "gridcolor": "white",
                        "linecolor": "white",
                        "showgrid": true,
                        "tickcolor": "rgb(51,51,51)",
                        "ticks": "outside"
                      },
                      "baxis": {
                        "gridcolor": "white",
                        "linecolor": "white",
                        "showgrid": true,
                        "tickcolor": "rgb(51,51,51)",
                        "ticks": "outside"
                      },
                      "bgcolor": "rgb(237,237,237)",
                      "caxis": {
                        "gridcolor": "white",
                        "linecolor": "white",
                        "showgrid": true,
                        "tickcolor": "rgb(51,51,51)",
                        "ticks": "outside"
                      }
                    },
                    "xaxis": {
                      "automargin": true,
                      "gridcolor": "white",
                      "linecolor": "white",
                      "showgrid": true,
                      "tickcolor": "rgb(51,51,51)",
                      "ticks": "outside",
                      "title": {
                        "standoff": 15
                      },
                      "zerolinecolor": "white"
                    },
                    "yaxis": {
                      "automargin": true,
                      "gridcolor": "white",
                      "linecolor": "white",
                      "showgrid": true,
                      "tickcolor": "rgb(51,51,51)",
                      "ticks": "outside",
                      "title": {
                        "standoff": 15
                      },
                      "zerolinecolor": "white"
                    }
                  }
                },
                "title": {
                  "text": "cluster with K=2"
                },
                "width": 600,
                "xaxis": {
                  "anchor": "y",
                  "domain": [
                    0,
                    1
                  ],
                  "title": {
                    "text": "avg-total"
                  }
                },
                "yaxis": {
                  "anchor": "x",
                  "domain": [
                    0,
                    1
                  ],
                  "title": {
                    "text": "index"
                  }
                }
              }
            }
          },
          "metadata": {},
          "output_type": "display_data"
        }
      ],
      "source": [
        "fig = px.scatter(df, x='avg-total', \n",
        "                 color='cluster',\n",
        "                 template='ggplot2')\n",
        "\n",
        "fig.update_layout(title= 'cluster with K=2',\n",
        "                  width= 600,\n",
        "                  height= 400,\n",
        "                  showlegend= True)\n",
        "\n",
        "fig.show()"
      ]
    },
    {
      "cell_type": "markdown",
      "metadata": {},
      "source": [
        "## Final Result"
      ]
    },
    {
      "cell_type": "code",
      "execution_count": 329,
      "metadata": {},
      "outputs": [
        {
          "data": {
            "text/html": [
              "<div>\n",
              "<style scoped>\n",
              "    .dataframe tbody tr th:only-of-type {\n",
              "        vertical-align: middle;\n",
              "    }\n",
              "\n",
              "    .dataframe tbody tr th {\n",
              "        vertical-align: top;\n",
              "    }\n",
              "\n",
              "    .dataframe thead th {\n",
              "        text-align: right;\n",
              "    }\n",
              "</style>\n",
              "<table border=\"1\" class=\"dataframe\">\n",
              "  <thead>\n",
              "    <tr style=\"text-align: right;\">\n",
              "      <th></th>\n",
              "      <th>provinsi</th>\n",
              "      <th>avg-total</th>\n",
              "      <th>cluster</th>\n",
              "    </tr>\n",
              "  </thead>\n",
              "  <tbody>\n",
              "    <tr>\n",
              "      <th>0</th>\n",
              "      <td>ACEH</td>\n",
              "      <td>7.03</td>\n",
              "      <td>1</td>\n",
              "    </tr>\n",
              "    <tr>\n",
              "      <th>1</th>\n",
              "      <td>SUMATERA UTARA</td>\n",
              "      <td>5.95</td>\n",
              "      <td>1</td>\n",
              "    </tr>\n",
              "    <tr>\n",
              "      <th>2</th>\n",
              "      <td>SUMATERA BARAT</td>\n",
              "      <td>6.05</td>\n",
              "      <td>1</td>\n",
              "    </tr>\n",
              "    <tr>\n",
              "      <th>3</th>\n",
              "      <td>RIAU</td>\n",
              "      <td>5.53</td>\n",
              "      <td>1</td>\n",
              "    </tr>\n",
              "    <tr>\n",
              "      <th>4</th>\n",
              "      <td>JAMBI</td>\n",
              "      <td>4.13</td>\n",
              "      <td>0</td>\n",
              "    </tr>\n",
              "    <tr>\n",
              "      <th>5</th>\n",
              "      <td>SUMATERA SELATAN</td>\n",
              "      <td>4.59</td>\n",
              "      <td>0</td>\n",
              "    </tr>\n",
              "    <tr>\n",
              "      <th>6</th>\n",
              "      <td>BENGKULU</td>\n",
              "      <td>3.34</td>\n",
              "      <td>0</td>\n",
              "    </tr>\n",
              "    <tr>\n",
              "      <th>7</th>\n",
              "      <td>LAMPUNG</td>\n",
              "      <td>4.49</td>\n",
              "      <td>0</td>\n",
              "    </tr>\n",
              "    <tr>\n",
              "      <th>8</th>\n",
              "      <td>KEPULAUAN BANGKA BELITUNG</td>\n",
              "      <td>4.16</td>\n",
              "      <td>0</td>\n",
              "    </tr>\n",
              "    <tr>\n",
              "      <th>9</th>\n",
              "      <td>KEPULAUAN RIAU</td>\n",
              "      <td>7.55</td>\n",
              "      <td>1</td>\n",
              "    </tr>\n",
              "    <tr>\n",
              "      <th>10</th>\n",
              "      <td>DKI JAKARTA</td>\n",
              "      <td>7.43</td>\n",
              "      <td>1</td>\n",
              "    </tr>\n",
              "    <tr>\n",
              "      <th>11</th>\n",
              "      <td>JAWA BARAT</td>\n",
              "      <td>8.53</td>\n",
              "      <td>1</td>\n",
              "    </tr>\n",
              "    <tr>\n",
              "      <th>12</th>\n",
              "      <td>JAWA TENGAH</td>\n",
              "      <td>5.10</td>\n",
              "      <td>0</td>\n",
              "    </tr>\n",
              "    <tr>\n",
              "      <th>13</th>\n",
              "      <td>DI YOGYAKARTA</td>\n",
              "      <td>3.47</td>\n",
              "      <td>0</td>\n",
              "    </tr>\n",
              "    <tr>\n",
              "      <th>14</th>\n",
              "      <td>JAWA TIMUR</td>\n",
              "      <td>4.40</td>\n",
              "      <td>0</td>\n",
              "    </tr>\n",
              "    <tr>\n",
              "      <th>15</th>\n",
              "      <td>BANTEN</td>\n",
              "      <td>8.68</td>\n",
              "      <td>1</td>\n",
              "    </tr>\n",
              "    <tr>\n",
              "      <th>16</th>\n",
              "      <td>BALI</td>\n",
              "      <td>2.54</td>\n",
              "      <td>0</td>\n",
              "    </tr>\n",
              "    <tr>\n",
              "      <th>17</th>\n",
              "      <td>NUSA TENGGARA BARAT</td>\n",
              "      <td>4.00</td>\n",
              "      <td>0</td>\n",
              "    </tr>\n",
              "    <tr>\n",
              "      <th>18</th>\n",
              "      <td>NUSA TENGGARA TIMUR</td>\n",
              "      <td>3.17</td>\n",
              "      <td>0</td>\n",
              "    </tr>\n",
              "    <tr>\n",
              "      <th>19</th>\n",
              "      <td>KALIMANTAN BARAT</td>\n",
              "      <td>4.50</td>\n",
              "      <td>0</td>\n",
              "    </tr>\n",
              "    <tr>\n",
              "      <th>20</th>\n",
              "      <td>KALIMANTAN TENGAH</td>\n",
              "      <td>3.71</td>\n",
              "      <td>0</td>\n",
              "    </tr>\n",
              "    <tr>\n",
              "      <th>21</th>\n",
              "      <td>KALIMANTAN SELATAN</td>\n",
              "      <td>4.23</td>\n",
              "      <td>0</td>\n",
              "    </tr>\n",
              "    <tr>\n",
              "      <th>22</th>\n",
              "      <td>KALIMANTAN TIMUR</td>\n",
              "      <td>7.15</td>\n",
              "      <td>1</td>\n",
              "    </tr>\n",
              "    <tr>\n",
              "      <th>23</th>\n",
              "      <td>KALIMANTAN UTARA</td>\n",
              "      <td>4.02</td>\n",
              "      <td>0</td>\n",
              "    </tr>\n",
              "    <tr>\n",
              "      <th>24</th>\n",
              "      <td>SULAWESI UTARA</td>\n",
              "      <td>6.83</td>\n",
              "      <td>1</td>\n",
              "    </tr>\n",
              "    <tr>\n",
              "      <th>25</th>\n",
              "      <td>SULAWESI TENGAH</td>\n",
              "      <td>3.38</td>\n",
              "      <td>0</td>\n",
              "    </tr>\n",
              "    <tr>\n",
              "      <th>26</th>\n",
              "      <td>SULAWESI SELATAN</td>\n",
              "      <td>5.32</td>\n",
              "      <td>0</td>\n",
              "    </tr>\n",
              "    <tr>\n",
              "      <th>27</th>\n",
              "      <td>SULAWESI TENGGARA</td>\n",
              "      <td>3.58</td>\n",
              "      <td>0</td>\n",
              "    </tr>\n",
              "    <tr>\n",
              "      <th>28</th>\n",
              "      <td>GORONTALO</td>\n",
              "      <td>3.53</td>\n",
              "      <td>0</td>\n",
              "    </tr>\n",
              "    <tr>\n",
              "      <th>29</th>\n",
              "      <td>SULAWESI BARAT</td>\n",
              "      <td>2.63</td>\n",
              "      <td>0</td>\n",
              "    </tr>\n",
              "    <tr>\n",
              "      <th>30</th>\n",
              "      <td>MALUKU</td>\n",
              "      <td>7.40</td>\n",
              "      <td>1</td>\n",
              "    </tr>\n",
              "    <tr>\n",
              "      <th>31</th>\n",
              "      <td>MALUKU UTARA</td>\n",
              "      <td>4.79</td>\n",
              "      <td>0</td>\n",
              "    </tr>\n",
              "    <tr>\n",
              "      <th>32</th>\n",
              "      <td>PAPUA BARAT</td>\n",
              "      <td>5.91</td>\n",
              "      <td>1</td>\n",
              "    </tr>\n",
              "    <tr>\n",
              "      <th>33</th>\n",
              "      <td>PAPUA</td>\n",
              "      <td>3.39</td>\n",
              "      <td>0</td>\n",
              "    </tr>\n",
              "  </tbody>\n",
              "</table>\n",
              "</div>"
            ],
            "text/plain": [
              "                     provinsi  avg-total  cluster\n",
              "0                        ACEH       7.03        1\n",
              "1              SUMATERA UTARA       5.95        1\n",
              "2              SUMATERA BARAT       6.05        1\n",
              "3                        RIAU       5.53        1\n",
              "4                       JAMBI       4.13        0\n",
              "5            SUMATERA SELATAN       4.59        0\n",
              "6                    BENGKULU       3.34        0\n",
              "7                     LAMPUNG       4.49        0\n",
              "8   KEPULAUAN BANGKA BELITUNG       4.16        0\n",
              "9              KEPULAUAN RIAU       7.55        1\n",
              "10                DKI JAKARTA       7.43        1\n",
              "11                 JAWA BARAT       8.53        1\n",
              "12                JAWA TENGAH       5.10        0\n",
              "13              DI YOGYAKARTA       3.47        0\n",
              "14                 JAWA TIMUR       4.40        0\n",
              "15                     BANTEN       8.68        1\n",
              "16                       BALI       2.54        0\n",
              "17        NUSA TENGGARA BARAT       4.00        0\n",
              "18        NUSA TENGGARA TIMUR       3.17        0\n",
              "19           KALIMANTAN BARAT       4.50        0\n",
              "20          KALIMANTAN TENGAH       3.71        0\n",
              "21         KALIMANTAN SELATAN       4.23        0\n",
              "22           KALIMANTAN TIMUR       7.15        1\n",
              "23           KALIMANTAN UTARA       4.02        0\n",
              "24             SULAWESI UTARA       6.83        1\n",
              "25            SULAWESI TENGAH       3.38        0\n",
              "26           SULAWESI SELATAN       5.32        0\n",
              "27          SULAWESI TENGGARA       3.58        0\n",
              "28                  GORONTALO       3.53        0\n",
              "29             SULAWESI BARAT       2.63        0\n",
              "30                     MALUKU       7.40        1\n",
              "31               MALUKU UTARA       4.79        0\n",
              "32                PAPUA BARAT       5.91        1\n",
              "33                      PAPUA       3.39        0"
            ]
          },
          "execution_count": 329,
          "metadata": {},
          "output_type": "execute_result"
        }
      ],
      "source": [
        "clus_col = df[['avg-total']]\n",
        "kmeans = KMeans(n_clusters=2, init='random', random_state=42)\n",
        "kmeans.fit(clus_col)\n",
        "df['cluster'] = kmeans.predict(clus_col)\n",
        "df.head(40)"
      ]
    },
    {
      "cell_type": "code",
      "execution_count": 321,
      "metadata": {},
      "outputs": [
        {
          "name": "stdout",
          "output_type": "stream",
          "text": [
            "0.4516572459967775\n"
          ]
        }
      ],
      "source": [
        "dbi_score = davies_bouldin_score(clus_col, labels=kmeans.labels_)\n",
        "print(dbi_score)"
      ]
    },
    {
      "cell_type": "code",
      "execution_count": 322,
      "metadata": {},
      "outputs": [
        {
          "data": {
            "text/plain": [
              "array([[3.93045455],\n",
              "       [7.00333333]])"
            ]
          },
          "execution_count": 322,
          "metadata": {},
          "output_type": "execute_result"
        }
      ],
      "source": [
        "kmeans.cluster_centers_"
      ]
    },
    {
      "cell_type": "code",
      "execution_count": 323,
      "metadata": {},
      "outputs": [
        {
          "data": {
            "text/plain": [
              "2"
            ]
          },
          "execution_count": 323,
          "metadata": {},
          "output_type": "execute_result"
        }
      ],
      "source": [
        "kmeans.n_iter_"
      ]
    },
    {
      "cell_type": "code",
      "execution_count": 324,
      "metadata": {},
      "outputs": [
        {
          "data": {
            "text/html": [
              "<div>\n",
              "<style scoped>\n",
              "    .dataframe tbody tr th:only-of-type {\n",
              "        vertical-align: middle;\n",
              "    }\n",
              "\n",
              "    .dataframe tbody tr th {\n",
              "        vertical-align: top;\n",
              "    }\n",
              "\n",
              "    .dataframe thead th {\n",
              "        text-align: right;\n",
              "    }\n",
              "</style>\n",
              "<table border=\"1\" class=\"dataframe\">\n",
              "  <thead>\n",
              "    <tr style=\"text-align: right;\">\n",
              "      <th></th>\n",
              "      <th>count</th>\n",
              "      <th>mean</th>\n",
              "      <th>std</th>\n",
              "      <th>min</th>\n",
              "      <th>25%</th>\n",
              "      <th>50%</th>\n",
              "      <th>75%</th>\n",
              "      <th>max</th>\n",
              "    </tr>\n",
              "    <tr>\n",
              "      <th>cluster</th>\n",
              "      <th></th>\n",
              "      <th></th>\n",
              "      <th></th>\n",
              "      <th></th>\n",
              "      <th></th>\n",
              "      <th></th>\n",
              "      <th></th>\n",
              "      <th></th>\n",
              "    </tr>\n",
              "  </thead>\n",
              "  <tbody>\n",
              "    <tr>\n",
              "      <th>0</th>\n",
              "      <td>22.0</td>\n",
              "      <td>3.930455</td>\n",
              "      <td>0.730815</td>\n",
              "      <td>2.54</td>\n",
              "      <td>3.410</td>\n",
              "      <td>4.01</td>\n",
              "      <td>4.4675</td>\n",
              "      <td>5.32</td>\n",
              "    </tr>\n",
              "    <tr>\n",
              "      <th>1</th>\n",
              "      <td>12.0</td>\n",
              "      <td>7.003333</td>\n",
              "      <td>1.009809</td>\n",
              "      <td>5.53</td>\n",
              "      <td>6.025</td>\n",
              "      <td>7.09</td>\n",
              "      <td>7.4600</td>\n",
              "      <td>8.68</td>\n",
              "    </tr>\n",
              "  </tbody>\n",
              "</table>\n",
              "</div>"
            ],
            "text/plain": [
              "         count      mean       std   min    25%   50%     75%   max\n",
              "cluster                                                            \n",
              "0         22.0  3.930455  0.730815  2.54  3.410  4.01  4.4675  5.32\n",
              "1         12.0  7.003333  1.009809  5.53  6.025  7.09  7.4600  8.68"
            ]
          },
          "execution_count": 324,
          "metadata": {},
          "output_type": "execute_result"
        }
      ],
      "source": [
        "df.groupby('cluster')['avg-total'].describe()"
      ]
    },
    {
      "cell_type": "code",
      "execution_count": 325,
      "metadata": {},
      "outputs": [
        {
          "name": "stdout",
          "output_type": "stream",
          "text": [
            "                     provinsi  avg-total  cluster\n",
            "4                       JAMBI       4.13        0\n",
            "5            SUMATERA SELATAN       4.59        0\n",
            "6                    BENGKULU       3.34        0\n",
            "7                     LAMPUNG       4.49        0\n",
            "8   KEPULAUAN BANGKA BELITUNG       4.16        0\n",
            "12                JAWA TENGAH       5.10        0\n",
            "13              DI YOGYAKARTA       3.47        0\n",
            "14                 JAWA TIMUR       4.40        0\n",
            "16                       BALI       2.54        0\n",
            "17        NUSA TENGGARA BARAT       4.00        0\n",
            "18        NUSA TENGGARA TIMUR       3.17        0\n",
            "19           KALIMANTAN BARAT       4.50        0\n",
            "20          KALIMANTAN TENGAH       3.71        0\n",
            "21         KALIMANTAN SELATAN       4.23        0\n",
            "23           KALIMANTAN UTARA       4.02        0\n",
            "25            SULAWESI TENGAH       3.38        0\n",
            "26           SULAWESI SELATAN       5.32        0\n",
            "27          SULAWESI TENGGARA       3.58        0\n",
            "28                  GORONTALO       3.53        0\n",
            "29             SULAWESI BARAT       2.63        0\n",
            "31               MALUKU UTARA       4.79        0\n",
            "33                      PAPUA       3.39        0\n"
          ]
        }
      ],
      "source": [
        "cluster_0 = df[df['cluster'] == 0]\n",
        "print(cluster_0)"
      ]
    },
    {
      "cell_type": "code",
      "execution_count": 326,
      "metadata": {},
      "outputs": [
        {
          "name": "stdout",
          "output_type": "stream",
          "text": [
            "            provinsi  avg-total  cluster\n",
            "0               ACEH       7.03        1\n",
            "1     SUMATERA UTARA       5.95        1\n",
            "2     SUMATERA BARAT       6.05        1\n",
            "3               RIAU       5.53        1\n",
            "9     KEPULAUAN RIAU       7.55        1\n",
            "10       DKI JAKARTA       7.43        1\n",
            "11        JAWA BARAT       8.53        1\n",
            "15            BANTEN       8.68        1\n",
            "22  KALIMANTAN TIMUR       7.15        1\n",
            "24    SULAWESI UTARA       6.83        1\n",
            "30            MALUKU       7.40        1\n",
            "32       PAPUA BARAT       5.91        1\n"
          ]
        }
      ],
      "source": [
        "cluster_1 = df[df['cluster'] == 1]\n",
        "print(cluster_1)"
      ]
    }
  ],
  "metadata": {
    "colab": {
      "collapsed_sections": [
        "KZ1fszmhpPZM",
        "iHmSE4t7rGwe",
        "nS9J-PXIe301",
        "6KW1VxUngLmV",
        "EkBBMq-thHSW",
        "1iDcNErshuK7",
        "aFK7tSS5ujGI",
        "VpV-9OrB4adH",
        "qSr4xiequyH7",
        "DHCp21H2vTyc",
        "szQxCiBNvyvP",
        "8H1a3kDgwbag"
      ],
      "provenance": [],
      "toc_visible": true
    },
    "kernelspec": {
      "display_name": "Python 3",
      "name": "python3"
    },
    "language_info": {
      "codemirror_mode": {
        "name": "ipython",
        "version": 3
      },
      "file_extension": ".py",
      "mimetype": "text/x-python",
      "name": "python",
      "nbconvert_exporter": "python",
      "pygments_lexer": "ipython3",
      "version": "3.11.6"
    }
  },
  "nbformat": 4,
  "nbformat_minor": 0
}
