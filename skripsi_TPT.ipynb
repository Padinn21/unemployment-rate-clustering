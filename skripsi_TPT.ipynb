{
  "cells": [
    {
      "cell_type": "markdown",
      "metadata": {
        "id": "KZ1fszmhpPZM"
      },
      "source": [
        "# Import Library\n"
      ]
    },
    {
      "cell_type": "code",
      "execution_count": 1,
      "metadata": {},
      "outputs": [],
      "source": [
        "import os\n",
        "os.chdir(\"D:\\KULIAH\\SKRIPSI\\IMPLEMENT\\project-skripsi\\data_pengangguran\")"
      ]
    },
    {
      "cell_type": "code",
      "execution_count": 2,
      "metadata": {
        "id": "iRQSBsyqo-VG"
      },
      "outputs": [],
      "source": [
        "import numpy as np\n",
        "import pandas as pd\n",
        "import matplotlib.pyplot as plt\n",
        "import plotly.express as px\n",
        "import plotly.graph_objects as go\n",
        "from sklearn.cluster import KMeans\n",
        "from sklearn.metrics import davies_bouldin_score\n",
        "from sklearn.preprocessing import MinMaxScaler\n",
        "from sklearn.metrics import silhouette_score"
      ]
    },
    {
      "cell_type": "markdown",
      "metadata": {
        "id": "iHmSE4t7rGwe"
      },
      "source": [
        "# Import Dataset\n"
      ]
    },
    {
      "cell_type": "code",
      "execution_count": 3,
      "metadata": {
        "id": "5vfmBTrvrDLZ"
      },
      "outputs": [],
      "source": [
        "df_2013 = pd.read_csv('TPT-2013.csv')\n",
        "df_2014 = pd.read_csv('TPT-2014.csv')\n",
        "df_2015 = pd.read_csv('TPT-2015.csv')\n",
        "df_2016 = pd.read_csv('TPT-2016.csv')\n",
        "df_2017 = pd.read_csv('TPT-2017.csv')\n",
        "df_2018 = pd.read_csv('TPT-2018.csv')\n",
        "df_2019 = pd.read_csv('TPT-2019.csv')\n",
        "df_2020 = pd.read_csv('TPT-2020.csv')\n",
        "df_2021 = pd.read_csv('TPT-2021.csv')\n",
        "df_2022 = pd.read_csv('TPT-2022.csv')\n",
        "df_2023 = pd.read_csv('TPT-2023.csv')"
      ]
    },
    {
      "cell_type": "markdown",
      "metadata": {
        "id": "pKD2zByKuZtq"
      },
      "source": [
        "# Data Cleaning & Feature Engineering"
      ]
    },
    {
      "cell_type": "markdown",
      "metadata": {},
      "source": [
        "## Func if needed"
      ]
    },
    {
      "cell_type": "code",
      "execution_count": 4,
      "metadata": {},
      "outputs": [],
      "source": [
        "def conv_float(column):\n",
        "    return column.astype(float)"
      ]
    },
    {
      "cell_type": "markdown",
      "metadata": {
        "id": "nS9J-PXIe301"
      },
      "source": [
        "## TPT - 2013"
      ]
    },
    {
      "cell_type": "code",
      "execution_count": 5,
      "metadata": {},
      "outputs": [
        {
          "name": "stdout",
          "output_type": "stream",
          "text": [
            "<class 'pandas.core.frame.DataFrame'>\n",
            "RangeIndex: 35 entries, 0 to 34\n",
            "Data columns (total 3 columns):\n",
            " #   Column                                         Non-Null Count  Dtype \n",
            "---  ------                                         --------------  ----- \n",
            " 0   Provinsi                                       35 non-null     object\n",
            " 1   Tingkat Pengangguran Terbuka (TPT) - Februari  35 non-null     object\n",
            " 2   Tingkat Pengangguran Terbuka (TPT) - Agustus   35 non-null     object\n",
            "dtypes: object(3)\n",
            "memory usage: 972.0+ bytes\n"
          ]
        }
      ],
      "source": [
        "df_2013.info()"
      ]
    },
    {
      "cell_type": "code",
      "execution_count": 6,
      "metadata": {
        "id": "geKi2dPSe7Uz"
      },
      "outputs": [],
      "source": [
        "df_2013 = df_2013.rename(columns={'Provinsi':'provinsi',  'Tingkat Pengangguran Terbuka (TPT) - Februari':'februari', 'Tingkat Pengangguran Terbuka (TPT) - Agustus':'agustus'})"
      ]
    },
    {
      "cell_type": "code",
      "execution_count": 7,
      "metadata": {
        "id": "BY8z9GX-fYT5"
      },
      "outputs": [],
      "source": [
        "df_2013.drop(df_2013.tail(1).index, inplace=True)"
      ]
    },
    {
      "cell_type": "code",
      "execution_count": 8,
      "metadata": {
        "colab": {
          "base_uri": "https://localhost:8080/"
        },
        "id": "uEn-bahaf_Gf",
        "outputId": "8c2599eb-ff6c-4ead-c110-78d2a0320f08"
      },
      "outputs": [
        {
          "data": {
            "text/plain": [
              "provinsi    0\n",
              "februari    0\n",
              "agustus     0\n",
              "dtype: int64"
            ]
          },
          "execution_count": 8,
          "metadata": {},
          "output_type": "execute_result"
        }
      ],
      "source": [
        "df_2013.isna().sum()"
      ]
    },
    {
      "cell_type": "code",
      "execution_count": 9,
      "metadata": {},
      "outputs": [],
      "source": [
        "df_2013.replace('-', 0, inplace=True)"
      ]
    },
    {
      "cell_type": "code",
      "execution_count": 10,
      "metadata": {},
      "outputs": [],
      "source": [
        "df_2013[['februari', 'agustus']] = df_2013[['februari', 'agustus']].apply(conv_float)"
      ]
    },
    {
      "cell_type": "code",
      "execution_count": 11,
      "metadata": {},
      "outputs": [
        {
          "data": {
            "text/plain": [
              "provinsi     object\n",
              "februari    float64\n",
              "agustus     float64\n",
              "dtype: object"
            ]
          },
          "execution_count": 11,
          "metadata": {},
          "output_type": "execute_result"
        }
      ],
      "source": [
        "df_2013.dtypes"
      ]
    },
    {
      "cell_type": "code",
      "execution_count": 12,
      "metadata": {},
      "outputs": [],
      "source": [
        "df_2013['avg-2013'] = df_2013[['februari', 'agustus']].mean(axis=1).round(2)"
      ]
    },
    {
      "cell_type": "code",
      "execution_count": 13,
      "metadata": {},
      "outputs": [],
      "source": [
        "df_2013.drop(columns=df_2013[['februari', 'agustus']], axis=0, inplace=True)"
      ]
    },
    {
      "cell_type": "code",
      "execution_count": 14,
      "metadata": {},
      "outputs": [
        {
          "data": {
            "text/html": [
              "<div>\n",
              "<style scoped>\n",
              "    .dataframe tbody tr th:only-of-type {\n",
              "        vertical-align: middle;\n",
              "    }\n",
              "\n",
              "    .dataframe tbody tr th {\n",
              "        vertical-align: top;\n",
              "    }\n",
              "\n",
              "    .dataframe thead th {\n",
              "        text-align: right;\n",
              "    }\n",
              "</style>\n",
              "<table border=\"1\" class=\"dataframe\">\n",
              "  <thead>\n",
              "    <tr style=\"text-align: right;\">\n",
              "      <th></th>\n",
              "      <th>provinsi</th>\n",
              "      <th>avg-2013</th>\n",
              "    </tr>\n",
              "  </thead>\n",
              "  <tbody>\n",
              "    <tr>\n",
              "      <th>0</th>\n",
              "      <td>ACEH</td>\n",
              "      <td>9.23</td>\n",
              "    </tr>\n",
              "    <tr>\n",
              "      <th>1</th>\n",
              "      <td>SUMATERA UTARA</td>\n",
              "      <td>6.27</td>\n",
              "    </tr>\n",
              "    <tr>\n",
              "      <th>2</th>\n",
              "      <td>SUMATERA BARAT</td>\n",
              "      <td>6.70</td>\n",
              "    </tr>\n",
              "    <tr>\n",
              "      <th>3</th>\n",
              "      <td>KEPULAUAN RIAU</td>\n",
              "      <td>4.84</td>\n",
              "    </tr>\n",
              "    <tr>\n",
              "      <th>4</th>\n",
              "      <td>JAMBI</td>\n",
              "      <td>3.82</td>\n",
              "    </tr>\n",
              "  </tbody>\n",
              "</table>\n",
              "</div>"
            ],
            "text/plain": [
              "         provinsi  avg-2013\n",
              "0            ACEH      9.23\n",
              "1  SUMATERA UTARA      6.27\n",
              "2  SUMATERA BARAT      6.70\n",
              "3  KEPULAUAN RIAU      4.84\n",
              "4           JAMBI      3.82"
            ]
          },
          "execution_count": 14,
          "metadata": {},
          "output_type": "execute_result"
        }
      ],
      "source": [
        "df_2013.head()"
      ]
    },
    {
      "cell_type": "markdown",
      "metadata": {
        "id": "6KW1VxUngLmV"
      },
      "source": [
        "## TPT - 2014"
      ]
    },
    {
      "cell_type": "code",
      "execution_count": 15,
      "metadata": {},
      "outputs": [
        {
          "name": "stdout",
          "output_type": "stream",
          "text": [
            "<class 'pandas.core.frame.DataFrame'>\n",
            "RangeIndex: 35 entries, 0 to 34\n",
            "Data columns (total 3 columns):\n",
            " #   Column                                         Non-Null Count  Dtype \n",
            "---  ------                                         --------------  ----- \n",
            " 0   Provinsi                                       35 non-null     object\n",
            " 1   Tingkat Pengangguran Terbuka (TPT) - Februari  35 non-null     object\n",
            " 2   Tingkat Pengangguran Terbuka (TPT) - Agustus   35 non-null     object\n",
            "dtypes: object(3)\n",
            "memory usage: 972.0+ bytes\n"
          ]
        }
      ],
      "source": [
        "df_2014.info()"
      ]
    },
    {
      "cell_type": "code",
      "execution_count": 16,
      "metadata": {
        "id": "RyIPgkhigPJ9"
      },
      "outputs": [],
      "source": [
        "df_2014 = df_2014.rename(columns={'Provinsi':'provinsi',  'Tingkat Pengangguran Terbuka (TPT) - Februari':'februari', 'Tingkat Pengangguran Terbuka (TPT) - Agustus':'agustus'})"
      ]
    },
    {
      "cell_type": "code",
      "execution_count": 17,
      "metadata": {
        "id": "2VgJ8mH7grxv"
      },
      "outputs": [],
      "source": [
        "df_2014.drop(df_2014.tail(1).index, inplace=True)"
      ]
    },
    {
      "cell_type": "code",
      "execution_count": 18,
      "metadata": {
        "colab": {
          "base_uri": "https://localhost:8080/"
        },
        "id": "rwF0M5eng6oE",
        "outputId": "8756fedb-5d12-4256-d76f-5a1fa5caabad"
      },
      "outputs": [
        {
          "data": {
            "text/plain": [
              "provinsi    0\n",
              "februari    0\n",
              "agustus     0\n",
              "dtype: int64"
            ]
          },
          "execution_count": 18,
          "metadata": {},
          "output_type": "execute_result"
        }
      ],
      "source": [
        "df_2014.isna().sum()"
      ]
    },
    {
      "cell_type": "code",
      "execution_count": 19,
      "metadata": {},
      "outputs": [],
      "source": [
        "df_2014.replace('-', 0, inplace=True)"
      ]
    },
    {
      "cell_type": "code",
      "execution_count": 20,
      "metadata": {},
      "outputs": [],
      "source": [
        "df_2014[['februari', 'agustus']] = df_2014[['februari', 'agustus']].apply(conv_float)"
      ]
    },
    {
      "cell_type": "code",
      "execution_count": 21,
      "metadata": {},
      "outputs": [],
      "source": [
        "df_2014['avg-2014'] = df_2014[['februari', 'agustus']].mean(axis=1).round(2)"
      ]
    },
    {
      "cell_type": "code",
      "execution_count": 22,
      "metadata": {},
      "outputs": [],
      "source": [
        "df_2014.drop(columns=df_2014[['februari', 'agustus']], axis=0, inplace=True)"
      ]
    },
    {
      "cell_type": "code",
      "execution_count": 23,
      "metadata": {},
      "outputs": [
        {
          "data": {
            "text/html": [
              "<div>\n",
              "<style scoped>\n",
              "    .dataframe tbody tr th:only-of-type {\n",
              "        vertical-align: middle;\n",
              "    }\n",
              "\n",
              "    .dataframe tbody tr th {\n",
              "        vertical-align: top;\n",
              "    }\n",
              "\n",
              "    .dataframe thead th {\n",
              "        text-align: right;\n",
              "    }\n",
              "</style>\n",
              "<table border=\"1\" class=\"dataframe\">\n",
              "  <thead>\n",
              "    <tr style=\"text-align: right;\">\n",
              "      <th></th>\n",
              "      <th>provinsi</th>\n",
              "      <th>avg-2014</th>\n",
              "    </tr>\n",
              "  </thead>\n",
              "  <tbody>\n",
              "    <tr>\n",
              "      <th>0</th>\n",
              "      <td>ACEH</td>\n",
              "      <td>7.88</td>\n",
              "    </tr>\n",
              "    <tr>\n",
              "      <th>1</th>\n",
              "      <td>SUMATERA UTARA</td>\n",
              "      <td>6.09</td>\n",
              "    </tr>\n",
              "    <tr>\n",
              "      <th>2</th>\n",
              "      <td>SUMATERA BARAT</td>\n",
              "      <td>6.41</td>\n",
              "    </tr>\n",
              "    <tr>\n",
              "      <th>3</th>\n",
              "      <td>RIAU</td>\n",
              "      <td>5.78</td>\n",
              "    </tr>\n",
              "    <tr>\n",
              "      <th>4</th>\n",
              "      <td>JAMBI</td>\n",
              "      <td>3.79</td>\n",
              "    </tr>\n",
              "  </tbody>\n",
              "</table>\n",
              "</div>"
            ],
            "text/plain": [
              "         provinsi  avg-2014\n",
              "0            ACEH      7.88\n",
              "1  SUMATERA UTARA      6.09\n",
              "2  SUMATERA BARAT      6.41\n",
              "3            RIAU      5.78\n",
              "4           JAMBI      3.79"
            ]
          },
          "execution_count": 23,
          "metadata": {},
          "output_type": "execute_result"
        }
      ],
      "source": [
        "df_2014.head()"
      ]
    },
    {
      "cell_type": "markdown",
      "metadata": {
        "id": "EkBBMq-thHSW"
      },
      "source": [
        "## TPT - 2015"
      ]
    },
    {
      "cell_type": "code",
      "execution_count": 24,
      "metadata": {},
      "outputs": [
        {
          "name": "stdout",
          "output_type": "stream",
          "text": [
            "<class 'pandas.core.frame.DataFrame'>\n",
            "RangeIndex: 35 entries, 0 to 34\n",
            "Data columns (total 3 columns):\n",
            " #   Column                                         Non-Null Count  Dtype  \n",
            "---  ------                                         --------------  -----  \n",
            " 0   Provinsi                                       35 non-null     object \n",
            " 1   Tingkat Pengangguran Terbuka (TPT) - Februari  35 non-null     float64\n",
            " 2   Tingkat Pengangguran Terbuka (TPT) - Agustus   35 non-null     float64\n",
            "dtypes: float64(2), object(1)\n",
            "memory usage: 972.0+ bytes\n"
          ]
        }
      ],
      "source": [
        "df_2015.info()"
      ]
    },
    {
      "cell_type": "code",
      "execution_count": 25,
      "metadata": {
        "id": "eoYeObEThJkN"
      },
      "outputs": [],
      "source": [
        "df_2015 = df_2015.rename(columns={'Provinsi':'provinsi',  'Tingkat Pengangguran Terbuka (TPT) - Februari':'februari', 'Tingkat Pengangguran Terbuka (TPT) - Agustus':'agustus'})"
      ]
    },
    {
      "cell_type": "code",
      "execution_count": 26,
      "metadata": {
        "id": "aFTlm4LrhjLs"
      },
      "outputs": [],
      "source": [
        "df_2015.drop(df_2015.tail(1).index, inplace=True)"
      ]
    },
    {
      "cell_type": "code",
      "execution_count": 27,
      "metadata": {},
      "outputs": [],
      "source": [
        "df_2015['avg-2015'] = df_2015[['februari', 'agustus']].mean(axis=1).round(2)"
      ]
    },
    {
      "cell_type": "code",
      "execution_count": 28,
      "metadata": {},
      "outputs": [],
      "source": [
        "df_2015.drop(columns=df_2015[['februari', 'agustus']], axis=0, inplace=True)"
      ]
    },
    {
      "cell_type": "code",
      "execution_count": 29,
      "metadata": {},
      "outputs": [
        {
          "data": {
            "text/html": [
              "<div>\n",
              "<style scoped>\n",
              "    .dataframe tbody tr th:only-of-type {\n",
              "        vertical-align: middle;\n",
              "    }\n",
              "\n",
              "    .dataframe tbody tr th {\n",
              "        vertical-align: top;\n",
              "    }\n",
              "\n",
              "    .dataframe thead th {\n",
              "        text-align: right;\n",
              "    }\n",
              "</style>\n",
              "<table border=\"1\" class=\"dataframe\">\n",
              "  <thead>\n",
              "    <tr style=\"text-align: right;\">\n",
              "      <th></th>\n",
              "      <th>provinsi</th>\n",
              "      <th>avg-2015</th>\n",
              "    </tr>\n",
              "  </thead>\n",
              "  <tbody>\n",
              "    <tr>\n",
              "      <th>0</th>\n",
              "      <td>ACEH</td>\n",
              "      <td>8.83</td>\n",
              "    </tr>\n",
              "    <tr>\n",
              "      <th>1</th>\n",
              "      <td>SUMATERA UTARA</td>\n",
              "      <td>6.55</td>\n",
              "    </tr>\n",
              "    <tr>\n",
              "      <th>2</th>\n",
              "      <td>SUMATERA BARAT</td>\n",
              "      <td>6.44</td>\n",
              "    </tr>\n",
              "    <tr>\n",
              "      <th>3</th>\n",
              "      <td>RIAU</td>\n",
              "      <td>7.28</td>\n",
              "    </tr>\n",
              "    <tr>\n",
              "      <th>4</th>\n",
              "      <td>JAMBI</td>\n",
              "      <td>3.54</td>\n",
              "    </tr>\n",
              "  </tbody>\n",
              "</table>\n",
              "</div>"
            ],
            "text/plain": [
              "         provinsi  avg-2015\n",
              "0            ACEH      8.83\n",
              "1  SUMATERA UTARA      6.55\n",
              "2  SUMATERA BARAT      6.44\n",
              "3            RIAU      7.28\n",
              "4           JAMBI      3.54"
            ]
          },
          "execution_count": 29,
          "metadata": {},
          "output_type": "execute_result"
        }
      ],
      "source": [
        "df_2015.head()"
      ]
    },
    {
      "cell_type": "markdown",
      "metadata": {
        "id": "1iDcNErshuK7"
      },
      "source": [
        "## TPT - 2016"
      ]
    },
    {
      "cell_type": "code",
      "execution_count": 30,
      "metadata": {},
      "outputs": [
        {
          "name": "stdout",
          "output_type": "stream",
          "text": [
            "<class 'pandas.core.frame.DataFrame'>\n",
            "RangeIndex: 35 entries, 0 to 34\n",
            "Data columns (total 3 columns):\n",
            " #   Column                                         Non-Null Count  Dtype  \n",
            "---  ------                                         --------------  -----  \n",
            " 0   Provinsi                                       35 non-null     object \n",
            " 1   Tingkat Pengangguran Terbuka (TPT) - Februari  35 non-null     float64\n",
            " 2   Tingkat Pengangguran Terbuka (TPT) - Agustus   35 non-null     float64\n",
            "dtypes: float64(2), object(1)\n",
            "memory usage: 972.0+ bytes\n"
          ]
        }
      ],
      "source": [
        "df_2016.info()"
      ]
    },
    {
      "cell_type": "code",
      "execution_count": 31,
      "metadata": {
        "id": "zSGpMBmAhyNR"
      },
      "outputs": [],
      "source": [
        "df_2016 = df_2016.rename(columns={'Provinsi':'provinsi',  'Tingkat Pengangguran Terbuka (TPT) - Februari':'februari', 'Tingkat Pengangguran Terbuka (TPT) - Agustus':'agustus'})"
      ]
    },
    {
      "cell_type": "code",
      "execution_count": 32,
      "metadata": {
        "id": "hQwlnXVxiK3Z"
      },
      "outputs": [],
      "source": [
        "df_2016.drop(df_2016.tail(1).index, inplace=True)"
      ]
    },
    {
      "cell_type": "code",
      "execution_count": 33,
      "metadata": {},
      "outputs": [],
      "source": [
        "df_2016['avg-2016'] = df_2016[['februari', 'agustus']].mean(axis=1).round(2)"
      ]
    },
    {
      "cell_type": "code",
      "execution_count": 34,
      "metadata": {},
      "outputs": [],
      "source": [
        "df_2016.drop(columns=df_2016[['februari', 'agustus']], axis=0, inplace=True)"
      ]
    },
    {
      "cell_type": "code",
      "execution_count": 35,
      "metadata": {},
      "outputs": [
        {
          "data": {
            "text/html": [
              "<div>\n",
              "<style scoped>\n",
              "    .dataframe tbody tr th:only-of-type {\n",
              "        vertical-align: middle;\n",
              "    }\n",
              "\n",
              "    .dataframe tbody tr th {\n",
              "        vertical-align: top;\n",
              "    }\n",
              "\n",
              "    .dataframe thead th {\n",
              "        text-align: right;\n",
              "    }\n",
              "</style>\n",
              "<table border=\"1\" class=\"dataframe\">\n",
              "  <thead>\n",
              "    <tr style=\"text-align: right;\">\n",
              "      <th></th>\n",
              "      <th>provinsi</th>\n",
              "      <th>avg-2016</th>\n",
              "    </tr>\n",
              "  </thead>\n",
              "  <tbody>\n",
              "    <tr>\n",
              "      <th>0</th>\n",
              "      <td>ACEH</td>\n",
              "      <td>7.85</td>\n",
              "    </tr>\n",
              "    <tr>\n",
              "      <th>1</th>\n",
              "      <td>SUMATERA UTARA</td>\n",
              "      <td>6.16</td>\n",
              "    </tr>\n",
              "    <tr>\n",
              "      <th>2</th>\n",
              "      <td>SUMATERA BARAT</td>\n",
              "      <td>5.45</td>\n",
              "    </tr>\n",
              "    <tr>\n",
              "      <th>3</th>\n",
              "      <td>RIAU</td>\n",
              "      <td>6.68</td>\n",
              "    </tr>\n",
              "    <tr>\n",
              "      <th>4</th>\n",
              "      <td>JAMBI</td>\n",
              "      <td>4.33</td>\n",
              "    </tr>\n",
              "  </tbody>\n",
              "</table>\n",
              "</div>"
            ],
            "text/plain": [
              "         provinsi  avg-2016\n",
              "0            ACEH      7.85\n",
              "1  SUMATERA UTARA      6.16\n",
              "2  SUMATERA BARAT      5.45\n",
              "3            RIAU      6.68\n",
              "4           JAMBI      4.33"
            ]
          },
          "execution_count": 35,
          "metadata": {},
          "output_type": "execute_result"
        }
      ],
      "source": [
        "df_2016.head()"
      ]
    },
    {
      "cell_type": "markdown",
      "metadata": {
        "id": "aFK7tSS5ujGI"
      },
      "source": [
        "## TPT - 2017"
      ]
    },
    {
      "cell_type": "code",
      "execution_count": 36,
      "metadata": {},
      "outputs": [
        {
          "name": "stdout",
          "output_type": "stream",
          "text": [
            "<class 'pandas.core.frame.DataFrame'>\n",
            "RangeIndex: 35 entries, 0 to 34\n",
            "Data columns (total 5 columns):\n",
            " #   Column                                                Non-Null Count  Dtype  \n",
            "---  ------                                                --------------  -----  \n",
            " 0   Provinsi                                              35 non-null     object \n",
            " 1   Tingkat Pengangguran Terbuka (TPT) - Februari         35 non-null     float64\n",
            " 2   Tingkat Pengangguran Terbuka (TPT) - Agustus          35 non-null     float64\n",
            " 3   Tingkat Partisipasi Angkatan Kerja (TPAK) - Februari  35 non-null     float64\n",
            " 4   Tingkat Partisipasi Angkatan Kerja (TPAK) - Agustus   35 non-null     float64\n",
            "dtypes: float64(4), object(1)\n",
            "memory usage: 1.5+ KB\n"
          ]
        }
      ],
      "source": [
        "df_2017.info()"
      ]
    },
    {
      "cell_type": "code",
      "execution_count": 37,
      "metadata": {
        "id": "OeubLSMBsodX"
      },
      "outputs": [],
      "source": [
        "drop_cols = df_2017[['Tingkat Partisipasi Angkatan Kerja (TPAK) - Februari', 'Tingkat Partisipasi Angkatan Kerja (TPAK) - Agustus']]\n",
        "df_2017.drop(axis=1, columns=drop_cols, inplace=True)"
      ]
    },
    {
      "cell_type": "code",
      "execution_count": 38,
      "metadata": {
        "id": "l5v5zQrJsBmC"
      },
      "outputs": [],
      "source": [
        "df_2017 = df_2017.rename(columns={'Provinsi':'provinsi',  'Tingkat Pengangguran Terbuka (TPT) - Februari':'februari', 'Tingkat Pengangguran Terbuka (TPT) - Agustus':'agustus'})"
      ]
    },
    {
      "cell_type": "code",
      "execution_count": 39,
      "metadata": {
        "id": "6mlFp0aF4Bkh"
      },
      "outputs": [],
      "source": [
        "df_2017.drop(df_2017.tail(1).index, inplace=True)"
      ]
    },
    {
      "cell_type": "code",
      "execution_count": 40,
      "metadata": {},
      "outputs": [],
      "source": [
        "df_2017['avg-2017'] = df_2017[['februari', 'agustus']].mean(axis=1).round(2)"
      ]
    },
    {
      "cell_type": "code",
      "execution_count": 41,
      "metadata": {},
      "outputs": [],
      "source": [
        "df_2017.drop(columns=df_2017[['februari', 'agustus']], axis=0, inplace=True)"
      ]
    },
    {
      "cell_type": "code",
      "execution_count": 42,
      "metadata": {},
      "outputs": [
        {
          "data": {
            "text/html": [
              "<div>\n",
              "<style scoped>\n",
              "    .dataframe tbody tr th:only-of-type {\n",
              "        vertical-align: middle;\n",
              "    }\n",
              "\n",
              "    .dataframe tbody tr th {\n",
              "        vertical-align: top;\n",
              "    }\n",
              "\n",
              "    .dataframe thead th {\n",
              "        text-align: right;\n",
              "    }\n",
              "</style>\n",
              "<table border=\"1\" class=\"dataframe\">\n",
              "  <thead>\n",
              "    <tr style=\"text-align: right;\">\n",
              "      <th></th>\n",
              "      <th>provinsi</th>\n",
              "      <th>avg-2017</th>\n",
              "    </tr>\n",
              "  </thead>\n",
              "  <tbody>\n",
              "    <tr>\n",
              "      <th>0</th>\n",
              "      <td>Aceh</td>\n",
              "      <td>6.98</td>\n",
              "    </tr>\n",
              "    <tr>\n",
              "      <th>1</th>\n",
              "      <td>Sumatera Utara</td>\n",
              "      <td>6.00</td>\n",
              "    </tr>\n",
              "    <tr>\n",
              "      <th>2</th>\n",
              "      <td>Sumatera Barat</td>\n",
              "      <td>5.69</td>\n",
              "    </tr>\n",
              "    <tr>\n",
              "      <th>3</th>\n",
              "      <td>Riau</td>\n",
              "      <td>5.99</td>\n",
              "    </tr>\n",
              "    <tr>\n",
              "      <th>4</th>\n",
              "      <td>Jambi</td>\n",
              "      <td>3.77</td>\n",
              "    </tr>\n",
              "  </tbody>\n",
              "</table>\n",
              "</div>"
            ],
            "text/plain": [
              "         provinsi  avg-2017\n",
              "0            Aceh      6.98\n",
              "1  Sumatera Utara      6.00\n",
              "2  Sumatera Barat      5.69\n",
              "3            Riau      5.99\n",
              "4           Jambi      3.77"
            ]
          },
          "execution_count": 42,
          "metadata": {},
          "output_type": "execute_result"
        }
      ],
      "source": [
        "df_2017.head()"
      ]
    },
    {
      "cell_type": "code",
      "execution_count": 43,
      "metadata": {},
      "outputs": [
        {
          "data": {
            "text/html": [
              "<div>\n",
              "<style scoped>\n",
              "    .dataframe tbody tr th:only-of-type {\n",
              "        vertical-align: middle;\n",
              "    }\n",
              "\n",
              "    .dataframe tbody tr th {\n",
              "        vertical-align: top;\n",
              "    }\n",
              "\n",
              "    .dataframe thead th {\n",
              "        text-align: right;\n",
              "    }\n",
              "</style>\n",
              "<table border=\"1\" class=\"dataframe\">\n",
              "  <thead>\n",
              "    <tr style=\"text-align: right;\">\n",
              "      <th></th>\n",
              "      <th>provinsi</th>\n",
              "      <th>avg-2017</th>\n",
              "    </tr>\n",
              "  </thead>\n",
              "  <tbody>\n",
              "    <tr>\n",
              "      <th>0</th>\n",
              "      <td>ACEH</td>\n",
              "      <td>6.98</td>\n",
              "    </tr>\n",
              "    <tr>\n",
              "      <th>1</th>\n",
              "      <td>SUMATERA UTARA</td>\n",
              "      <td>6.00</td>\n",
              "    </tr>\n",
              "    <tr>\n",
              "      <th>2</th>\n",
              "      <td>SUMATERA BARAT</td>\n",
              "      <td>5.69</td>\n",
              "    </tr>\n",
              "    <tr>\n",
              "      <th>3</th>\n",
              "      <td>RIAU</td>\n",
              "      <td>5.99</td>\n",
              "    </tr>\n",
              "    <tr>\n",
              "      <th>4</th>\n",
              "      <td>JAMBI</td>\n",
              "      <td>3.77</td>\n",
              "    </tr>\n",
              "  </tbody>\n",
              "</table>\n",
              "</div>"
            ],
            "text/plain": [
              "         provinsi  avg-2017\n",
              "0            ACEH      6.98\n",
              "1  SUMATERA UTARA      6.00\n",
              "2  SUMATERA BARAT      5.69\n",
              "3            RIAU      5.99\n",
              "4           JAMBI      3.77"
            ]
          },
          "execution_count": 43,
          "metadata": {},
          "output_type": "execute_result"
        }
      ],
      "source": [
        "df_2017['provinsi'] = df_2017['provinsi'].str.upper()\n",
        "df_2017.head()"
      ]
    },
    {
      "cell_type": "markdown",
      "metadata": {
        "id": "VpV-9OrB4adH"
      },
      "source": [
        "## TPT - 2018"
      ]
    },
    {
      "cell_type": "code",
      "execution_count": 44,
      "metadata": {},
      "outputs": [
        {
          "name": "stdout",
          "output_type": "stream",
          "text": [
            "<class 'pandas.core.frame.DataFrame'>\n",
            "RangeIndex: 35 entries, 0 to 34\n",
            "Data columns (total 5 columns):\n",
            " #   Column                                                Non-Null Count  Dtype  \n",
            "---  ------                                                --------------  -----  \n",
            " 0   Provinsi                                              35 non-null     object \n",
            " 1   Tingkat Pengangguran Terbuka (TPT) - Februari         35 non-null     float64\n",
            " 2   Tingkat Pengangguran Terbuka (TPT) - Agustus          35 non-null     float64\n",
            " 3   Tingkat Partisipasi Angkatan Kerja (TPAK) - Februari  35 non-null     float64\n",
            " 4   Tingkat Partisipasi Angkatan Kerja (TPAK) - Agustus   35 non-null     float64\n",
            "dtypes: float64(4), object(1)\n",
            "memory usage: 1.5+ KB\n"
          ]
        }
      ],
      "source": [
        "df_2018.info()"
      ]
    },
    {
      "cell_type": "code",
      "execution_count": 45,
      "metadata": {
        "id": "bSzFM6hJ4eB-"
      },
      "outputs": [],
      "source": [
        "drop_cols = df_2018[['Tingkat Partisipasi Angkatan Kerja (TPAK) - Februari', 'Tingkat Partisipasi Angkatan Kerja (TPAK) - Agustus']]\n",
        "df_2018.drop(axis=1, columns=drop_cols, inplace=True)"
      ]
    },
    {
      "cell_type": "code",
      "execution_count": 46,
      "metadata": {
        "id": "TC5Wn9l-4xWv"
      },
      "outputs": [],
      "source": [
        "df_2018 = df_2018.rename(columns={'Provinsi':'provinsi',  'Tingkat Pengangguran Terbuka (TPT) - Februari':'februari', 'Tingkat Pengangguran Terbuka (TPT) - Agustus':'agustus'})"
      ]
    },
    {
      "cell_type": "code",
      "execution_count": 47,
      "metadata": {
        "id": "CT2ZhZlk5kwe"
      },
      "outputs": [],
      "source": [
        "df_2018.drop(df_2018.tail(1).index, inplace=True)"
      ]
    },
    {
      "cell_type": "code",
      "execution_count": 48,
      "metadata": {},
      "outputs": [],
      "source": [
        "df_2018['avg-2018'] = df_2018[['februari', 'agustus']].mean(axis=1).round(2)"
      ]
    },
    {
      "cell_type": "code",
      "execution_count": 49,
      "metadata": {},
      "outputs": [],
      "source": [
        "df_2018.drop(columns=df_2018[['februari', 'agustus']], axis=0, inplace=True)"
      ]
    },
    {
      "cell_type": "code",
      "execution_count": 50,
      "metadata": {},
      "outputs": [
        {
          "data": {
            "text/html": [
              "<div>\n",
              "<style scoped>\n",
              "    .dataframe tbody tr th:only-of-type {\n",
              "        vertical-align: middle;\n",
              "    }\n",
              "\n",
              "    .dataframe tbody tr th {\n",
              "        vertical-align: top;\n",
              "    }\n",
              "\n",
              "    .dataframe thead th {\n",
              "        text-align: right;\n",
              "    }\n",
              "</style>\n",
              "<table border=\"1\" class=\"dataframe\">\n",
              "  <thead>\n",
              "    <tr style=\"text-align: right;\">\n",
              "      <th></th>\n",
              "      <th>provinsi</th>\n",
              "      <th>avg-2018</th>\n",
              "    </tr>\n",
              "  </thead>\n",
              "  <tbody>\n",
              "    <tr>\n",
              "      <th>0</th>\n",
              "      <td>Aceh</td>\n",
              "      <td>6.44</td>\n",
              "    </tr>\n",
              "    <tr>\n",
              "      <th>1</th>\n",
              "      <td>Sumatera Utara</td>\n",
              "      <td>5.58</td>\n",
              "    </tr>\n",
              "    <tr>\n",
              "      <th>2</th>\n",
              "      <td>Sumatera Barat</td>\n",
              "      <td>5.67</td>\n",
              "    </tr>\n",
              "    <tr>\n",
              "      <th>3</th>\n",
              "      <td>Riau</td>\n",
              "      <td>5.76</td>\n",
              "    </tr>\n",
              "    <tr>\n",
              "      <th>4</th>\n",
              "      <td>Jambi</td>\n",
              "      <td>3.64</td>\n",
              "    </tr>\n",
              "  </tbody>\n",
              "</table>\n",
              "</div>"
            ],
            "text/plain": [
              "         provinsi  avg-2018\n",
              "0            Aceh      6.44\n",
              "1  Sumatera Utara      5.58\n",
              "2  Sumatera Barat      5.67\n",
              "3            Riau      5.76\n",
              "4           Jambi      3.64"
            ]
          },
          "execution_count": 50,
          "metadata": {},
          "output_type": "execute_result"
        }
      ],
      "source": [
        "df_2018.head()"
      ]
    },
    {
      "cell_type": "code",
      "execution_count": 51,
      "metadata": {},
      "outputs": [
        {
          "data": {
            "text/html": [
              "<div>\n",
              "<style scoped>\n",
              "    .dataframe tbody tr th:only-of-type {\n",
              "        vertical-align: middle;\n",
              "    }\n",
              "\n",
              "    .dataframe tbody tr th {\n",
              "        vertical-align: top;\n",
              "    }\n",
              "\n",
              "    .dataframe thead th {\n",
              "        text-align: right;\n",
              "    }\n",
              "</style>\n",
              "<table border=\"1\" class=\"dataframe\">\n",
              "  <thead>\n",
              "    <tr style=\"text-align: right;\">\n",
              "      <th></th>\n",
              "      <th>provinsi</th>\n",
              "      <th>avg-2018</th>\n",
              "    </tr>\n",
              "  </thead>\n",
              "  <tbody>\n",
              "    <tr>\n",
              "      <th>0</th>\n",
              "      <td>ACEH</td>\n",
              "      <td>6.44</td>\n",
              "    </tr>\n",
              "    <tr>\n",
              "      <th>1</th>\n",
              "      <td>SUMATERA UTARA</td>\n",
              "      <td>5.58</td>\n",
              "    </tr>\n",
              "    <tr>\n",
              "      <th>2</th>\n",
              "      <td>SUMATERA BARAT</td>\n",
              "      <td>5.67</td>\n",
              "    </tr>\n",
              "    <tr>\n",
              "      <th>3</th>\n",
              "      <td>RIAU</td>\n",
              "      <td>5.76</td>\n",
              "    </tr>\n",
              "    <tr>\n",
              "      <th>4</th>\n",
              "      <td>JAMBI</td>\n",
              "      <td>3.64</td>\n",
              "    </tr>\n",
              "  </tbody>\n",
              "</table>\n",
              "</div>"
            ],
            "text/plain": [
              "         provinsi  avg-2018\n",
              "0            ACEH      6.44\n",
              "1  SUMATERA UTARA      5.58\n",
              "2  SUMATERA BARAT      5.67\n",
              "3            RIAU      5.76\n",
              "4           JAMBI      3.64"
            ]
          },
          "execution_count": 51,
          "metadata": {},
          "output_type": "execute_result"
        }
      ],
      "source": [
        "df_2018['provinsi'] = df_2018['provinsi'].str.upper()\n",
        "df_2018.head()"
      ]
    },
    {
      "cell_type": "markdown",
      "metadata": {
        "id": "qSr4xiequyH7"
      },
      "source": [
        "## TPT - 2019"
      ]
    },
    {
      "cell_type": "code",
      "execution_count": 52,
      "metadata": {},
      "outputs": [
        {
          "name": "stdout",
          "output_type": "stream",
          "text": [
            "<class 'pandas.core.frame.DataFrame'>\n",
            "RangeIndex: 35 entries, 0 to 34\n",
            "Data columns (total 5 columns):\n",
            " #   Column                                                Non-Null Count  Dtype  \n",
            "---  ------                                                --------------  -----  \n",
            " 0   Provinsi                                              35 non-null     object \n",
            " 1   Tingkat Pengangguran Terbuka (TPT) - Februari         35 non-null     float64\n",
            " 2   Tingkat Pengangguran Terbuka (TPT) - Agustus          35 non-null     float64\n",
            " 3   Tingkat Partisipasi Angkatan Kerja (TPAK) - Februari  35 non-null     float64\n",
            " 4   Tingkat Partisipasi Angkatan Kerja (TPAK) - Agustus   35 non-null     float64\n",
            "dtypes: float64(4), object(1)\n",
            "memory usage: 1.5+ KB\n"
          ]
        }
      ],
      "source": [
        "df_2019.info()"
      ]
    },
    {
      "cell_type": "code",
      "execution_count": 53,
      "metadata": {
        "id": "TXfUj0Sju0HU"
      },
      "outputs": [],
      "source": [
        "drop_cols = df_2019[['Tingkat Partisipasi Angkatan Kerja (TPAK) - Februari', 'Tingkat Partisipasi Angkatan Kerja (TPAK) - Agustus']]\n",
        "df_2019.drop(axis=1, columns=drop_cols, inplace=True)"
      ]
    },
    {
      "cell_type": "code",
      "execution_count": 54,
      "metadata": {
        "id": "_5BH5GMgvDmp"
      },
      "outputs": [],
      "source": [
        "df_2019 = df_2019.rename(columns={'Provinsi':'provinsi',  'Tingkat Pengangguran Terbuka (TPT) - Februari':'februari', 'Tingkat Pengangguran Terbuka (TPT) - Agustus':'agustus'})"
      ]
    },
    {
      "cell_type": "code",
      "execution_count": 55,
      "metadata": {
        "id": "AcGJQUPg59Ez"
      },
      "outputs": [],
      "source": [
        "df_2019.drop(df_2019.tail(1).index, inplace=True)"
      ]
    },
    {
      "cell_type": "code",
      "execution_count": 56,
      "metadata": {},
      "outputs": [],
      "source": [
        "df_2019['avg-2019'] = df_2019[['februari', 'agustus']].mean(axis=1).round(2)"
      ]
    },
    {
      "cell_type": "code",
      "execution_count": 57,
      "metadata": {},
      "outputs": [],
      "source": [
        "df_2019.drop(columns=df_2019[['februari', 'agustus']], axis=0, inplace=True)"
      ]
    },
    {
      "cell_type": "code",
      "execution_count": 58,
      "metadata": {},
      "outputs": [
        {
          "data": {
            "text/html": [
              "<div>\n",
              "<style scoped>\n",
              "    .dataframe tbody tr th:only-of-type {\n",
              "        vertical-align: middle;\n",
              "    }\n",
              "\n",
              "    .dataframe tbody tr th {\n",
              "        vertical-align: top;\n",
              "    }\n",
              "\n",
              "    .dataframe thead th {\n",
              "        text-align: right;\n",
              "    }\n",
              "</style>\n",
              "<table border=\"1\" class=\"dataframe\">\n",
              "  <thead>\n",
              "    <tr style=\"text-align: right;\">\n",
              "      <th></th>\n",
              "      <th>provinsi</th>\n",
              "      <th>avg-2019</th>\n",
              "    </tr>\n",
              "  </thead>\n",
              "  <tbody>\n",
              "    <tr>\n",
              "      <th>0</th>\n",
              "      <td>Aceh</td>\n",
              "      <td>5.82</td>\n",
              "    </tr>\n",
              "    <tr>\n",
              "      <th>1</th>\n",
              "      <td>Sumatera Utara</td>\n",
              "      <td>5.48</td>\n",
              "    </tr>\n",
              "    <tr>\n",
              "      <th>2</th>\n",
              "      <td>Sumatera Barat</td>\n",
              "      <td>5.38</td>\n",
              "    </tr>\n",
              "    <tr>\n",
              "      <th>3</th>\n",
              "      <td>Riau</td>\n",
              "      <td>5.56</td>\n",
              "    </tr>\n",
              "    <tr>\n",
              "      <th>4</th>\n",
              "      <td>Jambi</td>\n",
              "      <td>3.79</td>\n",
              "    </tr>\n",
              "  </tbody>\n",
              "</table>\n",
              "</div>"
            ],
            "text/plain": [
              "         provinsi  avg-2019\n",
              "0            Aceh      5.82\n",
              "1  Sumatera Utara      5.48\n",
              "2  Sumatera Barat      5.38\n",
              "3            Riau      5.56\n",
              "4           Jambi      3.79"
            ]
          },
          "execution_count": 58,
          "metadata": {},
          "output_type": "execute_result"
        }
      ],
      "source": [
        "df_2019.head()"
      ]
    },
    {
      "cell_type": "code",
      "execution_count": 59,
      "metadata": {},
      "outputs": [
        {
          "data": {
            "text/html": [
              "<div>\n",
              "<style scoped>\n",
              "    .dataframe tbody tr th:only-of-type {\n",
              "        vertical-align: middle;\n",
              "    }\n",
              "\n",
              "    .dataframe tbody tr th {\n",
              "        vertical-align: top;\n",
              "    }\n",
              "\n",
              "    .dataframe thead th {\n",
              "        text-align: right;\n",
              "    }\n",
              "</style>\n",
              "<table border=\"1\" class=\"dataframe\">\n",
              "  <thead>\n",
              "    <tr style=\"text-align: right;\">\n",
              "      <th></th>\n",
              "      <th>provinsi</th>\n",
              "      <th>avg-2019</th>\n",
              "    </tr>\n",
              "  </thead>\n",
              "  <tbody>\n",
              "    <tr>\n",
              "      <th>0</th>\n",
              "      <td>ACEH</td>\n",
              "      <td>5.82</td>\n",
              "    </tr>\n",
              "    <tr>\n",
              "      <th>1</th>\n",
              "      <td>SUMATERA UTARA</td>\n",
              "      <td>5.48</td>\n",
              "    </tr>\n",
              "    <tr>\n",
              "      <th>2</th>\n",
              "      <td>SUMATERA BARAT</td>\n",
              "      <td>5.38</td>\n",
              "    </tr>\n",
              "    <tr>\n",
              "      <th>3</th>\n",
              "      <td>RIAU</td>\n",
              "      <td>5.56</td>\n",
              "    </tr>\n",
              "    <tr>\n",
              "      <th>4</th>\n",
              "      <td>JAMBI</td>\n",
              "      <td>3.79</td>\n",
              "    </tr>\n",
              "  </tbody>\n",
              "</table>\n",
              "</div>"
            ],
            "text/plain": [
              "         provinsi  avg-2019\n",
              "0            ACEH      5.82\n",
              "1  SUMATERA UTARA      5.48\n",
              "2  SUMATERA BARAT      5.38\n",
              "3            RIAU      5.56\n",
              "4           JAMBI      3.79"
            ]
          },
          "execution_count": 59,
          "metadata": {},
          "output_type": "execute_result"
        }
      ],
      "source": [
        "df_2019['provinsi'] = df_2019['provinsi'].str.upper()\n",
        "df_2019.head()"
      ]
    },
    {
      "cell_type": "markdown",
      "metadata": {
        "id": "DHCp21H2vTyc"
      },
      "source": [
        "## TPT - 2020"
      ]
    },
    {
      "cell_type": "code",
      "execution_count": 60,
      "metadata": {},
      "outputs": [
        {
          "name": "stdout",
          "output_type": "stream",
          "text": [
            "<class 'pandas.core.frame.DataFrame'>\n",
            "RangeIndex: 35 entries, 0 to 34\n",
            "Data columns (total 5 columns):\n",
            " #   Column                                                Non-Null Count  Dtype  \n",
            "---  ------                                                --------------  -----  \n",
            " 0   Provinsi                                              35 non-null     object \n",
            " 1   Tingkat Pengangguran Terbuka (TPT) - Februari         35 non-null     float64\n",
            " 2   Tingkat Pengangguran Terbuka (TPT) - Agustus          35 non-null     float64\n",
            " 3   Tingkat Partisipasi Angkatan Kerja (TPAK) - Februari  35 non-null     float64\n",
            " 4   Tingkat Partisipasi Angkatan Kerja (TPAK) - Agustus   35 non-null     float64\n",
            "dtypes: float64(4), object(1)\n",
            "memory usage: 1.5+ KB\n"
          ]
        }
      ],
      "source": [
        "df_2020.info()"
      ]
    },
    {
      "cell_type": "code",
      "execution_count": 61,
      "metadata": {
        "id": "LOFVpDwfvVSR"
      },
      "outputs": [],
      "source": [
        "drop_cols = df_2020[['Tingkat Partisipasi Angkatan Kerja (TPAK) - Februari', 'Tingkat Partisipasi Angkatan Kerja (TPAK) - Agustus']]\n",
        "df_2020.drop(axis=1, columns=drop_cols, inplace=True)"
      ]
    },
    {
      "cell_type": "code",
      "execution_count": 62,
      "metadata": {
        "id": "Cnt0l8DRvh1c"
      },
      "outputs": [],
      "source": [
        "df_2020 = df_2020.rename(columns={'Provinsi':'provinsi',  'Tingkat Pengangguran Terbuka (TPT) - Februari':'februari', 'Tingkat Pengangguran Terbuka (TPT) - Agustus':'agustus'})"
      ]
    },
    {
      "cell_type": "code",
      "execution_count": 63,
      "metadata": {
        "id": "M_-UXsRf6Bzo"
      },
      "outputs": [],
      "source": [
        "df_2020.drop(df_2020.tail(1).index, inplace=True)"
      ]
    },
    {
      "cell_type": "code",
      "execution_count": 64,
      "metadata": {},
      "outputs": [],
      "source": [
        "df_2020['avg-2020'] = df_2020[['februari', 'agustus']].mean(axis=1).round(2)"
      ]
    },
    {
      "cell_type": "code",
      "execution_count": 65,
      "metadata": {},
      "outputs": [],
      "source": [
        "df_2020.drop(columns=df_2020[['februari', 'agustus']], axis=0, inplace=True)"
      ]
    },
    {
      "cell_type": "code",
      "execution_count": 66,
      "metadata": {},
      "outputs": [
        {
          "data": {
            "text/html": [
              "<div>\n",
              "<style scoped>\n",
              "    .dataframe tbody tr th:only-of-type {\n",
              "        vertical-align: middle;\n",
              "    }\n",
              "\n",
              "    .dataframe tbody tr th {\n",
              "        vertical-align: top;\n",
              "    }\n",
              "\n",
              "    .dataframe thead th {\n",
              "        text-align: right;\n",
              "    }\n",
              "</style>\n",
              "<table border=\"1\" class=\"dataframe\">\n",
              "  <thead>\n",
              "    <tr style=\"text-align: right;\">\n",
              "      <th></th>\n",
              "      <th>provinsi</th>\n",
              "      <th>avg-2020</th>\n",
              "    </tr>\n",
              "  </thead>\n",
              "  <tbody>\n",
              "    <tr>\n",
              "      <th>0</th>\n",
              "      <td>Aceh</td>\n",
              "      <td>6.00</td>\n",
              "    </tr>\n",
              "    <tr>\n",
              "      <th>1</th>\n",
              "      <td>Sumatera Utara</td>\n",
              "      <td>5.81</td>\n",
              "    </tr>\n",
              "    <tr>\n",
              "      <th>2</th>\n",
              "      <td>Sumatera Barat</td>\n",
              "      <td>6.06</td>\n",
              "    </tr>\n",
              "    <tr>\n",
              "      <th>3</th>\n",
              "      <td>Riau</td>\n",
              "      <td>5.62</td>\n",
              "    </tr>\n",
              "    <tr>\n",
              "      <th>4</th>\n",
              "      <td>Jambi</td>\n",
              "      <td>4.70</td>\n",
              "    </tr>\n",
              "  </tbody>\n",
              "</table>\n",
              "</div>"
            ],
            "text/plain": [
              "         provinsi  avg-2020\n",
              "0            Aceh      6.00\n",
              "1  Sumatera Utara      5.81\n",
              "2  Sumatera Barat      6.06\n",
              "3            Riau      5.62\n",
              "4           Jambi      4.70"
            ]
          },
          "execution_count": 66,
          "metadata": {},
          "output_type": "execute_result"
        }
      ],
      "source": [
        "df_2020.head()"
      ]
    },
    {
      "cell_type": "code",
      "execution_count": 67,
      "metadata": {},
      "outputs": [
        {
          "data": {
            "text/html": [
              "<div>\n",
              "<style scoped>\n",
              "    .dataframe tbody tr th:only-of-type {\n",
              "        vertical-align: middle;\n",
              "    }\n",
              "\n",
              "    .dataframe tbody tr th {\n",
              "        vertical-align: top;\n",
              "    }\n",
              "\n",
              "    .dataframe thead th {\n",
              "        text-align: right;\n",
              "    }\n",
              "</style>\n",
              "<table border=\"1\" class=\"dataframe\">\n",
              "  <thead>\n",
              "    <tr style=\"text-align: right;\">\n",
              "      <th></th>\n",
              "      <th>provinsi</th>\n",
              "      <th>avg-2020</th>\n",
              "    </tr>\n",
              "  </thead>\n",
              "  <tbody>\n",
              "    <tr>\n",
              "      <th>0</th>\n",
              "      <td>ACEH</td>\n",
              "      <td>6.00</td>\n",
              "    </tr>\n",
              "    <tr>\n",
              "      <th>1</th>\n",
              "      <td>SUMATERA UTARA</td>\n",
              "      <td>5.81</td>\n",
              "    </tr>\n",
              "    <tr>\n",
              "      <th>2</th>\n",
              "      <td>SUMATERA BARAT</td>\n",
              "      <td>6.06</td>\n",
              "    </tr>\n",
              "    <tr>\n",
              "      <th>3</th>\n",
              "      <td>RIAU</td>\n",
              "      <td>5.62</td>\n",
              "    </tr>\n",
              "    <tr>\n",
              "      <th>4</th>\n",
              "      <td>JAMBI</td>\n",
              "      <td>4.70</td>\n",
              "    </tr>\n",
              "  </tbody>\n",
              "</table>\n",
              "</div>"
            ],
            "text/plain": [
              "         provinsi  avg-2020\n",
              "0            ACEH      6.00\n",
              "1  SUMATERA UTARA      5.81\n",
              "2  SUMATERA BARAT      6.06\n",
              "3            RIAU      5.62\n",
              "4           JAMBI      4.70"
            ]
          },
          "execution_count": 67,
          "metadata": {},
          "output_type": "execute_result"
        }
      ],
      "source": [
        "df_2020['provinsi'] = df_2020['provinsi'].str.upper()\n",
        "df_2020.head()"
      ]
    },
    {
      "cell_type": "markdown",
      "metadata": {
        "id": "szQxCiBNvyvP"
      },
      "source": [
        "## TPT - 2021"
      ]
    },
    {
      "cell_type": "code",
      "execution_count": 68,
      "metadata": {},
      "outputs": [
        {
          "name": "stdout",
          "output_type": "stream",
          "text": [
            "<class 'pandas.core.frame.DataFrame'>\n",
            "RangeIndex: 35 entries, 0 to 34\n",
            "Data columns (total 5 columns):\n",
            " #   Column                                                Non-Null Count  Dtype  \n",
            "---  ------                                                --------------  -----  \n",
            " 0   Provinsi                                              35 non-null     object \n",
            " 1   Tingkat Pengangguran Terbuka (TPT) - Februari         35 non-null     float64\n",
            " 2   Tingkat Pengangguran Terbuka (TPT) - Agustus          35 non-null     float64\n",
            " 3   Tingkat Partisipasi Angkatan Kerja (TPAK) - Februari  35 non-null     float64\n",
            " 4   Tingkat Partisipasi Angkatan Kerja (TPAK) - Agustus   35 non-null     float64\n",
            "dtypes: float64(4), object(1)\n",
            "memory usage: 1.5+ KB\n"
          ]
        }
      ],
      "source": [
        "df_2021.info()"
      ]
    },
    {
      "cell_type": "code",
      "execution_count": 69,
      "metadata": {
        "id": "kCVSxge9v1YA"
      },
      "outputs": [],
      "source": [
        "drop_cols = df_2021[['Tingkat Partisipasi Angkatan Kerja (TPAK) - Februari', 'Tingkat Partisipasi Angkatan Kerja (TPAK) - Agustus']]\n",
        "df_2021.drop(axis=1, columns=drop_cols, inplace=True)"
      ]
    },
    {
      "cell_type": "code",
      "execution_count": 70,
      "metadata": {
        "id": "3yd5ymjQv6Q8"
      },
      "outputs": [],
      "source": [
        "df_2021 = df_2021.rename(columns={'Provinsi':'provinsi',  'Tingkat Pengangguran Terbuka (TPT) - Februari':'februari', 'Tingkat Pengangguran Terbuka (TPT) - Agustus':'agustus'})"
      ]
    },
    {
      "cell_type": "code",
      "execution_count": 71,
      "metadata": {
        "id": "ZlekD9lm6FxB"
      },
      "outputs": [],
      "source": [
        "df_2021.drop(df_2021.tail(1).index, inplace=True)"
      ]
    },
    {
      "cell_type": "code",
      "execution_count": 72,
      "metadata": {},
      "outputs": [],
      "source": [
        "df_2021['avg-2021'] = df_2021[['februari', 'agustus']].mean(axis=1).round(2)"
      ]
    },
    {
      "cell_type": "code",
      "execution_count": 73,
      "metadata": {},
      "outputs": [],
      "source": [
        "df_2021.drop(columns=df_2021[['februari', 'agustus']], axis=0, inplace=True)"
      ]
    },
    {
      "cell_type": "code",
      "execution_count": 74,
      "metadata": {},
      "outputs": [
        {
          "data": {
            "text/html": [
              "<div>\n",
              "<style scoped>\n",
              "    .dataframe tbody tr th:only-of-type {\n",
              "        vertical-align: middle;\n",
              "    }\n",
              "\n",
              "    .dataframe tbody tr th {\n",
              "        vertical-align: top;\n",
              "    }\n",
              "\n",
              "    .dataframe thead th {\n",
              "        text-align: right;\n",
              "    }\n",
              "</style>\n",
              "<table border=\"1\" class=\"dataframe\">\n",
              "  <thead>\n",
              "    <tr style=\"text-align: right;\">\n",
              "      <th></th>\n",
              "      <th>provinsi</th>\n",
              "      <th>avg-2021</th>\n",
              "    </tr>\n",
              "  </thead>\n",
              "  <tbody>\n",
              "    <tr>\n",
              "      <th>0</th>\n",
              "      <td>Aceh</td>\n",
              "      <td>6.30</td>\n",
              "    </tr>\n",
              "    <tr>\n",
              "      <th>1</th>\n",
              "      <td>Sumatera Utara</td>\n",
              "      <td>6.17</td>\n",
              "    </tr>\n",
              "    <tr>\n",
              "      <th>2</th>\n",
              "      <td>Sumatera Barat</td>\n",
              "      <td>6.60</td>\n",
              "    </tr>\n",
              "    <tr>\n",
              "      <th>3</th>\n",
              "      <td>Riau</td>\n",
              "      <td>4.69</td>\n",
              "    </tr>\n",
              "    <tr>\n",
              "      <th>4</th>\n",
              "      <td>Jambi</td>\n",
              "      <td>4.92</td>\n",
              "    </tr>\n",
              "  </tbody>\n",
              "</table>\n",
              "</div>"
            ],
            "text/plain": [
              "         provinsi  avg-2021\n",
              "0            Aceh      6.30\n",
              "1  Sumatera Utara      6.17\n",
              "2  Sumatera Barat      6.60\n",
              "3            Riau      4.69\n",
              "4           Jambi      4.92"
            ]
          },
          "execution_count": 74,
          "metadata": {},
          "output_type": "execute_result"
        }
      ],
      "source": [
        "df_2021.head()"
      ]
    },
    {
      "cell_type": "code",
      "execution_count": 75,
      "metadata": {},
      "outputs": [
        {
          "data": {
            "text/html": [
              "<div>\n",
              "<style scoped>\n",
              "    .dataframe tbody tr th:only-of-type {\n",
              "        vertical-align: middle;\n",
              "    }\n",
              "\n",
              "    .dataframe tbody tr th {\n",
              "        vertical-align: top;\n",
              "    }\n",
              "\n",
              "    .dataframe thead th {\n",
              "        text-align: right;\n",
              "    }\n",
              "</style>\n",
              "<table border=\"1\" class=\"dataframe\">\n",
              "  <thead>\n",
              "    <tr style=\"text-align: right;\">\n",
              "      <th></th>\n",
              "      <th>provinsi</th>\n",
              "      <th>avg-2021</th>\n",
              "    </tr>\n",
              "  </thead>\n",
              "  <tbody>\n",
              "    <tr>\n",
              "      <th>0</th>\n",
              "      <td>ACEH</td>\n",
              "      <td>6.30</td>\n",
              "    </tr>\n",
              "    <tr>\n",
              "      <th>1</th>\n",
              "      <td>SUMATERA UTARA</td>\n",
              "      <td>6.17</td>\n",
              "    </tr>\n",
              "    <tr>\n",
              "      <th>2</th>\n",
              "      <td>SUMATERA BARAT</td>\n",
              "      <td>6.60</td>\n",
              "    </tr>\n",
              "    <tr>\n",
              "      <th>3</th>\n",
              "      <td>RIAU</td>\n",
              "      <td>4.69</td>\n",
              "    </tr>\n",
              "    <tr>\n",
              "      <th>4</th>\n",
              "      <td>JAMBI</td>\n",
              "      <td>4.92</td>\n",
              "    </tr>\n",
              "  </tbody>\n",
              "</table>\n",
              "</div>"
            ],
            "text/plain": [
              "         provinsi  avg-2021\n",
              "0            ACEH      6.30\n",
              "1  SUMATERA UTARA      6.17\n",
              "2  SUMATERA BARAT      6.60\n",
              "3            RIAU      4.69\n",
              "4           JAMBI      4.92"
            ]
          },
          "execution_count": 75,
          "metadata": {},
          "output_type": "execute_result"
        }
      ],
      "source": [
        "df_2021['provinsi'] = df_2021['provinsi'].str.upper()\n",
        "df_2021.head()"
      ]
    },
    {
      "cell_type": "markdown",
      "metadata": {
        "id": "rIFkWuKJwFIo"
      },
      "source": [
        "## TPT - 2022"
      ]
    },
    {
      "cell_type": "code",
      "execution_count": 76,
      "metadata": {},
      "outputs": [
        {
          "name": "stdout",
          "output_type": "stream",
          "text": [
            "<class 'pandas.core.frame.DataFrame'>\n",
            "RangeIndex: 35 entries, 0 to 34\n",
            "Data columns (total 5 columns):\n",
            " #   Column                                                Non-Null Count  Dtype  \n",
            "---  ------                                                --------------  -----  \n",
            " 0   Provinsi                                              35 non-null     object \n",
            " 1   Tingkat Pengangguran Terbuka (TPT) - Februari         35 non-null     float64\n",
            " 2   Tingkat Pengangguran Terbuka (TPT) - Agustus          35 non-null     float64\n",
            " 3   Tingkat Partisipasi Angkatan Kerja (TPAK) - Februari  35 non-null     float64\n",
            " 4   Tingkat Partisipasi Angkatan Kerja (TPAK) - Agustus   35 non-null     float64\n",
            "dtypes: float64(4), object(1)\n",
            "memory usage: 1.5+ KB\n"
          ]
        }
      ],
      "source": [
        "df_2022.info()"
      ]
    },
    {
      "cell_type": "code",
      "execution_count": 77,
      "metadata": {
        "id": "b1ZETqIawHv4"
      },
      "outputs": [],
      "source": [
        "drop_cols = df_2022[['Tingkat Partisipasi Angkatan Kerja (TPAK) - Februari', 'Tingkat Partisipasi Angkatan Kerja (TPAK) - Agustus']]\n",
        "df_2022.drop(axis=1, columns=drop_cols, inplace=True)"
      ]
    },
    {
      "cell_type": "code",
      "execution_count": 78,
      "metadata": {
        "id": "CVWrTjJfwNgY"
      },
      "outputs": [],
      "source": [
        "df_2022 = df_2022.rename(columns={'Provinsi':'provinsi',  'Tingkat Pengangguran Terbuka (TPT) - Februari':'februari', 'Tingkat Pengangguran Terbuka (TPT) - Agustus':'agustus'})"
      ]
    },
    {
      "cell_type": "code",
      "execution_count": 79,
      "metadata": {
        "id": "lUfHAB0u6JVI"
      },
      "outputs": [],
      "source": [
        "df_2022.drop(df_2022.tail(1).index, inplace=True)"
      ]
    },
    {
      "cell_type": "code",
      "execution_count": 80,
      "metadata": {},
      "outputs": [],
      "source": [
        "df_2022['avg-2022'] = df_2022[['februari', 'agustus']].mean(axis=1).round(2)"
      ]
    },
    {
      "cell_type": "code",
      "execution_count": 81,
      "metadata": {},
      "outputs": [],
      "source": [
        "df_2022.drop(columns=df_2022[['februari', 'agustus']], axis=0, inplace=True)"
      ]
    },
    {
      "cell_type": "code",
      "execution_count": 82,
      "metadata": {},
      "outputs": [
        {
          "data": {
            "text/html": [
              "<div>\n",
              "<style scoped>\n",
              "    .dataframe tbody tr th:only-of-type {\n",
              "        vertical-align: middle;\n",
              "    }\n",
              "\n",
              "    .dataframe tbody tr th {\n",
              "        vertical-align: top;\n",
              "    }\n",
              "\n",
              "    .dataframe thead th {\n",
              "        text-align: right;\n",
              "    }\n",
              "</style>\n",
              "<table border=\"1\" class=\"dataframe\">\n",
              "  <thead>\n",
              "    <tr style=\"text-align: right;\">\n",
              "      <th></th>\n",
              "      <th>provinsi</th>\n",
              "      <th>avg-2022</th>\n",
              "    </tr>\n",
              "  </thead>\n",
              "  <tbody>\n",
              "    <tr>\n",
              "      <th>0</th>\n",
              "      <td>Aceh</td>\n",
              "      <td>6.07</td>\n",
              "    </tr>\n",
              "    <tr>\n",
              "      <th>1</th>\n",
              "      <td>Sumatera Utara</td>\n",
              "      <td>5.82</td>\n",
              "    </tr>\n",
              "    <tr>\n",
              "      <th>2</th>\n",
              "      <td>Sumatera Barat</td>\n",
              "      <td>6.22</td>\n",
              "    </tr>\n",
              "    <tr>\n",
              "      <th>3</th>\n",
              "      <td>Riau</td>\n",
              "      <td>4.38</td>\n",
              "    </tr>\n",
              "    <tr>\n",
              "      <th>4</th>\n",
              "      <td>Jambi</td>\n",
              "      <td>4.64</td>\n",
              "    </tr>\n",
              "  </tbody>\n",
              "</table>\n",
              "</div>"
            ],
            "text/plain": [
              "         provinsi  avg-2022\n",
              "0            Aceh      6.07\n",
              "1  Sumatera Utara      5.82\n",
              "2  Sumatera Barat      6.22\n",
              "3            Riau      4.38\n",
              "4           Jambi      4.64"
            ]
          },
          "execution_count": 82,
          "metadata": {},
          "output_type": "execute_result"
        }
      ],
      "source": [
        "df_2022.head()"
      ]
    },
    {
      "cell_type": "code",
      "execution_count": 83,
      "metadata": {},
      "outputs": [
        {
          "data": {
            "text/html": [
              "<div>\n",
              "<style scoped>\n",
              "    .dataframe tbody tr th:only-of-type {\n",
              "        vertical-align: middle;\n",
              "    }\n",
              "\n",
              "    .dataframe tbody tr th {\n",
              "        vertical-align: top;\n",
              "    }\n",
              "\n",
              "    .dataframe thead th {\n",
              "        text-align: right;\n",
              "    }\n",
              "</style>\n",
              "<table border=\"1\" class=\"dataframe\">\n",
              "  <thead>\n",
              "    <tr style=\"text-align: right;\">\n",
              "      <th></th>\n",
              "      <th>provinsi</th>\n",
              "      <th>avg-2022</th>\n",
              "    </tr>\n",
              "  </thead>\n",
              "  <tbody>\n",
              "    <tr>\n",
              "      <th>0</th>\n",
              "      <td>ACEH</td>\n",
              "      <td>6.07</td>\n",
              "    </tr>\n",
              "    <tr>\n",
              "      <th>1</th>\n",
              "      <td>SUMATERA UTARA</td>\n",
              "      <td>5.82</td>\n",
              "    </tr>\n",
              "    <tr>\n",
              "      <th>2</th>\n",
              "      <td>SUMATERA BARAT</td>\n",
              "      <td>6.22</td>\n",
              "    </tr>\n",
              "    <tr>\n",
              "      <th>3</th>\n",
              "      <td>RIAU</td>\n",
              "      <td>4.38</td>\n",
              "    </tr>\n",
              "    <tr>\n",
              "      <th>4</th>\n",
              "      <td>JAMBI</td>\n",
              "      <td>4.64</td>\n",
              "    </tr>\n",
              "  </tbody>\n",
              "</table>\n",
              "</div>"
            ],
            "text/plain": [
              "         provinsi  avg-2022\n",
              "0            ACEH      6.07\n",
              "1  SUMATERA UTARA      5.82\n",
              "2  SUMATERA BARAT      6.22\n",
              "3            RIAU      4.38\n",
              "4           JAMBI      4.64"
            ]
          },
          "execution_count": 83,
          "metadata": {},
          "output_type": "execute_result"
        }
      ],
      "source": [
        "df_2022['provinsi'] = df_2022['provinsi'].str.upper()\n",
        "df_2022.head()"
      ]
    },
    {
      "cell_type": "markdown",
      "metadata": {
        "id": "8H1a3kDgwbag"
      },
      "source": [
        "## TPT - 2023"
      ]
    },
    {
      "cell_type": "code",
      "execution_count": 84,
      "metadata": {},
      "outputs": [
        {
          "name": "stdout",
          "output_type": "stream",
          "text": [
            "<class 'pandas.core.frame.DataFrame'>\n",
            "RangeIndex: 35 entries, 0 to 34\n",
            "Data columns (total 3 columns):\n",
            " #   Column                                         Non-Null Count  Dtype  \n",
            "---  ------                                         --------------  -----  \n",
            " 0   PROVINSI                                       35 non-null     object \n",
            " 1   Tingkat Pengangguran Terbuka (TPT) - Februari  35 non-null     float64\n",
            " 2   Tingkat Pengangguran Terbuka (TPT) - Agustus   35 non-null     float64\n",
            "dtypes: float64(2), object(1)\n",
            "memory usage: 972.0+ bytes\n"
          ]
        }
      ],
      "source": [
        "df_2023.info()"
      ]
    },
    {
      "cell_type": "code",
      "execution_count": 85,
      "metadata": {
        "id": "u7r7nrCZwfE3"
      },
      "outputs": [],
      "source": [
        "df_2023 = df_2023.rename(columns={'PROVINSI':'provinsi',  'Tingkat Pengangguran Terbuka (TPT) - Februari':'februari', 'Tingkat Pengangguran Terbuka (TPT) - Agustus':'agustus'})"
      ]
    },
    {
      "cell_type": "code",
      "execution_count": 86,
      "metadata": {
        "id": "GUgs7EoS6NhN"
      },
      "outputs": [],
      "source": [
        "df_2023.drop(df_2023.tail(1).index, inplace=True)"
      ]
    },
    {
      "cell_type": "code",
      "execution_count": 87,
      "metadata": {},
      "outputs": [],
      "source": [
        "df_2023['avg-2023'] = df_2023[['februari', 'agustus']].mean(axis=1).round(2)"
      ]
    },
    {
      "cell_type": "code",
      "execution_count": 88,
      "metadata": {},
      "outputs": [],
      "source": [
        "df_2023.drop(columns=df_2023[['februari', 'agustus']], axis=0, inplace=True)"
      ]
    },
    {
      "cell_type": "code",
      "execution_count": 89,
      "metadata": {},
      "outputs": [
        {
          "data": {
            "text/html": [
              "<div>\n",
              "<style scoped>\n",
              "    .dataframe tbody tr th:only-of-type {\n",
              "        vertical-align: middle;\n",
              "    }\n",
              "\n",
              "    .dataframe tbody tr th {\n",
              "        vertical-align: top;\n",
              "    }\n",
              "\n",
              "    .dataframe thead th {\n",
              "        text-align: right;\n",
              "    }\n",
              "</style>\n",
              "<table border=\"1\" class=\"dataframe\">\n",
              "  <thead>\n",
              "    <tr style=\"text-align: right;\">\n",
              "      <th></th>\n",
              "      <th>provinsi</th>\n",
              "      <th>avg-2023</th>\n",
              "    </tr>\n",
              "  </thead>\n",
              "  <tbody>\n",
              "    <tr>\n",
              "      <th>0</th>\n",
              "      <td>ACEH</td>\n",
              "      <td>5.89</td>\n",
              "    </tr>\n",
              "    <tr>\n",
              "      <th>1</th>\n",
              "      <td>SUMATERA UTARA</td>\n",
              "      <td>5.56</td>\n",
              "    </tr>\n",
              "    <tr>\n",
              "      <th>2</th>\n",
              "      <td>SUMATERA BARAT</td>\n",
              "      <td>5.92</td>\n",
              "    </tr>\n",
              "    <tr>\n",
              "      <th>3</th>\n",
              "      <td>RIAU</td>\n",
              "      <td>4.24</td>\n",
              "    </tr>\n",
              "    <tr>\n",
              "      <th>4</th>\n",
              "      <td>JAMBI</td>\n",
              "      <td>4.52</td>\n",
              "    </tr>\n",
              "  </tbody>\n",
              "</table>\n",
              "</div>"
            ],
            "text/plain": [
              "         provinsi  avg-2023\n",
              "0            ACEH      5.89\n",
              "1  SUMATERA UTARA      5.56\n",
              "2  SUMATERA BARAT      5.92\n",
              "3            RIAU      4.24\n",
              "4           JAMBI      4.52"
            ]
          },
          "execution_count": 89,
          "metadata": {},
          "output_type": "execute_result"
        }
      ],
      "source": [
        "df_2023.head()"
      ]
    },
    {
      "cell_type": "markdown",
      "metadata": {},
      "source": [
        "# Merging Data"
      ]
    },
    {
      "cell_type": "code",
      "execution_count": 90,
      "metadata": {},
      "outputs": [],
      "source": [
        "df = pd.merge(df_2013, df_2014, on= 'provinsi')\n",
        "df = df.merge(right=df_2015, on= 'provinsi')\n",
        "df = df.merge(right=df_2016, on= 'provinsi')\n",
        "df = df.merge(right=df_2017, on= 'provinsi')\n",
        "df = df.merge(right=df_2018, on= 'provinsi')\n",
        "df = df.merge(right=df_2019, on= 'provinsi')\n",
        "df = df.merge(right=df_2020, on= 'provinsi')\n",
        "df = df.merge(right=df_2021, on= 'provinsi')\n",
        "df = df.merge(right=df_2022, on= 'provinsi')\n",
        "df = df.merge(right=df_2023, on= 'provinsi')"
      ]
    },
    {
      "cell_type": "code",
      "execution_count": 91,
      "metadata": {},
      "outputs": [
        {
          "data": {
            "text/html": [
              "<div>\n",
              "<style scoped>\n",
              "    .dataframe tbody tr th:only-of-type {\n",
              "        vertical-align: middle;\n",
              "    }\n",
              "\n",
              "    .dataframe tbody tr th {\n",
              "        vertical-align: top;\n",
              "    }\n",
              "\n",
              "    .dataframe thead th {\n",
              "        text-align: right;\n",
              "    }\n",
              "</style>\n",
              "<table border=\"1\" class=\"dataframe\">\n",
              "  <thead>\n",
              "    <tr style=\"text-align: right;\">\n",
              "      <th></th>\n",
              "      <th>provinsi</th>\n",
              "      <th>avg-2013</th>\n",
              "      <th>avg-2014</th>\n",
              "      <th>avg-2015</th>\n",
              "      <th>avg-2016</th>\n",
              "      <th>avg-2017</th>\n",
              "      <th>avg-2018</th>\n",
              "      <th>avg-2019</th>\n",
              "      <th>avg-2020</th>\n",
              "      <th>avg-2021</th>\n",
              "      <th>avg-2022</th>\n",
              "      <th>avg-2023</th>\n",
              "    </tr>\n",
              "  </thead>\n",
              "  <tbody>\n",
              "    <tr>\n",
              "      <th>0</th>\n",
              "      <td>ACEH</td>\n",
              "      <td>9.23</td>\n",
              "      <td>7.88</td>\n",
              "      <td>8.83</td>\n",
              "      <td>7.85</td>\n",
              "      <td>6.98</td>\n",
              "      <td>6.44</td>\n",
              "      <td>5.82</td>\n",
              "      <td>6.00</td>\n",
              "      <td>6.30</td>\n",
              "      <td>6.07</td>\n",
              "      <td>5.89</td>\n",
              "    </tr>\n",
              "    <tr>\n",
              "      <th>1</th>\n",
              "      <td>SUMATERA UTARA</td>\n",
              "      <td>6.27</td>\n",
              "      <td>6.09</td>\n",
              "      <td>6.55</td>\n",
              "      <td>6.16</td>\n",
              "      <td>6.00</td>\n",
              "      <td>5.58</td>\n",
              "      <td>5.48</td>\n",
              "      <td>5.81</td>\n",
              "      <td>6.17</td>\n",
              "      <td>5.82</td>\n",
              "      <td>5.56</td>\n",
              "    </tr>\n",
              "    <tr>\n",
              "      <th>2</th>\n",
              "      <td>SUMATERA BARAT</td>\n",
              "      <td>6.70</td>\n",
              "      <td>6.41</td>\n",
              "      <td>6.44</td>\n",
              "      <td>5.45</td>\n",
              "      <td>5.69</td>\n",
              "      <td>5.67</td>\n",
              "      <td>5.38</td>\n",
              "      <td>6.06</td>\n",
              "      <td>6.60</td>\n",
              "      <td>6.22</td>\n",
              "      <td>5.92</td>\n",
              "    </tr>\n",
              "    <tr>\n",
              "      <th>3</th>\n",
              "      <td>KEPULAUAN RIAU</td>\n",
              "      <td>4.84</td>\n",
              "      <td>5.98</td>\n",
              "      <td>7.62</td>\n",
              "      <td>8.36</td>\n",
              "      <td>6.80</td>\n",
              "      <td>7.67</td>\n",
              "      <td>7.26</td>\n",
              "      <td>8.16</td>\n",
              "      <td>10.02</td>\n",
              "      <td>8.12</td>\n",
              "      <td>7.20</td>\n",
              "    </tr>\n",
              "    <tr>\n",
              "      <th>4</th>\n",
              "      <td>JAMBI</td>\n",
              "      <td>3.82</td>\n",
              "      <td>3.79</td>\n",
              "      <td>3.54</td>\n",
              "      <td>4.33</td>\n",
              "      <td>3.77</td>\n",
              "      <td>3.64</td>\n",
              "      <td>3.79</td>\n",
              "      <td>4.70</td>\n",
              "      <td>4.92</td>\n",
              "      <td>4.64</td>\n",
              "      <td>4.52</td>\n",
              "    </tr>\n",
              "    <tr>\n",
              "      <th>5</th>\n",
              "      <td>SUMATERA SELATAN</td>\n",
              "      <td>5.12</td>\n",
              "      <td>4.40</td>\n",
              "      <td>5.55</td>\n",
              "      <td>4.12</td>\n",
              "      <td>4.10</td>\n",
              "      <td>4.18</td>\n",
              "      <td>4.28</td>\n",
              "      <td>4.70</td>\n",
              "      <td>5.08</td>\n",
              "      <td>4.69</td>\n",
              "      <td>4.32</td>\n",
              "    </tr>\n",
              "    <tr>\n",
              "      <th>6</th>\n",
              "      <td>BENGKULU</td>\n",
              "      <td>3.36</td>\n",
              "      <td>2.54</td>\n",
              "      <td>4.06</td>\n",
              "      <td>3.57</td>\n",
              "      <td>3.28</td>\n",
              "      <td>2.99</td>\n",
              "      <td>2.84</td>\n",
              "      <td>3.58</td>\n",
              "      <td>3.68</td>\n",
              "      <td>3.49</td>\n",
              "      <td>3.32</td>\n",
              "    </tr>\n",
              "    <tr>\n",
              "      <th>7</th>\n",
              "      <td>LAMPUNG</td>\n",
              "      <td>5.38</td>\n",
              "      <td>4.94</td>\n",
              "      <td>4.29</td>\n",
              "      <td>4.58</td>\n",
              "      <td>4.38</td>\n",
              "      <td>4.18</td>\n",
              "      <td>3.99</td>\n",
              "      <td>4.46</td>\n",
              "      <td>4.62</td>\n",
              "      <td>4.41</td>\n",
              "      <td>4.20</td>\n",
              "    </tr>\n",
              "    <tr>\n",
              "      <th>8</th>\n",
              "      <td>KEPULAUAN BANGKA BELITUNG</td>\n",
              "      <td>3.44</td>\n",
              "      <td>3.90</td>\n",
              "      <td>4.82</td>\n",
              "      <td>4.38</td>\n",
              "      <td>4.12</td>\n",
              "      <td>3.60</td>\n",
              "      <td>3.45</td>\n",
              "      <td>4.30</td>\n",
              "      <td>5.04</td>\n",
              "      <td>4.47</td>\n",
              "      <td>4.22</td>\n",
              "    </tr>\n",
              "    <tr>\n",
              "      <th>9</th>\n",
              "      <td>RIAU</td>\n",
              "      <td>5.84</td>\n",
              "      <td>5.78</td>\n",
              "      <td>7.28</td>\n",
              "      <td>6.68</td>\n",
              "      <td>5.99</td>\n",
              "      <td>5.76</td>\n",
              "      <td>5.56</td>\n",
              "      <td>5.62</td>\n",
              "      <td>4.69</td>\n",
              "      <td>4.38</td>\n",
              "      <td>4.24</td>\n",
              "    </tr>\n",
              "    <tr>\n",
              "      <th>10</th>\n",
              "      <td>DKI JAKARTA</td>\n",
              "      <td>9.14</td>\n",
              "      <td>9.16</td>\n",
              "      <td>7.80</td>\n",
              "      <td>5.94</td>\n",
              "      <td>6.25</td>\n",
              "      <td>6.19</td>\n",
              "      <td>6.02</td>\n",
              "      <td>8.05</td>\n",
              "      <td>8.50</td>\n",
              "      <td>7.59</td>\n",
              "      <td>7.05</td>\n",
              "    </tr>\n",
              "    <tr>\n",
              "      <th>11</th>\n",
              "      <td>JAWA BARAT</td>\n",
              "      <td>9.02</td>\n",
              "      <td>8.56</td>\n",
              "      <td>8.56</td>\n",
              "      <td>8.73</td>\n",
              "      <td>8.36</td>\n",
              "      <td>8.23</td>\n",
              "      <td>7.91</td>\n",
              "      <td>9.09</td>\n",
              "      <td>9.37</td>\n",
              "      <td>8.33</td>\n",
              "      <td>7.66</td>\n",
              "    </tr>\n",
              "    <tr>\n",
              "      <th>12</th>\n",
              "      <td>JAWA TENGAH</td>\n",
              "      <td>5.77</td>\n",
              "      <td>5.56</td>\n",
              "      <td>5.15</td>\n",
              "      <td>4.42</td>\n",
              "      <td>4.36</td>\n",
              "      <td>4.33</td>\n",
              "      <td>4.32</td>\n",
              "      <td>5.34</td>\n",
              "      <td>5.96</td>\n",
              "      <td>5.66</td>\n",
              "      <td>5.18</td>\n",
              "    </tr>\n",
              "    <tr>\n",
              "      <th>13</th>\n",
              "      <td>DI YOGYAKARTA</td>\n",
              "      <td>3.50</td>\n",
              "      <td>2.74</td>\n",
              "      <td>4.07</td>\n",
              "      <td>2.76</td>\n",
              "      <td>2.93</td>\n",
              "      <td>3.18</td>\n",
              "      <td>3.04</td>\n",
              "      <td>3.98</td>\n",
              "      <td>4.42</td>\n",
              "      <td>3.89</td>\n",
              "      <td>3.64</td>\n",
              "    </tr>\n",
              "    <tr>\n",
              "      <th>14</th>\n",
              "      <td>JAWA TIMUR</td>\n",
              "      <td>4.14</td>\n",
              "      <td>4.11</td>\n",
              "      <td>4.39</td>\n",
              "      <td>4.18</td>\n",
              "      <td>4.05</td>\n",
              "      <td>3.84</td>\n",
              "      <td>3.80</td>\n",
              "      <td>4.72</td>\n",
              "      <td>5.46</td>\n",
              "      <td>5.15</td>\n",
              "      <td>4.61</td>\n",
              "    </tr>\n",
              "    <tr>\n",
              "      <th>15</th>\n",
              "      <td>BANTEN</td>\n",
              "      <td>9.65</td>\n",
              "      <td>9.47</td>\n",
              "      <td>9.07</td>\n",
              "      <td>8.44</td>\n",
              "      <td>8.52</td>\n",
              "      <td>8.10</td>\n",
              "      <td>7.83</td>\n",
              "      <td>9.32</td>\n",
              "      <td>9.00</td>\n",
              "      <td>8.31</td>\n",
              "      <td>7.74</td>\n",
              "    </tr>\n",
              "    <tr>\n",
              "      <th>16</th>\n",
              "      <td>BALI</td>\n",
              "      <td>1.88</td>\n",
              "      <td>1.64</td>\n",
              "      <td>1.68</td>\n",
              "      <td>2.00</td>\n",
              "      <td>1.38</td>\n",
              "      <td>1.14</td>\n",
              "      <td>1.40</td>\n",
              "      <td>3.44</td>\n",
              "      <td>5.40</td>\n",
              "      <td>4.82</td>\n",
              "      <td>3.21</td>\n",
              "    </tr>\n",
              "    <tr>\n",
              "      <th>17</th>\n",
              "      <td>NUSA TENGGARA BARAT</td>\n",
              "      <td>5.29</td>\n",
              "      <td>5.52</td>\n",
              "      <td>5.34</td>\n",
              "      <td>3.80</td>\n",
              "      <td>3.59</td>\n",
              "      <td>3.43</td>\n",
              "      <td>3.22</td>\n",
              "      <td>3.63</td>\n",
              "      <td>3.49</td>\n",
              "      <td>3.40</td>\n",
              "      <td>3.26</td>\n",
              "    </tr>\n",
              "    <tr>\n",
              "      <th>18</th>\n",
              "      <td>NUSA TENGGARA TIMUR</td>\n",
              "      <td>2.68</td>\n",
              "      <td>2.62</td>\n",
              "      <td>3.48</td>\n",
              "      <td>3.42</td>\n",
              "      <td>3.24</td>\n",
              "      <td>2.84</td>\n",
              "      <td>3.06</td>\n",
              "      <td>3.46</td>\n",
              "      <td>3.58</td>\n",
              "      <td>3.42</td>\n",
              "      <td>3.12</td>\n",
              "    </tr>\n",
              "    <tr>\n",
              "      <th>19</th>\n",
              "      <td>KALIMANTAN BARAT</td>\n",
              "      <td>3.56</td>\n",
              "      <td>3.28</td>\n",
              "      <td>4.96</td>\n",
              "      <td>4.40</td>\n",
              "      <td>4.29</td>\n",
              "      <td>4.14</td>\n",
              "      <td>4.20</td>\n",
              "      <td>5.14</td>\n",
              "      <td>5.78</td>\n",
              "      <td>4.99</td>\n",
              "      <td>4.78</td>\n",
              "    </tr>\n",
              "    <tr>\n",
              "      <th>20</th>\n",
              "      <td>KALIMANTAN TENGAH</td>\n",
              "      <td>2.41</td>\n",
              "      <td>2.98</td>\n",
              "      <td>3.84</td>\n",
              "      <td>4.24</td>\n",
              "      <td>3.68</td>\n",
              "      <td>3.53</td>\n",
              "      <td>3.62</td>\n",
              "      <td>3.96</td>\n",
              "      <td>4.39</td>\n",
              "      <td>4.23</td>\n",
              "      <td>3.97</td>\n",
              "    </tr>\n",
              "    <tr>\n",
              "      <th>21</th>\n",
              "      <td>KALIMANTAN SELATAN</td>\n",
              "      <td>3.77</td>\n",
              "      <td>3.92</td>\n",
              "      <td>4.88</td>\n",
              "      <td>4.54</td>\n",
              "      <td>4.15</td>\n",
              "      <td>4.04</td>\n",
              "      <td>3.80</td>\n",
              "      <td>4.20</td>\n",
              "      <td>4.64</td>\n",
              "      <td>4.47</td>\n",
              "      <td>4.13</td>\n",
              "    </tr>\n",
              "    <tr>\n",
              "      <th>22</th>\n",
              "      <td>KALIMANTAN TIMUR</td>\n",
              "      <td>8.44</td>\n",
              "      <td>8.14</td>\n",
              "      <td>7.34</td>\n",
              "      <td>8.40</td>\n",
              "      <td>7.73</td>\n",
              "      <td>6.60</td>\n",
              "      <td>6.30</td>\n",
              "      <td>6.80</td>\n",
              "      <td>6.82</td>\n",
              "      <td>6.24</td>\n",
              "      <td>5.84</td>\n",
              "    </tr>\n",
              "    <tr>\n",
              "      <th>23</th>\n",
              "      <td>KALIMANTAN UTARA</td>\n",
              "      <td>0.00</td>\n",
              "      <td>0.00</td>\n",
              "      <td>5.74</td>\n",
              "      <td>4.58</td>\n",
              "      <td>5.36</td>\n",
              "      <td>4.90</td>\n",
              "      <td>5.16</td>\n",
              "      <td>5.34</td>\n",
              "      <td>4.62</td>\n",
              "      <td>4.47</td>\n",
              "      <td>4.06</td>\n",
              "    </tr>\n",
              "    <tr>\n",
              "      <th>24</th>\n",
              "      <td>SULAWESI UTARA</td>\n",
              "      <td>7.14</td>\n",
              "      <td>7.40</td>\n",
              "      <td>8.86</td>\n",
              "      <td>7.00</td>\n",
              "      <td>6.65</td>\n",
              "      <td>6.24</td>\n",
              "      <td>5.59</td>\n",
              "      <td>6.36</td>\n",
              "      <td>7.17</td>\n",
              "      <td>6.56</td>\n",
              "      <td>6.14</td>\n",
              "    </tr>\n",
              "    <tr>\n",
              "      <th>25</th>\n",
              "      <td>SULAWESI TENGAH</td>\n",
              "      <td>3.43</td>\n",
              "      <td>3.30</td>\n",
              "      <td>3.54</td>\n",
              "      <td>3.38</td>\n",
              "      <td>3.39</td>\n",
              "      <td>3.24</td>\n",
              "      <td>3.28</td>\n",
              "      <td>3.35</td>\n",
              "      <td>3.74</td>\n",
              "      <td>3.34</td>\n",
              "      <td>3.22</td>\n",
              "    </tr>\n",
              "    <tr>\n",
              "      <th>26</th>\n",
              "      <td>SULAWESI SELATAN</td>\n",
              "      <td>5.49</td>\n",
              "      <td>5.44</td>\n",
              "      <td>5.88</td>\n",
              "      <td>4.96</td>\n",
              "      <td>5.19</td>\n",
              "      <td>4.99</td>\n",
              "      <td>4.86</td>\n",
              "      <td>6.00</td>\n",
              "      <td>5.76</td>\n",
              "      <td>5.13</td>\n",
              "      <td>4.80</td>\n",
              "    </tr>\n",
              "    <tr>\n",
              "      <th>27</th>\n",
              "      <td>SULAWESI TENGGARA</td>\n",
              "      <td>3.90</td>\n",
              "      <td>3.28</td>\n",
              "      <td>4.58</td>\n",
              "      <td>3.25</td>\n",
              "      <td>3.22</td>\n",
              "      <td>2.98</td>\n",
              "      <td>3.20</td>\n",
              "      <td>3.84</td>\n",
              "      <td>4.07</td>\n",
              "      <td>3.61</td>\n",
              "      <td>3.40</td>\n",
              "    </tr>\n",
              "    <tr>\n",
              "      <th>28</th>\n",
              "      <td>GORONTALO</td>\n",
              "      <td>4.33</td>\n",
              "      <td>3.31</td>\n",
              "      <td>3.86</td>\n",
              "      <td>3.32</td>\n",
              "      <td>3.96</td>\n",
              "      <td>3.54</td>\n",
              "      <td>3.50</td>\n",
              "      <td>3.78</td>\n",
              "      <td>3.21</td>\n",
              "      <td>2.92</td>\n",
              "      <td>3.06</td>\n",
              "    </tr>\n",
              "    <tr>\n",
              "      <th>29</th>\n",
              "      <td>SULAWESI BARAT</td>\n",
              "      <td>2.18</td>\n",
              "      <td>1.84</td>\n",
              "      <td>2.58</td>\n",
              "      <td>3.03</td>\n",
              "      <td>3.10</td>\n",
              "      <td>2.67</td>\n",
              "      <td>2.13</td>\n",
              "      <td>2.86</td>\n",
              "      <td>3.20</td>\n",
              "      <td>2.72</td>\n",
              "      <td>2.66</td>\n",
              "    </tr>\n",
              "    <tr>\n",
              "      <th>30</th>\n",
              "      <td>MALUKU</td>\n",
              "      <td>8.44</td>\n",
              "      <td>8.55</td>\n",
              "      <td>8.32</td>\n",
              "      <td>7.02</td>\n",
              "      <td>8.53</td>\n",
              "      <td>7.01</td>\n",
              "      <td>6.65</td>\n",
              "      <td>7.14</td>\n",
              "      <td>6.83</td>\n",
              "      <td>6.66</td>\n",
              "      <td>6.20</td>\n",
              "    </tr>\n",
              "    <tr>\n",
              "      <th>31</th>\n",
              "      <td>MALUKU UTARA</td>\n",
              "      <td>4.65</td>\n",
              "      <td>5.47</td>\n",
              "      <td>5.80</td>\n",
              "      <td>3.72</td>\n",
              "      <td>5.08</td>\n",
              "      <td>4.60</td>\n",
              "      <td>4.88</td>\n",
              "      <td>4.62</td>\n",
              "      <td>4.88</td>\n",
              "      <td>4.48</td>\n",
              "      <td>4.46</td>\n",
              "    </tr>\n",
              "    <tr>\n",
              "      <th>32</th>\n",
              "      <td>PAPUA BARAT</td>\n",
              "      <td>4.38</td>\n",
              "      <td>4.36</td>\n",
              "      <td>6.35</td>\n",
              "      <td>6.60</td>\n",
              "      <td>7.00</td>\n",
              "      <td>6.36</td>\n",
              "      <td>6.12</td>\n",
              "      <td>6.79</td>\n",
              "      <td>6.01</td>\n",
              "      <td>5.58</td>\n",
              "      <td>5.46</td>\n",
              "    </tr>\n",
              "    <tr>\n",
              "      <th>33</th>\n",
              "      <td>PAPUA</td>\n",
              "      <td>3.03</td>\n",
              "      <td>3.46</td>\n",
              "      <td>3.86</td>\n",
              "      <td>3.16</td>\n",
              "      <td>3.79</td>\n",
              "      <td>2.88</td>\n",
              "      <td>3.36</td>\n",
              "      <td>3.85</td>\n",
              "      <td>3.55</td>\n",
              "      <td>3.22</td>\n",
              "      <td>3.08</td>\n",
              "    </tr>\n",
              "  </tbody>\n",
              "</table>\n",
              "</div>"
            ],
            "text/plain": [
              "                     provinsi  avg-2013  avg-2014  avg-2015  avg-2016  \\\n",
              "0                        ACEH      9.23      7.88      8.83      7.85   \n",
              "1              SUMATERA UTARA      6.27      6.09      6.55      6.16   \n",
              "2              SUMATERA BARAT      6.70      6.41      6.44      5.45   \n",
              "3              KEPULAUAN RIAU      4.84      5.98      7.62      8.36   \n",
              "4                       JAMBI      3.82      3.79      3.54      4.33   \n",
              "5            SUMATERA SELATAN      5.12      4.40      5.55      4.12   \n",
              "6                    BENGKULU      3.36      2.54      4.06      3.57   \n",
              "7                     LAMPUNG      5.38      4.94      4.29      4.58   \n",
              "8   KEPULAUAN BANGKA BELITUNG      3.44      3.90      4.82      4.38   \n",
              "9                        RIAU      5.84      5.78      7.28      6.68   \n",
              "10                DKI JAKARTA      9.14      9.16      7.80      5.94   \n",
              "11                 JAWA BARAT      9.02      8.56      8.56      8.73   \n",
              "12                JAWA TENGAH      5.77      5.56      5.15      4.42   \n",
              "13              DI YOGYAKARTA      3.50      2.74      4.07      2.76   \n",
              "14                 JAWA TIMUR      4.14      4.11      4.39      4.18   \n",
              "15                     BANTEN      9.65      9.47      9.07      8.44   \n",
              "16                       BALI      1.88      1.64      1.68      2.00   \n",
              "17        NUSA TENGGARA BARAT      5.29      5.52      5.34      3.80   \n",
              "18        NUSA TENGGARA TIMUR      2.68      2.62      3.48      3.42   \n",
              "19           KALIMANTAN BARAT      3.56      3.28      4.96      4.40   \n",
              "20          KALIMANTAN TENGAH      2.41      2.98      3.84      4.24   \n",
              "21         KALIMANTAN SELATAN      3.77      3.92      4.88      4.54   \n",
              "22           KALIMANTAN TIMUR      8.44      8.14      7.34      8.40   \n",
              "23           KALIMANTAN UTARA      0.00      0.00      5.74      4.58   \n",
              "24             SULAWESI UTARA      7.14      7.40      8.86      7.00   \n",
              "25            SULAWESI TENGAH      3.43      3.30      3.54      3.38   \n",
              "26           SULAWESI SELATAN      5.49      5.44      5.88      4.96   \n",
              "27          SULAWESI TENGGARA      3.90      3.28      4.58      3.25   \n",
              "28                  GORONTALO      4.33      3.31      3.86      3.32   \n",
              "29             SULAWESI BARAT      2.18      1.84      2.58      3.03   \n",
              "30                     MALUKU      8.44      8.55      8.32      7.02   \n",
              "31               MALUKU UTARA      4.65      5.47      5.80      3.72   \n",
              "32                PAPUA BARAT      4.38      4.36      6.35      6.60   \n",
              "33                      PAPUA      3.03      3.46      3.86      3.16   \n",
              "\n",
              "    avg-2017  avg-2018  avg-2019  avg-2020  avg-2021  avg-2022  avg-2023  \n",
              "0       6.98      6.44      5.82      6.00      6.30      6.07      5.89  \n",
              "1       6.00      5.58      5.48      5.81      6.17      5.82      5.56  \n",
              "2       5.69      5.67      5.38      6.06      6.60      6.22      5.92  \n",
              "3       6.80      7.67      7.26      8.16     10.02      8.12      7.20  \n",
              "4       3.77      3.64      3.79      4.70      4.92      4.64      4.52  \n",
              "5       4.10      4.18      4.28      4.70      5.08      4.69      4.32  \n",
              "6       3.28      2.99      2.84      3.58      3.68      3.49      3.32  \n",
              "7       4.38      4.18      3.99      4.46      4.62      4.41      4.20  \n",
              "8       4.12      3.60      3.45      4.30      5.04      4.47      4.22  \n",
              "9       5.99      5.76      5.56      5.62      4.69      4.38      4.24  \n",
              "10      6.25      6.19      6.02      8.05      8.50      7.59      7.05  \n",
              "11      8.36      8.23      7.91      9.09      9.37      8.33      7.66  \n",
              "12      4.36      4.33      4.32      5.34      5.96      5.66      5.18  \n",
              "13      2.93      3.18      3.04      3.98      4.42      3.89      3.64  \n",
              "14      4.05      3.84      3.80      4.72      5.46      5.15      4.61  \n",
              "15      8.52      8.10      7.83      9.32      9.00      8.31      7.74  \n",
              "16      1.38      1.14      1.40      3.44      5.40      4.82      3.21  \n",
              "17      3.59      3.43      3.22      3.63      3.49      3.40      3.26  \n",
              "18      3.24      2.84      3.06      3.46      3.58      3.42      3.12  \n",
              "19      4.29      4.14      4.20      5.14      5.78      4.99      4.78  \n",
              "20      3.68      3.53      3.62      3.96      4.39      4.23      3.97  \n",
              "21      4.15      4.04      3.80      4.20      4.64      4.47      4.13  \n",
              "22      7.73      6.60      6.30      6.80      6.82      6.24      5.84  \n",
              "23      5.36      4.90      5.16      5.34      4.62      4.47      4.06  \n",
              "24      6.65      6.24      5.59      6.36      7.17      6.56      6.14  \n",
              "25      3.39      3.24      3.28      3.35      3.74      3.34      3.22  \n",
              "26      5.19      4.99      4.86      6.00      5.76      5.13      4.80  \n",
              "27      3.22      2.98      3.20      3.84      4.07      3.61      3.40  \n",
              "28      3.96      3.54      3.50      3.78      3.21      2.92      3.06  \n",
              "29      3.10      2.67      2.13      2.86      3.20      2.72      2.66  \n",
              "30      8.53      7.01      6.65      7.14      6.83      6.66      6.20  \n",
              "31      5.08      4.60      4.88      4.62      4.88      4.48      4.46  \n",
              "32      7.00      6.36      6.12      6.79      6.01      5.58      5.46  \n",
              "33      3.79      2.88      3.36      3.85      3.55      3.22      3.08  "
            ]
          },
          "execution_count": 91,
          "metadata": {},
          "output_type": "execute_result"
        }
      ],
      "source": [
        "df.tail(40)"
      ]
    },
    {
      "cell_type": "code",
      "execution_count": 92,
      "metadata": {},
      "outputs": [],
      "source": [
        "cols_avg = df.drop(['provinsi'], axis=1)\n",
        "df['avg-total'] = cols_avg.mean(axis=1).round(2)"
      ]
    },
    {
      "cell_type": "code",
      "execution_count": 93,
      "metadata": {},
      "outputs": [],
      "source": [
        "df.drop(columns= cols_avg, axis=1, inplace=True)"
      ]
    },
    {
      "cell_type": "code",
      "execution_count": 94,
      "metadata": {},
      "outputs": [
        {
          "data": {
            "text/html": [
              "<div>\n",
              "<style scoped>\n",
              "    .dataframe tbody tr th:only-of-type {\n",
              "        vertical-align: middle;\n",
              "    }\n",
              "\n",
              "    .dataframe tbody tr th {\n",
              "        vertical-align: top;\n",
              "    }\n",
              "\n",
              "    .dataframe thead th {\n",
              "        text-align: right;\n",
              "    }\n",
              "</style>\n",
              "<table border=\"1\" class=\"dataframe\">\n",
              "  <thead>\n",
              "    <tr style=\"text-align: right;\">\n",
              "      <th></th>\n",
              "      <th>provinsi</th>\n",
              "      <th>avg-total</th>\n",
              "    </tr>\n",
              "  </thead>\n",
              "  <tbody>\n",
              "    <tr>\n",
              "      <th>0</th>\n",
              "      <td>ACEH</td>\n",
              "      <td>7.03</td>\n",
              "    </tr>\n",
              "    <tr>\n",
              "      <th>1</th>\n",
              "      <td>SUMATERA UTARA</td>\n",
              "      <td>5.95</td>\n",
              "    </tr>\n",
              "    <tr>\n",
              "      <th>2</th>\n",
              "      <td>SUMATERA BARAT</td>\n",
              "      <td>6.05</td>\n",
              "    </tr>\n",
              "    <tr>\n",
              "      <th>3</th>\n",
              "      <td>KEPULAUAN RIAU</td>\n",
              "      <td>7.46</td>\n",
              "    </tr>\n",
              "    <tr>\n",
              "      <th>4</th>\n",
              "      <td>JAMBI</td>\n",
              "      <td>4.13</td>\n",
              "    </tr>\n",
              "  </tbody>\n",
              "</table>\n",
              "</div>"
            ],
            "text/plain": [
              "         provinsi  avg-total\n",
              "0            ACEH       7.03\n",
              "1  SUMATERA UTARA       5.95\n",
              "2  SUMATERA BARAT       6.05\n",
              "3  KEPULAUAN RIAU       7.46\n",
              "4           JAMBI       4.13"
            ]
          },
          "execution_count": 94,
          "metadata": {},
          "output_type": "execute_result"
        }
      ],
      "source": [
        "df.head()"
      ]
    },
    {
      "cell_type": "markdown",
      "metadata": {},
      "source": [
        "# Modelling"
      ]
    },
    {
      "cell_type": "markdown",
      "metadata": {},
      "source": [
        "## Elbow Method for Optimal K"
      ]
    },
    {
      "cell_type": "code",
      "execution_count": 95,
      "metadata": {},
      "outputs": [
        {
          "data": {
            "application/vnd.plotly.v1+json": {
              "config": {
                "plotlyServerURL": "https://plot.ly"
              },
              "data": [
                {
                  "mode": "lines+markers",
                  "type": "scatter",
                  "x": [
                    1,
                    2,
                    3,
                    4,
                    5,
                    6,
                    7,
                    8,
                    9,
                    10
                  ],
                  "y": [
                    2.5306435612048936,
                    0.5858248395529958,
                    0.2962539036332888,
                    0.15816085139718547,
                    0.1390758124754639,
                    0.06238523308823792,
                    0.030904726663766577,
                    0.020803823736414564,
                    0.013560599228285383,
                    0.011123570718699072
                  ]
                }
              ],
              "layout": {
                "height": 500,
                "showlegend": true,
                "template": {
                  "data": {
                    "bar": [
                      {
                        "error_x": {
                          "color": "#2a3f5f"
                        },
                        "error_y": {
                          "color": "#2a3f5f"
                        },
                        "marker": {
                          "line": {
                            "color": "#E5ECF6",
                            "width": 0.5
                          },
                          "pattern": {
                            "fillmode": "overlay",
                            "size": 10,
                            "solidity": 0.2
                          }
                        },
                        "type": "bar"
                      }
                    ],
                    "barpolar": [
                      {
                        "marker": {
                          "line": {
                            "color": "#E5ECF6",
                            "width": 0.5
                          },
                          "pattern": {
                            "fillmode": "overlay",
                            "size": 10,
                            "solidity": 0.2
                          }
                        },
                        "type": "barpolar"
                      }
                    ],
                    "carpet": [
                      {
                        "aaxis": {
                          "endlinecolor": "#2a3f5f",
                          "gridcolor": "white",
                          "linecolor": "white",
                          "minorgridcolor": "white",
                          "startlinecolor": "#2a3f5f"
                        },
                        "baxis": {
                          "endlinecolor": "#2a3f5f",
                          "gridcolor": "white",
                          "linecolor": "white",
                          "minorgridcolor": "white",
                          "startlinecolor": "#2a3f5f"
                        },
                        "type": "carpet"
                      }
                    ],
                    "choropleth": [
                      {
                        "colorbar": {
                          "outlinewidth": 0,
                          "ticks": ""
                        },
                        "type": "choropleth"
                      }
                    ],
                    "contour": [
                      {
                        "colorbar": {
                          "outlinewidth": 0,
                          "ticks": ""
                        },
                        "colorscale": [
                          [
                            0,
                            "#0d0887"
                          ],
                          [
                            0.1111111111111111,
                            "#46039f"
                          ],
                          [
                            0.2222222222222222,
                            "#7201a8"
                          ],
                          [
                            0.3333333333333333,
                            "#9c179e"
                          ],
                          [
                            0.4444444444444444,
                            "#bd3786"
                          ],
                          [
                            0.5555555555555556,
                            "#d8576b"
                          ],
                          [
                            0.6666666666666666,
                            "#ed7953"
                          ],
                          [
                            0.7777777777777778,
                            "#fb9f3a"
                          ],
                          [
                            0.8888888888888888,
                            "#fdca26"
                          ],
                          [
                            1,
                            "#f0f921"
                          ]
                        ],
                        "type": "contour"
                      }
                    ],
                    "contourcarpet": [
                      {
                        "colorbar": {
                          "outlinewidth": 0,
                          "ticks": ""
                        },
                        "type": "contourcarpet"
                      }
                    ],
                    "heatmap": [
                      {
                        "colorbar": {
                          "outlinewidth": 0,
                          "ticks": ""
                        },
                        "colorscale": [
                          [
                            0,
                            "#0d0887"
                          ],
                          [
                            0.1111111111111111,
                            "#46039f"
                          ],
                          [
                            0.2222222222222222,
                            "#7201a8"
                          ],
                          [
                            0.3333333333333333,
                            "#9c179e"
                          ],
                          [
                            0.4444444444444444,
                            "#bd3786"
                          ],
                          [
                            0.5555555555555556,
                            "#d8576b"
                          ],
                          [
                            0.6666666666666666,
                            "#ed7953"
                          ],
                          [
                            0.7777777777777778,
                            "#fb9f3a"
                          ],
                          [
                            0.8888888888888888,
                            "#fdca26"
                          ],
                          [
                            1,
                            "#f0f921"
                          ]
                        ],
                        "type": "heatmap"
                      }
                    ],
                    "heatmapgl": [
                      {
                        "colorbar": {
                          "outlinewidth": 0,
                          "ticks": ""
                        },
                        "colorscale": [
                          [
                            0,
                            "#0d0887"
                          ],
                          [
                            0.1111111111111111,
                            "#46039f"
                          ],
                          [
                            0.2222222222222222,
                            "#7201a8"
                          ],
                          [
                            0.3333333333333333,
                            "#9c179e"
                          ],
                          [
                            0.4444444444444444,
                            "#bd3786"
                          ],
                          [
                            0.5555555555555556,
                            "#d8576b"
                          ],
                          [
                            0.6666666666666666,
                            "#ed7953"
                          ],
                          [
                            0.7777777777777778,
                            "#fb9f3a"
                          ],
                          [
                            0.8888888888888888,
                            "#fdca26"
                          ],
                          [
                            1,
                            "#f0f921"
                          ]
                        ],
                        "type": "heatmapgl"
                      }
                    ],
                    "histogram": [
                      {
                        "marker": {
                          "pattern": {
                            "fillmode": "overlay",
                            "size": 10,
                            "solidity": 0.2
                          }
                        },
                        "type": "histogram"
                      }
                    ],
                    "histogram2d": [
                      {
                        "colorbar": {
                          "outlinewidth": 0,
                          "ticks": ""
                        },
                        "colorscale": [
                          [
                            0,
                            "#0d0887"
                          ],
                          [
                            0.1111111111111111,
                            "#46039f"
                          ],
                          [
                            0.2222222222222222,
                            "#7201a8"
                          ],
                          [
                            0.3333333333333333,
                            "#9c179e"
                          ],
                          [
                            0.4444444444444444,
                            "#bd3786"
                          ],
                          [
                            0.5555555555555556,
                            "#d8576b"
                          ],
                          [
                            0.6666666666666666,
                            "#ed7953"
                          ],
                          [
                            0.7777777777777778,
                            "#fb9f3a"
                          ],
                          [
                            0.8888888888888888,
                            "#fdca26"
                          ],
                          [
                            1,
                            "#f0f921"
                          ]
                        ],
                        "type": "histogram2d"
                      }
                    ],
                    "histogram2dcontour": [
                      {
                        "colorbar": {
                          "outlinewidth": 0,
                          "ticks": ""
                        },
                        "colorscale": [
                          [
                            0,
                            "#0d0887"
                          ],
                          [
                            0.1111111111111111,
                            "#46039f"
                          ],
                          [
                            0.2222222222222222,
                            "#7201a8"
                          ],
                          [
                            0.3333333333333333,
                            "#9c179e"
                          ],
                          [
                            0.4444444444444444,
                            "#bd3786"
                          ],
                          [
                            0.5555555555555556,
                            "#d8576b"
                          ],
                          [
                            0.6666666666666666,
                            "#ed7953"
                          ],
                          [
                            0.7777777777777778,
                            "#fb9f3a"
                          ],
                          [
                            0.8888888888888888,
                            "#fdca26"
                          ],
                          [
                            1,
                            "#f0f921"
                          ]
                        ],
                        "type": "histogram2dcontour"
                      }
                    ],
                    "mesh3d": [
                      {
                        "colorbar": {
                          "outlinewidth": 0,
                          "ticks": ""
                        },
                        "type": "mesh3d"
                      }
                    ],
                    "parcoords": [
                      {
                        "line": {
                          "colorbar": {
                            "outlinewidth": 0,
                            "ticks": ""
                          }
                        },
                        "type": "parcoords"
                      }
                    ],
                    "pie": [
                      {
                        "automargin": true,
                        "type": "pie"
                      }
                    ],
                    "scatter": [
                      {
                        "fillpattern": {
                          "fillmode": "overlay",
                          "size": 10,
                          "solidity": 0.2
                        },
                        "type": "scatter"
                      }
                    ],
                    "scatter3d": [
                      {
                        "line": {
                          "colorbar": {
                            "outlinewidth": 0,
                            "ticks": ""
                          }
                        },
                        "marker": {
                          "colorbar": {
                            "outlinewidth": 0,
                            "ticks": ""
                          }
                        },
                        "type": "scatter3d"
                      }
                    ],
                    "scattercarpet": [
                      {
                        "marker": {
                          "colorbar": {
                            "outlinewidth": 0,
                            "ticks": ""
                          }
                        },
                        "type": "scattercarpet"
                      }
                    ],
                    "scattergeo": [
                      {
                        "marker": {
                          "colorbar": {
                            "outlinewidth": 0,
                            "ticks": ""
                          }
                        },
                        "type": "scattergeo"
                      }
                    ],
                    "scattergl": [
                      {
                        "marker": {
                          "colorbar": {
                            "outlinewidth": 0,
                            "ticks": ""
                          }
                        },
                        "type": "scattergl"
                      }
                    ],
                    "scattermapbox": [
                      {
                        "marker": {
                          "colorbar": {
                            "outlinewidth": 0,
                            "ticks": ""
                          }
                        },
                        "type": "scattermapbox"
                      }
                    ],
                    "scatterpolar": [
                      {
                        "marker": {
                          "colorbar": {
                            "outlinewidth": 0,
                            "ticks": ""
                          }
                        },
                        "type": "scatterpolar"
                      }
                    ],
                    "scatterpolargl": [
                      {
                        "marker": {
                          "colorbar": {
                            "outlinewidth": 0,
                            "ticks": ""
                          }
                        },
                        "type": "scatterpolargl"
                      }
                    ],
                    "scatterternary": [
                      {
                        "marker": {
                          "colorbar": {
                            "outlinewidth": 0,
                            "ticks": ""
                          }
                        },
                        "type": "scatterternary"
                      }
                    ],
                    "surface": [
                      {
                        "colorbar": {
                          "outlinewidth": 0,
                          "ticks": ""
                        },
                        "colorscale": [
                          [
                            0,
                            "#0d0887"
                          ],
                          [
                            0.1111111111111111,
                            "#46039f"
                          ],
                          [
                            0.2222222222222222,
                            "#7201a8"
                          ],
                          [
                            0.3333333333333333,
                            "#9c179e"
                          ],
                          [
                            0.4444444444444444,
                            "#bd3786"
                          ],
                          [
                            0.5555555555555556,
                            "#d8576b"
                          ],
                          [
                            0.6666666666666666,
                            "#ed7953"
                          ],
                          [
                            0.7777777777777778,
                            "#fb9f3a"
                          ],
                          [
                            0.8888888888888888,
                            "#fdca26"
                          ],
                          [
                            1,
                            "#f0f921"
                          ]
                        ],
                        "type": "surface"
                      }
                    ],
                    "table": [
                      {
                        "cells": {
                          "fill": {
                            "color": "#EBF0F8"
                          },
                          "line": {
                            "color": "white"
                          }
                        },
                        "header": {
                          "fill": {
                            "color": "#C8D4E3"
                          },
                          "line": {
                            "color": "white"
                          }
                        },
                        "type": "table"
                      }
                    ]
                  },
                  "layout": {
                    "annotationdefaults": {
                      "arrowcolor": "#2a3f5f",
                      "arrowhead": 0,
                      "arrowwidth": 1
                    },
                    "autotypenumbers": "strict",
                    "coloraxis": {
                      "colorbar": {
                        "outlinewidth": 0,
                        "ticks": ""
                      }
                    },
                    "colorscale": {
                      "diverging": [
                        [
                          0,
                          "#8e0152"
                        ],
                        [
                          0.1,
                          "#c51b7d"
                        ],
                        [
                          0.2,
                          "#de77ae"
                        ],
                        [
                          0.3,
                          "#f1b6da"
                        ],
                        [
                          0.4,
                          "#fde0ef"
                        ],
                        [
                          0.5,
                          "#f7f7f7"
                        ],
                        [
                          0.6,
                          "#e6f5d0"
                        ],
                        [
                          0.7,
                          "#b8e186"
                        ],
                        [
                          0.8,
                          "#7fbc41"
                        ],
                        [
                          0.9,
                          "#4d9221"
                        ],
                        [
                          1,
                          "#276419"
                        ]
                      ],
                      "sequential": [
                        [
                          0,
                          "#0d0887"
                        ],
                        [
                          0.1111111111111111,
                          "#46039f"
                        ],
                        [
                          0.2222222222222222,
                          "#7201a8"
                        ],
                        [
                          0.3333333333333333,
                          "#9c179e"
                        ],
                        [
                          0.4444444444444444,
                          "#bd3786"
                        ],
                        [
                          0.5555555555555556,
                          "#d8576b"
                        ],
                        [
                          0.6666666666666666,
                          "#ed7953"
                        ],
                        [
                          0.7777777777777778,
                          "#fb9f3a"
                        ],
                        [
                          0.8888888888888888,
                          "#fdca26"
                        ],
                        [
                          1,
                          "#f0f921"
                        ]
                      ],
                      "sequentialminus": [
                        [
                          0,
                          "#0d0887"
                        ],
                        [
                          0.1111111111111111,
                          "#46039f"
                        ],
                        [
                          0.2222222222222222,
                          "#7201a8"
                        ],
                        [
                          0.3333333333333333,
                          "#9c179e"
                        ],
                        [
                          0.4444444444444444,
                          "#bd3786"
                        ],
                        [
                          0.5555555555555556,
                          "#d8576b"
                        ],
                        [
                          0.6666666666666666,
                          "#ed7953"
                        ],
                        [
                          0.7777777777777778,
                          "#fb9f3a"
                        ],
                        [
                          0.8888888888888888,
                          "#fdca26"
                        ],
                        [
                          1,
                          "#f0f921"
                        ]
                      ]
                    },
                    "colorway": [
                      "#636efa",
                      "#EF553B",
                      "#00cc96",
                      "#ab63fa",
                      "#FFA15A",
                      "#19d3f3",
                      "#FF6692",
                      "#B6E880",
                      "#FF97FF",
                      "#FECB52"
                    ],
                    "font": {
                      "color": "#2a3f5f"
                    },
                    "geo": {
                      "bgcolor": "white",
                      "lakecolor": "white",
                      "landcolor": "#E5ECF6",
                      "showlakes": true,
                      "showland": true,
                      "subunitcolor": "white"
                    },
                    "hoverlabel": {
                      "align": "left"
                    },
                    "hovermode": "closest",
                    "mapbox": {
                      "style": "light"
                    },
                    "paper_bgcolor": "white",
                    "plot_bgcolor": "#E5ECF6",
                    "polar": {
                      "angularaxis": {
                        "gridcolor": "white",
                        "linecolor": "white",
                        "ticks": ""
                      },
                      "bgcolor": "#E5ECF6",
                      "radialaxis": {
                        "gridcolor": "white",
                        "linecolor": "white",
                        "ticks": ""
                      }
                    },
                    "scene": {
                      "xaxis": {
                        "backgroundcolor": "#E5ECF6",
                        "gridcolor": "white",
                        "gridwidth": 2,
                        "linecolor": "white",
                        "showbackground": true,
                        "ticks": "",
                        "zerolinecolor": "white"
                      },
                      "yaxis": {
                        "backgroundcolor": "#E5ECF6",
                        "gridcolor": "white",
                        "gridwidth": 2,
                        "linecolor": "white",
                        "showbackground": true,
                        "ticks": "",
                        "zerolinecolor": "white"
                      },
                      "zaxis": {
                        "backgroundcolor": "#E5ECF6",
                        "gridcolor": "white",
                        "gridwidth": 2,
                        "linecolor": "white",
                        "showbackground": true,
                        "ticks": "",
                        "zerolinecolor": "white"
                      }
                    },
                    "shapedefaults": {
                      "line": {
                        "color": "#2a3f5f"
                      }
                    },
                    "ternary": {
                      "aaxis": {
                        "gridcolor": "white",
                        "linecolor": "white",
                        "ticks": ""
                      },
                      "baxis": {
                        "gridcolor": "white",
                        "linecolor": "white",
                        "ticks": ""
                      },
                      "bgcolor": "#E5ECF6",
                      "caxis": {
                        "gridcolor": "white",
                        "linecolor": "white",
                        "ticks": ""
                      }
                    },
                    "title": {
                      "x": 0.05
                    },
                    "xaxis": {
                      "automargin": true,
                      "gridcolor": "white",
                      "linecolor": "white",
                      "ticks": "",
                      "title": {
                        "standoff": 15
                      },
                      "zerolinecolor": "white",
                      "zerolinewidth": 2
                    },
                    "yaxis": {
                      "automargin": true,
                      "gridcolor": "white",
                      "linecolor": "white",
                      "ticks": "",
                      "title": {
                        "standoff": 15
                      },
                      "zerolinecolor": "white",
                      "zerolinewidth": 2
                    }
                  }
                },
                "title": {
                  "text": "Elbow Method For Optimal K"
                },
                "width": 600,
                "xaxis": {
                  "title": {
                    "text": "Number of clusters (K)"
                  }
                },
                "yaxis": {
                  "title": {
                    "text": "Sum of Square Distance"
                  }
                }
              }
            }
          },
          "metadata": {},
          "output_type": "display_data"
        }
      ],
      "source": [
        "scaler = MinMaxScaler()\n",
        "clus_col = scaler.fit_transform(df[['avg-total']])\n",
        "\n",
        "k = range(1,11)\n",
        "wcss = {}\n",
        "for k in k :\n",
        "    km = KMeans(n_clusters = k, max_iter=100, random_state=42)\n",
        "    km.fit(clus_col)\n",
        "    wcss[k] = km.inertia_\n",
        "\n",
        "\n",
        "fig = go.Figure(data = go.Scatter(x=list(wcss.keys()), y=list(wcss.values()), mode='lines+markers'))\n",
        "fig.update_layout(title = 'Elbow Method For Optimal K',\n",
        "                  xaxis = dict(title='Number of clusters (K)'),\n",
        "                  yaxis = dict(title='Sum of Square Distance'),\n",
        "                  showlegend = True,\n",
        "                  width = 600,\n",
        "                  height = 500)\n",
        "\n",
        "fig.show()"
      ]
    },
    {
      "cell_type": "code",
      "execution_count": 96,
      "metadata": {},
      "outputs": [
        {
          "name": "stdout",
          "output_type": "stream",
          "text": [
            "k = 2 | DBI-Score = 0.4467758298930324\n",
            "k = 3 | DBI-Score = 0.4870806245711134\n",
            "k = 4 | DBI-Score = 0.46409685122725836\n",
            "k = 5 | DBI-Score = 0.4452842184671482\n",
            "k = 6 | DBI-Score = 0.3841079835015296\n",
            "k = 7 | DBI-Score = 0.3418746497363662\n",
            "k = 8 | DBI-Score = 0.31637347640492075\n",
            "k = 9 | DBI-Score = 0.3132687354372356\n",
            "k = 10 | DBI-Score = 0.2918688048970416\n"
          ]
        }
      ],
      "source": [
        "dbi_score = []\n",
        "\n",
        "for k in range(2,11):\n",
        "    kmeans = KMeans(n_clusters=k, random_state=42)\n",
        "    kmeans.fit(clus_col)\n",
        "\n",
        "    labels = kmeans.labels_\n",
        "    dbi = davies_bouldin_score(clus_col, labels)\n",
        "    dbi_score.append(dbi)\n",
        "\n",
        "    print(f\"k = {k} | DBI-Score = {dbi}\")"
      ]
    },
    {
      "cell_type": "code",
      "execution_count": 97,
      "metadata": {},
      "outputs": [
        {
          "name": "stdout",
          "output_type": "stream",
          "text": [
            "k = 2 | Silhouette-Score = 0.6585203341518826\n",
            "k = 3 | Silhouette-Score = 0.5825090645027821\n",
            "k = 4 | Silhouette-Score = 0.6062102680927619\n",
            "k = 5 | Silhouette-Score = 0.5607765709158581\n",
            "k = 6 | Silhouette-Score = 0.619209408605651\n",
            "k = 7 | Silhouette-Score = 0.6632307444158525\n",
            "k = 8 | Silhouette-Score = 0.6784865942360616\n",
            "k = 9 | Silhouette-Score = 0.6699916113773579\n",
            "k = 10 | Silhouette-Score = 0.6520842066262262\n"
          ]
        }
      ],
      "source": [
        "shl_score = []\n",
        "\n",
        "for k in range(2,11):\n",
        "    kmeans = KMeans(n_clusters=k, random_state=42)\n",
        "    kmeans.fit(clus_col)\n",
        "\n",
        "    labels = kmeans.labels_\n",
        "    ss = silhouette_score(clus_col, labels)\n",
        "    shl_score.append(ss)\n",
        "\n",
        "    print(f\"k = {k} | Silhouette-Score = {ss}\")"
      ]
    },
    {
      "cell_type": "markdown",
      "metadata": {},
      "source": [
        "## K-Means Modelling"
      ]
    },
    {
      "cell_type": "markdown",
      "metadata": {},
      "source": [
        "### Modelling using K=3"
      ]
    },
    {
      "cell_type": "code",
      "execution_count": 98,
      "metadata": {},
      "outputs": [
        {
          "data": {
            "text/html": [
              "<div>\n",
              "<style scoped>\n",
              "    .dataframe tbody tr th:only-of-type {\n",
              "        vertical-align: middle;\n",
              "    }\n",
              "\n",
              "    .dataframe tbody tr th {\n",
              "        vertical-align: top;\n",
              "    }\n",
              "\n",
              "    .dataframe thead th {\n",
              "        text-align: right;\n",
              "    }\n",
              "</style>\n",
              "<table border=\"1\" class=\"dataframe\">\n",
              "  <thead>\n",
              "    <tr style=\"text-align: right;\">\n",
              "      <th></th>\n",
              "      <th>provinsi</th>\n",
              "      <th>avg-total</th>\n",
              "      <th>cluster</th>\n",
              "    </tr>\n",
              "  </thead>\n",
              "  <tbody>\n",
              "    <tr>\n",
              "      <th>0</th>\n",
              "      <td>ACEH</td>\n",
              "      <td>7.03</td>\n",
              "      <td>1</td>\n",
              "    </tr>\n",
              "    <tr>\n",
              "      <th>1</th>\n",
              "      <td>SUMATERA UTARA</td>\n",
              "      <td>5.95</td>\n",
              "      <td>0</td>\n",
              "    </tr>\n",
              "    <tr>\n",
              "      <th>2</th>\n",
              "      <td>SUMATERA BARAT</td>\n",
              "      <td>6.05</td>\n",
              "      <td>0</td>\n",
              "    </tr>\n",
              "    <tr>\n",
              "      <th>3</th>\n",
              "      <td>KEPULAUAN RIAU</td>\n",
              "      <td>7.46</td>\n",
              "      <td>1</td>\n",
              "    </tr>\n",
              "    <tr>\n",
              "      <th>4</th>\n",
              "      <td>JAMBI</td>\n",
              "      <td>4.13</td>\n",
              "      <td>2</td>\n",
              "    </tr>\n",
              "  </tbody>\n",
              "</table>\n",
              "</div>"
            ],
            "text/plain": [
              "         provinsi  avg-total  cluster\n",
              "0            ACEH       7.03        1\n",
              "1  SUMATERA UTARA       5.95        0\n",
              "2  SUMATERA BARAT       6.05        0\n",
              "3  KEPULAUAN RIAU       7.46        1\n",
              "4           JAMBI       4.13        2"
            ]
          },
          "execution_count": 98,
          "metadata": {},
          "output_type": "execute_result"
        }
      ],
      "source": [
        "kmeans = KMeans(n_clusters=3, random_state=42)\n",
        "kmeans.fit(clus_col)\n",
        "df['cluster'] = kmeans.predict(clus_col)\n",
        "df.head()"
      ]
    },
    {
      "cell_type": "code",
      "execution_count": 99,
      "metadata": {},
      "outputs": [
        {
          "data": {
            "application/vnd.plotly.v1+json": {
              "config": {
                "plotlyServerURL": "https://plot.ly"
              },
              "data": [
                {
                  "hovertemplate": "avg-total=%{x}<br>index=%{y}<br>cluster=%{marker.color}<extra></extra>",
                  "legendgroup": "",
                  "marker": {
                    "color": [
                      1,
                      0,
                      0,
                      1,
                      2,
                      2,
                      2,
                      2,
                      2,
                      0,
                      1,
                      1,
                      0,
                      2,
                      2,
                      1,
                      2,
                      2,
                      2,
                      2,
                      2,
                      2,
                      1,
                      2,
                      1,
                      2,
                      0,
                      2,
                      2,
                      2,
                      1,
                      0,
                      0,
                      2
                    ],
                    "coloraxis": "coloraxis",
                    "symbol": "circle"
                  },
                  "mode": "markers",
                  "name": "",
                  "orientation": "h",
                  "showlegend": false,
                  "type": "scatter",
                  "x": [
                    7.03,
                    5.95,
                    6.05,
                    7.46,
                    4.13,
                    4.59,
                    3.34,
                    4.49,
                    4.16,
                    5.62,
                    7.43,
                    8.53,
                    5.1,
                    3.47,
                    4.4,
                    8.68,
                    2.54,
                    4,
                    3.17,
                    4.5,
                    3.71,
                    4.23,
                    7.15,
                    4.02,
                    6.83,
                    3.38,
                    5.32,
                    3.58,
                    3.53,
                    2.63,
                    7.4,
                    4.79,
                    5.91,
                    3.39
                  ],
                  "xaxis": "x",
                  "y": [
                    0,
                    1,
                    2,
                    3,
                    4,
                    5,
                    6,
                    7,
                    8,
                    9,
                    10,
                    11,
                    12,
                    13,
                    14,
                    15,
                    16,
                    17,
                    18,
                    19,
                    20,
                    21,
                    22,
                    23,
                    24,
                    25,
                    26,
                    27,
                    28,
                    29,
                    30,
                    31,
                    32,
                    33
                  ],
                  "yaxis": "y"
                }
              ],
              "layout": {
                "coloraxis": {
                  "colorbar": {
                    "title": {
                      "text": "cluster"
                    }
                  },
                  "colorscale": [
                    [
                      0,
                      "rgb(20,44,66)"
                    ],
                    [
                      1,
                      "rgb(90,179,244)"
                    ]
                  ]
                },
                "height": 400,
                "legend": {
                  "tracegroupgap": 0
                },
                "margin": {
                  "t": 60
                },
                "template": {
                  "data": {
                    "bar": [
                      {
                        "error_x": {
                          "color": "rgb(51,51,51)"
                        },
                        "error_y": {
                          "color": "rgb(51,51,51)"
                        },
                        "marker": {
                          "line": {
                            "color": "rgb(237,237,237)",
                            "width": 0.5
                          },
                          "pattern": {
                            "fillmode": "overlay",
                            "size": 10,
                            "solidity": 0.2
                          }
                        },
                        "type": "bar"
                      }
                    ],
                    "barpolar": [
                      {
                        "marker": {
                          "line": {
                            "color": "rgb(237,237,237)",
                            "width": 0.5
                          },
                          "pattern": {
                            "fillmode": "overlay",
                            "size": 10,
                            "solidity": 0.2
                          }
                        },
                        "type": "barpolar"
                      }
                    ],
                    "carpet": [
                      {
                        "aaxis": {
                          "endlinecolor": "rgb(51,51,51)",
                          "gridcolor": "white",
                          "linecolor": "white",
                          "minorgridcolor": "white",
                          "startlinecolor": "rgb(51,51,51)"
                        },
                        "baxis": {
                          "endlinecolor": "rgb(51,51,51)",
                          "gridcolor": "white",
                          "linecolor": "white",
                          "minorgridcolor": "white",
                          "startlinecolor": "rgb(51,51,51)"
                        },
                        "type": "carpet"
                      }
                    ],
                    "choropleth": [
                      {
                        "colorbar": {
                          "outlinewidth": 0,
                          "tickcolor": "rgb(237,237,237)",
                          "ticklen": 6,
                          "ticks": "inside"
                        },
                        "type": "choropleth"
                      }
                    ],
                    "contour": [
                      {
                        "colorbar": {
                          "outlinewidth": 0,
                          "tickcolor": "rgb(237,237,237)",
                          "ticklen": 6,
                          "ticks": "inside"
                        },
                        "colorscale": [
                          [
                            0,
                            "rgb(20,44,66)"
                          ],
                          [
                            1,
                            "rgb(90,179,244)"
                          ]
                        ],
                        "type": "contour"
                      }
                    ],
                    "contourcarpet": [
                      {
                        "colorbar": {
                          "outlinewidth": 0,
                          "tickcolor": "rgb(237,237,237)",
                          "ticklen": 6,
                          "ticks": "inside"
                        },
                        "type": "contourcarpet"
                      }
                    ],
                    "heatmap": [
                      {
                        "colorbar": {
                          "outlinewidth": 0,
                          "tickcolor": "rgb(237,237,237)",
                          "ticklen": 6,
                          "ticks": "inside"
                        },
                        "colorscale": [
                          [
                            0,
                            "rgb(20,44,66)"
                          ],
                          [
                            1,
                            "rgb(90,179,244)"
                          ]
                        ],
                        "type": "heatmap"
                      }
                    ],
                    "heatmapgl": [
                      {
                        "colorbar": {
                          "outlinewidth": 0,
                          "tickcolor": "rgb(237,237,237)",
                          "ticklen": 6,
                          "ticks": "inside"
                        },
                        "colorscale": [
                          [
                            0,
                            "rgb(20,44,66)"
                          ],
                          [
                            1,
                            "rgb(90,179,244)"
                          ]
                        ],
                        "type": "heatmapgl"
                      }
                    ],
                    "histogram": [
                      {
                        "marker": {
                          "pattern": {
                            "fillmode": "overlay",
                            "size": 10,
                            "solidity": 0.2
                          }
                        },
                        "type": "histogram"
                      }
                    ],
                    "histogram2d": [
                      {
                        "colorbar": {
                          "outlinewidth": 0,
                          "tickcolor": "rgb(237,237,237)",
                          "ticklen": 6,
                          "ticks": "inside"
                        },
                        "colorscale": [
                          [
                            0,
                            "rgb(20,44,66)"
                          ],
                          [
                            1,
                            "rgb(90,179,244)"
                          ]
                        ],
                        "type": "histogram2d"
                      }
                    ],
                    "histogram2dcontour": [
                      {
                        "colorbar": {
                          "outlinewidth": 0,
                          "tickcolor": "rgb(237,237,237)",
                          "ticklen": 6,
                          "ticks": "inside"
                        },
                        "colorscale": [
                          [
                            0,
                            "rgb(20,44,66)"
                          ],
                          [
                            1,
                            "rgb(90,179,244)"
                          ]
                        ],
                        "type": "histogram2dcontour"
                      }
                    ],
                    "mesh3d": [
                      {
                        "colorbar": {
                          "outlinewidth": 0,
                          "tickcolor": "rgb(237,237,237)",
                          "ticklen": 6,
                          "ticks": "inside"
                        },
                        "type": "mesh3d"
                      }
                    ],
                    "parcoords": [
                      {
                        "line": {
                          "colorbar": {
                            "outlinewidth": 0,
                            "tickcolor": "rgb(237,237,237)",
                            "ticklen": 6,
                            "ticks": "inside"
                          }
                        },
                        "type": "parcoords"
                      }
                    ],
                    "pie": [
                      {
                        "automargin": true,
                        "type": "pie"
                      }
                    ],
                    "scatter": [
                      {
                        "fillpattern": {
                          "fillmode": "overlay",
                          "size": 10,
                          "solidity": 0.2
                        },
                        "type": "scatter"
                      }
                    ],
                    "scatter3d": [
                      {
                        "line": {
                          "colorbar": {
                            "outlinewidth": 0,
                            "tickcolor": "rgb(237,237,237)",
                            "ticklen": 6,
                            "ticks": "inside"
                          }
                        },
                        "marker": {
                          "colorbar": {
                            "outlinewidth": 0,
                            "tickcolor": "rgb(237,237,237)",
                            "ticklen": 6,
                            "ticks": "inside"
                          }
                        },
                        "type": "scatter3d"
                      }
                    ],
                    "scattercarpet": [
                      {
                        "marker": {
                          "colorbar": {
                            "outlinewidth": 0,
                            "tickcolor": "rgb(237,237,237)",
                            "ticklen": 6,
                            "ticks": "inside"
                          }
                        },
                        "type": "scattercarpet"
                      }
                    ],
                    "scattergeo": [
                      {
                        "marker": {
                          "colorbar": {
                            "outlinewidth": 0,
                            "tickcolor": "rgb(237,237,237)",
                            "ticklen": 6,
                            "ticks": "inside"
                          }
                        },
                        "type": "scattergeo"
                      }
                    ],
                    "scattergl": [
                      {
                        "marker": {
                          "colorbar": {
                            "outlinewidth": 0,
                            "tickcolor": "rgb(237,237,237)",
                            "ticklen": 6,
                            "ticks": "inside"
                          }
                        },
                        "type": "scattergl"
                      }
                    ],
                    "scattermapbox": [
                      {
                        "marker": {
                          "colorbar": {
                            "outlinewidth": 0,
                            "tickcolor": "rgb(237,237,237)",
                            "ticklen": 6,
                            "ticks": "inside"
                          }
                        },
                        "type": "scattermapbox"
                      }
                    ],
                    "scatterpolar": [
                      {
                        "marker": {
                          "colorbar": {
                            "outlinewidth": 0,
                            "tickcolor": "rgb(237,237,237)",
                            "ticklen": 6,
                            "ticks": "inside"
                          }
                        },
                        "type": "scatterpolar"
                      }
                    ],
                    "scatterpolargl": [
                      {
                        "marker": {
                          "colorbar": {
                            "outlinewidth": 0,
                            "tickcolor": "rgb(237,237,237)",
                            "ticklen": 6,
                            "ticks": "inside"
                          }
                        },
                        "type": "scatterpolargl"
                      }
                    ],
                    "scatterternary": [
                      {
                        "marker": {
                          "colorbar": {
                            "outlinewidth": 0,
                            "tickcolor": "rgb(237,237,237)",
                            "ticklen": 6,
                            "ticks": "inside"
                          }
                        },
                        "type": "scatterternary"
                      }
                    ],
                    "surface": [
                      {
                        "colorbar": {
                          "outlinewidth": 0,
                          "tickcolor": "rgb(237,237,237)",
                          "ticklen": 6,
                          "ticks": "inside"
                        },
                        "colorscale": [
                          [
                            0,
                            "rgb(20,44,66)"
                          ],
                          [
                            1,
                            "rgb(90,179,244)"
                          ]
                        ],
                        "type": "surface"
                      }
                    ],
                    "table": [
                      {
                        "cells": {
                          "fill": {
                            "color": "rgb(237,237,237)"
                          },
                          "line": {
                            "color": "white"
                          }
                        },
                        "header": {
                          "fill": {
                            "color": "rgb(217,217,217)"
                          },
                          "line": {
                            "color": "white"
                          }
                        },
                        "type": "table"
                      }
                    ]
                  },
                  "layout": {
                    "annotationdefaults": {
                      "arrowhead": 0,
                      "arrowwidth": 1
                    },
                    "autotypenumbers": "strict",
                    "coloraxis": {
                      "colorbar": {
                        "outlinewidth": 0,
                        "tickcolor": "rgb(237,237,237)",
                        "ticklen": 6,
                        "ticks": "inside"
                      }
                    },
                    "colorscale": {
                      "sequential": [
                        [
                          0,
                          "rgb(20,44,66)"
                        ],
                        [
                          1,
                          "rgb(90,179,244)"
                        ]
                      ],
                      "sequentialminus": [
                        [
                          0,
                          "rgb(20,44,66)"
                        ],
                        [
                          1,
                          "rgb(90,179,244)"
                        ]
                      ]
                    },
                    "colorway": [
                      "#F8766D",
                      "#A3A500",
                      "#00BF7D",
                      "#00B0F6",
                      "#E76BF3"
                    ],
                    "font": {
                      "color": "rgb(51,51,51)"
                    },
                    "geo": {
                      "bgcolor": "white",
                      "lakecolor": "white",
                      "landcolor": "rgb(237,237,237)",
                      "showlakes": true,
                      "showland": true,
                      "subunitcolor": "white"
                    },
                    "hoverlabel": {
                      "align": "left"
                    },
                    "hovermode": "closest",
                    "paper_bgcolor": "white",
                    "plot_bgcolor": "rgb(237,237,237)",
                    "polar": {
                      "angularaxis": {
                        "gridcolor": "white",
                        "linecolor": "white",
                        "showgrid": true,
                        "tickcolor": "rgb(51,51,51)",
                        "ticks": "outside"
                      },
                      "bgcolor": "rgb(237,237,237)",
                      "radialaxis": {
                        "gridcolor": "white",
                        "linecolor": "white",
                        "showgrid": true,
                        "tickcolor": "rgb(51,51,51)",
                        "ticks": "outside"
                      }
                    },
                    "scene": {
                      "xaxis": {
                        "backgroundcolor": "rgb(237,237,237)",
                        "gridcolor": "white",
                        "gridwidth": 2,
                        "linecolor": "white",
                        "showbackground": true,
                        "showgrid": true,
                        "tickcolor": "rgb(51,51,51)",
                        "ticks": "outside",
                        "zerolinecolor": "white"
                      },
                      "yaxis": {
                        "backgroundcolor": "rgb(237,237,237)",
                        "gridcolor": "white",
                        "gridwidth": 2,
                        "linecolor": "white",
                        "showbackground": true,
                        "showgrid": true,
                        "tickcolor": "rgb(51,51,51)",
                        "ticks": "outside",
                        "zerolinecolor": "white"
                      },
                      "zaxis": {
                        "backgroundcolor": "rgb(237,237,237)",
                        "gridcolor": "white",
                        "gridwidth": 2,
                        "linecolor": "white",
                        "showbackground": true,
                        "showgrid": true,
                        "tickcolor": "rgb(51,51,51)",
                        "ticks": "outside",
                        "zerolinecolor": "white"
                      }
                    },
                    "shapedefaults": {
                      "fillcolor": "black",
                      "line": {
                        "width": 0
                      },
                      "opacity": 0.3
                    },
                    "ternary": {
                      "aaxis": {
                        "gridcolor": "white",
                        "linecolor": "white",
                        "showgrid": true,
                        "tickcolor": "rgb(51,51,51)",
                        "ticks": "outside"
                      },
                      "baxis": {
                        "gridcolor": "white",
                        "linecolor": "white",
                        "showgrid": true,
                        "tickcolor": "rgb(51,51,51)",
                        "ticks": "outside"
                      },
                      "bgcolor": "rgb(237,237,237)",
                      "caxis": {
                        "gridcolor": "white",
                        "linecolor": "white",
                        "showgrid": true,
                        "tickcolor": "rgb(51,51,51)",
                        "ticks": "outside"
                      }
                    },
                    "xaxis": {
                      "automargin": true,
                      "gridcolor": "white",
                      "linecolor": "white",
                      "showgrid": true,
                      "tickcolor": "rgb(51,51,51)",
                      "ticks": "outside",
                      "title": {
                        "standoff": 15
                      },
                      "zerolinecolor": "white"
                    },
                    "yaxis": {
                      "automargin": true,
                      "gridcolor": "white",
                      "linecolor": "white",
                      "showgrid": true,
                      "tickcolor": "rgb(51,51,51)",
                      "ticks": "outside",
                      "title": {
                        "standoff": 15
                      },
                      "zerolinecolor": "white"
                    }
                  }
                },
                "title": {
                  "text": "cluster with K=3"
                },
                "width": 600,
                "xaxis": {
                  "anchor": "y",
                  "domain": [
                    0,
                    1
                  ],
                  "title": {
                    "text": "avg-total"
                  }
                },
                "yaxis": {
                  "anchor": "x",
                  "domain": [
                    0,
                    1
                  ],
                  "title": {
                    "text": "index"
                  }
                }
              }
            }
          },
          "metadata": {},
          "output_type": "display_data"
        }
      ],
      "source": [
        "fig = px.scatter(df, x='avg-total', \n",
        "                 color='cluster',\n",
        "                 template='ggplot2')\n",
        "\n",
        "fig.update_layout(title= 'cluster with K=3',\n",
        "                  width= 600,\n",
        "                  height= 400)\n",
        "\n",
        "fig.show()"
      ]
    },
    {
      "cell_type": "markdown",
      "metadata": {},
      "source": [
        "### Modelling Using K=2"
      ]
    },
    {
      "cell_type": "code",
      "execution_count": 100,
      "metadata": {},
      "outputs": [
        {
          "data": {
            "text/html": [
              "<div>\n",
              "<style scoped>\n",
              "    .dataframe tbody tr th:only-of-type {\n",
              "        vertical-align: middle;\n",
              "    }\n",
              "\n",
              "    .dataframe tbody tr th {\n",
              "        vertical-align: top;\n",
              "    }\n",
              "\n",
              "    .dataframe thead th {\n",
              "        text-align: right;\n",
              "    }\n",
              "</style>\n",
              "<table border=\"1\" class=\"dataframe\">\n",
              "  <thead>\n",
              "    <tr style=\"text-align: right;\">\n",
              "      <th></th>\n",
              "      <th>provinsi</th>\n",
              "      <th>avg-total</th>\n",
              "      <th>cluster</th>\n",
              "    </tr>\n",
              "  </thead>\n",
              "  <tbody>\n",
              "    <tr>\n",
              "      <th>0</th>\n",
              "      <td>ACEH</td>\n",
              "      <td>7.03</td>\n",
              "      <td>1</td>\n",
              "    </tr>\n",
              "    <tr>\n",
              "      <th>1</th>\n",
              "      <td>SUMATERA UTARA</td>\n",
              "      <td>5.95</td>\n",
              "      <td>1</td>\n",
              "    </tr>\n",
              "    <tr>\n",
              "      <th>2</th>\n",
              "      <td>SUMATERA BARAT</td>\n",
              "      <td>6.05</td>\n",
              "      <td>1</td>\n",
              "    </tr>\n",
              "    <tr>\n",
              "      <th>3</th>\n",
              "      <td>KEPULAUAN RIAU</td>\n",
              "      <td>7.46</td>\n",
              "      <td>1</td>\n",
              "    </tr>\n",
              "    <tr>\n",
              "      <th>4</th>\n",
              "      <td>JAMBI</td>\n",
              "      <td>4.13</td>\n",
              "      <td>0</td>\n",
              "    </tr>\n",
              "  </tbody>\n",
              "</table>\n",
              "</div>"
            ],
            "text/plain": [
              "         provinsi  avg-total  cluster\n",
              "0            ACEH       7.03        1\n",
              "1  SUMATERA UTARA       5.95        1\n",
              "2  SUMATERA BARAT       6.05        1\n",
              "3  KEPULAUAN RIAU       7.46        1\n",
              "4           JAMBI       4.13        0"
            ]
          },
          "execution_count": 100,
          "metadata": {},
          "output_type": "execute_result"
        }
      ],
      "source": [
        "kmeans = KMeans(n_clusters=2, random_state=42)\n",
        "kmeans.fit(clus_col)\n",
        "df['cluster'] = kmeans.predict(clus_col)\n",
        "df.head()"
      ]
    },
    {
      "cell_type": "code",
      "execution_count": 101,
      "metadata": {},
      "outputs": [
        {
          "data": {
            "application/vnd.plotly.v1+json": {
              "config": {
                "plotlyServerURL": "https://plot.ly"
              },
              "data": [
                {
                  "hovertemplate": "avg-total=%{x}<br>index=%{y}<br>cluster=%{marker.color}<extra></extra>",
                  "legendgroup": "",
                  "marker": {
                    "color": [
                      1,
                      1,
                      1,
                      1,
                      0,
                      0,
                      0,
                      0,
                      0,
                      1,
                      1,
                      1,
                      0,
                      0,
                      0,
                      1,
                      0,
                      0,
                      0,
                      0,
                      0,
                      0,
                      1,
                      0,
                      1,
                      0,
                      0,
                      0,
                      0,
                      0,
                      1,
                      0,
                      1,
                      0
                    ],
                    "coloraxis": "coloraxis",
                    "symbol": "circle"
                  },
                  "mode": "markers",
                  "name": "",
                  "orientation": "h",
                  "showlegend": false,
                  "type": "scatter",
                  "x": [
                    7.03,
                    5.95,
                    6.05,
                    7.46,
                    4.13,
                    4.59,
                    3.34,
                    4.49,
                    4.16,
                    5.62,
                    7.43,
                    8.53,
                    5.1,
                    3.47,
                    4.4,
                    8.68,
                    2.54,
                    4,
                    3.17,
                    4.5,
                    3.71,
                    4.23,
                    7.15,
                    4.02,
                    6.83,
                    3.38,
                    5.32,
                    3.58,
                    3.53,
                    2.63,
                    7.4,
                    4.79,
                    5.91,
                    3.39
                  ],
                  "xaxis": "x",
                  "y": [
                    0,
                    1,
                    2,
                    3,
                    4,
                    5,
                    6,
                    7,
                    8,
                    9,
                    10,
                    11,
                    12,
                    13,
                    14,
                    15,
                    16,
                    17,
                    18,
                    19,
                    20,
                    21,
                    22,
                    23,
                    24,
                    25,
                    26,
                    27,
                    28,
                    29,
                    30,
                    31,
                    32,
                    33
                  ],
                  "yaxis": "y"
                }
              ],
              "layout": {
                "coloraxis": {
                  "colorbar": {
                    "title": {
                      "text": "cluster"
                    }
                  },
                  "colorscale": [
                    [
                      0,
                      "rgb(20,44,66)"
                    ],
                    [
                      1,
                      "rgb(90,179,244)"
                    ]
                  ]
                },
                "height": 400,
                "legend": {
                  "tracegroupgap": 0
                },
                "margin": {
                  "t": 60
                },
                "showlegend": true,
                "template": {
                  "data": {
                    "bar": [
                      {
                        "error_x": {
                          "color": "rgb(51,51,51)"
                        },
                        "error_y": {
                          "color": "rgb(51,51,51)"
                        },
                        "marker": {
                          "line": {
                            "color": "rgb(237,237,237)",
                            "width": 0.5
                          },
                          "pattern": {
                            "fillmode": "overlay",
                            "size": 10,
                            "solidity": 0.2
                          }
                        },
                        "type": "bar"
                      }
                    ],
                    "barpolar": [
                      {
                        "marker": {
                          "line": {
                            "color": "rgb(237,237,237)",
                            "width": 0.5
                          },
                          "pattern": {
                            "fillmode": "overlay",
                            "size": 10,
                            "solidity": 0.2
                          }
                        },
                        "type": "barpolar"
                      }
                    ],
                    "carpet": [
                      {
                        "aaxis": {
                          "endlinecolor": "rgb(51,51,51)",
                          "gridcolor": "white",
                          "linecolor": "white",
                          "minorgridcolor": "white",
                          "startlinecolor": "rgb(51,51,51)"
                        },
                        "baxis": {
                          "endlinecolor": "rgb(51,51,51)",
                          "gridcolor": "white",
                          "linecolor": "white",
                          "minorgridcolor": "white",
                          "startlinecolor": "rgb(51,51,51)"
                        },
                        "type": "carpet"
                      }
                    ],
                    "choropleth": [
                      {
                        "colorbar": {
                          "outlinewidth": 0,
                          "tickcolor": "rgb(237,237,237)",
                          "ticklen": 6,
                          "ticks": "inside"
                        },
                        "type": "choropleth"
                      }
                    ],
                    "contour": [
                      {
                        "colorbar": {
                          "outlinewidth": 0,
                          "tickcolor": "rgb(237,237,237)",
                          "ticklen": 6,
                          "ticks": "inside"
                        },
                        "colorscale": [
                          [
                            0,
                            "rgb(20,44,66)"
                          ],
                          [
                            1,
                            "rgb(90,179,244)"
                          ]
                        ],
                        "type": "contour"
                      }
                    ],
                    "contourcarpet": [
                      {
                        "colorbar": {
                          "outlinewidth": 0,
                          "tickcolor": "rgb(237,237,237)",
                          "ticklen": 6,
                          "ticks": "inside"
                        },
                        "type": "contourcarpet"
                      }
                    ],
                    "heatmap": [
                      {
                        "colorbar": {
                          "outlinewidth": 0,
                          "tickcolor": "rgb(237,237,237)",
                          "ticklen": 6,
                          "ticks": "inside"
                        },
                        "colorscale": [
                          [
                            0,
                            "rgb(20,44,66)"
                          ],
                          [
                            1,
                            "rgb(90,179,244)"
                          ]
                        ],
                        "type": "heatmap"
                      }
                    ],
                    "heatmapgl": [
                      {
                        "colorbar": {
                          "outlinewidth": 0,
                          "tickcolor": "rgb(237,237,237)",
                          "ticklen": 6,
                          "ticks": "inside"
                        },
                        "colorscale": [
                          [
                            0,
                            "rgb(20,44,66)"
                          ],
                          [
                            1,
                            "rgb(90,179,244)"
                          ]
                        ],
                        "type": "heatmapgl"
                      }
                    ],
                    "histogram": [
                      {
                        "marker": {
                          "pattern": {
                            "fillmode": "overlay",
                            "size": 10,
                            "solidity": 0.2
                          }
                        },
                        "type": "histogram"
                      }
                    ],
                    "histogram2d": [
                      {
                        "colorbar": {
                          "outlinewidth": 0,
                          "tickcolor": "rgb(237,237,237)",
                          "ticklen": 6,
                          "ticks": "inside"
                        },
                        "colorscale": [
                          [
                            0,
                            "rgb(20,44,66)"
                          ],
                          [
                            1,
                            "rgb(90,179,244)"
                          ]
                        ],
                        "type": "histogram2d"
                      }
                    ],
                    "histogram2dcontour": [
                      {
                        "colorbar": {
                          "outlinewidth": 0,
                          "tickcolor": "rgb(237,237,237)",
                          "ticklen": 6,
                          "ticks": "inside"
                        },
                        "colorscale": [
                          [
                            0,
                            "rgb(20,44,66)"
                          ],
                          [
                            1,
                            "rgb(90,179,244)"
                          ]
                        ],
                        "type": "histogram2dcontour"
                      }
                    ],
                    "mesh3d": [
                      {
                        "colorbar": {
                          "outlinewidth": 0,
                          "tickcolor": "rgb(237,237,237)",
                          "ticklen": 6,
                          "ticks": "inside"
                        },
                        "type": "mesh3d"
                      }
                    ],
                    "parcoords": [
                      {
                        "line": {
                          "colorbar": {
                            "outlinewidth": 0,
                            "tickcolor": "rgb(237,237,237)",
                            "ticklen": 6,
                            "ticks": "inside"
                          }
                        },
                        "type": "parcoords"
                      }
                    ],
                    "pie": [
                      {
                        "automargin": true,
                        "type": "pie"
                      }
                    ],
                    "scatter": [
                      {
                        "fillpattern": {
                          "fillmode": "overlay",
                          "size": 10,
                          "solidity": 0.2
                        },
                        "type": "scatter"
                      }
                    ],
                    "scatter3d": [
                      {
                        "line": {
                          "colorbar": {
                            "outlinewidth": 0,
                            "tickcolor": "rgb(237,237,237)",
                            "ticklen": 6,
                            "ticks": "inside"
                          }
                        },
                        "marker": {
                          "colorbar": {
                            "outlinewidth": 0,
                            "tickcolor": "rgb(237,237,237)",
                            "ticklen": 6,
                            "ticks": "inside"
                          }
                        },
                        "type": "scatter3d"
                      }
                    ],
                    "scattercarpet": [
                      {
                        "marker": {
                          "colorbar": {
                            "outlinewidth": 0,
                            "tickcolor": "rgb(237,237,237)",
                            "ticklen": 6,
                            "ticks": "inside"
                          }
                        },
                        "type": "scattercarpet"
                      }
                    ],
                    "scattergeo": [
                      {
                        "marker": {
                          "colorbar": {
                            "outlinewidth": 0,
                            "tickcolor": "rgb(237,237,237)",
                            "ticklen": 6,
                            "ticks": "inside"
                          }
                        },
                        "type": "scattergeo"
                      }
                    ],
                    "scattergl": [
                      {
                        "marker": {
                          "colorbar": {
                            "outlinewidth": 0,
                            "tickcolor": "rgb(237,237,237)",
                            "ticklen": 6,
                            "ticks": "inside"
                          }
                        },
                        "type": "scattergl"
                      }
                    ],
                    "scattermapbox": [
                      {
                        "marker": {
                          "colorbar": {
                            "outlinewidth": 0,
                            "tickcolor": "rgb(237,237,237)",
                            "ticklen": 6,
                            "ticks": "inside"
                          }
                        },
                        "type": "scattermapbox"
                      }
                    ],
                    "scatterpolar": [
                      {
                        "marker": {
                          "colorbar": {
                            "outlinewidth": 0,
                            "tickcolor": "rgb(237,237,237)",
                            "ticklen": 6,
                            "ticks": "inside"
                          }
                        },
                        "type": "scatterpolar"
                      }
                    ],
                    "scatterpolargl": [
                      {
                        "marker": {
                          "colorbar": {
                            "outlinewidth": 0,
                            "tickcolor": "rgb(237,237,237)",
                            "ticklen": 6,
                            "ticks": "inside"
                          }
                        },
                        "type": "scatterpolargl"
                      }
                    ],
                    "scatterternary": [
                      {
                        "marker": {
                          "colorbar": {
                            "outlinewidth": 0,
                            "tickcolor": "rgb(237,237,237)",
                            "ticklen": 6,
                            "ticks": "inside"
                          }
                        },
                        "type": "scatterternary"
                      }
                    ],
                    "surface": [
                      {
                        "colorbar": {
                          "outlinewidth": 0,
                          "tickcolor": "rgb(237,237,237)",
                          "ticklen": 6,
                          "ticks": "inside"
                        },
                        "colorscale": [
                          [
                            0,
                            "rgb(20,44,66)"
                          ],
                          [
                            1,
                            "rgb(90,179,244)"
                          ]
                        ],
                        "type": "surface"
                      }
                    ],
                    "table": [
                      {
                        "cells": {
                          "fill": {
                            "color": "rgb(237,237,237)"
                          },
                          "line": {
                            "color": "white"
                          }
                        },
                        "header": {
                          "fill": {
                            "color": "rgb(217,217,217)"
                          },
                          "line": {
                            "color": "white"
                          }
                        },
                        "type": "table"
                      }
                    ]
                  },
                  "layout": {
                    "annotationdefaults": {
                      "arrowhead": 0,
                      "arrowwidth": 1
                    },
                    "autotypenumbers": "strict",
                    "coloraxis": {
                      "colorbar": {
                        "outlinewidth": 0,
                        "tickcolor": "rgb(237,237,237)",
                        "ticklen": 6,
                        "ticks": "inside"
                      }
                    },
                    "colorscale": {
                      "sequential": [
                        [
                          0,
                          "rgb(20,44,66)"
                        ],
                        [
                          1,
                          "rgb(90,179,244)"
                        ]
                      ],
                      "sequentialminus": [
                        [
                          0,
                          "rgb(20,44,66)"
                        ],
                        [
                          1,
                          "rgb(90,179,244)"
                        ]
                      ]
                    },
                    "colorway": [
                      "#F8766D",
                      "#A3A500",
                      "#00BF7D",
                      "#00B0F6",
                      "#E76BF3"
                    ],
                    "font": {
                      "color": "rgb(51,51,51)"
                    },
                    "geo": {
                      "bgcolor": "white",
                      "lakecolor": "white",
                      "landcolor": "rgb(237,237,237)",
                      "showlakes": true,
                      "showland": true,
                      "subunitcolor": "white"
                    },
                    "hoverlabel": {
                      "align": "left"
                    },
                    "hovermode": "closest",
                    "paper_bgcolor": "white",
                    "plot_bgcolor": "rgb(237,237,237)",
                    "polar": {
                      "angularaxis": {
                        "gridcolor": "white",
                        "linecolor": "white",
                        "showgrid": true,
                        "tickcolor": "rgb(51,51,51)",
                        "ticks": "outside"
                      },
                      "bgcolor": "rgb(237,237,237)",
                      "radialaxis": {
                        "gridcolor": "white",
                        "linecolor": "white",
                        "showgrid": true,
                        "tickcolor": "rgb(51,51,51)",
                        "ticks": "outside"
                      }
                    },
                    "scene": {
                      "xaxis": {
                        "backgroundcolor": "rgb(237,237,237)",
                        "gridcolor": "white",
                        "gridwidth": 2,
                        "linecolor": "white",
                        "showbackground": true,
                        "showgrid": true,
                        "tickcolor": "rgb(51,51,51)",
                        "ticks": "outside",
                        "zerolinecolor": "white"
                      },
                      "yaxis": {
                        "backgroundcolor": "rgb(237,237,237)",
                        "gridcolor": "white",
                        "gridwidth": 2,
                        "linecolor": "white",
                        "showbackground": true,
                        "showgrid": true,
                        "tickcolor": "rgb(51,51,51)",
                        "ticks": "outside",
                        "zerolinecolor": "white"
                      },
                      "zaxis": {
                        "backgroundcolor": "rgb(237,237,237)",
                        "gridcolor": "white",
                        "gridwidth": 2,
                        "linecolor": "white",
                        "showbackground": true,
                        "showgrid": true,
                        "tickcolor": "rgb(51,51,51)",
                        "ticks": "outside",
                        "zerolinecolor": "white"
                      }
                    },
                    "shapedefaults": {
                      "fillcolor": "black",
                      "line": {
                        "width": 0
                      },
                      "opacity": 0.3
                    },
                    "ternary": {
                      "aaxis": {
                        "gridcolor": "white",
                        "linecolor": "white",
                        "showgrid": true,
                        "tickcolor": "rgb(51,51,51)",
                        "ticks": "outside"
                      },
                      "baxis": {
                        "gridcolor": "white",
                        "linecolor": "white",
                        "showgrid": true,
                        "tickcolor": "rgb(51,51,51)",
                        "ticks": "outside"
                      },
                      "bgcolor": "rgb(237,237,237)",
                      "caxis": {
                        "gridcolor": "white",
                        "linecolor": "white",
                        "showgrid": true,
                        "tickcolor": "rgb(51,51,51)",
                        "ticks": "outside"
                      }
                    },
                    "xaxis": {
                      "automargin": true,
                      "gridcolor": "white",
                      "linecolor": "white",
                      "showgrid": true,
                      "tickcolor": "rgb(51,51,51)",
                      "ticks": "outside",
                      "title": {
                        "standoff": 15
                      },
                      "zerolinecolor": "white"
                    },
                    "yaxis": {
                      "automargin": true,
                      "gridcolor": "white",
                      "linecolor": "white",
                      "showgrid": true,
                      "tickcolor": "rgb(51,51,51)",
                      "ticks": "outside",
                      "title": {
                        "standoff": 15
                      },
                      "zerolinecolor": "white"
                    }
                  }
                },
                "title": {
                  "text": "cluster with K=2"
                },
                "width": 600,
                "xaxis": {
                  "anchor": "y",
                  "domain": [
                    0,
                    1
                  ],
                  "title": {
                    "text": "avg-total"
                  }
                },
                "yaxis": {
                  "anchor": "x",
                  "domain": [
                    0,
                    1
                  ],
                  "title": {
                    "text": "index"
                  }
                }
              }
            }
          },
          "metadata": {},
          "output_type": "display_data"
        }
      ],
      "source": [
        "fig = px.scatter(df, x='avg-total', \n",
        "                 color='cluster',\n",
        "                 template='ggplot2')\n",
        "\n",
        "fig.update_layout(title= 'cluster with K=2',\n",
        "                  width= 600,\n",
        "                  height= 400,\n",
        "                  showlegend= True)\n",
        "\n",
        "fig.show()"
      ]
    },
    {
      "cell_type": "markdown",
      "metadata": {},
      "source": [
        "## Final Result"
      ]
    },
    {
      "cell_type": "code",
      "execution_count": 102,
      "metadata": {},
      "outputs": [
        {
          "data": {
            "text/html": [
              "<div>\n",
              "<style scoped>\n",
              "    .dataframe tbody tr th:only-of-type {\n",
              "        vertical-align: middle;\n",
              "    }\n",
              "\n",
              "    .dataframe tbody tr th {\n",
              "        vertical-align: top;\n",
              "    }\n",
              "\n",
              "    .dataframe thead th {\n",
              "        text-align: right;\n",
              "    }\n",
              "</style>\n",
              "<table border=\"1\" class=\"dataframe\">\n",
              "  <thead>\n",
              "    <tr style=\"text-align: right;\">\n",
              "      <th></th>\n",
              "      <th>provinsi</th>\n",
              "      <th>avg-total</th>\n",
              "      <th>cluster</th>\n",
              "    </tr>\n",
              "  </thead>\n",
              "  <tbody>\n",
              "    <tr>\n",
              "      <th>0</th>\n",
              "      <td>ACEH</td>\n",
              "      <td>7.03</td>\n",
              "      <td>1</td>\n",
              "    </tr>\n",
              "    <tr>\n",
              "      <th>1</th>\n",
              "      <td>SUMATERA UTARA</td>\n",
              "      <td>5.95</td>\n",
              "      <td>0</td>\n",
              "    </tr>\n",
              "    <tr>\n",
              "      <th>2</th>\n",
              "      <td>SUMATERA BARAT</td>\n",
              "      <td>6.05</td>\n",
              "      <td>0</td>\n",
              "    </tr>\n",
              "    <tr>\n",
              "      <th>3</th>\n",
              "      <td>KEPULAUAN RIAU</td>\n",
              "      <td>7.46</td>\n",
              "      <td>1</td>\n",
              "    </tr>\n",
              "    <tr>\n",
              "      <th>4</th>\n",
              "      <td>JAMBI</td>\n",
              "      <td>4.13</td>\n",
              "      <td>2</td>\n",
              "    </tr>\n",
              "  </tbody>\n",
              "</table>\n",
              "</div>"
            ],
            "text/plain": [
              "         provinsi  avg-total  cluster\n",
              "0            ACEH       7.03        1\n",
              "1  SUMATERA UTARA       5.95        0\n",
              "2  SUMATERA BARAT       6.05        0\n",
              "3  KEPULAUAN RIAU       7.46        1\n",
              "4           JAMBI       4.13        2"
            ]
          },
          "execution_count": 102,
          "metadata": {},
          "output_type": "execute_result"
        }
      ],
      "source": [
        "kmeans = KMeans(n_clusters=3, random_state=42)\n",
        "kmeans.fit(clus_col)\n",
        "df['cluster'] = kmeans.predict(clus_col)\n",
        "df.head()"
      ]
    },
    {
      "cell_type": "code",
      "execution_count": 103,
      "metadata": {},
      "outputs": [
        {
          "data": {
            "text/plain": [
              "cluster\n",
              "0    5.53\n",
              "1    7.56\n",
              "2    3.75\n",
              "Name: avg-total, dtype: float64"
            ]
          },
          "execution_count": 103,
          "metadata": {},
          "output_type": "execute_result"
        }
      ],
      "source": [
        "df.groupby('cluster')['avg-total'].mean().round(2)"
      ]
    },
    {
      "cell_type": "code",
      "execution_count": 104,
      "metadata": {},
      "outputs": [
        {
          "data": {
            "text/html": [
              "<div>\n",
              "<style scoped>\n",
              "    .dataframe tbody tr th:only-of-type {\n",
              "        vertical-align: middle;\n",
              "    }\n",
              "\n",
              "    .dataframe tbody tr th {\n",
              "        vertical-align: top;\n",
              "    }\n",
              "\n",
              "    .dataframe thead th {\n",
              "        text-align: right;\n",
              "    }\n",
              "</style>\n",
              "<table border=\"1\" class=\"dataframe\">\n",
              "  <thead>\n",
              "    <tr style=\"text-align: right;\">\n",
              "      <th></th>\n",
              "      <th>count</th>\n",
              "      <th>mean</th>\n",
              "      <th>std</th>\n",
              "      <th>min</th>\n",
              "      <th>25%</th>\n",
              "      <th>50%</th>\n",
              "      <th>75%</th>\n",
              "      <th>max</th>\n",
              "    </tr>\n",
              "    <tr>\n",
              "      <th>cluster</th>\n",
              "      <th></th>\n",
              "      <th></th>\n",
              "      <th></th>\n",
              "      <th></th>\n",
              "      <th></th>\n",
              "      <th></th>\n",
              "      <th></th>\n",
              "      <th></th>\n",
              "    </tr>\n",
              "  </thead>\n",
              "  <tbody>\n",
              "    <tr>\n",
              "      <th>0</th>\n",
              "      <td>7.0</td>\n",
              "      <td>5.534286</td>\n",
              "      <td>0.478848</td>\n",
              "      <td>4.79</td>\n",
              "      <td>5.210</td>\n",
              "      <td>5.620</td>\n",
              "      <td>5.9300</td>\n",
              "      <td>6.05</td>\n",
              "    </tr>\n",
              "    <tr>\n",
              "      <th>1</th>\n",
              "      <td>8.0</td>\n",
              "      <td>7.563750</td>\n",
              "      <td>0.679242</td>\n",
              "      <td>6.83</td>\n",
              "      <td>7.120</td>\n",
              "      <td>7.415</td>\n",
              "      <td>7.7275</td>\n",
              "      <td>8.68</td>\n",
              "    </tr>\n",
              "    <tr>\n",
              "      <th>2</th>\n",
              "      <td>19.0</td>\n",
              "      <td>3.750526</td>\n",
              "      <td>0.603844</td>\n",
              "      <td>2.54</td>\n",
              "      <td>3.385</td>\n",
              "      <td>3.710</td>\n",
              "      <td>4.1950</td>\n",
              "      <td>4.59</td>\n",
              "    </tr>\n",
              "  </tbody>\n",
              "</table>\n",
              "</div>"
            ],
            "text/plain": [
              "         count      mean       std   min    25%    50%     75%   max\n",
              "cluster                                                             \n",
              "0          7.0  5.534286  0.478848  4.79  5.210  5.620  5.9300  6.05\n",
              "1          8.0  7.563750  0.679242  6.83  7.120  7.415  7.7275  8.68\n",
              "2         19.0  3.750526  0.603844  2.54  3.385  3.710  4.1950  4.59"
            ]
          },
          "execution_count": 104,
          "metadata": {},
          "output_type": "execute_result"
        }
      ],
      "source": [
        "df.groupby('cluster')['avg-total'].describe()"
      ]
    },
    {
      "cell_type": "code",
      "execution_count": 105,
      "metadata": {},
      "outputs": [
        {
          "name": "stdout",
          "output_type": "stream",
          "text": [
            "            provinsi  avg-total  cluster\n",
            "1     SUMATERA UTARA       5.95        0\n",
            "2     SUMATERA BARAT       6.05        0\n",
            "9               RIAU       5.62        0\n",
            "12       JAWA TENGAH       5.10        0\n",
            "26  SULAWESI SELATAN       5.32        0\n",
            "31      MALUKU UTARA       4.79        0\n",
            "32       PAPUA BARAT       5.91        0\n"
          ]
        }
      ],
      "source": [
        "cluster_0 = df[df['cluster'] == 0]\n",
        "print(cluster_0)"
      ]
    },
    {
      "cell_type": "code",
      "execution_count": 106,
      "metadata": {},
      "outputs": [
        {
          "name": "stdout",
          "output_type": "stream",
          "text": [
            "            provinsi  avg-total  cluster\n",
            "0               ACEH       7.03        1\n",
            "3     KEPULAUAN RIAU       7.46        1\n",
            "10       DKI JAKARTA       7.43        1\n",
            "11        JAWA BARAT       8.53        1\n",
            "15            BANTEN       8.68        1\n",
            "22  KALIMANTAN TIMUR       7.15        1\n",
            "24    SULAWESI UTARA       6.83        1\n",
            "30            MALUKU       7.40        1\n"
          ]
        }
      ],
      "source": [
        "cluster_1 = df[df['cluster'] == 1]\n",
        "print(cluster_1)"
      ]
    },
    {
      "cell_type": "code",
      "execution_count": 107,
      "metadata": {},
      "outputs": [
        {
          "name": "stdout",
          "output_type": "stream",
          "text": [
            "                     provinsi  avg-total  cluster\n",
            "4                       JAMBI       4.13        2\n",
            "5            SUMATERA SELATAN       4.59        2\n",
            "6                    BENGKULU       3.34        2\n",
            "7                     LAMPUNG       4.49        2\n",
            "8   KEPULAUAN BANGKA BELITUNG       4.16        2\n",
            "13              DI YOGYAKARTA       3.47        2\n",
            "14                 JAWA TIMUR       4.40        2\n",
            "16                       BALI       2.54        2\n",
            "17        NUSA TENGGARA BARAT       4.00        2\n",
            "18        NUSA TENGGARA TIMUR       3.17        2\n",
            "19           KALIMANTAN BARAT       4.50        2\n",
            "20          KALIMANTAN TENGAH       3.71        2\n",
            "21         KALIMANTAN SELATAN       4.23        2\n",
            "23           KALIMANTAN UTARA       4.02        2\n",
            "25            SULAWESI TENGAH       3.38        2\n",
            "27          SULAWESI TENGGARA       3.58        2\n",
            "28                  GORONTALO       3.53        2\n",
            "29             SULAWESI BARAT       2.63        2\n",
            "33                      PAPUA       3.39        2\n"
          ]
        }
      ],
      "source": [
        "cluster_2 = df[df['cluster'] == 2]\n",
        "print(cluster_2)"
      ]
    }
  ],
  "metadata": {
    "colab": {
      "collapsed_sections": [
        "KZ1fszmhpPZM",
        "iHmSE4t7rGwe",
        "nS9J-PXIe301",
        "6KW1VxUngLmV",
        "EkBBMq-thHSW",
        "1iDcNErshuK7",
        "aFK7tSS5ujGI",
        "VpV-9OrB4adH",
        "qSr4xiequyH7",
        "DHCp21H2vTyc",
        "szQxCiBNvyvP",
        "8H1a3kDgwbag"
      ],
      "provenance": [],
      "toc_visible": true
    },
    "kernelspec": {
      "display_name": "Python 3",
      "name": "python3"
    },
    "language_info": {
      "codemirror_mode": {
        "name": "ipython",
        "version": 3
      },
      "file_extension": ".py",
      "mimetype": "text/x-python",
      "name": "python",
      "nbconvert_exporter": "python",
      "pygments_lexer": "ipython3",
      "version": "3.11.6"
    }
  },
  "nbformat": 4,
  "nbformat_minor": 0
}
