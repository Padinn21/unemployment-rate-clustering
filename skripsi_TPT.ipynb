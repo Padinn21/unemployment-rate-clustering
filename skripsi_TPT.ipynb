{
  "cells": [
    {
      "cell_type": "markdown",
      "metadata": {
        "id": "KZ1fszmhpPZM"
      },
      "source": [
        "# Import Library\n"
      ]
    },
    {
      "cell_type": "code",
      "execution_count": 1,
      "metadata": {},
      "outputs": [],
      "source": [
        "import os\n",
        "os.chdir(\"D:\\KULIAH\\SKRIPSI\\IMPLEMENT\\project-skripsi\\data_pengangguran\")"
      ]
    },
    {
      "cell_type": "code",
      "execution_count": 2,
      "metadata": {
        "id": "iRQSBsyqo-VG"
      },
      "outputs": [],
      "source": [
        "import numpy as np\n",
        "import pandas as pd\n",
        "import matplotlib.pyplot as plt\n",
        "from sklearn.decomposition import PCA\n",
        "import plotly.express as px\n",
        "import plotly.graph_objects as go\n",
        "from plotly.subplots import make_subplots\n",
        "from sklearn.cluster import KMeans\n",
        "from sklearn.metrics import davies_bouldin_score\n",
        "from sklearn.metrics import silhouette_score"
      ]
    },
    {
      "cell_type": "markdown",
      "metadata": {
        "id": "iHmSE4t7rGwe"
      },
      "source": [
        "# Import Dataset\n"
      ]
    },
    {
      "cell_type": "code",
      "execution_count": 3,
      "metadata": {
        "id": "5vfmBTrvrDLZ"
      },
      "outputs": [],
      "source": [
        "df_2013 = pd.read_csv('TPT-2013.csv')\n",
        "df_2014 = pd.read_csv('TPT-2014.csv')\n",
        "df_2015 = pd.read_csv('TPT-2015.csv')\n",
        "df_2016 = pd.read_csv('TPT-2016.csv')\n",
        "df_2017 = pd.read_csv('TPT-2017.csv')\n",
        "df_2018 = pd.read_csv('TPT-2018.csv')\n",
        "df_2019 = pd.read_csv('TPT-2019.csv')\n",
        "df_2020 = pd.read_csv('TPT-2020.csv')\n",
        "df_2021 = pd.read_csv('TPT-2021.csv')\n",
        "df_2022 = pd.read_csv('TPT-2022.csv')\n",
        "df_2023 = pd.read_csv('TPT-2023.csv')"
      ]
    },
    {
      "cell_type": "markdown",
      "metadata": {
        "id": "pKD2zByKuZtq"
      },
      "source": [
        "# Data Cleaning & Feature Engineering"
      ]
    },
    {
      "cell_type": "markdown",
      "metadata": {},
      "source": [
        "## Func if needed"
      ]
    },
    {
      "cell_type": "code",
      "execution_count": 4,
      "metadata": {},
      "outputs": [],
      "source": [
        "def conv_float(column):\n",
        "    return column.astype(float)"
      ]
    },
    {
      "cell_type": "markdown",
      "metadata": {
        "id": "nS9J-PXIe301"
      },
      "source": [
        "## TPT - 2013"
      ]
    },
    {
      "cell_type": "code",
      "execution_count": 5,
      "metadata": {},
      "outputs": [
        {
          "name": "stdout",
          "output_type": "stream",
          "text": [
            "<class 'pandas.core.frame.DataFrame'>\n",
            "RangeIndex: 35 entries, 0 to 34\n",
            "Data columns (total 3 columns):\n",
            " #   Column                                         Non-Null Count  Dtype \n",
            "---  ------                                         --------------  ----- \n",
            " 0   Provinsi                                       35 non-null     object\n",
            " 1   Tingkat Pengangguran Terbuka (TPT) - Februari  35 non-null     object\n",
            " 2   Tingkat Pengangguran Terbuka (TPT) - Agustus   35 non-null     object\n",
            "dtypes: object(3)\n",
            "memory usage: 972.0+ bytes\n"
          ]
        }
      ],
      "source": [
        "df_2013.info()"
      ]
    },
    {
      "cell_type": "code",
      "execution_count": 6,
      "metadata": {
        "id": "geKi2dPSe7Uz"
      },
      "outputs": [],
      "source": [
        "df_2013 = df_2013.rename(columns={'Provinsi':'provinsi',  'Tingkat Pengangguran Terbuka (TPT) - Februari':'2013-februari', 'Tingkat Pengangguran Terbuka (TPT) - Agustus':'2013-agustus'})"
      ]
    },
    {
      "cell_type": "code",
      "execution_count": 7,
      "metadata": {
        "id": "BY8z9GX-fYT5"
      },
      "outputs": [],
      "source": [
        "df_2013.drop(df_2013.tail(1).index, inplace=True)"
      ]
    },
    {
      "cell_type": "code",
      "execution_count": 8,
      "metadata": {
        "colab": {
          "base_uri": "https://localhost:8080/"
        },
        "id": "uEn-bahaf_Gf",
        "outputId": "8c2599eb-ff6c-4ead-c110-78d2a0320f08"
      },
      "outputs": [
        {
          "data": {
            "text/plain": [
              "provinsi         0\n",
              "2013-februari    0\n",
              "2013-agustus     0\n",
              "dtype: int64"
            ]
          },
          "execution_count": 8,
          "metadata": {},
          "output_type": "execute_result"
        }
      ],
      "source": [
        "df_2013.isna().sum()"
      ]
    },
    {
      "cell_type": "code",
      "execution_count": 9,
      "metadata": {},
      "outputs": [],
      "source": [
        "df_2013.replace('-', np.nan, inplace=True)"
      ]
    },
    {
      "cell_type": "code",
      "execution_count": 10,
      "metadata": {},
      "outputs": [
        {
          "data": {
            "text/plain": [
              "provinsi         0\n",
              "2013-februari    1\n",
              "2013-agustus     1\n",
              "dtype: int64"
            ]
          },
          "execution_count": 10,
          "metadata": {},
          "output_type": "execute_result"
        }
      ],
      "source": [
        "df_2013.isna().sum()"
      ]
    },
    {
      "cell_type": "code",
      "execution_count": 11,
      "metadata": {},
      "outputs": [],
      "source": [
        "df_2013[['2013-februari', '2013-agustus']] = df_2013[['2013-februari', '2013-agustus']].apply(conv_float)"
      ]
    },
    {
      "cell_type": "code",
      "execution_count": 12,
      "metadata": {},
      "outputs": [
        {
          "data": {
            "application/vnd.plotly.v1+json": {
              "config": {
                "plotlyServerURL": "https://plot.ly"
              },
              "data": [
                {
                  "alignmentgroup": "True",
                  "bingroup": "x",
                  "hovertemplate": "2013-februari=%{x}<br>count=%{y}<extra></extra>",
                  "legendgroup": "",
                  "marker": {
                    "color": "#636efa",
                    "pattern": {
                      "shape": ""
                    }
                  },
                  "name": "",
                  "nbinsx": 10,
                  "offsetgroup": "",
                  "orientation": "v",
                  "showlegend": false,
                  "type": "histogram",
                  "x": [
                    8.34,
                    6.09,
                    6.39,
                    4.19,
                    2.89,
                    5.41,
                    2.1,
                    5.07,
                    3.22,
                    6.05,
                    9.64,
                    8.88,
                    5.53,
                    3.75,
                    3.97,
                    9.77,
                    1.93,
                    5.28,
                    2.12,
                    3.13,
                    1.81,
                    3.88,
                    8.94,
                    null,
                    7.5,
                    2.67,
                    5.88,
                    3.43,
                    4.51,
                    2.02,
                    6.97,
                    5.5,
                    4.36,
                    2.91
                  ],
                  "xaxis": "x",
                  "yaxis": "y"
                },
                {
                  "alignmentgroup": "True",
                  "bingroup": "x",
                  "hovertemplate": "2013-agustus=%{x}<br>count=%{y}<extra></extra>",
                  "legendgroup": "",
                  "marker": {
                    "color": "#636efa",
                    "pattern": {
                      "shape": ""
                    }
                  },
                  "name": "",
                  "nbinsx": 10,
                  "offsetgroup": "",
                  "orientation": "v",
                  "showlegend": false,
                  "type": "histogram",
                  "x": [
                    10.12,
                    6.45,
                    7.02,
                    5.48,
                    4.76,
                    4.84,
                    4.61,
                    5.69,
                    3.65,
                    5.63,
                    8.63,
                    9.16,
                    6.01,
                    3.24,
                    4.3,
                    9.54,
                    1.83,
                    5.3,
                    3.25,
                    3.99,
                    3,
                    3.66,
                    7.95,
                    null,
                    6.79,
                    4.19,
                    5.1,
                    4.38,
                    4.15,
                    2.35,
                    9.91,
                    3.8,
                    4.4,
                    3.15
                  ],
                  "xaxis": "x2",
                  "yaxis": "y2"
                }
              ],
              "layout": {
                "annotations": [
                  {
                    "font": {
                      "size": 16
                    },
                    "showarrow": false,
                    "text": "Distribution of 2013-februari",
                    "x": 0.225,
                    "xanchor": "center",
                    "xref": "paper",
                    "y": 1,
                    "yanchor": "bottom",
                    "yref": "paper"
                  },
                  {
                    "font": {
                      "size": 16
                    },
                    "showarrow": false,
                    "text": "Distribution of 2013-agustus",
                    "x": 0.775,
                    "xanchor": "center",
                    "xref": "paper",
                    "y": 1,
                    "yanchor": "bottom",
                    "yref": "paper"
                  }
                ],
                "bargap": 0.1,
                "height": 400,
                "showlegend": false,
                "template": {
                  "data": {
                    "bar": [
                      {
                        "error_x": {
                          "color": "#2a3f5f"
                        },
                        "error_y": {
                          "color": "#2a3f5f"
                        },
                        "marker": {
                          "line": {
                            "color": "#E5ECF6",
                            "width": 0.5
                          },
                          "pattern": {
                            "fillmode": "overlay",
                            "size": 10,
                            "solidity": 0.2
                          }
                        },
                        "type": "bar"
                      }
                    ],
                    "barpolar": [
                      {
                        "marker": {
                          "line": {
                            "color": "#E5ECF6",
                            "width": 0.5
                          },
                          "pattern": {
                            "fillmode": "overlay",
                            "size": 10,
                            "solidity": 0.2
                          }
                        },
                        "type": "barpolar"
                      }
                    ],
                    "carpet": [
                      {
                        "aaxis": {
                          "endlinecolor": "#2a3f5f",
                          "gridcolor": "white",
                          "linecolor": "white",
                          "minorgridcolor": "white",
                          "startlinecolor": "#2a3f5f"
                        },
                        "baxis": {
                          "endlinecolor": "#2a3f5f",
                          "gridcolor": "white",
                          "linecolor": "white",
                          "minorgridcolor": "white",
                          "startlinecolor": "#2a3f5f"
                        },
                        "type": "carpet"
                      }
                    ],
                    "choropleth": [
                      {
                        "colorbar": {
                          "outlinewidth": 0,
                          "ticks": ""
                        },
                        "type": "choropleth"
                      }
                    ],
                    "contour": [
                      {
                        "colorbar": {
                          "outlinewidth": 0,
                          "ticks": ""
                        },
                        "colorscale": [
                          [
                            0,
                            "#0d0887"
                          ],
                          [
                            0.1111111111111111,
                            "#46039f"
                          ],
                          [
                            0.2222222222222222,
                            "#7201a8"
                          ],
                          [
                            0.3333333333333333,
                            "#9c179e"
                          ],
                          [
                            0.4444444444444444,
                            "#bd3786"
                          ],
                          [
                            0.5555555555555556,
                            "#d8576b"
                          ],
                          [
                            0.6666666666666666,
                            "#ed7953"
                          ],
                          [
                            0.7777777777777778,
                            "#fb9f3a"
                          ],
                          [
                            0.8888888888888888,
                            "#fdca26"
                          ],
                          [
                            1,
                            "#f0f921"
                          ]
                        ],
                        "type": "contour"
                      }
                    ],
                    "contourcarpet": [
                      {
                        "colorbar": {
                          "outlinewidth": 0,
                          "ticks": ""
                        },
                        "type": "contourcarpet"
                      }
                    ],
                    "heatmap": [
                      {
                        "colorbar": {
                          "outlinewidth": 0,
                          "ticks": ""
                        },
                        "colorscale": [
                          [
                            0,
                            "#0d0887"
                          ],
                          [
                            0.1111111111111111,
                            "#46039f"
                          ],
                          [
                            0.2222222222222222,
                            "#7201a8"
                          ],
                          [
                            0.3333333333333333,
                            "#9c179e"
                          ],
                          [
                            0.4444444444444444,
                            "#bd3786"
                          ],
                          [
                            0.5555555555555556,
                            "#d8576b"
                          ],
                          [
                            0.6666666666666666,
                            "#ed7953"
                          ],
                          [
                            0.7777777777777778,
                            "#fb9f3a"
                          ],
                          [
                            0.8888888888888888,
                            "#fdca26"
                          ],
                          [
                            1,
                            "#f0f921"
                          ]
                        ],
                        "type": "heatmap"
                      }
                    ],
                    "heatmapgl": [
                      {
                        "colorbar": {
                          "outlinewidth": 0,
                          "ticks": ""
                        },
                        "colorscale": [
                          [
                            0,
                            "#0d0887"
                          ],
                          [
                            0.1111111111111111,
                            "#46039f"
                          ],
                          [
                            0.2222222222222222,
                            "#7201a8"
                          ],
                          [
                            0.3333333333333333,
                            "#9c179e"
                          ],
                          [
                            0.4444444444444444,
                            "#bd3786"
                          ],
                          [
                            0.5555555555555556,
                            "#d8576b"
                          ],
                          [
                            0.6666666666666666,
                            "#ed7953"
                          ],
                          [
                            0.7777777777777778,
                            "#fb9f3a"
                          ],
                          [
                            0.8888888888888888,
                            "#fdca26"
                          ],
                          [
                            1,
                            "#f0f921"
                          ]
                        ],
                        "type": "heatmapgl"
                      }
                    ],
                    "histogram": [
                      {
                        "marker": {
                          "pattern": {
                            "fillmode": "overlay",
                            "size": 10,
                            "solidity": 0.2
                          }
                        },
                        "type": "histogram"
                      }
                    ],
                    "histogram2d": [
                      {
                        "colorbar": {
                          "outlinewidth": 0,
                          "ticks": ""
                        },
                        "colorscale": [
                          [
                            0,
                            "#0d0887"
                          ],
                          [
                            0.1111111111111111,
                            "#46039f"
                          ],
                          [
                            0.2222222222222222,
                            "#7201a8"
                          ],
                          [
                            0.3333333333333333,
                            "#9c179e"
                          ],
                          [
                            0.4444444444444444,
                            "#bd3786"
                          ],
                          [
                            0.5555555555555556,
                            "#d8576b"
                          ],
                          [
                            0.6666666666666666,
                            "#ed7953"
                          ],
                          [
                            0.7777777777777778,
                            "#fb9f3a"
                          ],
                          [
                            0.8888888888888888,
                            "#fdca26"
                          ],
                          [
                            1,
                            "#f0f921"
                          ]
                        ],
                        "type": "histogram2d"
                      }
                    ],
                    "histogram2dcontour": [
                      {
                        "colorbar": {
                          "outlinewidth": 0,
                          "ticks": ""
                        },
                        "colorscale": [
                          [
                            0,
                            "#0d0887"
                          ],
                          [
                            0.1111111111111111,
                            "#46039f"
                          ],
                          [
                            0.2222222222222222,
                            "#7201a8"
                          ],
                          [
                            0.3333333333333333,
                            "#9c179e"
                          ],
                          [
                            0.4444444444444444,
                            "#bd3786"
                          ],
                          [
                            0.5555555555555556,
                            "#d8576b"
                          ],
                          [
                            0.6666666666666666,
                            "#ed7953"
                          ],
                          [
                            0.7777777777777778,
                            "#fb9f3a"
                          ],
                          [
                            0.8888888888888888,
                            "#fdca26"
                          ],
                          [
                            1,
                            "#f0f921"
                          ]
                        ],
                        "type": "histogram2dcontour"
                      }
                    ],
                    "mesh3d": [
                      {
                        "colorbar": {
                          "outlinewidth": 0,
                          "ticks": ""
                        },
                        "type": "mesh3d"
                      }
                    ],
                    "parcoords": [
                      {
                        "line": {
                          "colorbar": {
                            "outlinewidth": 0,
                            "ticks": ""
                          }
                        },
                        "type": "parcoords"
                      }
                    ],
                    "pie": [
                      {
                        "automargin": true,
                        "type": "pie"
                      }
                    ],
                    "scatter": [
                      {
                        "fillpattern": {
                          "fillmode": "overlay",
                          "size": 10,
                          "solidity": 0.2
                        },
                        "type": "scatter"
                      }
                    ],
                    "scatter3d": [
                      {
                        "line": {
                          "colorbar": {
                            "outlinewidth": 0,
                            "ticks": ""
                          }
                        },
                        "marker": {
                          "colorbar": {
                            "outlinewidth": 0,
                            "ticks": ""
                          }
                        },
                        "type": "scatter3d"
                      }
                    ],
                    "scattercarpet": [
                      {
                        "marker": {
                          "colorbar": {
                            "outlinewidth": 0,
                            "ticks": ""
                          }
                        },
                        "type": "scattercarpet"
                      }
                    ],
                    "scattergeo": [
                      {
                        "marker": {
                          "colorbar": {
                            "outlinewidth": 0,
                            "ticks": ""
                          }
                        },
                        "type": "scattergeo"
                      }
                    ],
                    "scattergl": [
                      {
                        "marker": {
                          "colorbar": {
                            "outlinewidth": 0,
                            "ticks": ""
                          }
                        },
                        "type": "scattergl"
                      }
                    ],
                    "scattermapbox": [
                      {
                        "marker": {
                          "colorbar": {
                            "outlinewidth": 0,
                            "ticks": ""
                          }
                        },
                        "type": "scattermapbox"
                      }
                    ],
                    "scatterpolar": [
                      {
                        "marker": {
                          "colorbar": {
                            "outlinewidth": 0,
                            "ticks": ""
                          }
                        },
                        "type": "scatterpolar"
                      }
                    ],
                    "scatterpolargl": [
                      {
                        "marker": {
                          "colorbar": {
                            "outlinewidth": 0,
                            "ticks": ""
                          }
                        },
                        "type": "scatterpolargl"
                      }
                    ],
                    "scatterternary": [
                      {
                        "marker": {
                          "colorbar": {
                            "outlinewidth": 0,
                            "ticks": ""
                          }
                        },
                        "type": "scatterternary"
                      }
                    ],
                    "surface": [
                      {
                        "colorbar": {
                          "outlinewidth": 0,
                          "ticks": ""
                        },
                        "colorscale": [
                          [
                            0,
                            "#0d0887"
                          ],
                          [
                            0.1111111111111111,
                            "#46039f"
                          ],
                          [
                            0.2222222222222222,
                            "#7201a8"
                          ],
                          [
                            0.3333333333333333,
                            "#9c179e"
                          ],
                          [
                            0.4444444444444444,
                            "#bd3786"
                          ],
                          [
                            0.5555555555555556,
                            "#d8576b"
                          ],
                          [
                            0.6666666666666666,
                            "#ed7953"
                          ],
                          [
                            0.7777777777777778,
                            "#fb9f3a"
                          ],
                          [
                            0.8888888888888888,
                            "#fdca26"
                          ],
                          [
                            1,
                            "#f0f921"
                          ]
                        ],
                        "type": "surface"
                      }
                    ],
                    "table": [
                      {
                        "cells": {
                          "fill": {
                            "color": "#EBF0F8"
                          },
                          "line": {
                            "color": "white"
                          }
                        },
                        "header": {
                          "fill": {
                            "color": "#C8D4E3"
                          },
                          "line": {
                            "color": "white"
                          }
                        },
                        "type": "table"
                      }
                    ]
                  },
                  "layout": {
                    "annotationdefaults": {
                      "arrowcolor": "#2a3f5f",
                      "arrowhead": 0,
                      "arrowwidth": 1
                    },
                    "autotypenumbers": "strict",
                    "coloraxis": {
                      "colorbar": {
                        "outlinewidth": 0,
                        "ticks": ""
                      }
                    },
                    "colorscale": {
                      "diverging": [
                        [
                          0,
                          "#8e0152"
                        ],
                        [
                          0.1,
                          "#c51b7d"
                        ],
                        [
                          0.2,
                          "#de77ae"
                        ],
                        [
                          0.3,
                          "#f1b6da"
                        ],
                        [
                          0.4,
                          "#fde0ef"
                        ],
                        [
                          0.5,
                          "#f7f7f7"
                        ],
                        [
                          0.6,
                          "#e6f5d0"
                        ],
                        [
                          0.7,
                          "#b8e186"
                        ],
                        [
                          0.8,
                          "#7fbc41"
                        ],
                        [
                          0.9,
                          "#4d9221"
                        ],
                        [
                          1,
                          "#276419"
                        ]
                      ],
                      "sequential": [
                        [
                          0,
                          "#0d0887"
                        ],
                        [
                          0.1111111111111111,
                          "#46039f"
                        ],
                        [
                          0.2222222222222222,
                          "#7201a8"
                        ],
                        [
                          0.3333333333333333,
                          "#9c179e"
                        ],
                        [
                          0.4444444444444444,
                          "#bd3786"
                        ],
                        [
                          0.5555555555555556,
                          "#d8576b"
                        ],
                        [
                          0.6666666666666666,
                          "#ed7953"
                        ],
                        [
                          0.7777777777777778,
                          "#fb9f3a"
                        ],
                        [
                          0.8888888888888888,
                          "#fdca26"
                        ],
                        [
                          1,
                          "#f0f921"
                        ]
                      ],
                      "sequentialminus": [
                        [
                          0,
                          "#0d0887"
                        ],
                        [
                          0.1111111111111111,
                          "#46039f"
                        ],
                        [
                          0.2222222222222222,
                          "#7201a8"
                        ],
                        [
                          0.3333333333333333,
                          "#9c179e"
                        ],
                        [
                          0.4444444444444444,
                          "#bd3786"
                        ],
                        [
                          0.5555555555555556,
                          "#d8576b"
                        ],
                        [
                          0.6666666666666666,
                          "#ed7953"
                        ],
                        [
                          0.7777777777777778,
                          "#fb9f3a"
                        ],
                        [
                          0.8888888888888888,
                          "#fdca26"
                        ],
                        [
                          1,
                          "#f0f921"
                        ]
                      ]
                    },
                    "colorway": [
                      "#636efa",
                      "#EF553B",
                      "#00cc96",
                      "#ab63fa",
                      "#FFA15A",
                      "#19d3f3",
                      "#FF6692",
                      "#B6E880",
                      "#FF97FF",
                      "#FECB52"
                    ],
                    "font": {
                      "color": "#2a3f5f"
                    },
                    "geo": {
                      "bgcolor": "white",
                      "lakecolor": "white",
                      "landcolor": "#E5ECF6",
                      "showlakes": true,
                      "showland": true,
                      "subunitcolor": "white"
                    },
                    "hoverlabel": {
                      "align": "left"
                    },
                    "hovermode": "closest",
                    "mapbox": {
                      "style": "light"
                    },
                    "paper_bgcolor": "white",
                    "plot_bgcolor": "#E5ECF6",
                    "polar": {
                      "angularaxis": {
                        "gridcolor": "white",
                        "linecolor": "white",
                        "ticks": ""
                      },
                      "bgcolor": "#E5ECF6",
                      "radialaxis": {
                        "gridcolor": "white",
                        "linecolor": "white",
                        "ticks": ""
                      }
                    },
                    "scene": {
                      "xaxis": {
                        "backgroundcolor": "#E5ECF6",
                        "gridcolor": "white",
                        "gridwidth": 2,
                        "linecolor": "white",
                        "showbackground": true,
                        "ticks": "",
                        "zerolinecolor": "white"
                      },
                      "yaxis": {
                        "backgroundcolor": "#E5ECF6",
                        "gridcolor": "white",
                        "gridwidth": 2,
                        "linecolor": "white",
                        "showbackground": true,
                        "ticks": "",
                        "zerolinecolor": "white"
                      },
                      "zaxis": {
                        "backgroundcolor": "#E5ECF6",
                        "gridcolor": "white",
                        "gridwidth": 2,
                        "linecolor": "white",
                        "showbackground": true,
                        "ticks": "",
                        "zerolinecolor": "white"
                      }
                    },
                    "shapedefaults": {
                      "line": {
                        "color": "#2a3f5f"
                      }
                    },
                    "ternary": {
                      "aaxis": {
                        "gridcolor": "white",
                        "linecolor": "white",
                        "ticks": ""
                      },
                      "baxis": {
                        "gridcolor": "white",
                        "linecolor": "white",
                        "ticks": ""
                      },
                      "bgcolor": "#E5ECF6",
                      "caxis": {
                        "gridcolor": "white",
                        "linecolor": "white",
                        "ticks": ""
                      }
                    },
                    "title": {
                      "x": 0.05
                    },
                    "xaxis": {
                      "automargin": true,
                      "gridcolor": "white",
                      "linecolor": "white",
                      "ticks": "",
                      "title": {
                        "standoff": 15
                      },
                      "zerolinecolor": "white",
                      "zerolinewidth": 2
                    },
                    "yaxis": {
                      "automargin": true,
                      "gridcolor": "white",
                      "linecolor": "white",
                      "ticks": "",
                      "title": {
                        "standoff": 15
                      },
                      "zerolinecolor": "white",
                      "zerolinewidth": 2
                    }
                  }
                },
                "title": {
                  "text": "Histogram of df-2013"
                },
                "width": 800,
                "xaxis": {
                  "anchor": "y",
                  "domain": [
                    0,
                    0.45
                  ],
                  "title": {
                    "text": "Value"
                  }
                },
                "xaxis2": {
                  "anchor": "y2",
                  "domain": [
                    0.55,
                    1
                  ],
                  "title": {
                    "text": "Value"
                  }
                },
                "yaxis": {
                  "anchor": "x",
                  "domain": [
                    0,
                    1
                  ],
                  "title": {
                    "text": "Count"
                  }
                },
                "yaxis2": {
                  "anchor": "x2",
                  "domain": [
                    0,
                    1
                  ],
                  "title": {
                    "text": "Count"
                  }
                }
              }
            }
          },
          "metadata": {},
          "output_type": "display_data"
        }
      ],
      "source": [
        "viz = df_2013[['2013-februari', '2013-agustus']]\n",
        "fig = make_subplots(rows=1, cols=2, subplot_titles=[f'Distribution of {col}' for col in viz.columns])\n",
        "\n",
        "for i, col in enumerate(viz.columns):\n",
        "    hist = px.histogram(df_2013, x=col, nbins=10)\n",
        "    \n",
        "    \n",
        "    for trace in hist.data:\n",
        "        fig.add_trace(trace, row=1, col=i+1)\n",
        "\n",
        "fig.update_layout(\n",
        "    bargap=0.1,\n",
        "    width=800,\n",
        "    height=400,\n",
        "    showlegend=False,\n",
        "    title_text='Histogram of df-2013'\n",
        ")\n",
        "\n",
        "fig.update_xaxes(title_text='Value')\n",
        "fig.update_yaxes(title_text='Count')\n",
        "fig.show()\n"
      ]
    },
    {
      "cell_type": "code",
      "execution_count": 13,
      "metadata": {},
      "outputs": [
        {
          "data": {
            "application/vnd.plotly.v1+json": {
              "config": {
                "plotlyServerURL": "https://plot.ly"
              },
              "data": [
                {
                  "alignmentgroup": "True",
                  "hovertemplate": "variable=%{x}<br>value=%{y}<extra></extra>",
                  "legendgroup": "",
                  "marker": {
                    "color": "#636efa"
                  },
                  "name": "",
                  "notched": false,
                  "offsetgroup": "",
                  "orientation": "v",
                  "showlegend": false,
                  "type": "box",
                  "x": [
                    "2013-februari",
                    "2013-februari",
                    "2013-februari",
                    "2013-februari",
                    "2013-februari",
                    "2013-februari",
                    "2013-februari",
                    "2013-februari",
                    "2013-februari",
                    "2013-februari",
                    "2013-februari",
                    "2013-februari",
                    "2013-februari",
                    "2013-februari",
                    "2013-februari",
                    "2013-februari",
                    "2013-februari",
                    "2013-februari",
                    "2013-februari",
                    "2013-februari",
                    "2013-februari",
                    "2013-februari",
                    "2013-februari",
                    "2013-februari",
                    "2013-februari",
                    "2013-februari",
                    "2013-februari",
                    "2013-februari",
                    "2013-februari",
                    "2013-februari",
                    "2013-februari",
                    "2013-februari",
                    "2013-februari",
                    "2013-agustus",
                    "2013-agustus",
                    "2013-agustus",
                    "2013-agustus",
                    "2013-agustus",
                    "2013-agustus",
                    "2013-agustus",
                    "2013-agustus",
                    "2013-agustus",
                    "2013-agustus",
                    "2013-agustus",
                    "2013-agustus",
                    "2013-agustus",
                    "2013-agustus",
                    "2013-agustus",
                    "2013-agustus",
                    "2013-agustus",
                    "2013-agustus",
                    "2013-agustus",
                    "2013-agustus",
                    "2013-agustus",
                    "2013-agustus",
                    "2013-agustus",
                    "2013-agustus",
                    "2013-agustus",
                    "2013-agustus",
                    "2013-agustus",
                    "2013-agustus",
                    "2013-agustus",
                    "2013-agustus",
                    "2013-agustus",
                    "2013-agustus",
                    "2013-agustus"
                  ],
                  "x0": " ",
                  "xaxis": "x",
                  "y": [
                    8.34,
                    6.09,
                    6.39,
                    4.19,
                    2.89,
                    5.41,
                    2.1,
                    5.07,
                    3.22,
                    6.05,
                    9.64,
                    8.88,
                    5.53,
                    3.75,
                    3.97,
                    9.77,
                    1.93,
                    5.28,
                    2.12,
                    3.13,
                    1.81,
                    3.88,
                    8.94,
                    7.5,
                    2.67,
                    5.88,
                    3.43,
                    4.51,
                    2.02,
                    6.97,
                    5.5,
                    4.36,
                    2.91,
                    10.12,
                    6.45,
                    7.02,
                    5.48,
                    4.76,
                    4.84,
                    4.61,
                    5.69,
                    3.65,
                    5.63,
                    8.63,
                    9.16,
                    6.01,
                    3.24,
                    4.3,
                    9.54,
                    1.83,
                    5.3,
                    3.25,
                    3.99,
                    3,
                    3.66,
                    7.95,
                    6.79,
                    4.19,
                    5.1,
                    4.38,
                    4.15,
                    2.35,
                    9.91,
                    3.8,
                    4.4,
                    3.15
                  ],
                  "y0": " ",
                  "yaxis": "y"
                }
              ],
              "layout": {
                "boxmode": "group",
                "height": 400,
                "legend": {
                  "tracegroupgap": 0
                },
                "template": {
                  "data": {
                    "bar": [
                      {
                        "error_x": {
                          "color": "#2a3f5f"
                        },
                        "error_y": {
                          "color": "#2a3f5f"
                        },
                        "marker": {
                          "line": {
                            "color": "#E5ECF6",
                            "width": 0.5
                          },
                          "pattern": {
                            "fillmode": "overlay",
                            "size": 10,
                            "solidity": 0.2
                          }
                        },
                        "type": "bar"
                      }
                    ],
                    "barpolar": [
                      {
                        "marker": {
                          "line": {
                            "color": "#E5ECF6",
                            "width": 0.5
                          },
                          "pattern": {
                            "fillmode": "overlay",
                            "size": 10,
                            "solidity": 0.2
                          }
                        },
                        "type": "barpolar"
                      }
                    ],
                    "carpet": [
                      {
                        "aaxis": {
                          "endlinecolor": "#2a3f5f",
                          "gridcolor": "white",
                          "linecolor": "white",
                          "minorgridcolor": "white",
                          "startlinecolor": "#2a3f5f"
                        },
                        "baxis": {
                          "endlinecolor": "#2a3f5f",
                          "gridcolor": "white",
                          "linecolor": "white",
                          "minorgridcolor": "white",
                          "startlinecolor": "#2a3f5f"
                        },
                        "type": "carpet"
                      }
                    ],
                    "choropleth": [
                      {
                        "colorbar": {
                          "outlinewidth": 0,
                          "ticks": ""
                        },
                        "type": "choropleth"
                      }
                    ],
                    "contour": [
                      {
                        "colorbar": {
                          "outlinewidth": 0,
                          "ticks": ""
                        },
                        "colorscale": [
                          [
                            0,
                            "#0d0887"
                          ],
                          [
                            0.1111111111111111,
                            "#46039f"
                          ],
                          [
                            0.2222222222222222,
                            "#7201a8"
                          ],
                          [
                            0.3333333333333333,
                            "#9c179e"
                          ],
                          [
                            0.4444444444444444,
                            "#bd3786"
                          ],
                          [
                            0.5555555555555556,
                            "#d8576b"
                          ],
                          [
                            0.6666666666666666,
                            "#ed7953"
                          ],
                          [
                            0.7777777777777778,
                            "#fb9f3a"
                          ],
                          [
                            0.8888888888888888,
                            "#fdca26"
                          ],
                          [
                            1,
                            "#f0f921"
                          ]
                        ],
                        "type": "contour"
                      }
                    ],
                    "contourcarpet": [
                      {
                        "colorbar": {
                          "outlinewidth": 0,
                          "ticks": ""
                        },
                        "type": "contourcarpet"
                      }
                    ],
                    "heatmap": [
                      {
                        "colorbar": {
                          "outlinewidth": 0,
                          "ticks": ""
                        },
                        "colorscale": [
                          [
                            0,
                            "#0d0887"
                          ],
                          [
                            0.1111111111111111,
                            "#46039f"
                          ],
                          [
                            0.2222222222222222,
                            "#7201a8"
                          ],
                          [
                            0.3333333333333333,
                            "#9c179e"
                          ],
                          [
                            0.4444444444444444,
                            "#bd3786"
                          ],
                          [
                            0.5555555555555556,
                            "#d8576b"
                          ],
                          [
                            0.6666666666666666,
                            "#ed7953"
                          ],
                          [
                            0.7777777777777778,
                            "#fb9f3a"
                          ],
                          [
                            0.8888888888888888,
                            "#fdca26"
                          ],
                          [
                            1,
                            "#f0f921"
                          ]
                        ],
                        "type": "heatmap"
                      }
                    ],
                    "heatmapgl": [
                      {
                        "colorbar": {
                          "outlinewidth": 0,
                          "ticks": ""
                        },
                        "colorscale": [
                          [
                            0,
                            "#0d0887"
                          ],
                          [
                            0.1111111111111111,
                            "#46039f"
                          ],
                          [
                            0.2222222222222222,
                            "#7201a8"
                          ],
                          [
                            0.3333333333333333,
                            "#9c179e"
                          ],
                          [
                            0.4444444444444444,
                            "#bd3786"
                          ],
                          [
                            0.5555555555555556,
                            "#d8576b"
                          ],
                          [
                            0.6666666666666666,
                            "#ed7953"
                          ],
                          [
                            0.7777777777777778,
                            "#fb9f3a"
                          ],
                          [
                            0.8888888888888888,
                            "#fdca26"
                          ],
                          [
                            1,
                            "#f0f921"
                          ]
                        ],
                        "type": "heatmapgl"
                      }
                    ],
                    "histogram": [
                      {
                        "marker": {
                          "pattern": {
                            "fillmode": "overlay",
                            "size": 10,
                            "solidity": 0.2
                          }
                        },
                        "type": "histogram"
                      }
                    ],
                    "histogram2d": [
                      {
                        "colorbar": {
                          "outlinewidth": 0,
                          "ticks": ""
                        },
                        "colorscale": [
                          [
                            0,
                            "#0d0887"
                          ],
                          [
                            0.1111111111111111,
                            "#46039f"
                          ],
                          [
                            0.2222222222222222,
                            "#7201a8"
                          ],
                          [
                            0.3333333333333333,
                            "#9c179e"
                          ],
                          [
                            0.4444444444444444,
                            "#bd3786"
                          ],
                          [
                            0.5555555555555556,
                            "#d8576b"
                          ],
                          [
                            0.6666666666666666,
                            "#ed7953"
                          ],
                          [
                            0.7777777777777778,
                            "#fb9f3a"
                          ],
                          [
                            0.8888888888888888,
                            "#fdca26"
                          ],
                          [
                            1,
                            "#f0f921"
                          ]
                        ],
                        "type": "histogram2d"
                      }
                    ],
                    "histogram2dcontour": [
                      {
                        "colorbar": {
                          "outlinewidth": 0,
                          "ticks": ""
                        },
                        "colorscale": [
                          [
                            0,
                            "#0d0887"
                          ],
                          [
                            0.1111111111111111,
                            "#46039f"
                          ],
                          [
                            0.2222222222222222,
                            "#7201a8"
                          ],
                          [
                            0.3333333333333333,
                            "#9c179e"
                          ],
                          [
                            0.4444444444444444,
                            "#bd3786"
                          ],
                          [
                            0.5555555555555556,
                            "#d8576b"
                          ],
                          [
                            0.6666666666666666,
                            "#ed7953"
                          ],
                          [
                            0.7777777777777778,
                            "#fb9f3a"
                          ],
                          [
                            0.8888888888888888,
                            "#fdca26"
                          ],
                          [
                            1,
                            "#f0f921"
                          ]
                        ],
                        "type": "histogram2dcontour"
                      }
                    ],
                    "mesh3d": [
                      {
                        "colorbar": {
                          "outlinewidth": 0,
                          "ticks": ""
                        },
                        "type": "mesh3d"
                      }
                    ],
                    "parcoords": [
                      {
                        "line": {
                          "colorbar": {
                            "outlinewidth": 0,
                            "ticks": ""
                          }
                        },
                        "type": "parcoords"
                      }
                    ],
                    "pie": [
                      {
                        "automargin": true,
                        "type": "pie"
                      }
                    ],
                    "scatter": [
                      {
                        "fillpattern": {
                          "fillmode": "overlay",
                          "size": 10,
                          "solidity": 0.2
                        },
                        "type": "scatter"
                      }
                    ],
                    "scatter3d": [
                      {
                        "line": {
                          "colorbar": {
                            "outlinewidth": 0,
                            "ticks": ""
                          }
                        },
                        "marker": {
                          "colorbar": {
                            "outlinewidth": 0,
                            "ticks": ""
                          }
                        },
                        "type": "scatter3d"
                      }
                    ],
                    "scattercarpet": [
                      {
                        "marker": {
                          "colorbar": {
                            "outlinewidth": 0,
                            "ticks": ""
                          }
                        },
                        "type": "scattercarpet"
                      }
                    ],
                    "scattergeo": [
                      {
                        "marker": {
                          "colorbar": {
                            "outlinewidth": 0,
                            "ticks": ""
                          }
                        },
                        "type": "scattergeo"
                      }
                    ],
                    "scattergl": [
                      {
                        "marker": {
                          "colorbar": {
                            "outlinewidth": 0,
                            "ticks": ""
                          }
                        },
                        "type": "scattergl"
                      }
                    ],
                    "scattermapbox": [
                      {
                        "marker": {
                          "colorbar": {
                            "outlinewidth": 0,
                            "ticks": ""
                          }
                        },
                        "type": "scattermapbox"
                      }
                    ],
                    "scatterpolar": [
                      {
                        "marker": {
                          "colorbar": {
                            "outlinewidth": 0,
                            "ticks": ""
                          }
                        },
                        "type": "scatterpolar"
                      }
                    ],
                    "scatterpolargl": [
                      {
                        "marker": {
                          "colorbar": {
                            "outlinewidth": 0,
                            "ticks": ""
                          }
                        },
                        "type": "scatterpolargl"
                      }
                    ],
                    "scatterternary": [
                      {
                        "marker": {
                          "colorbar": {
                            "outlinewidth": 0,
                            "ticks": ""
                          }
                        },
                        "type": "scatterternary"
                      }
                    ],
                    "surface": [
                      {
                        "colorbar": {
                          "outlinewidth": 0,
                          "ticks": ""
                        },
                        "colorscale": [
                          [
                            0,
                            "#0d0887"
                          ],
                          [
                            0.1111111111111111,
                            "#46039f"
                          ],
                          [
                            0.2222222222222222,
                            "#7201a8"
                          ],
                          [
                            0.3333333333333333,
                            "#9c179e"
                          ],
                          [
                            0.4444444444444444,
                            "#bd3786"
                          ],
                          [
                            0.5555555555555556,
                            "#d8576b"
                          ],
                          [
                            0.6666666666666666,
                            "#ed7953"
                          ],
                          [
                            0.7777777777777778,
                            "#fb9f3a"
                          ],
                          [
                            0.8888888888888888,
                            "#fdca26"
                          ],
                          [
                            1,
                            "#f0f921"
                          ]
                        ],
                        "type": "surface"
                      }
                    ],
                    "table": [
                      {
                        "cells": {
                          "fill": {
                            "color": "#EBF0F8"
                          },
                          "line": {
                            "color": "white"
                          }
                        },
                        "header": {
                          "fill": {
                            "color": "#C8D4E3"
                          },
                          "line": {
                            "color": "white"
                          }
                        },
                        "type": "table"
                      }
                    ]
                  },
                  "layout": {
                    "annotationdefaults": {
                      "arrowcolor": "#2a3f5f",
                      "arrowhead": 0,
                      "arrowwidth": 1
                    },
                    "autotypenumbers": "strict",
                    "coloraxis": {
                      "colorbar": {
                        "outlinewidth": 0,
                        "ticks": ""
                      }
                    },
                    "colorscale": {
                      "diverging": [
                        [
                          0,
                          "#8e0152"
                        ],
                        [
                          0.1,
                          "#c51b7d"
                        ],
                        [
                          0.2,
                          "#de77ae"
                        ],
                        [
                          0.3,
                          "#f1b6da"
                        ],
                        [
                          0.4,
                          "#fde0ef"
                        ],
                        [
                          0.5,
                          "#f7f7f7"
                        ],
                        [
                          0.6,
                          "#e6f5d0"
                        ],
                        [
                          0.7,
                          "#b8e186"
                        ],
                        [
                          0.8,
                          "#7fbc41"
                        ],
                        [
                          0.9,
                          "#4d9221"
                        ],
                        [
                          1,
                          "#276419"
                        ]
                      ],
                      "sequential": [
                        [
                          0,
                          "#0d0887"
                        ],
                        [
                          0.1111111111111111,
                          "#46039f"
                        ],
                        [
                          0.2222222222222222,
                          "#7201a8"
                        ],
                        [
                          0.3333333333333333,
                          "#9c179e"
                        ],
                        [
                          0.4444444444444444,
                          "#bd3786"
                        ],
                        [
                          0.5555555555555556,
                          "#d8576b"
                        ],
                        [
                          0.6666666666666666,
                          "#ed7953"
                        ],
                        [
                          0.7777777777777778,
                          "#fb9f3a"
                        ],
                        [
                          0.8888888888888888,
                          "#fdca26"
                        ],
                        [
                          1,
                          "#f0f921"
                        ]
                      ],
                      "sequentialminus": [
                        [
                          0,
                          "#0d0887"
                        ],
                        [
                          0.1111111111111111,
                          "#46039f"
                        ],
                        [
                          0.2222222222222222,
                          "#7201a8"
                        ],
                        [
                          0.3333333333333333,
                          "#9c179e"
                        ],
                        [
                          0.4444444444444444,
                          "#bd3786"
                        ],
                        [
                          0.5555555555555556,
                          "#d8576b"
                        ],
                        [
                          0.6666666666666666,
                          "#ed7953"
                        ],
                        [
                          0.7777777777777778,
                          "#fb9f3a"
                        ],
                        [
                          0.8888888888888888,
                          "#fdca26"
                        ],
                        [
                          1,
                          "#f0f921"
                        ]
                      ]
                    },
                    "colorway": [
                      "#636efa",
                      "#EF553B",
                      "#00cc96",
                      "#ab63fa",
                      "#FFA15A",
                      "#19d3f3",
                      "#FF6692",
                      "#B6E880",
                      "#FF97FF",
                      "#FECB52"
                    ],
                    "font": {
                      "color": "#2a3f5f"
                    },
                    "geo": {
                      "bgcolor": "white",
                      "lakecolor": "white",
                      "landcolor": "#E5ECF6",
                      "showlakes": true,
                      "showland": true,
                      "subunitcolor": "white"
                    },
                    "hoverlabel": {
                      "align": "left"
                    },
                    "hovermode": "closest",
                    "mapbox": {
                      "style": "light"
                    },
                    "paper_bgcolor": "white",
                    "plot_bgcolor": "#E5ECF6",
                    "polar": {
                      "angularaxis": {
                        "gridcolor": "white",
                        "linecolor": "white",
                        "ticks": ""
                      },
                      "bgcolor": "#E5ECF6",
                      "radialaxis": {
                        "gridcolor": "white",
                        "linecolor": "white",
                        "ticks": ""
                      }
                    },
                    "scene": {
                      "xaxis": {
                        "backgroundcolor": "#E5ECF6",
                        "gridcolor": "white",
                        "gridwidth": 2,
                        "linecolor": "white",
                        "showbackground": true,
                        "ticks": "",
                        "zerolinecolor": "white"
                      },
                      "yaxis": {
                        "backgroundcolor": "#E5ECF6",
                        "gridcolor": "white",
                        "gridwidth": 2,
                        "linecolor": "white",
                        "showbackground": true,
                        "ticks": "",
                        "zerolinecolor": "white"
                      },
                      "zaxis": {
                        "backgroundcolor": "#E5ECF6",
                        "gridcolor": "white",
                        "gridwidth": 2,
                        "linecolor": "white",
                        "showbackground": true,
                        "ticks": "",
                        "zerolinecolor": "white"
                      }
                    },
                    "shapedefaults": {
                      "line": {
                        "color": "#2a3f5f"
                      }
                    },
                    "ternary": {
                      "aaxis": {
                        "gridcolor": "white",
                        "linecolor": "white",
                        "ticks": ""
                      },
                      "baxis": {
                        "gridcolor": "white",
                        "linecolor": "white",
                        "ticks": ""
                      },
                      "bgcolor": "#E5ECF6",
                      "caxis": {
                        "gridcolor": "white",
                        "linecolor": "white",
                        "ticks": ""
                      }
                    },
                    "title": {
                      "x": 0.05
                    },
                    "xaxis": {
                      "automargin": true,
                      "gridcolor": "white",
                      "linecolor": "white",
                      "ticks": "",
                      "title": {
                        "standoff": 15
                      },
                      "zerolinecolor": "white",
                      "zerolinewidth": 2
                    },
                    "yaxis": {
                      "automargin": true,
                      "gridcolor": "white",
                      "linecolor": "white",
                      "ticks": "",
                      "title": {
                        "standoff": 15
                      },
                      "zerolinecolor": "white",
                      "zerolinewidth": 2
                    }
                  }
                },
                "title": {
                  "text": "Boxplot Data 2013-februari & 2013-agustus"
                },
                "width": 600,
                "xaxis": {
                  "anchor": "y",
                  "domain": [
                    0,
                    1
                  ],
                  "title": {
                    "text": "variable"
                  }
                },
                "yaxis": {
                  "anchor": "x",
                  "domain": [
                    0,
                    1
                  ],
                  "title": {
                    "text": "value"
                  }
                }
              }
            }
          },
          "metadata": {},
          "output_type": "display_data"
        }
      ],
      "source": [
        "drop_13 = df_2013.dropna()\n",
        "fig = px.box(drop_13, y=['2013-februari', '2013-agustus'], title=\"Boxplot Data 2013-februari & 2013-agustus\")\n",
        "\n",
        "fig.update_layout(width = 600,\n",
        "           height = 400)\n",
        "fig.show()"
      ]
    },
    {
      "cell_type": "code",
      "execution_count": 14,
      "metadata": {},
      "outputs": [],
      "source": [
        "mean_13 = df_2013.drop(columns=df_2013[['provinsi']], axis=1)\n",
        "df_2013.fillna(mean_13.mean().round(2), inplace=True)"
      ]
    },
    {
      "cell_type": "code",
      "execution_count": 15,
      "metadata": {},
      "outputs": [
        {
          "data": {
            "text/html": [
              "<div>\n",
              "<style scoped>\n",
              "    .dataframe tbody tr th:only-of-type {\n",
              "        vertical-align: middle;\n",
              "    }\n",
              "\n",
              "    .dataframe tbody tr th {\n",
              "        vertical-align: top;\n",
              "    }\n",
              "\n",
              "    .dataframe thead th {\n",
              "        text-align: right;\n",
              "    }\n",
              "</style>\n",
              "<table border=\"1\" class=\"dataframe\">\n",
              "  <thead>\n",
              "    <tr style=\"text-align: right;\">\n",
              "      <th></th>\n",
              "      <th>provinsi</th>\n",
              "      <th>2013-februari</th>\n",
              "      <th>2013-agustus</th>\n",
              "    </tr>\n",
              "  </thead>\n",
              "  <tbody>\n",
              "    <tr>\n",
              "      <th>0</th>\n",
              "      <td>ACEH</td>\n",
              "      <td>8.34</td>\n",
              "      <td>10.12</td>\n",
              "    </tr>\n",
              "    <tr>\n",
              "      <th>1</th>\n",
              "      <td>SUMATERA UTARA</td>\n",
              "      <td>6.09</td>\n",
              "      <td>6.45</td>\n",
              "    </tr>\n",
              "    <tr>\n",
              "      <th>2</th>\n",
              "      <td>SUMATERA BARAT</td>\n",
              "      <td>6.39</td>\n",
              "      <td>7.02</td>\n",
              "    </tr>\n",
              "    <tr>\n",
              "      <th>3</th>\n",
              "      <td>RIAU</td>\n",
              "      <td>4.19</td>\n",
              "      <td>5.48</td>\n",
              "    </tr>\n",
              "    <tr>\n",
              "      <th>4</th>\n",
              "      <td>JAMBI</td>\n",
              "      <td>2.89</td>\n",
              "      <td>4.76</td>\n",
              "    </tr>\n",
              "    <tr>\n",
              "      <th>5</th>\n",
              "      <td>SUMATERA SELATAN</td>\n",
              "      <td>5.41</td>\n",
              "      <td>4.84</td>\n",
              "    </tr>\n",
              "    <tr>\n",
              "      <th>6</th>\n",
              "      <td>BENGKULU</td>\n",
              "      <td>2.10</td>\n",
              "      <td>4.61</td>\n",
              "    </tr>\n",
              "    <tr>\n",
              "      <th>7</th>\n",
              "      <td>LAMPUNG</td>\n",
              "      <td>5.07</td>\n",
              "      <td>5.69</td>\n",
              "    </tr>\n",
              "    <tr>\n",
              "      <th>8</th>\n",
              "      <td>KEPULAUAN BANGKA BELITUNG</td>\n",
              "      <td>3.22</td>\n",
              "      <td>3.65</td>\n",
              "    </tr>\n",
              "    <tr>\n",
              "      <th>9</th>\n",
              "      <td>KEPULAUAN RIAU</td>\n",
              "      <td>6.05</td>\n",
              "      <td>5.63</td>\n",
              "    </tr>\n",
              "    <tr>\n",
              "      <th>10</th>\n",
              "      <td>DKI JAKARTA</td>\n",
              "      <td>9.64</td>\n",
              "      <td>8.63</td>\n",
              "    </tr>\n",
              "    <tr>\n",
              "      <th>11</th>\n",
              "      <td>JAWA BARAT</td>\n",
              "      <td>8.88</td>\n",
              "      <td>9.16</td>\n",
              "    </tr>\n",
              "    <tr>\n",
              "      <th>12</th>\n",
              "      <td>JAWA TENGAH</td>\n",
              "      <td>5.53</td>\n",
              "      <td>6.01</td>\n",
              "    </tr>\n",
              "    <tr>\n",
              "      <th>13</th>\n",
              "      <td>DI YOGYAKARTA</td>\n",
              "      <td>3.75</td>\n",
              "      <td>3.24</td>\n",
              "    </tr>\n",
              "    <tr>\n",
              "      <th>14</th>\n",
              "      <td>JAWA TIMUR</td>\n",
              "      <td>3.97</td>\n",
              "      <td>4.30</td>\n",
              "    </tr>\n",
              "    <tr>\n",
              "      <th>15</th>\n",
              "      <td>BANTEN</td>\n",
              "      <td>9.77</td>\n",
              "      <td>9.54</td>\n",
              "    </tr>\n",
              "    <tr>\n",
              "      <th>16</th>\n",
              "      <td>BALI</td>\n",
              "      <td>1.93</td>\n",
              "      <td>1.83</td>\n",
              "    </tr>\n",
              "    <tr>\n",
              "      <th>17</th>\n",
              "      <td>NUSA TENGGARA BARAT</td>\n",
              "      <td>5.28</td>\n",
              "      <td>5.30</td>\n",
              "    </tr>\n",
              "    <tr>\n",
              "      <th>18</th>\n",
              "      <td>NUSA TENGGARA TIMUR</td>\n",
              "      <td>2.12</td>\n",
              "      <td>3.25</td>\n",
              "    </tr>\n",
              "    <tr>\n",
              "      <th>19</th>\n",
              "      <td>KALIMANTAN BARAT</td>\n",
              "      <td>3.13</td>\n",
              "      <td>3.99</td>\n",
              "    </tr>\n",
              "    <tr>\n",
              "      <th>20</th>\n",
              "      <td>KALIMANTAN TENGAH</td>\n",
              "      <td>1.81</td>\n",
              "      <td>3.00</td>\n",
              "    </tr>\n",
              "    <tr>\n",
              "      <th>21</th>\n",
              "      <td>KALIMANTAN SELATAN</td>\n",
              "      <td>3.88</td>\n",
              "      <td>3.66</td>\n",
              "    </tr>\n",
              "    <tr>\n",
              "      <th>22</th>\n",
              "      <td>KALIMANTAN TIMUR</td>\n",
              "      <td>8.94</td>\n",
              "      <td>7.95</td>\n",
              "    </tr>\n",
              "    <tr>\n",
              "      <th>23</th>\n",
              "      <td>KALIMANTAN UTARA</td>\n",
              "      <td>4.97</td>\n",
              "      <td>5.34</td>\n",
              "    </tr>\n",
              "    <tr>\n",
              "      <th>24</th>\n",
              "      <td>SULAWESI UTARA</td>\n",
              "      <td>7.50</td>\n",
              "      <td>6.79</td>\n",
              "    </tr>\n",
              "    <tr>\n",
              "      <th>25</th>\n",
              "      <td>SULAWESI TENGAH</td>\n",
              "      <td>2.67</td>\n",
              "      <td>4.19</td>\n",
              "    </tr>\n",
              "    <tr>\n",
              "      <th>26</th>\n",
              "      <td>SULAWESI SELATAN</td>\n",
              "      <td>5.88</td>\n",
              "      <td>5.10</td>\n",
              "    </tr>\n",
              "    <tr>\n",
              "      <th>27</th>\n",
              "      <td>SULAWESI TENGGARA</td>\n",
              "      <td>3.43</td>\n",
              "      <td>4.38</td>\n",
              "    </tr>\n",
              "    <tr>\n",
              "      <th>28</th>\n",
              "      <td>GORONTALO</td>\n",
              "      <td>4.51</td>\n",
              "      <td>4.15</td>\n",
              "    </tr>\n",
              "    <tr>\n",
              "      <th>29</th>\n",
              "      <td>SULAWESI BARAT</td>\n",
              "      <td>2.02</td>\n",
              "      <td>2.35</td>\n",
              "    </tr>\n",
              "    <tr>\n",
              "      <th>30</th>\n",
              "      <td>MALUKU</td>\n",
              "      <td>6.97</td>\n",
              "      <td>9.91</td>\n",
              "    </tr>\n",
              "    <tr>\n",
              "      <th>31</th>\n",
              "      <td>MALUKU UTARA</td>\n",
              "      <td>5.50</td>\n",
              "      <td>3.80</td>\n",
              "    </tr>\n",
              "    <tr>\n",
              "      <th>32</th>\n",
              "      <td>PAPUA BARAT</td>\n",
              "      <td>4.36</td>\n",
              "      <td>4.40</td>\n",
              "    </tr>\n",
              "    <tr>\n",
              "      <th>33</th>\n",
              "      <td>PAPUA</td>\n",
              "      <td>2.91</td>\n",
              "      <td>3.15</td>\n",
              "    </tr>\n",
              "  </tbody>\n",
              "</table>\n",
              "</div>"
            ],
            "text/plain": [
              "                     provinsi  2013-februari  2013-agustus\n",
              "0                        ACEH           8.34         10.12\n",
              "1              SUMATERA UTARA           6.09          6.45\n",
              "2              SUMATERA BARAT           6.39          7.02\n",
              "3                        RIAU           4.19          5.48\n",
              "4                       JAMBI           2.89          4.76\n",
              "5            SUMATERA SELATAN           5.41          4.84\n",
              "6                    BENGKULU           2.10          4.61\n",
              "7                     LAMPUNG           5.07          5.69\n",
              "8   KEPULAUAN BANGKA BELITUNG           3.22          3.65\n",
              "9              KEPULAUAN RIAU           6.05          5.63\n",
              "10                DKI JAKARTA           9.64          8.63\n",
              "11                 JAWA BARAT           8.88          9.16\n",
              "12                JAWA TENGAH           5.53          6.01\n",
              "13              DI YOGYAKARTA           3.75          3.24\n",
              "14                 JAWA TIMUR           3.97          4.30\n",
              "15                     BANTEN           9.77          9.54\n",
              "16                       BALI           1.93          1.83\n",
              "17        NUSA TENGGARA BARAT           5.28          5.30\n",
              "18        NUSA TENGGARA TIMUR           2.12          3.25\n",
              "19           KALIMANTAN BARAT           3.13          3.99\n",
              "20          KALIMANTAN TENGAH           1.81          3.00\n",
              "21         KALIMANTAN SELATAN           3.88          3.66\n",
              "22           KALIMANTAN TIMUR           8.94          7.95\n",
              "23           KALIMANTAN UTARA           4.97          5.34\n",
              "24             SULAWESI UTARA           7.50          6.79\n",
              "25            SULAWESI TENGAH           2.67          4.19\n",
              "26           SULAWESI SELATAN           5.88          5.10\n",
              "27          SULAWESI TENGGARA           3.43          4.38\n",
              "28                  GORONTALO           4.51          4.15\n",
              "29             SULAWESI BARAT           2.02          2.35\n",
              "30                     MALUKU           6.97          9.91\n",
              "31               MALUKU UTARA           5.50          3.80\n",
              "32                PAPUA BARAT           4.36          4.40\n",
              "33                      PAPUA           2.91          3.15"
            ]
          },
          "execution_count": 15,
          "metadata": {},
          "output_type": "execute_result"
        }
      ],
      "source": [
        "df_2013"
      ]
    },
    {
      "cell_type": "code",
      "execution_count": 16,
      "metadata": {},
      "outputs": [
        {
          "data": {
            "text/plain": [
              "provinsi          object\n",
              "2013-februari    float64\n",
              "2013-agustus     float64\n",
              "dtype: object"
            ]
          },
          "execution_count": 16,
          "metadata": {},
          "output_type": "execute_result"
        }
      ],
      "source": [
        "df_2013.dtypes"
      ]
    },
    {
      "cell_type": "markdown",
      "metadata": {
        "id": "6KW1VxUngLmV"
      },
      "source": [
        "## TPT - 2014"
      ]
    },
    {
      "cell_type": "code",
      "execution_count": 17,
      "metadata": {},
      "outputs": [
        {
          "name": "stdout",
          "output_type": "stream",
          "text": [
            "<class 'pandas.core.frame.DataFrame'>\n",
            "RangeIndex: 35 entries, 0 to 34\n",
            "Data columns (total 3 columns):\n",
            " #   Column                                         Non-Null Count  Dtype \n",
            "---  ------                                         --------------  ----- \n",
            " 0   Provinsi                                       35 non-null     object\n",
            " 1   Tingkat Pengangguran Terbuka (TPT) - Februari  35 non-null     object\n",
            " 2   Tingkat Pengangguran Terbuka (TPT) - Agustus   35 non-null     object\n",
            "dtypes: object(3)\n",
            "memory usage: 972.0+ bytes\n"
          ]
        }
      ],
      "source": [
        "df_2014.info()"
      ]
    },
    {
      "cell_type": "code",
      "execution_count": 18,
      "metadata": {
        "id": "RyIPgkhigPJ9"
      },
      "outputs": [],
      "source": [
        "df_2014 = df_2014.rename(columns={'Provinsi':'provinsi',  'Tingkat Pengangguran Terbuka (TPT) - Februari':'2014-februari', 'Tingkat Pengangguran Terbuka (TPT) - Agustus':'2014-agustus'})"
      ]
    },
    {
      "cell_type": "code",
      "execution_count": 19,
      "metadata": {
        "id": "2VgJ8mH7grxv"
      },
      "outputs": [],
      "source": [
        "df_2014.drop(df_2014.tail(1).index, inplace=True)"
      ]
    },
    {
      "cell_type": "code",
      "execution_count": 20,
      "metadata": {},
      "outputs": [],
      "source": [
        "df_2014.replace('-', np.nan, inplace=True)"
      ]
    },
    {
      "cell_type": "code",
      "execution_count": 21,
      "metadata": {},
      "outputs": [
        {
          "data": {
            "text/plain": [
              "provinsi         0\n",
              "2014-februari    1\n",
              "2014-agustus     1\n",
              "dtype: int64"
            ]
          },
          "execution_count": 21,
          "metadata": {},
          "output_type": "execute_result"
        }
      ],
      "source": [
        "df_2014.isna().sum()"
      ]
    },
    {
      "cell_type": "code",
      "execution_count": 22,
      "metadata": {},
      "outputs": [],
      "source": [
        "df_2014[['2014-februari', '2014-agustus']] = df_2014[['2014-februari', '2014-agustus']].apply(conv_float)"
      ]
    },
    {
      "cell_type": "code",
      "execution_count": 23,
      "metadata": {},
      "outputs": [
        {
          "data": {
            "application/vnd.plotly.v1+json": {
              "config": {
                "plotlyServerURL": "https://plot.ly"
              },
              "data": [
                {
                  "alignmentgroup": "True",
                  "bingroup": "x",
                  "hovertemplate": "2014-februari=%{x}<br>count=%{y}<extra></extra>",
                  "legendgroup": "",
                  "marker": {
                    "color": "#636efa",
                    "pattern": {
                      "shape": ""
                    }
                  },
                  "name": "",
                  "nbinsx": 10,
                  "offsetgroup": "",
                  "orientation": "v",
                  "showlegend": false,
                  "type": "histogram",
                  "x": [
                    6.75,
                    5.95,
                    6.32,
                    4.99,
                    2.5,
                    3.84,
                    1.62,
                    5.08,
                    2.67,
                    5.26,
                    9.84,
                    8.66,
                    5.45,
                    2.16,
                    4.02,
                    9.87,
                    1.37,
                    5.3,
                    1.97,
                    2.53,
                    2.71,
                    4.03,
                    8.89,
                    null,
                    7.27,
                    2.92,
                    5.79,
                    2.13,
                    2.44,
                    1.6,
                    6.59,
                    5.65,
                    3.7,
                    3.48
                  ],
                  "xaxis": "x",
                  "yaxis": "y"
                },
                {
                  "alignmentgroup": "True",
                  "bingroup": "x",
                  "hovertemplate": "2014-agustus=%{x}<br>count=%{y}<extra></extra>",
                  "legendgroup": "",
                  "marker": {
                    "color": "#636efa",
                    "pattern": {
                      "shape": ""
                    }
                  },
                  "name": "",
                  "nbinsx": 10,
                  "offsetgroup": "",
                  "orientation": "v",
                  "showlegend": false,
                  "type": "histogram",
                  "x": [
                    9.02,
                    6.23,
                    6.5,
                    6.56,
                    5.08,
                    4.96,
                    3.47,
                    4.79,
                    5.14,
                    6.69,
                    8.47,
                    8.45,
                    5.68,
                    3.33,
                    4.19,
                    9.07,
                    1.9,
                    5.75,
                    3.26,
                    4.04,
                    3.24,
                    3.8,
                    7.38,
                    null,
                    7.54,
                    3.68,
                    5.08,
                    4.43,
                    4.18,
                    2.08,
                    10.51,
                    5.29,
                    5.02,
                    3.44
                  ],
                  "xaxis": "x2",
                  "yaxis": "y2"
                }
              ],
              "layout": {
                "annotations": [
                  {
                    "font": {
                      "size": 16
                    },
                    "showarrow": false,
                    "text": "Distribution of 2014-februari",
                    "x": 0.225,
                    "xanchor": "center",
                    "xref": "paper",
                    "y": 1,
                    "yanchor": "bottom",
                    "yref": "paper"
                  },
                  {
                    "font": {
                      "size": 16
                    },
                    "showarrow": false,
                    "text": "Distribution of 2014-agustus",
                    "x": 0.775,
                    "xanchor": "center",
                    "xref": "paper",
                    "y": 1,
                    "yanchor": "bottom",
                    "yref": "paper"
                  }
                ],
                "bargap": 0.1,
                "height": 400,
                "showlegend": false,
                "template": {
                  "data": {
                    "bar": [
                      {
                        "error_x": {
                          "color": "#2a3f5f"
                        },
                        "error_y": {
                          "color": "#2a3f5f"
                        },
                        "marker": {
                          "line": {
                            "color": "#E5ECF6",
                            "width": 0.5
                          },
                          "pattern": {
                            "fillmode": "overlay",
                            "size": 10,
                            "solidity": 0.2
                          }
                        },
                        "type": "bar"
                      }
                    ],
                    "barpolar": [
                      {
                        "marker": {
                          "line": {
                            "color": "#E5ECF6",
                            "width": 0.5
                          },
                          "pattern": {
                            "fillmode": "overlay",
                            "size": 10,
                            "solidity": 0.2
                          }
                        },
                        "type": "barpolar"
                      }
                    ],
                    "carpet": [
                      {
                        "aaxis": {
                          "endlinecolor": "#2a3f5f",
                          "gridcolor": "white",
                          "linecolor": "white",
                          "minorgridcolor": "white",
                          "startlinecolor": "#2a3f5f"
                        },
                        "baxis": {
                          "endlinecolor": "#2a3f5f",
                          "gridcolor": "white",
                          "linecolor": "white",
                          "minorgridcolor": "white",
                          "startlinecolor": "#2a3f5f"
                        },
                        "type": "carpet"
                      }
                    ],
                    "choropleth": [
                      {
                        "colorbar": {
                          "outlinewidth": 0,
                          "ticks": ""
                        },
                        "type": "choropleth"
                      }
                    ],
                    "contour": [
                      {
                        "colorbar": {
                          "outlinewidth": 0,
                          "ticks": ""
                        },
                        "colorscale": [
                          [
                            0,
                            "#0d0887"
                          ],
                          [
                            0.1111111111111111,
                            "#46039f"
                          ],
                          [
                            0.2222222222222222,
                            "#7201a8"
                          ],
                          [
                            0.3333333333333333,
                            "#9c179e"
                          ],
                          [
                            0.4444444444444444,
                            "#bd3786"
                          ],
                          [
                            0.5555555555555556,
                            "#d8576b"
                          ],
                          [
                            0.6666666666666666,
                            "#ed7953"
                          ],
                          [
                            0.7777777777777778,
                            "#fb9f3a"
                          ],
                          [
                            0.8888888888888888,
                            "#fdca26"
                          ],
                          [
                            1,
                            "#f0f921"
                          ]
                        ],
                        "type": "contour"
                      }
                    ],
                    "contourcarpet": [
                      {
                        "colorbar": {
                          "outlinewidth": 0,
                          "ticks": ""
                        },
                        "type": "contourcarpet"
                      }
                    ],
                    "heatmap": [
                      {
                        "colorbar": {
                          "outlinewidth": 0,
                          "ticks": ""
                        },
                        "colorscale": [
                          [
                            0,
                            "#0d0887"
                          ],
                          [
                            0.1111111111111111,
                            "#46039f"
                          ],
                          [
                            0.2222222222222222,
                            "#7201a8"
                          ],
                          [
                            0.3333333333333333,
                            "#9c179e"
                          ],
                          [
                            0.4444444444444444,
                            "#bd3786"
                          ],
                          [
                            0.5555555555555556,
                            "#d8576b"
                          ],
                          [
                            0.6666666666666666,
                            "#ed7953"
                          ],
                          [
                            0.7777777777777778,
                            "#fb9f3a"
                          ],
                          [
                            0.8888888888888888,
                            "#fdca26"
                          ],
                          [
                            1,
                            "#f0f921"
                          ]
                        ],
                        "type": "heatmap"
                      }
                    ],
                    "heatmapgl": [
                      {
                        "colorbar": {
                          "outlinewidth": 0,
                          "ticks": ""
                        },
                        "colorscale": [
                          [
                            0,
                            "#0d0887"
                          ],
                          [
                            0.1111111111111111,
                            "#46039f"
                          ],
                          [
                            0.2222222222222222,
                            "#7201a8"
                          ],
                          [
                            0.3333333333333333,
                            "#9c179e"
                          ],
                          [
                            0.4444444444444444,
                            "#bd3786"
                          ],
                          [
                            0.5555555555555556,
                            "#d8576b"
                          ],
                          [
                            0.6666666666666666,
                            "#ed7953"
                          ],
                          [
                            0.7777777777777778,
                            "#fb9f3a"
                          ],
                          [
                            0.8888888888888888,
                            "#fdca26"
                          ],
                          [
                            1,
                            "#f0f921"
                          ]
                        ],
                        "type": "heatmapgl"
                      }
                    ],
                    "histogram": [
                      {
                        "marker": {
                          "pattern": {
                            "fillmode": "overlay",
                            "size": 10,
                            "solidity": 0.2
                          }
                        },
                        "type": "histogram"
                      }
                    ],
                    "histogram2d": [
                      {
                        "colorbar": {
                          "outlinewidth": 0,
                          "ticks": ""
                        },
                        "colorscale": [
                          [
                            0,
                            "#0d0887"
                          ],
                          [
                            0.1111111111111111,
                            "#46039f"
                          ],
                          [
                            0.2222222222222222,
                            "#7201a8"
                          ],
                          [
                            0.3333333333333333,
                            "#9c179e"
                          ],
                          [
                            0.4444444444444444,
                            "#bd3786"
                          ],
                          [
                            0.5555555555555556,
                            "#d8576b"
                          ],
                          [
                            0.6666666666666666,
                            "#ed7953"
                          ],
                          [
                            0.7777777777777778,
                            "#fb9f3a"
                          ],
                          [
                            0.8888888888888888,
                            "#fdca26"
                          ],
                          [
                            1,
                            "#f0f921"
                          ]
                        ],
                        "type": "histogram2d"
                      }
                    ],
                    "histogram2dcontour": [
                      {
                        "colorbar": {
                          "outlinewidth": 0,
                          "ticks": ""
                        },
                        "colorscale": [
                          [
                            0,
                            "#0d0887"
                          ],
                          [
                            0.1111111111111111,
                            "#46039f"
                          ],
                          [
                            0.2222222222222222,
                            "#7201a8"
                          ],
                          [
                            0.3333333333333333,
                            "#9c179e"
                          ],
                          [
                            0.4444444444444444,
                            "#bd3786"
                          ],
                          [
                            0.5555555555555556,
                            "#d8576b"
                          ],
                          [
                            0.6666666666666666,
                            "#ed7953"
                          ],
                          [
                            0.7777777777777778,
                            "#fb9f3a"
                          ],
                          [
                            0.8888888888888888,
                            "#fdca26"
                          ],
                          [
                            1,
                            "#f0f921"
                          ]
                        ],
                        "type": "histogram2dcontour"
                      }
                    ],
                    "mesh3d": [
                      {
                        "colorbar": {
                          "outlinewidth": 0,
                          "ticks": ""
                        },
                        "type": "mesh3d"
                      }
                    ],
                    "parcoords": [
                      {
                        "line": {
                          "colorbar": {
                            "outlinewidth": 0,
                            "ticks": ""
                          }
                        },
                        "type": "parcoords"
                      }
                    ],
                    "pie": [
                      {
                        "automargin": true,
                        "type": "pie"
                      }
                    ],
                    "scatter": [
                      {
                        "fillpattern": {
                          "fillmode": "overlay",
                          "size": 10,
                          "solidity": 0.2
                        },
                        "type": "scatter"
                      }
                    ],
                    "scatter3d": [
                      {
                        "line": {
                          "colorbar": {
                            "outlinewidth": 0,
                            "ticks": ""
                          }
                        },
                        "marker": {
                          "colorbar": {
                            "outlinewidth": 0,
                            "ticks": ""
                          }
                        },
                        "type": "scatter3d"
                      }
                    ],
                    "scattercarpet": [
                      {
                        "marker": {
                          "colorbar": {
                            "outlinewidth": 0,
                            "ticks": ""
                          }
                        },
                        "type": "scattercarpet"
                      }
                    ],
                    "scattergeo": [
                      {
                        "marker": {
                          "colorbar": {
                            "outlinewidth": 0,
                            "ticks": ""
                          }
                        },
                        "type": "scattergeo"
                      }
                    ],
                    "scattergl": [
                      {
                        "marker": {
                          "colorbar": {
                            "outlinewidth": 0,
                            "ticks": ""
                          }
                        },
                        "type": "scattergl"
                      }
                    ],
                    "scattermapbox": [
                      {
                        "marker": {
                          "colorbar": {
                            "outlinewidth": 0,
                            "ticks": ""
                          }
                        },
                        "type": "scattermapbox"
                      }
                    ],
                    "scatterpolar": [
                      {
                        "marker": {
                          "colorbar": {
                            "outlinewidth": 0,
                            "ticks": ""
                          }
                        },
                        "type": "scatterpolar"
                      }
                    ],
                    "scatterpolargl": [
                      {
                        "marker": {
                          "colorbar": {
                            "outlinewidth": 0,
                            "ticks": ""
                          }
                        },
                        "type": "scatterpolargl"
                      }
                    ],
                    "scatterternary": [
                      {
                        "marker": {
                          "colorbar": {
                            "outlinewidth": 0,
                            "ticks": ""
                          }
                        },
                        "type": "scatterternary"
                      }
                    ],
                    "surface": [
                      {
                        "colorbar": {
                          "outlinewidth": 0,
                          "ticks": ""
                        },
                        "colorscale": [
                          [
                            0,
                            "#0d0887"
                          ],
                          [
                            0.1111111111111111,
                            "#46039f"
                          ],
                          [
                            0.2222222222222222,
                            "#7201a8"
                          ],
                          [
                            0.3333333333333333,
                            "#9c179e"
                          ],
                          [
                            0.4444444444444444,
                            "#bd3786"
                          ],
                          [
                            0.5555555555555556,
                            "#d8576b"
                          ],
                          [
                            0.6666666666666666,
                            "#ed7953"
                          ],
                          [
                            0.7777777777777778,
                            "#fb9f3a"
                          ],
                          [
                            0.8888888888888888,
                            "#fdca26"
                          ],
                          [
                            1,
                            "#f0f921"
                          ]
                        ],
                        "type": "surface"
                      }
                    ],
                    "table": [
                      {
                        "cells": {
                          "fill": {
                            "color": "#EBF0F8"
                          },
                          "line": {
                            "color": "white"
                          }
                        },
                        "header": {
                          "fill": {
                            "color": "#C8D4E3"
                          },
                          "line": {
                            "color": "white"
                          }
                        },
                        "type": "table"
                      }
                    ]
                  },
                  "layout": {
                    "annotationdefaults": {
                      "arrowcolor": "#2a3f5f",
                      "arrowhead": 0,
                      "arrowwidth": 1
                    },
                    "autotypenumbers": "strict",
                    "coloraxis": {
                      "colorbar": {
                        "outlinewidth": 0,
                        "ticks": ""
                      }
                    },
                    "colorscale": {
                      "diverging": [
                        [
                          0,
                          "#8e0152"
                        ],
                        [
                          0.1,
                          "#c51b7d"
                        ],
                        [
                          0.2,
                          "#de77ae"
                        ],
                        [
                          0.3,
                          "#f1b6da"
                        ],
                        [
                          0.4,
                          "#fde0ef"
                        ],
                        [
                          0.5,
                          "#f7f7f7"
                        ],
                        [
                          0.6,
                          "#e6f5d0"
                        ],
                        [
                          0.7,
                          "#b8e186"
                        ],
                        [
                          0.8,
                          "#7fbc41"
                        ],
                        [
                          0.9,
                          "#4d9221"
                        ],
                        [
                          1,
                          "#276419"
                        ]
                      ],
                      "sequential": [
                        [
                          0,
                          "#0d0887"
                        ],
                        [
                          0.1111111111111111,
                          "#46039f"
                        ],
                        [
                          0.2222222222222222,
                          "#7201a8"
                        ],
                        [
                          0.3333333333333333,
                          "#9c179e"
                        ],
                        [
                          0.4444444444444444,
                          "#bd3786"
                        ],
                        [
                          0.5555555555555556,
                          "#d8576b"
                        ],
                        [
                          0.6666666666666666,
                          "#ed7953"
                        ],
                        [
                          0.7777777777777778,
                          "#fb9f3a"
                        ],
                        [
                          0.8888888888888888,
                          "#fdca26"
                        ],
                        [
                          1,
                          "#f0f921"
                        ]
                      ],
                      "sequentialminus": [
                        [
                          0,
                          "#0d0887"
                        ],
                        [
                          0.1111111111111111,
                          "#46039f"
                        ],
                        [
                          0.2222222222222222,
                          "#7201a8"
                        ],
                        [
                          0.3333333333333333,
                          "#9c179e"
                        ],
                        [
                          0.4444444444444444,
                          "#bd3786"
                        ],
                        [
                          0.5555555555555556,
                          "#d8576b"
                        ],
                        [
                          0.6666666666666666,
                          "#ed7953"
                        ],
                        [
                          0.7777777777777778,
                          "#fb9f3a"
                        ],
                        [
                          0.8888888888888888,
                          "#fdca26"
                        ],
                        [
                          1,
                          "#f0f921"
                        ]
                      ]
                    },
                    "colorway": [
                      "#636efa",
                      "#EF553B",
                      "#00cc96",
                      "#ab63fa",
                      "#FFA15A",
                      "#19d3f3",
                      "#FF6692",
                      "#B6E880",
                      "#FF97FF",
                      "#FECB52"
                    ],
                    "font": {
                      "color": "#2a3f5f"
                    },
                    "geo": {
                      "bgcolor": "white",
                      "lakecolor": "white",
                      "landcolor": "#E5ECF6",
                      "showlakes": true,
                      "showland": true,
                      "subunitcolor": "white"
                    },
                    "hoverlabel": {
                      "align": "left"
                    },
                    "hovermode": "closest",
                    "mapbox": {
                      "style": "light"
                    },
                    "paper_bgcolor": "white",
                    "plot_bgcolor": "#E5ECF6",
                    "polar": {
                      "angularaxis": {
                        "gridcolor": "white",
                        "linecolor": "white",
                        "ticks": ""
                      },
                      "bgcolor": "#E5ECF6",
                      "radialaxis": {
                        "gridcolor": "white",
                        "linecolor": "white",
                        "ticks": ""
                      }
                    },
                    "scene": {
                      "xaxis": {
                        "backgroundcolor": "#E5ECF6",
                        "gridcolor": "white",
                        "gridwidth": 2,
                        "linecolor": "white",
                        "showbackground": true,
                        "ticks": "",
                        "zerolinecolor": "white"
                      },
                      "yaxis": {
                        "backgroundcolor": "#E5ECF6",
                        "gridcolor": "white",
                        "gridwidth": 2,
                        "linecolor": "white",
                        "showbackground": true,
                        "ticks": "",
                        "zerolinecolor": "white"
                      },
                      "zaxis": {
                        "backgroundcolor": "#E5ECF6",
                        "gridcolor": "white",
                        "gridwidth": 2,
                        "linecolor": "white",
                        "showbackground": true,
                        "ticks": "",
                        "zerolinecolor": "white"
                      }
                    },
                    "shapedefaults": {
                      "line": {
                        "color": "#2a3f5f"
                      }
                    },
                    "ternary": {
                      "aaxis": {
                        "gridcolor": "white",
                        "linecolor": "white",
                        "ticks": ""
                      },
                      "baxis": {
                        "gridcolor": "white",
                        "linecolor": "white",
                        "ticks": ""
                      },
                      "bgcolor": "#E5ECF6",
                      "caxis": {
                        "gridcolor": "white",
                        "linecolor": "white",
                        "ticks": ""
                      }
                    },
                    "title": {
                      "x": 0.05
                    },
                    "xaxis": {
                      "automargin": true,
                      "gridcolor": "white",
                      "linecolor": "white",
                      "ticks": "",
                      "title": {
                        "standoff": 15
                      },
                      "zerolinecolor": "white",
                      "zerolinewidth": 2
                    },
                    "yaxis": {
                      "automargin": true,
                      "gridcolor": "white",
                      "linecolor": "white",
                      "ticks": "",
                      "title": {
                        "standoff": 15
                      },
                      "zerolinecolor": "white",
                      "zerolinewidth": 2
                    }
                  }
                },
                "title": {
                  "text": "Histogram of df-2014"
                },
                "width": 800,
                "xaxis": {
                  "anchor": "y",
                  "domain": [
                    0,
                    0.45
                  ],
                  "title": {
                    "text": "Value"
                  }
                },
                "xaxis2": {
                  "anchor": "y2",
                  "domain": [
                    0.55,
                    1
                  ],
                  "title": {
                    "text": "Value"
                  }
                },
                "yaxis": {
                  "anchor": "x",
                  "domain": [
                    0,
                    1
                  ],
                  "title": {
                    "text": "Count"
                  }
                },
                "yaxis2": {
                  "anchor": "x2",
                  "domain": [
                    0,
                    1
                  ],
                  "title": {
                    "text": "Count"
                  }
                }
              }
            }
          },
          "metadata": {},
          "output_type": "display_data"
        }
      ],
      "source": [
        "viz = df_2014[['2014-februari', '2014-agustus']]\n",
        "fig = make_subplots(rows=1, cols=2, subplot_titles=[f'Distribution of {col}' for col in viz.columns])\n",
        "\n",
        "for i, col in enumerate(viz.columns):\n",
        "    hist = px.histogram(df_2014, x=col, nbins=10)\n",
        "    \n",
        "    \n",
        "    for trace in hist.data:\n",
        "        fig.add_trace(trace, row=1, col=i+1)\n",
        "\n",
        "\n",
        "fig.update_layout(\n",
        "    bargap=0.1,\n",
        "    width=800,\n",
        "    height=400,\n",
        "    showlegend=False,\n",
        "    title_text='Histogram of df-2014'\n",
        ")\n",
        "\n",
        "fig.update_xaxes(title_text='Value')\n",
        "fig.update_yaxes(title_text='Count')\n",
        "\n",
        "fig.show()\n"
      ]
    },
    {
      "cell_type": "code",
      "execution_count": 24,
      "metadata": {},
      "outputs": [
        {
          "data": {
            "application/vnd.plotly.v1+json": {
              "config": {
                "plotlyServerURL": "https://plot.ly"
              },
              "data": [
                {
                  "alignmentgroup": "True",
                  "hovertemplate": "variable=%{x}<br>value=%{y}<extra></extra>",
                  "legendgroup": "",
                  "marker": {
                    "color": "#636efa"
                  },
                  "name": "",
                  "notched": false,
                  "offsetgroup": "",
                  "orientation": "v",
                  "showlegend": false,
                  "type": "box",
                  "x": [
                    "2014-februari",
                    "2014-februari",
                    "2014-februari",
                    "2014-februari",
                    "2014-februari",
                    "2014-februari",
                    "2014-februari",
                    "2014-februari",
                    "2014-februari",
                    "2014-februari",
                    "2014-februari",
                    "2014-februari",
                    "2014-februari",
                    "2014-februari",
                    "2014-februari",
                    "2014-februari",
                    "2014-februari",
                    "2014-februari",
                    "2014-februari",
                    "2014-februari",
                    "2014-februari",
                    "2014-februari",
                    "2014-februari",
                    "2014-februari",
                    "2014-februari",
                    "2014-februari",
                    "2014-februari",
                    "2014-februari",
                    "2014-februari",
                    "2014-februari",
                    "2014-februari",
                    "2014-februari",
                    "2014-februari",
                    "2014-agustus",
                    "2014-agustus",
                    "2014-agustus",
                    "2014-agustus",
                    "2014-agustus",
                    "2014-agustus",
                    "2014-agustus",
                    "2014-agustus",
                    "2014-agustus",
                    "2014-agustus",
                    "2014-agustus",
                    "2014-agustus",
                    "2014-agustus",
                    "2014-agustus",
                    "2014-agustus",
                    "2014-agustus",
                    "2014-agustus",
                    "2014-agustus",
                    "2014-agustus",
                    "2014-agustus",
                    "2014-agustus",
                    "2014-agustus",
                    "2014-agustus",
                    "2014-agustus",
                    "2014-agustus",
                    "2014-agustus",
                    "2014-agustus",
                    "2014-agustus",
                    "2014-agustus",
                    "2014-agustus",
                    "2014-agustus",
                    "2014-agustus",
                    "2014-agustus"
                  ],
                  "x0": " ",
                  "xaxis": "x",
                  "y": [
                    6.75,
                    5.95,
                    6.32,
                    4.99,
                    2.5,
                    3.84,
                    1.62,
                    5.08,
                    2.67,
                    5.26,
                    9.84,
                    8.66,
                    5.45,
                    2.16,
                    4.02,
                    9.87,
                    1.37,
                    5.3,
                    1.97,
                    2.53,
                    2.71,
                    4.03,
                    8.89,
                    7.27,
                    2.92,
                    5.79,
                    2.13,
                    2.44,
                    1.6,
                    6.59,
                    5.65,
                    3.7,
                    3.48,
                    9.02,
                    6.23,
                    6.5,
                    6.56,
                    5.08,
                    4.96,
                    3.47,
                    4.79,
                    5.14,
                    6.69,
                    8.47,
                    8.45,
                    5.68,
                    3.33,
                    4.19,
                    9.07,
                    1.9,
                    5.75,
                    3.26,
                    4.04,
                    3.24,
                    3.8,
                    7.38,
                    7.54,
                    3.68,
                    5.08,
                    4.43,
                    4.18,
                    2.08,
                    10.51,
                    5.29,
                    5.02,
                    3.44
                  ],
                  "y0": " ",
                  "yaxis": "y"
                }
              ],
              "layout": {
                "boxmode": "group",
                "height": 500,
                "legend": {
                  "tracegroupgap": 0
                },
                "template": {
                  "data": {
                    "bar": [
                      {
                        "error_x": {
                          "color": "#2a3f5f"
                        },
                        "error_y": {
                          "color": "#2a3f5f"
                        },
                        "marker": {
                          "line": {
                            "color": "#E5ECF6",
                            "width": 0.5
                          },
                          "pattern": {
                            "fillmode": "overlay",
                            "size": 10,
                            "solidity": 0.2
                          }
                        },
                        "type": "bar"
                      }
                    ],
                    "barpolar": [
                      {
                        "marker": {
                          "line": {
                            "color": "#E5ECF6",
                            "width": 0.5
                          },
                          "pattern": {
                            "fillmode": "overlay",
                            "size": 10,
                            "solidity": 0.2
                          }
                        },
                        "type": "barpolar"
                      }
                    ],
                    "carpet": [
                      {
                        "aaxis": {
                          "endlinecolor": "#2a3f5f",
                          "gridcolor": "white",
                          "linecolor": "white",
                          "minorgridcolor": "white",
                          "startlinecolor": "#2a3f5f"
                        },
                        "baxis": {
                          "endlinecolor": "#2a3f5f",
                          "gridcolor": "white",
                          "linecolor": "white",
                          "minorgridcolor": "white",
                          "startlinecolor": "#2a3f5f"
                        },
                        "type": "carpet"
                      }
                    ],
                    "choropleth": [
                      {
                        "colorbar": {
                          "outlinewidth": 0,
                          "ticks": ""
                        },
                        "type": "choropleth"
                      }
                    ],
                    "contour": [
                      {
                        "colorbar": {
                          "outlinewidth": 0,
                          "ticks": ""
                        },
                        "colorscale": [
                          [
                            0,
                            "#0d0887"
                          ],
                          [
                            0.1111111111111111,
                            "#46039f"
                          ],
                          [
                            0.2222222222222222,
                            "#7201a8"
                          ],
                          [
                            0.3333333333333333,
                            "#9c179e"
                          ],
                          [
                            0.4444444444444444,
                            "#bd3786"
                          ],
                          [
                            0.5555555555555556,
                            "#d8576b"
                          ],
                          [
                            0.6666666666666666,
                            "#ed7953"
                          ],
                          [
                            0.7777777777777778,
                            "#fb9f3a"
                          ],
                          [
                            0.8888888888888888,
                            "#fdca26"
                          ],
                          [
                            1,
                            "#f0f921"
                          ]
                        ],
                        "type": "contour"
                      }
                    ],
                    "contourcarpet": [
                      {
                        "colorbar": {
                          "outlinewidth": 0,
                          "ticks": ""
                        },
                        "type": "contourcarpet"
                      }
                    ],
                    "heatmap": [
                      {
                        "colorbar": {
                          "outlinewidth": 0,
                          "ticks": ""
                        },
                        "colorscale": [
                          [
                            0,
                            "#0d0887"
                          ],
                          [
                            0.1111111111111111,
                            "#46039f"
                          ],
                          [
                            0.2222222222222222,
                            "#7201a8"
                          ],
                          [
                            0.3333333333333333,
                            "#9c179e"
                          ],
                          [
                            0.4444444444444444,
                            "#bd3786"
                          ],
                          [
                            0.5555555555555556,
                            "#d8576b"
                          ],
                          [
                            0.6666666666666666,
                            "#ed7953"
                          ],
                          [
                            0.7777777777777778,
                            "#fb9f3a"
                          ],
                          [
                            0.8888888888888888,
                            "#fdca26"
                          ],
                          [
                            1,
                            "#f0f921"
                          ]
                        ],
                        "type": "heatmap"
                      }
                    ],
                    "heatmapgl": [
                      {
                        "colorbar": {
                          "outlinewidth": 0,
                          "ticks": ""
                        },
                        "colorscale": [
                          [
                            0,
                            "#0d0887"
                          ],
                          [
                            0.1111111111111111,
                            "#46039f"
                          ],
                          [
                            0.2222222222222222,
                            "#7201a8"
                          ],
                          [
                            0.3333333333333333,
                            "#9c179e"
                          ],
                          [
                            0.4444444444444444,
                            "#bd3786"
                          ],
                          [
                            0.5555555555555556,
                            "#d8576b"
                          ],
                          [
                            0.6666666666666666,
                            "#ed7953"
                          ],
                          [
                            0.7777777777777778,
                            "#fb9f3a"
                          ],
                          [
                            0.8888888888888888,
                            "#fdca26"
                          ],
                          [
                            1,
                            "#f0f921"
                          ]
                        ],
                        "type": "heatmapgl"
                      }
                    ],
                    "histogram": [
                      {
                        "marker": {
                          "pattern": {
                            "fillmode": "overlay",
                            "size": 10,
                            "solidity": 0.2
                          }
                        },
                        "type": "histogram"
                      }
                    ],
                    "histogram2d": [
                      {
                        "colorbar": {
                          "outlinewidth": 0,
                          "ticks": ""
                        },
                        "colorscale": [
                          [
                            0,
                            "#0d0887"
                          ],
                          [
                            0.1111111111111111,
                            "#46039f"
                          ],
                          [
                            0.2222222222222222,
                            "#7201a8"
                          ],
                          [
                            0.3333333333333333,
                            "#9c179e"
                          ],
                          [
                            0.4444444444444444,
                            "#bd3786"
                          ],
                          [
                            0.5555555555555556,
                            "#d8576b"
                          ],
                          [
                            0.6666666666666666,
                            "#ed7953"
                          ],
                          [
                            0.7777777777777778,
                            "#fb9f3a"
                          ],
                          [
                            0.8888888888888888,
                            "#fdca26"
                          ],
                          [
                            1,
                            "#f0f921"
                          ]
                        ],
                        "type": "histogram2d"
                      }
                    ],
                    "histogram2dcontour": [
                      {
                        "colorbar": {
                          "outlinewidth": 0,
                          "ticks": ""
                        },
                        "colorscale": [
                          [
                            0,
                            "#0d0887"
                          ],
                          [
                            0.1111111111111111,
                            "#46039f"
                          ],
                          [
                            0.2222222222222222,
                            "#7201a8"
                          ],
                          [
                            0.3333333333333333,
                            "#9c179e"
                          ],
                          [
                            0.4444444444444444,
                            "#bd3786"
                          ],
                          [
                            0.5555555555555556,
                            "#d8576b"
                          ],
                          [
                            0.6666666666666666,
                            "#ed7953"
                          ],
                          [
                            0.7777777777777778,
                            "#fb9f3a"
                          ],
                          [
                            0.8888888888888888,
                            "#fdca26"
                          ],
                          [
                            1,
                            "#f0f921"
                          ]
                        ],
                        "type": "histogram2dcontour"
                      }
                    ],
                    "mesh3d": [
                      {
                        "colorbar": {
                          "outlinewidth": 0,
                          "ticks": ""
                        },
                        "type": "mesh3d"
                      }
                    ],
                    "parcoords": [
                      {
                        "line": {
                          "colorbar": {
                            "outlinewidth": 0,
                            "ticks": ""
                          }
                        },
                        "type": "parcoords"
                      }
                    ],
                    "pie": [
                      {
                        "automargin": true,
                        "type": "pie"
                      }
                    ],
                    "scatter": [
                      {
                        "fillpattern": {
                          "fillmode": "overlay",
                          "size": 10,
                          "solidity": 0.2
                        },
                        "type": "scatter"
                      }
                    ],
                    "scatter3d": [
                      {
                        "line": {
                          "colorbar": {
                            "outlinewidth": 0,
                            "ticks": ""
                          }
                        },
                        "marker": {
                          "colorbar": {
                            "outlinewidth": 0,
                            "ticks": ""
                          }
                        },
                        "type": "scatter3d"
                      }
                    ],
                    "scattercarpet": [
                      {
                        "marker": {
                          "colorbar": {
                            "outlinewidth": 0,
                            "ticks": ""
                          }
                        },
                        "type": "scattercarpet"
                      }
                    ],
                    "scattergeo": [
                      {
                        "marker": {
                          "colorbar": {
                            "outlinewidth": 0,
                            "ticks": ""
                          }
                        },
                        "type": "scattergeo"
                      }
                    ],
                    "scattergl": [
                      {
                        "marker": {
                          "colorbar": {
                            "outlinewidth": 0,
                            "ticks": ""
                          }
                        },
                        "type": "scattergl"
                      }
                    ],
                    "scattermapbox": [
                      {
                        "marker": {
                          "colorbar": {
                            "outlinewidth": 0,
                            "ticks": ""
                          }
                        },
                        "type": "scattermapbox"
                      }
                    ],
                    "scatterpolar": [
                      {
                        "marker": {
                          "colorbar": {
                            "outlinewidth": 0,
                            "ticks": ""
                          }
                        },
                        "type": "scatterpolar"
                      }
                    ],
                    "scatterpolargl": [
                      {
                        "marker": {
                          "colorbar": {
                            "outlinewidth": 0,
                            "ticks": ""
                          }
                        },
                        "type": "scatterpolargl"
                      }
                    ],
                    "scatterternary": [
                      {
                        "marker": {
                          "colorbar": {
                            "outlinewidth": 0,
                            "ticks": ""
                          }
                        },
                        "type": "scatterternary"
                      }
                    ],
                    "surface": [
                      {
                        "colorbar": {
                          "outlinewidth": 0,
                          "ticks": ""
                        },
                        "colorscale": [
                          [
                            0,
                            "#0d0887"
                          ],
                          [
                            0.1111111111111111,
                            "#46039f"
                          ],
                          [
                            0.2222222222222222,
                            "#7201a8"
                          ],
                          [
                            0.3333333333333333,
                            "#9c179e"
                          ],
                          [
                            0.4444444444444444,
                            "#bd3786"
                          ],
                          [
                            0.5555555555555556,
                            "#d8576b"
                          ],
                          [
                            0.6666666666666666,
                            "#ed7953"
                          ],
                          [
                            0.7777777777777778,
                            "#fb9f3a"
                          ],
                          [
                            0.8888888888888888,
                            "#fdca26"
                          ],
                          [
                            1,
                            "#f0f921"
                          ]
                        ],
                        "type": "surface"
                      }
                    ],
                    "table": [
                      {
                        "cells": {
                          "fill": {
                            "color": "#EBF0F8"
                          },
                          "line": {
                            "color": "white"
                          }
                        },
                        "header": {
                          "fill": {
                            "color": "#C8D4E3"
                          },
                          "line": {
                            "color": "white"
                          }
                        },
                        "type": "table"
                      }
                    ]
                  },
                  "layout": {
                    "annotationdefaults": {
                      "arrowcolor": "#2a3f5f",
                      "arrowhead": 0,
                      "arrowwidth": 1
                    },
                    "autotypenumbers": "strict",
                    "coloraxis": {
                      "colorbar": {
                        "outlinewidth": 0,
                        "ticks": ""
                      }
                    },
                    "colorscale": {
                      "diverging": [
                        [
                          0,
                          "#8e0152"
                        ],
                        [
                          0.1,
                          "#c51b7d"
                        ],
                        [
                          0.2,
                          "#de77ae"
                        ],
                        [
                          0.3,
                          "#f1b6da"
                        ],
                        [
                          0.4,
                          "#fde0ef"
                        ],
                        [
                          0.5,
                          "#f7f7f7"
                        ],
                        [
                          0.6,
                          "#e6f5d0"
                        ],
                        [
                          0.7,
                          "#b8e186"
                        ],
                        [
                          0.8,
                          "#7fbc41"
                        ],
                        [
                          0.9,
                          "#4d9221"
                        ],
                        [
                          1,
                          "#276419"
                        ]
                      ],
                      "sequential": [
                        [
                          0,
                          "#0d0887"
                        ],
                        [
                          0.1111111111111111,
                          "#46039f"
                        ],
                        [
                          0.2222222222222222,
                          "#7201a8"
                        ],
                        [
                          0.3333333333333333,
                          "#9c179e"
                        ],
                        [
                          0.4444444444444444,
                          "#bd3786"
                        ],
                        [
                          0.5555555555555556,
                          "#d8576b"
                        ],
                        [
                          0.6666666666666666,
                          "#ed7953"
                        ],
                        [
                          0.7777777777777778,
                          "#fb9f3a"
                        ],
                        [
                          0.8888888888888888,
                          "#fdca26"
                        ],
                        [
                          1,
                          "#f0f921"
                        ]
                      ],
                      "sequentialminus": [
                        [
                          0,
                          "#0d0887"
                        ],
                        [
                          0.1111111111111111,
                          "#46039f"
                        ],
                        [
                          0.2222222222222222,
                          "#7201a8"
                        ],
                        [
                          0.3333333333333333,
                          "#9c179e"
                        ],
                        [
                          0.4444444444444444,
                          "#bd3786"
                        ],
                        [
                          0.5555555555555556,
                          "#d8576b"
                        ],
                        [
                          0.6666666666666666,
                          "#ed7953"
                        ],
                        [
                          0.7777777777777778,
                          "#fb9f3a"
                        ],
                        [
                          0.8888888888888888,
                          "#fdca26"
                        ],
                        [
                          1,
                          "#f0f921"
                        ]
                      ]
                    },
                    "colorway": [
                      "#636efa",
                      "#EF553B",
                      "#00cc96",
                      "#ab63fa",
                      "#FFA15A",
                      "#19d3f3",
                      "#FF6692",
                      "#B6E880",
                      "#FF97FF",
                      "#FECB52"
                    ],
                    "font": {
                      "color": "#2a3f5f"
                    },
                    "geo": {
                      "bgcolor": "white",
                      "lakecolor": "white",
                      "landcolor": "#E5ECF6",
                      "showlakes": true,
                      "showland": true,
                      "subunitcolor": "white"
                    },
                    "hoverlabel": {
                      "align": "left"
                    },
                    "hovermode": "closest",
                    "mapbox": {
                      "style": "light"
                    },
                    "paper_bgcolor": "white",
                    "plot_bgcolor": "#E5ECF6",
                    "polar": {
                      "angularaxis": {
                        "gridcolor": "white",
                        "linecolor": "white",
                        "ticks": ""
                      },
                      "bgcolor": "#E5ECF6",
                      "radialaxis": {
                        "gridcolor": "white",
                        "linecolor": "white",
                        "ticks": ""
                      }
                    },
                    "scene": {
                      "xaxis": {
                        "backgroundcolor": "#E5ECF6",
                        "gridcolor": "white",
                        "gridwidth": 2,
                        "linecolor": "white",
                        "showbackground": true,
                        "ticks": "",
                        "zerolinecolor": "white"
                      },
                      "yaxis": {
                        "backgroundcolor": "#E5ECF6",
                        "gridcolor": "white",
                        "gridwidth": 2,
                        "linecolor": "white",
                        "showbackground": true,
                        "ticks": "",
                        "zerolinecolor": "white"
                      },
                      "zaxis": {
                        "backgroundcolor": "#E5ECF6",
                        "gridcolor": "white",
                        "gridwidth": 2,
                        "linecolor": "white",
                        "showbackground": true,
                        "ticks": "",
                        "zerolinecolor": "white"
                      }
                    },
                    "shapedefaults": {
                      "line": {
                        "color": "#2a3f5f"
                      }
                    },
                    "ternary": {
                      "aaxis": {
                        "gridcolor": "white",
                        "linecolor": "white",
                        "ticks": ""
                      },
                      "baxis": {
                        "gridcolor": "white",
                        "linecolor": "white",
                        "ticks": ""
                      },
                      "bgcolor": "#E5ECF6",
                      "caxis": {
                        "gridcolor": "white",
                        "linecolor": "white",
                        "ticks": ""
                      }
                    },
                    "title": {
                      "x": 0.05
                    },
                    "xaxis": {
                      "automargin": true,
                      "gridcolor": "white",
                      "linecolor": "white",
                      "ticks": "",
                      "title": {
                        "standoff": 15
                      },
                      "zerolinecolor": "white",
                      "zerolinewidth": 2
                    },
                    "yaxis": {
                      "automargin": true,
                      "gridcolor": "white",
                      "linecolor": "white",
                      "ticks": "",
                      "title": {
                        "standoff": 15
                      },
                      "zerolinecolor": "white",
                      "zerolinewidth": 2
                    }
                  }
                },
                "title": {
                  "text": "Boxplot Data 2014-februari & 2014-agustus"
                },
                "width": 600,
                "xaxis": {
                  "anchor": "y",
                  "domain": [
                    0,
                    1
                  ],
                  "title": {
                    "text": "variable"
                  }
                },
                "yaxis": {
                  "anchor": "x",
                  "domain": [
                    0,
                    1
                  ],
                  "title": {
                    "text": "value"
                  }
                }
              }
            }
          },
          "metadata": {},
          "output_type": "display_data"
        }
      ],
      "source": [
        "drop_14 = df_2014.dropna()\n",
        "fig = px.box(drop_14, y=['2014-februari', '2014-agustus'], title=\"Boxplot Data 2014-februari & 2014-agustus\")\n",
        "\n",
        "fig.update_layout(width = 600,\n",
        "           height = 500)\n",
        "fig.show()"
      ]
    },
    {
      "cell_type": "code",
      "execution_count": 25,
      "metadata": {},
      "outputs": [
        {
          "data": {
            "application/vnd.plotly.v1+json": {
              "config": {
                "plotlyServerURL": "https://plot.ly"
              },
              "data": [
                {
                  "alignmentgroup": "True",
                  "bingroup": "x",
                  "hovertemplate": "2014-februari=%{x}<br>count=%{y}<extra></extra>",
                  "legendgroup": "",
                  "marker": {
                    "color": "#636efa",
                    "pattern": {
                      "shape": ""
                    }
                  },
                  "name": "",
                  "offsetgroup": "",
                  "orientation": "v",
                  "showlegend": false,
                  "type": "histogram",
                  "x": [
                    6.75,
                    5.95,
                    6.32,
                    4.99,
                    2.5,
                    3.84,
                    1.62,
                    5.08,
                    2.67,
                    5.26,
                    9.84,
                    8.66,
                    5.45,
                    2.16,
                    4.02,
                    9.87,
                    1.37,
                    5.3,
                    1.97,
                    2.53,
                    2.71,
                    4.03,
                    8.89,
                    null,
                    7.27,
                    2.92,
                    5.79,
                    2.13,
                    2.44,
                    1.6,
                    6.59,
                    5.65,
                    3.7,
                    3.48
                  ],
                  "xaxis": "x",
                  "yaxis": "y"
                }
              ],
              "layout": {
                "bargap": 0.1,
                "barmode": "relative",
                "height": 500,
                "legend": {
                  "tracegroupgap": 0
                },
                "template": {
                  "data": {
                    "bar": [
                      {
                        "error_x": {
                          "color": "#2a3f5f"
                        },
                        "error_y": {
                          "color": "#2a3f5f"
                        },
                        "marker": {
                          "line": {
                            "color": "#E5ECF6",
                            "width": 0.5
                          },
                          "pattern": {
                            "fillmode": "overlay",
                            "size": 10,
                            "solidity": 0.2
                          }
                        },
                        "type": "bar"
                      }
                    ],
                    "barpolar": [
                      {
                        "marker": {
                          "line": {
                            "color": "#E5ECF6",
                            "width": 0.5
                          },
                          "pattern": {
                            "fillmode": "overlay",
                            "size": 10,
                            "solidity": 0.2
                          }
                        },
                        "type": "barpolar"
                      }
                    ],
                    "carpet": [
                      {
                        "aaxis": {
                          "endlinecolor": "#2a3f5f",
                          "gridcolor": "white",
                          "linecolor": "white",
                          "minorgridcolor": "white",
                          "startlinecolor": "#2a3f5f"
                        },
                        "baxis": {
                          "endlinecolor": "#2a3f5f",
                          "gridcolor": "white",
                          "linecolor": "white",
                          "minorgridcolor": "white",
                          "startlinecolor": "#2a3f5f"
                        },
                        "type": "carpet"
                      }
                    ],
                    "choropleth": [
                      {
                        "colorbar": {
                          "outlinewidth": 0,
                          "ticks": ""
                        },
                        "type": "choropleth"
                      }
                    ],
                    "contour": [
                      {
                        "colorbar": {
                          "outlinewidth": 0,
                          "ticks": ""
                        },
                        "colorscale": [
                          [
                            0,
                            "#0d0887"
                          ],
                          [
                            0.1111111111111111,
                            "#46039f"
                          ],
                          [
                            0.2222222222222222,
                            "#7201a8"
                          ],
                          [
                            0.3333333333333333,
                            "#9c179e"
                          ],
                          [
                            0.4444444444444444,
                            "#bd3786"
                          ],
                          [
                            0.5555555555555556,
                            "#d8576b"
                          ],
                          [
                            0.6666666666666666,
                            "#ed7953"
                          ],
                          [
                            0.7777777777777778,
                            "#fb9f3a"
                          ],
                          [
                            0.8888888888888888,
                            "#fdca26"
                          ],
                          [
                            1,
                            "#f0f921"
                          ]
                        ],
                        "type": "contour"
                      }
                    ],
                    "contourcarpet": [
                      {
                        "colorbar": {
                          "outlinewidth": 0,
                          "ticks": ""
                        },
                        "type": "contourcarpet"
                      }
                    ],
                    "heatmap": [
                      {
                        "colorbar": {
                          "outlinewidth": 0,
                          "ticks": ""
                        },
                        "colorscale": [
                          [
                            0,
                            "#0d0887"
                          ],
                          [
                            0.1111111111111111,
                            "#46039f"
                          ],
                          [
                            0.2222222222222222,
                            "#7201a8"
                          ],
                          [
                            0.3333333333333333,
                            "#9c179e"
                          ],
                          [
                            0.4444444444444444,
                            "#bd3786"
                          ],
                          [
                            0.5555555555555556,
                            "#d8576b"
                          ],
                          [
                            0.6666666666666666,
                            "#ed7953"
                          ],
                          [
                            0.7777777777777778,
                            "#fb9f3a"
                          ],
                          [
                            0.8888888888888888,
                            "#fdca26"
                          ],
                          [
                            1,
                            "#f0f921"
                          ]
                        ],
                        "type": "heatmap"
                      }
                    ],
                    "heatmapgl": [
                      {
                        "colorbar": {
                          "outlinewidth": 0,
                          "ticks": ""
                        },
                        "colorscale": [
                          [
                            0,
                            "#0d0887"
                          ],
                          [
                            0.1111111111111111,
                            "#46039f"
                          ],
                          [
                            0.2222222222222222,
                            "#7201a8"
                          ],
                          [
                            0.3333333333333333,
                            "#9c179e"
                          ],
                          [
                            0.4444444444444444,
                            "#bd3786"
                          ],
                          [
                            0.5555555555555556,
                            "#d8576b"
                          ],
                          [
                            0.6666666666666666,
                            "#ed7953"
                          ],
                          [
                            0.7777777777777778,
                            "#fb9f3a"
                          ],
                          [
                            0.8888888888888888,
                            "#fdca26"
                          ],
                          [
                            1,
                            "#f0f921"
                          ]
                        ],
                        "type": "heatmapgl"
                      }
                    ],
                    "histogram": [
                      {
                        "marker": {
                          "pattern": {
                            "fillmode": "overlay",
                            "size": 10,
                            "solidity": 0.2
                          }
                        },
                        "type": "histogram"
                      }
                    ],
                    "histogram2d": [
                      {
                        "colorbar": {
                          "outlinewidth": 0,
                          "ticks": ""
                        },
                        "colorscale": [
                          [
                            0,
                            "#0d0887"
                          ],
                          [
                            0.1111111111111111,
                            "#46039f"
                          ],
                          [
                            0.2222222222222222,
                            "#7201a8"
                          ],
                          [
                            0.3333333333333333,
                            "#9c179e"
                          ],
                          [
                            0.4444444444444444,
                            "#bd3786"
                          ],
                          [
                            0.5555555555555556,
                            "#d8576b"
                          ],
                          [
                            0.6666666666666666,
                            "#ed7953"
                          ],
                          [
                            0.7777777777777778,
                            "#fb9f3a"
                          ],
                          [
                            0.8888888888888888,
                            "#fdca26"
                          ],
                          [
                            1,
                            "#f0f921"
                          ]
                        ],
                        "type": "histogram2d"
                      }
                    ],
                    "histogram2dcontour": [
                      {
                        "colorbar": {
                          "outlinewidth": 0,
                          "ticks": ""
                        },
                        "colorscale": [
                          [
                            0,
                            "#0d0887"
                          ],
                          [
                            0.1111111111111111,
                            "#46039f"
                          ],
                          [
                            0.2222222222222222,
                            "#7201a8"
                          ],
                          [
                            0.3333333333333333,
                            "#9c179e"
                          ],
                          [
                            0.4444444444444444,
                            "#bd3786"
                          ],
                          [
                            0.5555555555555556,
                            "#d8576b"
                          ],
                          [
                            0.6666666666666666,
                            "#ed7953"
                          ],
                          [
                            0.7777777777777778,
                            "#fb9f3a"
                          ],
                          [
                            0.8888888888888888,
                            "#fdca26"
                          ],
                          [
                            1,
                            "#f0f921"
                          ]
                        ],
                        "type": "histogram2dcontour"
                      }
                    ],
                    "mesh3d": [
                      {
                        "colorbar": {
                          "outlinewidth": 0,
                          "ticks": ""
                        },
                        "type": "mesh3d"
                      }
                    ],
                    "parcoords": [
                      {
                        "line": {
                          "colorbar": {
                            "outlinewidth": 0,
                            "ticks": ""
                          }
                        },
                        "type": "parcoords"
                      }
                    ],
                    "pie": [
                      {
                        "automargin": true,
                        "type": "pie"
                      }
                    ],
                    "scatter": [
                      {
                        "fillpattern": {
                          "fillmode": "overlay",
                          "size": 10,
                          "solidity": 0.2
                        },
                        "type": "scatter"
                      }
                    ],
                    "scatter3d": [
                      {
                        "line": {
                          "colorbar": {
                            "outlinewidth": 0,
                            "ticks": ""
                          }
                        },
                        "marker": {
                          "colorbar": {
                            "outlinewidth": 0,
                            "ticks": ""
                          }
                        },
                        "type": "scatter3d"
                      }
                    ],
                    "scattercarpet": [
                      {
                        "marker": {
                          "colorbar": {
                            "outlinewidth": 0,
                            "ticks": ""
                          }
                        },
                        "type": "scattercarpet"
                      }
                    ],
                    "scattergeo": [
                      {
                        "marker": {
                          "colorbar": {
                            "outlinewidth": 0,
                            "ticks": ""
                          }
                        },
                        "type": "scattergeo"
                      }
                    ],
                    "scattergl": [
                      {
                        "marker": {
                          "colorbar": {
                            "outlinewidth": 0,
                            "ticks": ""
                          }
                        },
                        "type": "scattergl"
                      }
                    ],
                    "scattermapbox": [
                      {
                        "marker": {
                          "colorbar": {
                            "outlinewidth": 0,
                            "ticks": ""
                          }
                        },
                        "type": "scattermapbox"
                      }
                    ],
                    "scatterpolar": [
                      {
                        "marker": {
                          "colorbar": {
                            "outlinewidth": 0,
                            "ticks": ""
                          }
                        },
                        "type": "scatterpolar"
                      }
                    ],
                    "scatterpolargl": [
                      {
                        "marker": {
                          "colorbar": {
                            "outlinewidth": 0,
                            "ticks": ""
                          }
                        },
                        "type": "scatterpolargl"
                      }
                    ],
                    "scatterternary": [
                      {
                        "marker": {
                          "colorbar": {
                            "outlinewidth": 0,
                            "ticks": ""
                          }
                        },
                        "type": "scatterternary"
                      }
                    ],
                    "surface": [
                      {
                        "colorbar": {
                          "outlinewidth": 0,
                          "ticks": ""
                        },
                        "colorscale": [
                          [
                            0,
                            "#0d0887"
                          ],
                          [
                            0.1111111111111111,
                            "#46039f"
                          ],
                          [
                            0.2222222222222222,
                            "#7201a8"
                          ],
                          [
                            0.3333333333333333,
                            "#9c179e"
                          ],
                          [
                            0.4444444444444444,
                            "#bd3786"
                          ],
                          [
                            0.5555555555555556,
                            "#d8576b"
                          ],
                          [
                            0.6666666666666666,
                            "#ed7953"
                          ],
                          [
                            0.7777777777777778,
                            "#fb9f3a"
                          ],
                          [
                            0.8888888888888888,
                            "#fdca26"
                          ],
                          [
                            1,
                            "#f0f921"
                          ]
                        ],
                        "type": "surface"
                      }
                    ],
                    "table": [
                      {
                        "cells": {
                          "fill": {
                            "color": "#EBF0F8"
                          },
                          "line": {
                            "color": "white"
                          }
                        },
                        "header": {
                          "fill": {
                            "color": "#C8D4E3"
                          },
                          "line": {
                            "color": "white"
                          }
                        },
                        "type": "table"
                      }
                    ]
                  },
                  "layout": {
                    "annotationdefaults": {
                      "arrowcolor": "#2a3f5f",
                      "arrowhead": 0,
                      "arrowwidth": 1
                    },
                    "autotypenumbers": "strict",
                    "coloraxis": {
                      "colorbar": {
                        "outlinewidth": 0,
                        "ticks": ""
                      }
                    },
                    "colorscale": {
                      "diverging": [
                        [
                          0,
                          "#8e0152"
                        ],
                        [
                          0.1,
                          "#c51b7d"
                        ],
                        [
                          0.2,
                          "#de77ae"
                        ],
                        [
                          0.3,
                          "#f1b6da"
                        ],
                        [
                          0.4,
                          "#fde0ef"
                        ],
                        [
                          0.5,
                          "#f7f7f7"
                        ],
                        [
                          0.6,
                          "#e6f5d0"
                        ],
                        [
                          0.7,
                          "#b8e186"
                        ],
                        [
                          0.8,
                          "#7fbc41"
                        ],
                        [
                          0.9,
                          "#4d9221"
                        ],
                        [
                          1,
                          "#276419"
                        ]
                      ],
                      "sequential": [
                        [
                          0,
                          "#0d0887"
                        ],
                        [
                          0.1111111111111111,
                          "#46039f"
                        ],
                        [
                          0.2222222222222222,
                          "#7201a8"
                        ],
                        [
                          0.3333333333333333,
                          "#9c179e"
                        ],
                        [
                          0.4444444444444444,
                          "#bd3786"
                        ],
                        [
                          0.5555555555555556,
                          "#d8576b"
                        ],
                        [
                          0.6666666666666666,
                          "#ed7953"
                        ],
                        [
                          0.7777777777777778,
                          "#fb9f3a"
                        ],
                        [
                          0.8888888888888888,
                          "#fdca26"
                        ],
                        [
                          1,
                          "#f0f921"
                        ]
                      ],
                      "sequentialminus": [
                        [
                          0,
                          "#0d0887"
                        ],
                        [
                          0.1111111111111111,
                          "#46039f"
                        ],
                        [
                          0.2222222222222222,
                          "#7201a8"
                        ],
                        [
                          0.3333333333333333,
                          "#9c179e"
                        ],
                        [
                          0.4444444444444444,
                          "#bd3786"
                        ],
                        [
                          0.5555555555555556,
                          "#d8576b"
                        ],
                        [
                          0.6666666666666666,
                          "#ed7953"
                        ],
                        [
                          0.7777777777777778,
                          "#fb9f3a"
                        ],
                        [
                          0.8888888888888888,
                          "#fdca26"
                        ],
                        [
                          1,
                          "#f0f921"
                        ]
                      ]
                    },
                    "colorway": [
                      "#636efa",
                      "#EF553B",
                      "#00cc96",
                      "#ab63fa",
                      "#FFA15A",
                      "#19d3f3",
                      "#FF6692",
                      "#B6E880",
                      "#FF97FF",
                      "#FECB52"
                    ],
                    "font": {
                      "color": "#2a3f5f"
                    },
                    "geo": {
                      "bgcolor": "white",
                      "lakecolor": "white",
                      "landcolor": "#E5ECF6",
                      "showlakes": true,
                      "showland": true,
                      "subunitcolor": "white"
                    },
                    "hoverlabel": {
                      "align": "left"
                    },
                    "hovermode": "closest",
                    "mapbox": {
                      "style": "light"
                    },
                    "paper_bgcolor": "white",
                    "plot_bgcolor": "#E5ECF6",
                    "polar": {
                      "angularaxis": {
                        "gridcolor": "white",
                        "linecolor": "white",
                        "ticks": ""
                      },
                      "bgcolor": "#E5ECF6",
                      "radialaxis": {
                        "gridcolor": "white",
                        "linecolor": "white",
                        "ticks": ""
                      }
                    },
                    "scene": {
                      "xaxis": {
                        "backgroundcolor": "#E5ECF6",
                        "gridcolor": "white",
                        "gridwidth": 2,
                        "linecolor": "white",
                        "showbackground": true,
                        "ticks": "",
                        "zerolinecolor": "white"
                      },
                      "yaxis": {
                        "backgroundcolor": "#E5ECF6",
                        "gridcolor": "white",
                        "gridwidth": 2,
                        "linecolor": "white",
                        "showbackground": true,
                        "ticks": "",
                        "zerolinecolor": "white"
                      },
                      "zaxis": {
                        "backgroundcolor": "#E5ECF6",
                        "gridcolor": "white",
                        "gridwidth": 2,
                        "linecolor": "white",
                        "showbackground": true,
                        "ticks": "",
                        "zerolinecolor": "white"
                      }
                    },
                    "shapedefaults": {
                      "line": {
                        "color": "#2a3f5f"
                      }
                    },
                    "ternary": {
                      "aaxis": {
                        "gridcolor": "white",
                        "linecolor": "white",
                        "ticks": ""
                      },
                      "baxis": {
                        "gridcolor": "white",
                        "linecolor": "white",
                        "ticks": ""
                      },
                      "bgcolor": "#E5ECF6",
                      "caxis": {
                        "gridcolor": "white",
                        "linecolor": "white",
                        "ticks": ""
                      }
                    },
                    "title": {
                      "x": 0.05
                    },
                    "xaxis": {
                      "automargin": true,
                      "gridcolor": "white",
                      "linecolor": "white",
                      "ticks": "",
                      "title": {
                        "standoff": 15
                      },
                      "zerolinecolor": "white",
                      "zerolinewidth": 2
                    },
                    "yaxis": {
                      "automargin": true,
                      "gridcolor": "white",
                      "linecolor": "white",
                      "ticks": "",
                      "title": {
                        "standoff": 15
                      },
                      "zerolinecolor": "white",
                      "zerolinewidth": 2
                    }
                  }
                },
                "title": {
                  "text": "Distribution of - 2014-februari"
                },
                "width": 600,
                "xaxis": {
                  "anchor": "y",
                  "domain": [
                    0,
                    1
                  ],
                  "title": {
                    "text": "2014-februari"
                  }
                },
                "yaxis": {
                  "anchor": "x",
                  "domain": [
                    0,
                    1
                  ],
                  "title": {
                    "text": "Count"
                  }
                }
              }
            }
          },
          "metadata": {},
          "output_type": "display_data"
        },
        {
          "data": {
            "application/vnd.plotly.v1+json": {
              "config": {
                "plotlyServerURL": "https://plot.ly"
              },
              "data": [
                {
                  "alignmentgroup": "True",
                  "bingroup": "x",
                  "hovertemplate": "2014-agustus=%{x}<br>count=%{y}<extra></extra>",
                  "legendgroup": "",
                  "marker": {
                    "color": "#636efa",
                    "pattern": {
                      "shape": ""
                    }
                  },
                  "name": "",
                  "offsetgroup": "",
                  "orientation": "v",
                  "showlegend": false,
                  "type": "histogram",
                  "x": [
                    9.02,
                    6.23,
                    6.5,
                    6.56,
                    5.08,
                    4.96,
                    3.47,
                    4.79,
                    5.14,
                    6.69,
                    8.47,
                    8.45,
                    5.68,
                    3.33,
                    4.19,
                    9.07,
                    1.9,
                    5.75,
                    3.26,
                    4.04,
                    3.24,
                    3.8,
                    7.38,
                    null,
                    7.54,
                    3.68,
                    5.08,
                    4.43,
                    4.18,
                    2.08,
                    10.51,
                    5.29,
                    5.02,
                    3.44
                  ],
                  "xaxis": "x",
                  "yaxis": "y"
                }
              ],
              "layout": {
                "bargap": 0.1,
                "barmode": "relative",
                "height": 500,
                "legend": {
                  "tracegroupgap": 0
                },
                "template": {
                  "data": {
                    "bar": [
                      {
                        "error_x": {
                          "color": "#2a3f5f"
                        },
                        "error_y": {
                          "color": "#2a3f5f"
                        },
                        "marker": {
                          "line": {
                            "color": "#E5ECF6",
                            "width": 0.5
                          },
                          "pattern": {
                            "fillmode": "overlay",
                            "size": 10,
                            "solidity": 0.2
                          }
                        },
                        "type": "bar"
                      }
                    ],
                    "barpolar": [
                      {
                        "marker": {
                          "line": {
                            "color": "#E5ECF6",
                            "width": 0.5
                          },
                          "pattern": {
                            "fillmode": "overlay",
                            "size": 10,
                            "solidity": 0.2
                          }
                        },
                        "type": "barpolar"
                      }
                    ],
                    "carpet": [
                      {
                        "aaxis": {
                          "endlinecolor": "#2a3f5f",
                          "gridcolor": "white",
                          "linecolor": "white",
                          "minorgridcolor": "white",
                          "startlinecolor": "#2a3f5f"
                        },
                        "baxis": {
                          "endlinecolor": "#2a3f5f",
                          "gridcolor": "white",
                          "linecolor": "white",
                          "minorgridcolor": "white",
                          "startlinecolor": "#2a3f5f"
                        },
                        "type": "carpet"
                      }
                    ],
                    "choropleth": [
                      {
                        "colorbar": {
                          "outlinewidth": 0,
                          "ticks": ""
                        },
                        "type": "choropleth"
                      }
                    ],
                    "contour": [
                      {
                        "colorbar": {
                          "outlinewidth": 0,
                          "ticks": ""
                        },
                        "colorscale": [
                          [
                            0,
                            "#0d0887"
                          ],
                          [
                            0.1111111111111111,
                            "#46039f"
                          ],
                          [
                            0.2222222222222222,
                            "#7201a8"
                          ],
                          [
                            0.3333333333333333,
                            "#9c179e"
                          ],
                          [
                            0.4444444444444444,
                            "#bd3786"
                          ],
                          [
                            0.5555555555555556,
                            "#d8576b"
                          ],
                          [
                            0.6666666666666666,
                            "#ed7953"
                          ],
                          [
                            0.7777777777777778,
                            "#fb9f3a"
                          ],
                          [
                            0.8888888888888888,
                            "#fdca26"
                          ],
                          [
                            1,
                            "#f0f921"
                          ]
                        ],
                        "type": "contour"
                      }
                    ],
                    "contourcarpet": [
                      {
                        "colorbar": {
                          "outlinewidth": 0,
                          "ticks": ""
                        },
                        "type": "contourcarpet"
                      }
                    ],
                    "heatmap": [
                      {
                        "colorbar": {
                          "outlinewidth": 0,
                          "ticks": ""
                        },
                        "colorscale": [
                          [
                            0,
                            "#0d0887"
                          ],
                          [
                            0.1111111111111111,
                            "#46039f"
                          ],
                          [
                            0.2222222222222222,
                            "#7201a8"
                          ],
                          [
                            0.3333333333333333,
                            "#9c179e"
                          ],
                          [
                            0.4444444444444444,
                            "#bd3786"
                          ],
                          [
                            0.5555555555555556,
                            "#d8576b"
                          ],
                          [
                            0.6666666666666666,
                            "#ed7953"
                          ],
                          [
                            0.7777777777777778,
                            "#fb9f3a"
                          ],
                          [
                            0.8888888888888888,
                            "#fdca26"
                          ],
                          [
                            1,
                            "#f0f921"
                          ]
                        ],
                        "type": "heatmap"
                      }
                    ],
                    "heatmapgl": [
                      {
                        "colorbar": {
                          "outlinewidth": 0,
                          "ticks": ""
                        },
                        "colorscale": [
                          [
                            0,
                            "#0d0887"
                          ],
                          [
                            0.1111111111111111,
                            "#46039f"
                          ],
                          [
                            0.2222222222222222,
                            "#7201a8"
                          ],
                          [
                            0.3333333333333333,
                            "#9c179e"
                          ],
                          [
                            0.4444444444444444,
                            "#bd3786"
                          ],
                          [
                            0.5555555555555556,
                            "#d8576b"
                          ],
                          [
                            0.6666666666666666,
                            "#ed7953"
                          ],
                          [
                            0.7777777777777778,
                            "#fb9f3a"
                          ],
                          [
                            0.8888888888888888,
                            "#fdca26"
                          ],
                          [
                            1,
                            "#f0f921"
                          ]
                        ],
                        "type": "heatmapgl"
                      }
                    ],
                    "histogram": [
                      {
                        "marker": {
                          "pattern": {
                            "fillmode": "overlay",
                            "size": 10,
                            "solidity": 0.2
                          }
                        },
                        "type": "histogram"
                      }
                    ],
                    "histogram2d": [
                      {
                        "colorbar": {
                          "outlinewidth": 0,
                          "ticks": ""
                        },
                        "colorscale": [
                          [
                            0,
                            "#0d0887"
                          ],
                          [
                            0.1111111111111111,
                            "#46039f"
                          ],
                          [
                            0.2222222222222222,
                            "#7201a8"
                          ],
                          [
                            0.3333333333333333,
                            "#9c179e"
                          ],
                          [
                            0.4444444444444444,
                            "#bd3786"
                          ],
                          [
                            0.5555555555555556,
                            "#d8576b"
                          ],
                          [
                            0.6666666666666666,
                            "#ed7953"
                          ],
                          [
                            0.7777777777777778,
                            "#fb9f3a"
                          ],
                          [
                            0.8888888888888888,
                            "#fdca26"
                          ],
                          [
                            1,
                            "#f0f921"
                          ]
                        ],
                        "type": "histogram2d"
                      }
                    ],
                    "histogram2dcontour": [
                      {
                        "colorbar": {
                          "outlinewidth": 0,
                          "ticks": ""
                        },
                        "colorscale": [
                          [
                            0,
                            "#0d0887"
                          ],
                          [
                            0.1111111111111111,
                            "#46039f"
                          ],
                          [
                            0.2222222222222222,
                            "#7201a8"
                          ],
                          [
                            0.3333333333333333,
                            "#9c179e"
                          ],
                          [
                            0.4444444444444444,
                            "#bd3786"
                          ],
                          [
                            0.5555555555555556,
                            "#d8576b"
                          ],
                          [
                            0.6666666666666666,
                            "#ed7953"
                          ],
                          [
                            0.7777777777777778,
                            "#fb9f3a"
                          ],
                          [
                            0.8888888888888888,
                            "#fdca26"
                          ],
                          [
                            1,
                            "#f0f921"
                          ]
                        ],
                        "type": "histogram2dcontour"
                      }
                    ],
                    "mesh3d": [
                      {
                        "colorbar": {
                          "outlinewidth": 0,
                          "ticks": ""
                        },
                        "type": "mesh3d"
                      }
                    ],
                    "parcoords": [
                      {
                        "line": {
                          "colorbar": {
                            "outlinewidth": 0,
                            "ticks": ""
                          }
                        },
                        "type": "parcoords"
                      }
                    ],
                    "pie": [
                      {
                        "automargin": true,
                        "type": "pie"
                      }
                    ],
                    "scatter": [
                      {
                        "fillpattern": {
                          "fillmode": "overlay",
                          "size": 10,
                          "solidity": 0.2
                        },
                        "type": "scatter"
                      }
                    ],
                    "scatter3d": [
                      {
                        "line": {
                          "colorbar": {
                            "outlinewidth": 0,
                            "ticks": ""
                          }
                        },
                        "marker": {
                          "colorbar": {
                            "outlinewidth": 0,
                            "ticks": ""
                          }
                        },
                        "type": "scatter3d"
                      }
                    ],
                    "scattercarpet": [
                      {
                        "marker": {
                          "colorbar": {
                            "outlinewidth": 0,
                            "ticks": ""
                          }
                        },
                        "type": "scattercarpet"
                      }
                    ],
                    "scattergeo": [
                      {
                        "marker": {
                          "colorbar": {
                            "outlinewidth": 0,
                            "ticks": ""
                          }
                        },
                        "type": "scattergeo"
                      }
                    ],
                    "scattergl": [
                      {
                        "marker": {
                          "colorbar": {
                            "outlinewidth": 0,
                            "ticks": ""
                          }
                        },
                        "type": "scattergl"
                      }
                    ],
                    "scattermapbox": [
                      {
                        "marker": {
                          "colorbar": {
                            "outlinewidth": 0,
                            "ticks": ""
                          }
                        },
                        "type": "scattermapbox"
                      }
                    ],
                    "scatterpolar": [
                      {
                        "marker": {
                          "colorbar": {
                            "outlinewidth": 0,
                            "ticks": ""
                          }
                        },
                        "type": "scatterpolar"
                      }
                    ],
                    "scatterpolargl": [
                      {
                        "marker": {
                          "colorbar": {
                            "outlinewidth": 0,
                            "ticks": ""
                          }
                        },
                        "type": "scatterpolargl"
                      }
                    ],
                    "scatterternary": [
                      {
                        "marker": {
                          "colorbar": {
                            "outlinewidth": 0,
                            "ticks": ""
                          }
                        },
                        "type": "scatterternary"
                      }
                    ],
                    "surface": [
                      {
                        "colorbar": {
                          "outlinewidth": 0,
                          "ticks": ""
                        },
                        "colorscale": [
                          [
                            0,
                            "#0d0887"
                          ],
                          [
                            0.1111111111111111,
                            "#46039f"
                          ],
                          [
                            0.2222222222222222,
                            "#7201a8"
                          ],
                          [
                            0.3333333333333333,
                            "#9c179e"
                          ],
                          [
                            0.4444444444444444,
                            "#bd3786"
                          ],
                          [
                            0.5555555555555556,
                            "#d8576b"
                          ],
                          [
                            0.6666666666666666,
                            "#ed7953"
                          ],
                          [
                            0.7777777777777778,
                            "#fb9f3a"
                          ],
                          [
                            0.8888888888888888,
                            "#fdca26"
                          ],
                          [
                            1,
                            "#f0f921"
                          ]
                        ],
                        "type": "surface"
                      }
                    ],
                    "table": [
                      {
                        "cells": {
                          "fill": {
                            "color": "#EBF0F8"
                          },
                          "line": {
                            "color": "white"
                          }
                        },
                        "header": {
                          "fill": {
                            "color": "#C8D4E3"
                          },
                          "line": {
                            "color": "white"
                          }
                        },
                        "type": "table"
                      }
                    ]
                  },
                  "layout": {
                    "annotationdefaults": {
                      "arrowcolor": "#2a3f5f",
                      "arrowhead": 0,
                      "arrowwidth": 1
                    },
                    "autotypenumbers": "strict",
                    "coloraxis": {
                      "colorbar": {
                        "outlinewidth": 0,
                        "ticks": ""
                      }
                    },
                    "colorscale": {
                      "diverging": [
                        [
                          0,
                          "#8e0152"
                        ],
                        [
                          0.1,
                          "#c51b7d"
                        ],
                        [
                          0.2,
                          "#de77ae"
                        ],
                        [
                          0.3,
                          "#f1b6da"
                        ],
                        [
                          0.4,
                          "#fde0ef"
                        ],
                        [
                          0.5,
                          "#f7f7f7"
                        ],
                        [
                          0.6,
                          "#e6f5d0"
                        ],
                        [
                          0.7,
                          "#b8e186"
                        ],
                        [
                          0.8,
                          "#7fbc41"
                        ],
                        [
                          0.9,
                          "#4d9221"
                        ],
                        [
                          1,
                          "#276419"
                        ]
                      ],
                      "sequential": [
                        [
                          0,
                          "#0d0887"
                        ],
                        [
                          0.1111111111111111,
                          "#46039f"
                        ],
                        [
                          0.2222222222222222,
                          "#7201a8"
                        ],
                        [
                          0.3333333333333333,
                          "#9c179e"
                        ],
                        [
                          0.4444444444444444,
                          "#bd3786"
                        ],
                        [
                          0.5555555555555556,
                          "#d8576b"
                        ],
                        [
                          0.6666666666666666,
                          "#ed7953"
                        ],
                        [
                          0.7777777777777778,
                          "#fb9f3a"
                        ],
                        [
                          0.8888888888888888,
                          "#fdca26"
                        ],
                        [
                          1,
                          "#f0f921"
                        ]
                      ],
                      "sequentialminus": [
                        [
                          0,
                          "#0d0887"
                        ],
                        [
                          0.1111111111111111,
                          "#46039f"
                        ],
                        [
                          0.2222222222222222,
                          "#7201a8"
                        ],
                        [
                          0.3333333333333333,
                          "#9c179e"
                        ],
                        [
                          0.4444444444444444,
                          "#bd3786"
                        ],
                        [
                          0.5555555555555556,
                          "#d8576b"
                        ],
                        [
                          0.6666666666666666,
                          "#ed7953"
                        ],
                        [
                          0.7777777777777778,
                          "#fb9f3a"
                        ],
                        [
                          0.8888888888888888,
                          "#fdca26"
                        ],
                        [
                          1,
                          "#f0f921"
                        ]
                      ]
                    },
                    "colorway": [
                      "#636efa",
                      "#EF553B",
                      "#00cc96",
                      "#ab63fa",
                      "#FFA15A",
                      "#19d3f3",
                      "#FF6692",
                      "#B6E880",
                      "#FF97FF",
                      "#FECB52"
                    ],
                    "font": {
                      "color": "#2a3f5f"
                    },
                    "geo": {
                      "bgcolor": "white",
                      "lakecolor": "white",
                      "landcolor": "#E5ECF6",
                      "showlakes": true,
                      "showland": true,
                      "subunitcolor": "white"
                    },
                    "hoverlabel": {
                      "align": "left"
                    },
                    "hovermode": "closest",
                    "mapbox": {
                      "style": "light"
                    },
                    "paper_bgcolor": "white",
                    "plot_bgcolor": "#E5ECF6",
                    "polar": {
                      "angularaxis": {
                        "gridcolor": "white",
                        "linecolor": "white",
                        "ticks": ""
                      },
                      "bgcolor": "#E5ECF6",
                      "radialaxis": {
                        "gridcolor": "white",
                        "linecolor": "white",
                        "ticks": ""
                      }
                    },
                    "scene": {
                      "xaxis": {
                        "backgroundcolor": "#E5ECF6",
                        "gridcolor": "white",
                        "gridwidth": 2,
                        "linecolor": "white",
                        "showbackground": true,
                        "ticks": "",
                        "zerolinecolor": "white"
                      },
                      "yaxis": {
                        "backgroundcolor": "#E5ECF6",
                        "gridcolor": "white",
                        "gridwidth": 2,
                        "linecolor": "white",
                        "showbackground": true,
                        "ticks": "",
                        "zerolinecolor": "white"
                      },
                      "zaxis": {
                        "backgroundcolor": "#E5ECF6",
                        "gridcolor": "white",
                        "gridwidth": 2,
                        "linecolor": "white",
                        "showbackground": true,
                        "ticks": "",
                        "zerolinecolor": "white"
                      }
                    },
                    "shapedefaults": {
                      "line": {
                        "color": "#2a3f5f"
                      }
                    },
                    "ternary": {
                      "aaxis": {
                        "gridcolor": "white",
                        "linecolor": "white",
                        "ticks": ""
                      },
                      "baxis": {
                        "gridcolor": "white",
                        "linecolor": "white",
                        "ticks": ""
                      },
                      "bgcolor": "#E5ECF6",
                      "caxis": {
                        "gridcolor": "white",
                        "linecolor": "white",
                        "ticks": ""
                      }
                    },
                    "title": {
                      "x": 0.05
                    },
                    "xaxis": {
                      "automargin": true,
                      "gridcolor": "white",
                      "linecolor": "white",
                      "ticks": "",
                      "title": {
                        "standoff": 15
                      },
                      "zerolinecolor": "white",
                      "zerolinewidth": 2
                    },
                    "yaxis": {
                      "automargin": true,
                      "gridcolor": "white",
                      "linecolor": "white",
                      "ticks": "",
                      "title": {
                        "standoff": 15
                      },
                      "zerolinecolor": "white",
                      "zerolinewidth": 2
                    }
                  }
                },
                "title": {
                  "text": "Distribution of - 2014-agustus"
                },
                "width": 600,
                "xaxis": {
                  "anchor": "y",
                  "domain": [
                    0,
                    1
                  ],
                  "title": {
                    "text": "2014-agustus"
                  }
                },
                "yaxis": {
                  "anchor": "x",
                  "domain": [
                    0,
                    1
                  ],
                  "title": {
                    "text": "Count"
                  }
                }
              }
            }
          },
          "metadata": {},
          "output_type": "display_data"
        }
      ],
      "source": [
        "viz = df_2014[['2014-februari', '2014-agustus']]\n",
        "\n",
        "# Iterasi melalui setiap kolom dan buat histogram\n",
        "for col in viz.columns:\n",
        "    fig = px.histogram(df_2014, x=col, title=f'Distribution of - {col}')\n",
        "    fig.update_layout(\n",
        "        bargap=0.1,\n",
        "        width=600,\n",
        "        height=500,\n",
        "        xaxis_title=col,\n",
        "        yaxis_title='Count'\n",
        "    )\n",
        "    fig.show()"
      ]
    },
    {
      "cell_type": "code",
      "execution_count": 26,
      "metadata": {},
      "outputs": [],
      "source": [
        "mean_14 = df_2014.drop(columns=df_2014[['provinsi']], axis=1)\n",
        "df_2014.fillna(mean_14.mean().round(2), inplace=True)"
      ]
    },
    {
      "cell_type": "code",
      "execution_count": 27,
      "metadata": {},
      "outputs": [
        {
          "data": {
            "text/html": [
              "<div>\n",
              "<style scoped>\n",
              "    .dataframe tbody tr th:only-of-type {\n",
              "        vertical-align: middle;\n",
              "    }\n",
              "\n",
              "    .dataframe tbody tr th {\n",
              "        vertical-align: top;\n",
              "    }\n",
              "\n",
              "    .dataframe thead th {\n",
              "        text-align: right;\n",
              "    }\n",
              "</style>\n",
              "<table border=\"1\" class=\"dataframe\">\n",
              "  <thead>\n",
              "    <tr style=\"text-align: right;\">\n",
              "      <th></th>\n",
              "      <th>provinsi</th>\n",
              "      <th>2014-februari</th>\n",
              "      <th>2014-agustus</th>\n",
              "    </tr>\n",
              "  </thead>\n",
              "  <tbody>\n",
              "    <tr>\n",
              "      <th>0</th>\n",
              "      <td>ACEH</td>\n",
              "      <td>6.75</td>\n",
              "      <td>9.02</td>\n",
              "    </tr>\n",
              "    <tr>\n",
              "      <th>1</th>\n",
              "      <td>SUMATERA UTARA</td>\n",
              "      <td>5.95</td>\n",
              "      <td>6.23</td>\n",
              "    </tr>\n",
              "    <tr>\n",
              "      <th>2</th>\n",
              "      <td>SUMATERA BARAT</td>\n",
              "      <td>6.32</td>\n",
              "      <td>6.50</td>\n",
              "    </tr>\n",
              "    <tr>\n",
              "      <th>3</th>\n",
              "      <td>RIAU</td>\n",
              "      <td>4.99</td>\n",
              "      <td>6.56</td>\n",
              "    </tr>\n",
              "    <tr>\n",
              "      <th>4</th>\n",
              "      <td>JAMBI</td>\n",
              "      <td>2.50</td>\n",
              "      <td>5.08</td>\n",
              "    </tr>\n",
              "    <tr>\n",
              "      <th>5</th>\n",
              "      <td>SUMATERA SELATAN</td>\n",
              "      <td>3.84</td>\n",
              "      <td>4.96</td>\n",
              "    </tr>\n",
              "    <tr>\n",
              "      <th>6</th>\n",
              "      <td>BENGKULU</td>\n",
              "      <td>1.62</td>\n",
              "      <td>3.47</td>\n",
              "    </tr>\n",
              "    <tr>\n",
              "      <th>7</th>\n",
              "      <td>LAMPUNG</td>\n",
              "      <td>5.08</td>\n",
              "      <td>4.79</td>\n",
              "    </tr>\n",
              "    <tr>\n",
              "      <th>8</th>\n",
              "      <td>KEPULAUAN BANGKA BELITUNG</td>\n",
              "      <td>2.67</td>\n",
              "      <td>5.14</td>\n",
              "    </tr>\n",
              "    <tr>\n",
              "      <th>9</th>\n",
              "      <td>KEPULAUAN RIAU</td>\n",
              "      <td>5.26</td>\n",
              "      <td>6.69</td>\n",
              "    </tr>\n",
              "    <tr>\n",
              "      <th>10</th>\n",
              "      <td>DKI JAKARTA</td>\n",
              "      <td>9.84</td>\n",
              "      <td>8.47</td>\n",
              "    </tr>\n",
              "    <tr>\n",
              "      <th>11</th>\n",
              "      <td>JAWA BARAT</td>\n",
              "      <td>8.66</td>\n",
              "      <td>8.45</td>\n",
              "    </tr>\n",
              "    <tr>\n",
              "      <th>12</th>\n",
              "      <td>JAWA TENGAH</td>\n",
              "      <td>5.45</td>\n",
              "      <td>5.68</td>\n",
              "    </tr>\n",
              "    <tr>\n",
              "      <th>13</th>\n",
              "      <td>DI YOGYAKARTA</td>\n",
              "      <td>2.16</td>\n",
              "      <td>3.33</td>\n",
              "    </tr>\n",
              "    <tr>\n",
              "      <th>14</th>\n",
              "      <td>JAWA TIMUR</td>\n",
              "      <td>4.02</td>\n",
              "      <td>4.19</td>\n",
              "    </tr>\n",
              "    <tr>\n",
              "      <th>15</th>\n",
              "      <td>BANTEN</td>\n",
              "      <td>9.87</td>\n",
              "      <td>9.07</td>\n",
              "    </tr>\n",
              "    <tr>\n",
              "      <th>16</th>\n",
              "      <td>BALI</td>\n",
              "      <td>1.37</td>\n",
              "      <td>1.90</td>\n",
              "    </tr>\n",
              "    <tr>\n",
              "      <th>17</th>\n",
              "      <td>NUSA TENGGARA BARAT</td>\n",
              "      <td>5.30</td>\n",
              "      <td>5.75</td>\n",
              "    </tr>\n",
              "    <tr>\n",
              "      <th>18</th>\n",
              "      <td>NUSA TENGGARA TIMUR</td>\n",
              "      <td>1.97</td>\n",
              "      <td>3.26</td>\n",
              "    </tr>\n",
              "    <tr>\n",
              "      <th>19</th>\n",
              "      <td>KALIMANTAN BARAT</td>\n",
              "      <td>2.53</td>\n",
              "      <td>4.04</td>\n",
              "    </tr>\n",
              "    <tr>\n",
              "      <th>20</th>\n",
              "      <td>KALIMANTAN TENGAH</td>\n",
              "      <td>2.71</td>\n",
              "      <td>3.24</td>\n",
              "    </tr>\n",
              "    <tr>\n",
              "      <th>21</th>\n",
              "      <td>KALIMANTAN SELATAN</td>\n",
              "      <td>4.03</td>\n",
              "      <td>3.80</td>\n",
              "    </tr>\n",
              "    <tr>\n",
              "      <th>22</th>\n",
              "      <td>KALIMANTAN TIMUR</td>\n",
              "      <td>8.89</td>\n",
              "      <td>7.38</td>\n",
              "    </tr>\n",
              "    <tr>\n",
              "      <th>23</th>\n",
              "      <td>KALIMANTAN UTARA</td>\n",
              "      <td>4.65</td>\n",
              "      <td>5.40</td>\n",
              "    </tr>\n",
              "    <tr>\n",
              "      <th>24</th>\n",
              "      <td>SULAWESI UTARA</td>\n",
              "      <td>7.27</td>\n",
              "      <td>7.54</td>\n",
              "    </tr>\n",
              "    <tr>\n",
              "      <th>25</th>\n",
              "      <td>SULAWESI TENGAH</td>\n",
              "      <td>2.92</td>\n",
              "      <td>3.68</td>\n",
              "    </tr>\n",
              "    <tr>\n",
              "      <th>26</th>\n",
              "      <td>SULAWESI SELATAN</td>\n",
              "      <td>5.79</td>\n",
              "      <td>5.08</td>\n",
              "    </tr>\n",
              "    <tr>\n",
              "      <th>27</th>\n",
              "      <td>SULAWESI TENGGARA</td>\n",
              "      <td>2.13</td>\n",
              "      <td>4.43</td>\n",
              "    </tr>\n",
              "    <tr>\n",
              "      <th>28</th>\n",
              "      <td>GORONTALO</td>\n",
              "      <td>2.44</td>\n",
              "      <td>4.18</td>\n",
              "    </tr>\n",
              "    <tr>\n",
              "      <th>29</th>\n",
              "      <td>SULAWESI BARAT</td>\n",
              "      <td>1.60</td>\n",
              "      <td>2.08</td>\n",
              "    </tr>\n",
              "    <tr>\n",
              "      <th>30</th>\n",
              "      <td>MALUKU</td>\n",
              "      <td>6.59</td>\n",
              "      <td>10.51</td>\n",
              "    </tr>\n",
              "    <tr>\n",
              "      <th>31</th>\n",
              "      <td>MALUKU UTARA</td>\n",
              "      <td>5.65</td>\n",
              "      <td>5.29</td>\n",
              "    </tr>\n",
              "    <tr>\n",
              "      <th>32</th>\n",
              "      <td>PAPUA BARAT</td>\n",
              "      <td>3.70</td>\n",
              "      <td>5.02</td>\n",
              "    </tr>\n",
              "    <tr>\n",
              "      <th>33</th>\n",
              "      <td>PAPUA</td>\n",
              "      <td>3.48</td>\n",
              "      <td>3.44</td>\n",
              "    </tr>\n",
              "  </tbody>\n",
              "</table>\n",
              "</div>"
            ],
            "text/plain": [
              "                     provinsi  2014-februari  2014-agustus\n",
              "0                        ACEH           6.75          9.02\n",
              "1              SUMATERA UTARA           5.95          6.23\n",
              "2              SUMATERA BARAT           6.32          6.50\n",
              "3                        RIAU           4.99          6.56\n",
              "4                       JAMBI           2.50          5.08\n",
              "5            SUMATERA SELATAN           3.84          4.96\n",
              "6                    BENGKULU           1.62          3.47\n",
              "7                     LAMPUNG           5.08          4.79\n",
              "8   KEPULAUAN BANGKA BELITUNG           2.67          5.14\n",
              "9              KEPULAUAN RIAU           5.26          6.69\n",
              "10                DKI JAKARTA           9.84          8.47\n",
              "11                 JAWA BARAT           8.66          8.45\n",
              "12                JAWA TENGAH           5.45          5.68\n",
              "13              DI YOGYAKARTA           2.16          3.33\n",
              "14                 JAWA TIMUR           4.02          4.19\n",
              "15                     BANTEN           9.87          9.07\n",
              "16                       BALI           1.37          1.90\n",
              "17        NUSA TENGGARA BARAT           5.30          5.75\n",
              "18        NUSA TENGGARA TIMUR           1.97          3.26\n",
              "19           KALIMANTAN BARAT           2.53          4.04\n",
              "20          KALIMANTAN TENGAH           2.71          3.24\n",
              "21         KALIMANTAN SELATAN           4.03          3.80\n",
              "22           KALIMANTAN TIMUR           8.89          7.38\n",
              "23           KALIMANTAN UTARA           4.65          5.40\n",
              "24             SULAWESI UTARA           7.27          7.54\n",
              "25            SULAWESI TENGAH           2.92          3.68\n",
              "26           SULAWESI SELATAN           5.79          5.08\n",
              "27          SULAWESI TENGGARA           2.13          4.43\n",
              "28                  GORONTALO           2.44          4.18\n",
              "29             SULAWESI BARAT           1.60          2.08\n",
              "30                     MALUKU           6.59         10.51\n",
              "31               MALUKU UTARA           5.65          5.29\n",
              "32                PAPUA BARAT           3.70          5.02\n",
              "33                      PAPUA           3.48          3.44"
            ]
          },
          "execution_count": 27,
          "metadata": {},
          "output_type": "execute_result"
        }
      ],
      "source": [
        "df_2014"
      ]
    },
    {
      "cell_type": "markdown",
      "metadata": {
        "id": "EkBBMq-thHSW"
      },
      "source": [
        "## TPT - 2015"
      ]
    },
    {
      "cell_type": "code",
      "execution_count": 28,
      "metadata": {},
      "outputs": [
        {
          "name": "stdout",
          "output_type": "stream",
          "text": [
            "<class 'pandas.core.frame.DataFrame'>\n",
            "RangeIndex: 35 entries, 0 to 34\n",
            "Data columns (total 3 columns):\n",
            " #   Column                                         Non-Null Count  Dtype  \n",
            "---  ------                                         --------------  -----  \n",
            " 0   Provinsi                                       35 non-null     object \n",
            " 1   Tingkat Pengangguran Terbuka (TPT) - Februari  35 non-null     float64\n",
            " 2   Tingkat Pengangguran Terbuka (TPT) - Agustus   35 non-null     float64\n",
            "dtypes: float64(2), object(1)\n",
            "memory usage: 972.0+ bytes\n"
          ]
        }
      ],
      "source": [
        "df_2015.info()"
      ]
    },
    {
      "cell_type": "code",
      "execution_count": 29,
      "metadata": {
        "id": "eoYeObEThJkN"
      },
      "outputs": [],
      "source": [
        "df_2015 = df_2015.rename(columns={'Provinsi':'provinsi',  'Tingkat Pengangguran Terbuka (TPT) - Februari':'2015-februari', 'Tingkat Pengangguran Terbuka (TPT) - Agustus':'2015-agustus'})"
      ]
    },
    {
      "cell_type": "code",
      "execution_count": 30,
      "metadata": {
        "id": "aFTlm4LrhjLs"
      },
      "outputs": [],
      "source": [
        "df_2015.drop(df_2015.tail(1).index, inplace=True)"
      ]
    },
    {
      "cell_type": "code",
      "execution_count": 31,
      "metadata": {},
      "outputs": [
        {
          "data": {
            "text/html": [
              "<div>\n",
              "<style scoped>\n",
              "    .dataframe tbody tr th:only-of-type {\n",
              "        vertical-align: middle;\n",
              "    }\n",
              "\n",
              "    .dataframe tbody tr th {\n",
              "        vertical-align: top;\n",
              "    }\n",
              "\n",
              "    .dataframe thead th {\n",
              "        text-align: right;\n",
              "    }\n",
              "</style>\n",
              "<table border=\"1\" class=\"dataframe\">\n",
              "  <thead>\n",
              "    <tr style=\"text-align: right;\">\n",
              "      <th></th>\n",
              "      <th>provinsi</th>\n",
              "      <th>2015-februari</th>\n",
              "      <th>2015-agustus</th>\n",
              "    </tr>\n",
              "  </thead>\n",
              "  <tbody>\n",
              "    <tr>\n",
              "      <th>0</th>\n",
              "      <td>ACEH</td>\n",
              "      <td>7.73</td>\n",
              "      <td>9.93</td>\n",
              "    </tr>\n",
              "    <tr>\n",
              "      <th>1</th>\n",
              "      <td>SUMATERA UTARA</td>\n",
              "      <td>6.39</td>\n",
              "      <td>6.71</td>\n",
              "    </tr>\n",
              "    <tr>\n",
              "      <th>2</th>\n",
              "      <td>SUMATERA BARAT</td>\n",
              "      <td>5.99</td>\n",
              "      <td>6.89</td>\n",
              "    </tr>\n",
              "    <tr>\n",
              "      <th>3</th>\n",
              "      <td>RIAU</td>\n",
              "      <td>6.72</td>\n",
              "      <td>7.83</td>\n",
              "    </tr>\n",
              "    <tr>\n",
              "      <th>4</th>\n",
              "      <td>JAMBI</td>\n",
              "      <td>2.73</td>\n",
              "      <td>4.34</td>\n",
              "    </tr>\n",
              "  </tbody>\n",
              "</table>\n",
              "</div>"
            ],
            "text/plain": [
              "         provinsi  2015-februari  2015-agustus\n",
              "0            ACEH           7.73          9.93\n",
              "1  SUMATERA UTARA           6.39          6.71\n",
              "2  SUMATERA BARAT           5.99          6.89\n",
              "3            RIAU           6.72          7.83\n",
              "4           JAMBI           2.73          4.34"
            ]
          },
          "execution_count": 31,
          "metadata": {},
          "output_type": "execute_result"
        }
      ],
      "source": [
        "df_2015.head()"
      ]
    },
    {
      "cell_type": "markdown",
      "metadata": {
        "id": "1iDcNErshuK7"
      },
      "source": [
        "## TPT - 2016"
      ]
    },
    {
      "cell_type": "code",
      "execution_count": 32,
      "metadata": {},
      "outputs": [
        {
          "name": "stdout",
          "output_type": "stream",
          "text": [
            "<class 'pandas.core.frame.DataFrame'>\n",
            "RangeIndex: 35 entries, 0 to 34\n",
            "Data columns (total 3 columns):\n",
            " #   Column                                         Non-Null Count  Dtype  \n",
            "---  ------                                         --------------  -----  \n",
            " 0   Provinsi                                       35 non-null     object \n",
            " 1   Tingkat Pengangguran Terbuka (TPT) - Februari  35 non-null     float64\n",
            " 2   Tingkat Pengangguran Terbuka (TPT) - Agustus   35 non-null     float64\n",
            "dtypes: float64(2), object(1)\n",
            "memory usage: 972.0+ bytes\n"
          ]
        }
      ],
      "source": [
        "df_2016.info()"
      ]
    },
    {
      "cell_type": "code",
      "execution_count": 33,
      "metadata": {
        "id": "zSGpMBmAhyNR"
      },
      "outputs": [],
      "source": [
        "df_2016 = df_2016.rename(columns={'Provinsi':'provinsi',  'Tingkat Pengangguran Terbuka (TPT) - Februari':'2016-februari', 'Tingkat Pengangguran Terbuka (TPT) - Agustus':'2016-agustus'})"
      ]
    },
    {
      "cell_type": "code",
      "execution_count": 34,
      "metadata": {
        "id": "hQwlnXVxiK3Z"
      },
      "outputs": [],
      "source": [
        "df_2016.drop(df_2016.tail(1).index, inplace=True)"
      ]
    },
    {
      "cell_type": "code",
      "execution_count": 35,
      "metadata": {},
      "outputs": [
        {
          "data": {
            "text/html": [
              "<div>\n",
              "<style scoped>\n",
              "    .dataframe tbody tr th:only-of-type {\n",
              "        vertical-align: middle;\n",
              "    }\n",
              "\n",
              "    .dataframe tbody tr th {\n",
              "        vertical-align: top;\n",
              "    }\n",
              "\n",
              "    .dataframe thead th {\n",
              "        text-align: right;\n",
              "    }\n",
              "</style>\n",
              "<table border=\"1\" class=\"dataframe\">\n",
              "  <thead>\n",
              "    <tr style=\"text-align: right;\">\n",
              "      <th></th>\n",
              "      <th>provinsi</th>\n",
              "      <th>2016-februari</th>\n",
              "      <th>2016-agustus</th>\n",
              "    </tr>\n",
              "  </thead>\n",
              "  <tbody>\n",
              "    <tr>\n",
              "      <th>0</th>\n",
              "      <td>ACEH</td>\n",
              "      <td>8.13</td>\n",
              "      <td>7.57</td>\n",
              "    </tr>\n",
              "    <tr>\n",
              "      <th>1</th>\n",
              "      <td>SUMATERA UTARA</td>\n",
              "      <td>6.49</td>\n",
              "      <td>5.84</td>\n",
              "    </tr>\n",
              "    <tr>\n",
              "      <th>2</th>\n",
              "      <td>SUMATERA BARAT</td>\n",
              "      <td>5.81</td>\n",
              "      <td>5.09</td>\n",
              "    </tr>\n",
              "    <tr>\n",
              "      <th>3</th>\n",
              "      <td>RIAU</td>\n",
              "      <td>5.94</td>\n",
              "      <td>7.43</td>\n",
              "    </tr>\n",
              "    <tr>\n",
              "      <th>4</th>\n",
              "      <td>JAMBI</td>\n",
              "      <td>4.66</td>\n",
              "      <td>4.00</td>\n",
              "    </tr>\n",
              "  </tbody>\n",
              "</table>\n",
              "</div>"
            ],
            "text/plain": [
              "         provinsi  2016-februari  2016-agustus\n",
              "0            ACEH           8.13          7.57\n",
              "1  SUMATERA UTARA           6.49          5.84\n",
              "2  SUMATERA BARAT           5.81          5.09\n",
              "3            RIAU           5.94          7.43\n",
              "4           JAMBI           4.66          4.00"
            ]
          },
          "execution_count": 35,
          "metadata": {},
          "output_type": "execute_result"
        }
      ],
      "source": [
        "df_2016.head()"
      ]
    },
    {
      "cell_type": "markdown",
      "metadata": {
        "id": "aFK7tSS5ujGI"
      },
      "source": [
        "## TPT - 2017"
      ]
    },
    {
      "cell_type": "code",
      "execution_count": 36,
      "metadata": {},
      "outputs": [
        {
          "name": "stdout",
          "output_type": "stream",
          "text": [
            "<class 'pandas.core.frame.DataFrame'>\n",
            "RangeIndex: 35 entries, 0 to 34\n",
            "Data columns (total 5 columns):\n",
            " #   Column                                                Non-Null Count  Dtype  \n",
            "---  ------                                                --------------  -----  \n",
            " 0   Provinsi                                              35 non-null     object \n",
            " 1   Tingkat Pengangguran Terbuka (TPT) - Februari         35 non-null     float64\n",
            " 2   Tingkat Pengangguran Terbuka (TPT) - Agustus          35 non-null     float64\n",
            " 3   Tingkat Partisipasi Angkatan Kerja (TPAK) - Februari  35 non-null     float64\n",
            " 4   Tingkat Partisipasi Angkatan Kerja (TPAK) - Agustus   35 non-null     float64\n",
            "dtypes: float64(4), object(1)\n",
            "memory usage: 1.5+ KB\n"
          ]
        }
      ],
      "source": [
        "df_2017.info()"
      ]
    },
    {
      "cell_type": "code",
      "execution_count": 37,
      "metadata": {
        "id": "OeubLSMBsodX"
      },
      "outputs": [],
      "source": [
        "drop_cols = df_2017[['Tingkat Partisipasi Angkatan Kerja (TPAK) - Februari', 'Tingkat Partisipasi Angkatan Kerja (TPAK) - Agustus']]\n",
        "df_2017.drop(axis=1, columns=drop_cols, inplace=True)"
      ]
    },
    {
      "cell_type": "code",
      "execution_count": 38,
      "metadata": {
        "id": "l5v5zQrJsBmC"
      },
      "outputs": [],
      "source": [
        "df_2017 = df_2017.rename(columns={'Provinsi':'provinsi',  'Tingkat Pengangguran Terbuka (TPT) - Februari':'2017-februari', 'Tingkat Pengangguran Terbuka (TPT) - Agustus':'2017-agustus'})"
      ]
    },
    {
      "cell_type": "code",
      "execution_count": 39,
      "metadata": {
        "id": "6mlFp0aF4Bkh"
      },
      "outputs": [],
      "source": [
        "df_2017.drop(df_2017.tail(1).index, inplace=True)"
      ]
    },
    {
      "cell_type": "code",
      "execution_count": 40,
      "metadata": {},
      "outputs": [
        {
          "data": {
            "text/html": [
              "<div>\n",
              "<style scoped>\n",
              "    .dataframe tbody tr th:only-of-type {\n",
              "        vertical-align: middle;\n",
              "    }\n",
              "\n",
              "    .dataframe tbody tr th {\n",
              "        vertical-align: top;\n",
              "    }\n",
              "\n",
              "    .dataframe thead th {\n",
              "        text-align: right;\n",
              "    }\n",
              "</style>\n",
              "<table border=\"1\" class=\"dataframe\">\n",
              "  <thead>\n",
              "    <tr style=\"text-align: right;\">\n",
              "      <th></th>\n",
              "      <th>provinsi</th>\n",
              "      <th>2017-februari</th>\n",
              "      <th>2017-agustus</th>\n",
              "    </tr>\n",
              "  </thead>\n",
              "  <tbody>\n",
              "    <tr>\n",
              "      <th>0</th>\n",
              "      <td>Aceh</td>\n",
              "      <td>7.39</td>\n",
              "      <td>6.57</td>\n",
              "    </tr>\n",
              "    <tr>\n",
              "      <th>1</th>\n",
              "      <td>Sumatera Utara</td>\n",
              "      <td>6.41</td>\n",
              "      <td>5.60</td>\n",
              "    </tr>\n",
              "    <tr>\n",
              "      <th>2</th>\n",
              "      <td>Sumatera Barat</td>\n",
              "      <td>5.80</td>\n",
              "      <td>5.58</td>\n",
              "    </tr>\n",
              "    <tr>\n",
              "      <th>3</th>\n",
              "      <td>Riau</td>\n",
              "      <td>5.76</td>\n",
              "      <td>6.22</td>\n",
              "    </tr>\n",
              "    <tr>\n",
              "      <th>4</th>\n",
              "      <td>Jambi</td>\n",
              "      <td>3.67</td>\n",
              "      <td>3.87</td>\n",
              "    </tr>\n",
              "  </tbody>\n",
              "</table>\n",
              "</div>"
            ],
            "text/plain": [
              "         provinsi  2017-februari  2017-agustus\n",
              "0            Aceh           7.39          6.57\n",
              "1  Sumatera Utara           6.41          5.60\n",
              "2  Sumatera Barat           5.80          5.58\n",
              "3            Riau           5.76          6.22\n",
              "4           Jambi           3.67          3.87"
            ]
          },
          "execution_count": 40,
          "metadata": {},
          "output_type": "execute_result"
        }
      ],
      "source": [
        "df_2017.head()"
      ]
    },
    {
      "cell_type": "code",
      "execution_count": 41,
      "metadata": {},
      "outputs": [
        {
          "data": {
            "text/html": [
              "<div>\n",
              "<style scoped>\n",
              "    .dataframe tbody tr th:only-of-type {\n",
              "        vertical-align: middle;\n",
              "    }\n",
              "\n",
              "    .dataframe tbody tr th {\n",
              "        vertical-align: top;\n",
              "    }\n",
              "\n",
              "    .dataframe thead th {\n",
              "        text-align: right;\n",
              "    }\n",
              "</style>\n",
              "<table border=\"1\" class=\"dataframe\">\n",
              "  <thead>\n",
              "    <tr style=\"text-align: right;\">\n",
              "      <th></th>\n",
              "      <th>provinsi</th>\n",
              "      <th>2017-februari</th>\n",
              "      <th>2017-agustus</th>\n",
              "    </tr>\n",
              "  </thead>\n",
              "  <tbody>\n",
              "    <tr>\n",
              "      <th>0</th>\n",
              "      <td>ACEH</td>\n",
              "      <td>7.39</td>\n",
              "      <td>6.57</td>\n",
              "    </tr>\n",
              "    <tr>\n",
              "      <th>1</th>\n",
              "      <td>SUMATERA UTARA</td>\n",
              "      <td>6.41</td>\n",
              "      <td>5.60</td>\n",
              "    </tr>\n",
              "    <tr>\n",
              "      <th>2</th>\n",
              "      <td>SUMATERA BARAT</td>\n",
              "      <td>5.80</td>\n",
              "      <td>5.58</td>\n",
              "    </tr>\n",
              "    <tr>\n",
              "      <th>3</th>\n",
              "      <td>RIAU</td>\n",
              "      <td>5.76</td>\n",
              "      <td>6.22</td>\n",
              "    </tr>\n",
              "    <tr>\n",
              "      <th>4</th>\n",
              "      <td>JAMBI</td>\n",
              "      <td>3.67</td>\n",
              "      <td>3.87</td>\n",
              "    </tr>\n",
              "  </tbody>\n",
              "</table>\n",
              "</div>"
            ],
            "text/plain": [
              "         provinsi  2017-februari  2017-agustus\n",
              "0            ACEH           7.39          6.57\n",
              "1  SUMATERA UTARA           6.41          5.60\n",
              "2  SUMATERA BARAT           5.80          5.58\n",
              "3            RIAU           5.76          6.22\n",
              "4           JAMBI           3.67          3.87"
            ]
          },
          "execution_count": 41,
          "metadata": {},
          "output_type": "execute_result"
        }
      ],
      "source": [
        "df_2017['provinsi'] = df_2017['provinsi'].str.upper()\n",
        "df_2017.head()"
      ]
    },
    {
      "cell_type": "markdown",
      "metadata": {
        "id": "VpV-9OrB4adH"
      },
      "source": [
        "## TPT - 2018"
      ]
    },
    {
      "cell_type": "code",
      "execution_count": 42,
      "metadata": {},
      "outputs": [
        {
          "name": "stdout",
          "output_type": "stream",
          "text": [
            "<class 'pandas.core.frame.DataFrame'>\n",
            "RangeIndex: 35 entries, 0 to 34\n",
            "Data columns (total 5 columns):\n",
            " #   Column                                                Non-Null Count  Dtype  \n",
            "---  ------                                                --------------  -----  \n",
            " 0   Provinsi                                              35 non-null     object \n",
            " 1   Tingkat Pengangguran Terbuka (TPT) - Februari         35 non-null     float64\n",
            " 2   Tingkat Pengangguran Terbuka (TPT) - Agustus          35 non-null     float64\n",
            " 3   Tingkat Partisipasi Angkatan Kerja (TPAK) - Februari  35 non-null     float64\n",
            " 4   Tingkat Partisipasi Angkatan Kerja (TPAK) - Agustus   35 non-null     float64\n",
            "dtypes: float64(4), object(1)\n",
            "memory usage: 1.5+ KB\n"
          ]
        }
      ],
      "source": [
        "df_2018.info()"
      ]
    },
    {
      "cell_type": "code",
      "execution_count": 43,
      "metadata": {
        "id": "bSzFM6hJ4eB-"
      },
      "outputs": [],
      "source": [
        "drop_cols = df_2018[['Tingkat Partisipasi Angkatan Kerja (TPAK) - Februari', 'Tingkat Partisipasi Angkatan Kerja (TPAK) - Agustus']]\n",
        "df_2018.drop(axis=1, columns=drop_cols, inplace=True)"
      ]
    },
    {
      "cell_type": "code",
      "execution_count": 44,
      "metadata": {
        "id": "TC5Wn9l-4xWv"
      },
      "outputs": [],
      "source": [
        "df_2018 = df_2018.rename(columns={'Provinsi':'provinsi',  'Tingkat Pengangguran Terbuka (TPT) - Februari':'2018-februari', 'Tingkat Pengangguran Terbuka (TPT) - Agustus':'2018-agustus'})"
      ]
    },
    {
      "cell_type": "code",
      "execution_count": 45,
      "metadata": {
        "id": "CT2ZhZlk5kwe"
      },
      "outputs": [],
      "source": [
        "df_2018.drop(df_2018.tail(1).index, inplace=True)"
      ]
    },
    {
      "cell_type": "code",
      "execution_count": 46,
      "metadata": {},
      "outputs": [
        {
          "data": {
            "text/html": [
              "<div>\n",
              "<style scoped>\n",
              "    .dataframe tbody tr th:only-of-type {\n",
              "        vertical-align: middle;\n",
              "    }\n",
              "\n",
              "    .dataframe tbody tr th {\n",
              "        vertical-align: top;\n",
              "    }\n",
              "\n",
              "    .dataframe thead th {\n",
              "        text-align: right;\n",
              "    }\n",
              "</style>\n",
              "<table border=\"1\" class=\"dataframe\">\n",
              "  <thead>\n",
              "    <tr style=\"text-align: right;\">\n",
              "      <th></th>\n",
              "      <th>provinsi</th>\n",
              "      <th>2018-februari</th>\n",
              "      <th>2018-agustus</th>\n",
              "    </tr>\n",
              "  </thead>\n",
              "  <tbody>\n",
              "    <tr>\n",
              "      <th>0</th>\n",
              "      <td>Aceh</td>\n",
              "      <td>6.54</td>\n",
              "      <td>6.34</td>\n",
              "    </tr>\n",
              "    <tr>\n",
              "      <th>1</th>\n",
              "      <td>Sumatera Utara</td>\n",
              "      <td>5.61</td>\n",
              "      <td>5.55</td>\n",
              "    </tr>\n",
              "    <tr>\n",
              "      <th>2</th>\n",
              "      <td>Sumatera Barat</td>\n",
              "      <td>5.68</td>\n",
              "      <td>5.66</td>\n",
              "    </tr>\n",
              "    <tr>\n",
              "      <th>3</th>\n",
              "      <td>Riau</td>\n",
              "      <td>5.55</td>\n",
              "      <td>5.98</td>\n",
              "    </tr>\n",
              "    <tr>\n",
              "      <th>4</th>\n",
              "      <td>Jambi</td>\n",
              "      <td>3.56</td>\n",
              "      <td>3.73</td>\n",
              "    </tr>\n",
              "  </tbody>\n",
              "</table>\n",
              "</div>"
            ],
            "text/plain": [
              "         provinsi  2018-februari  2018-agustus\n",
              "0            Aceh           6.54          6.34\n",
              "1  Sumatera Utara           5.61          5.55\n",
              "2  Sumatera Barat           5.68          5.66\n",
              "3            Riau           5.55          5.98\n",
              "4           Jambi           3.56          3.73"
            ]
          },
          "execution_count": 46,
          "metadata": {},
          "output_type": "execute_result"
        }
      ],
      "source": [
        "df_2018.head()"
      ]
    },
    {
      "cell_type": "code",
      "execution_count": 47,
      "metadata": {},
      "outputs": [
        {
          "data": {
            "text/html": [
              "<div>\n",
              "<style scoped>\n",
              "    .dataframe tbody tr th:only-of-type {\n",
              "        vertical-align: middle;\n",
              "    }\n",
              "\n",
              "    .dataframe tbody tr th {\n",
              "        vertical-align: top;\n",
              "    }\n",
              "\n",
              "    .dataframe thead th {\n",
              "        text-align: right;\n",
              "    }\n",
              "</style>\n",
              "<table border=\"1\" class=\"dataframe\">\n",
              "  <thead>\n",
              "    <tr style=\"text-align: right;\">\n",
              "      <th></th>\n",
              "      <th>provinsi</th>\n",
              "      <th>2018-februari</th>\n",
              "      <th>2018-agustus</th>\n",
              "    </tr>\n",
              "  </thead>\n",
              "  <tbody>\n",
              "    <tr>\n",
              "      <th>0</th>\n",
              "      <td>ACEH</td>\n",
              "      <td>6.54</td>\n",
              "      <td>6.34</td>\n",
              "    </tr>\n",
              "    <tr>\n",
              "      <th>1</th>\n",
              "      <td>SUMATERA UTARA</td>\n",
              "      <td>5.61</td>\n",
              "      <td>5.55</td>\n",
              "    </tr>\n",
              "    <tr>\n",
              "      <th>2</th>\n",
              "      <td>SUMATERA BARAT</td>\n",
              "      <td>5.68</td>\n",
              "      <td>5.66</td>\n",
              "    </tr>\n",
              "    <tr>\n",
              "      <th>3</th>\n",
              "      <td>RIAU</td>\n",
              "      <td>5.55</td>\n",
              "      <td>5.98</td>\n",
              "    </tr>\n",
              "    <tr>\n",
              "      <th>4</th>\n",
              "      <td>JAMBI</td>\n",
              "      <td>3.56</td>\n",
              "      <td>3.73</td>\n",
              "    </tr>\n",
              "  </tbody>\n",
              "</table>\n",
              "</div>"
            ],
            "text/plain": [
              "         provinsi  2018-februari  2018-agustus\n",
              "0            ACEH           6.54          6.34\n",
              "1  SUMATERA UTARA           5.61          5.55\n",
              "2  SUMATERA BARAT           5.68          5.66\n",
              "3            RIAU           5.55          5.98\n",
              "4           JAMBI           3.56          3.73"
            ]
          },
          "execution_count": 47,
          "metadata": {},
          "output_type": "execute_result"
        }
      ],
      "source": [
        "df_2018['provinsi'] = df_2018['provinsi'].str.upper()\n",
        "df_2018.head()"
      ]
    },
    {
      "cell_type": "markdown",
      "metadata": {
        "id": "qSr4xiequyH7"
      },
      "source": [
        "## TPT - 2019"
      ]
    },
    {
      "cell_type": "code",
      "execution_count": 48,
      "metadata": {},
      "outputs": [
        {
          "name": "stdout",
          "output_type": "stream",
          "text": [
            "<class 'pandas.core.frame.DataFrame'>\n",
            "RangeIndex: 35 entries, 0 to 34\n",
            "Data columns (total 5 columns):\n",
            " #   Column                                                Non-Null Count  Dtype  \n",
            "---  ------                                                --------------  -----  \n",
            " 0   Provinsi                                              35 non-null     object \n",
            " 1   Tingkat Pengangguran Terbuka (TPT) - Februari         35 non-null     float64\n",
            " 2   Tingkat Pengangguran Terbuka (TPT) - Agustus          35 non-null     float64\n",
            " 3   Tingkat Partisipasi Angkatan Kerja (TPAK) - Februari  35 non-null     float64\n",
            " 4   Tingkat Partisipasi Angkatan Kerja (TPAK) - Agustus   35 non-null     float64\n",
            "dtypes: float64(4), object(1)\n",
            "memory usage: 1.5+ KB\n"
          ]
        }
      ],
      "source": [
        "df_2019.info()"
      ]
    },
    {
      "cell_type": "code",
      "execution_count": 49,
      "metadata": {},
      "outputs": [
        {
          "data": {
            "text/html": [
              "<div>\n",
              "<style scoped>\n",
              "    .dataframe tbody tr th:only-of-type {\n",
              "        vertical-align: middle;\n",
              "    }\n",
              "\n",
              "    .dataframe tbody tr th {\n",
              "        vertical-align: top;\n",
              "    }\n",
              "\n",
              "    .dataframe thead th {\n",
              "        text-align: right;\n",
              "    }\n",
              "</style>\n",
              "<table border=\"1\" class=\"dataframe\">\n",
              "  <thead>\n",
              "    <tr style=\"text-align: right;\">\n",
              "      <th></th>\n",
              "      <th>Provinsi</th>\n",
              "      <th>Tingkat Pengangguran Terbuka (TPT) - Februari</th>\n",
              "      <th>Tingkat Pengangguran Terbuka (TPT) - Agustus</th>\n",
              "      <th>Tingkat Partisipasi Angkatan Kerja (TPAK) - Februari</th>\n",
              "      <th>Tingkat Partisipasi Angkatan Kerja (TPAK) - Agustus</th>\n",
              "    </tr>\n",
              "  </thead>\n",
              "  <tbody>\n",
              "    <tr>\n",
              "      <th>0</th>\n",
              "      <td>Aceh</td>\n",
              "      <td>5.48</td>\n",
              "      <td>6.17</td>\n",
              "      <td>66.26</td>\n",
              "      <td>63.13</td>\n",
              "    </tr>\n",
              "    <tr>\n",
              "      <th>1</th>\n",
              "      <td>Sumatera Utara</td>\n",
              "      <td>5.57</td>\n",
              "      <td>5.39</td>\n",
              "      <td>74.72</td>\n",
              "      <td>70.37</td>\n",
              "    </tr>\n",
              "    <tr>\n",
              "      <th>2</th>\n",
              "      <td>Sumatera Barat</td>\n",
              "      <td>5.38</td>\n",
              "      <td>5.38</td>\n",
              "      <td>70.62</td>\n",
              "      <td>67.88</td>\n",
              "    </tr>\n",
              "    <tr>\n",
              "      <th>3</th>\n",
              "      <td>Riau</td>\n",
              "      <td>5.36</td>\n",
              "      <td>5.76</td>\n",
              "      <td>68.32</td>\n",
              "      <td>64.94</td>\n",
              "    </tr>\n",
              "    <tr>\n",
              "      <th>4</th>\n",
              "      <td>Jambi</td>\n",
              "      <td>3.52</td>\n",
              "      <td>4.06</td>\n",
              "      <td>67.41</td>\n",
              "      <td>65.79</td>\n",
              "    </tr>\n",
              "    <tr>\n",
              "      <th>5</th>\n",
              "      <td>Sumatera Selatan</td>\n",
              "      <td>4.02</td>\n",
              "      <td>4.53</td>\n",
              "      <td>71.21</td>\n",
              "      <td>67.67</td>\n",
              "    </tr>\n",
              "    <tr>\n",
              "      <th>6</th>\n",
              "      <td>Bengkulu</td>\n",
              "      <td>2.41</td>\n",
              "      <td>3.26</td>\n",
              "      <td>72.40</td>\n",
              "      <td>70.09</td>\n",
              "    </tr>\n",
              "    <tr>\n",
              "      <th>7</th>\n",
              "      <td>Lampung</td>\n",
              "      <td>3.95</td>\n",
              "      <td>4.03</td>\n",
              "      <td>72.09</td>\n",
              "      <td>69.06</td>\n",
              "    </tr>\n",
              "    <tr>\n",
              "      <th>8</th>\n",
              "      <td>Kepulauan Bangka Belitung</td>\n",
              "      <td>3.32</td>\n",
              "      <td>3.58</td>\n",
              "      <td>67.53</td>\n",
              "      <td>67.10</td>\n",
              "    </tr>\n",
              "    <tr>\n",
              "      <th>9</th>\n",
              "      <td>Kepulauan Riau</td>\n",
              "      <td>7.02</td>\n",
              "      <td>7.50</td>\n",
              "      <td>67.91</td>\n",
              "      <td>64.69</td>\n",
              "    </tr>\n",
              "  </tbody>\n",
              "</table>\n",
              "</div>"
            ],
            "text/plain": [
              "                    Provinsi  Tingkat Pengangguran Terbuka (TPT) - Februari  \\\n",
              "0                       Aceh                                           5.48   \n",
              "1             Sumatera Utara                                           5.57   \n",
              "2             Sumatera Barat                                           5.38   \n",
              "3                       Riau                                           5.36   \n",
              "4                      Jambi                                           3.52   \n",
              "5           Sumatera Selatan                                           4.02   \n",
              "6                   Bengkulu                                           2.41   \n",
              "7                    Lampung                                           3.95   \n",
              "8  Kepulauan Bangka Belitung                                           3.32   \n",
              "9             Kepulauan Riau                                           7.02   \n",
              "\n",
              "   Tingkat Pengangguran Terbuka (TPT) - Agustus  \\\n",
              "0                                          6.17   \n",
              "1                                          5.39   \n",
              "2                                          5.38   \n",
              "3                                          5.76   \n",
              "4                                          4.06   \n",
              "5                                          4.53   \n",
              "6                                          3.26   \n",
              "7                                          4.03   \n",
              "8                                          3.58   \n",
              "9                                          7.50   \n",
              "\n",
              "   Tingkat Partisipasi Angkatan Kerja (TPAK) - Februari  \\\n",
              "0                                              66.26      \n",
              "1                                              74.72      \n",
              "2                                              70.62      \n",
              "3                                              68.32      \n",
              "4                                              67.41      \n",
              "5                                              71.21      \n",
              "6                                              72.40      \n",
              "7                                              72.09      \n",
              "8                                              67.53      \n",
              "9                                              67.91      \n",
              "\n",
              "   Tingkat Partisipasi Angkatan Kerja (TPAK) - Agustus  \n",
              "0                                              63.13    \n",
              "1                                              70.37    \n",
              "2                                              67.88    \n",
              "3                                              64.94    \n",
              "4                                              65.79    \n",
              "5                                              67.67    \n",
              "6                                              70.09    \n",
              "7                                              69.06    \n",
              "8                                              67.10    \n",
              "9                                              64.69    "
            ]
          },
          "execution_count": 49,
          "metadata": {},
          "output_type": "execute_result"
        }
      ],
      "source": [
        "df_2019.head(10)"
      ]
    },
    {
      "cell_type": "code",
      "execution_count": 50,
      "metadata": {
        "id": "TXfUj0Sju0HU"
      },
      "outputs": [],
      "source": [
        "drop_cols = df_2019[['Tingkat Partisipasi Angkatan Kerja (TPAK) - Februari', 'Tingkat Partisipasi Angkatan Kerja (TPAK) - Agustus']]\n",
        "df_2019.drop(axis=1, columns=drop_cols, inplace=True)"
      ]
    },
    {
      "cell_type": "code",
      "execution_count": 51,
      "metadata": {
        "id": "_5BH5GMgvDmp"
      },
      "outputs": [],
      "source": [
        "df_2019 = df_2019.rename(columns={'Provinsi':'provinsi',  'Tingkat Pengangguran Terbuka (TPT) - Februari':'2019-februari', 'Tingkat Pengangguran Terbuka (TPT) - Agustus':'2019-agustus'})"
      ]
    },
    {
      "cell_type": "code",
      "execution_count": 52,
      "metadata": {
        "id": "AcGJQUPg59Ez"
      },
      "outputs": [],
      "source": [
        "df_2019.drop(df_2019.tail(1).index, inplace=True)"
      ]
    },
    {
      "cell_type": "code",
      "execution_count": 53,
      "metadata": {},
      "outputs": [
        {
          "data": {
            "text/html": [
              "<div>\n",
              "<style scoped>\n",
              "    .dataframe tbody tr th:only-of-type {\n",
              "        vertical-align: middle;\n",
              "    }\n",
              "\n",
              "    .dataframe tbody tr th {\n",
              "        vertical-align: top;\n",
              "    }\n",
              "\n",
              "    .dataframe thead th {\n",
              "        text-align: right;\n",
              "    }\n",
              "</style>\n",
              "<table border=\"1\" class=\"dataframe\">\n",
              "  <thead>\n",
              "    <tr style=\"text-align: right;\">\n",
              "      <th></th>\n",
              "      <th>provinsi</th>\n",
              "      <th>2019-februari</th>\n",
              "      <th>2019-agustus</th>\n",
              "    </tr>\n",
              "  </thead>\n",
              "  <tbody>\n",
              "    <tr>\n",
              "      <th>0</th>\n",
              "      <td>Aceh</td>\n",
              "      <td>5.48</td>\n",
              "      <td>6.17</td>\n",
              "    </tr>\n",
              "    <tr>\n",
              "      <th>1</th>\n",
              "      <td>Sumatera Utara</td>\n",
              "      <td>5.57</td>\n",
              "      <td>5.39</td>\n",
              "    </tr>\n",
              "    <tr>\n",
              "      <th>2</th>\n",
              "      <td>Sumatera Barat</td>\n",
              "      <td>5.38</td>\n",
              "      <td>5.38</td>\n",
              "    </tr>\n",
              "    <tr>\n",
              "      <th>3</th>\n",
              "      <td>Riau</td>\n",
              "      <td>5.36</td>\n",
              "      <td>5.76</td>\n",
              "    </tr>\n",
              "    <tr>\n",
              "      <th>4</th>\n",
              "      <td>Jambi</td>\n",
              "      <td>3.52</td>\n",
              "      <td>4.06</td>\n",
              "    </tr>\n",
              "  </tbody>\n",
              "</table>\n",
              "</div>"
            ],
            "text/plain": [
              "         provinsi  2019-februari  2019-agustus\n",
              "0            Aceh           5.48          6.17\n",
              "1  Sumatera Utara           5.57          5.39\n",
              "2  Sumatera Barat           5.38          5.38\n",
              "3            Riau           5.36          5.76\n",
              "4           Jambi           3.52          4.06"
            ]
          },
          "execution_count": 53,
          "metadata": {},
          "output_type": "execute_result"
        }
      ],
      "source": [
        "df_2019.head()"
      ]
    },
    {
      "cell_type": "code",
      "execution_count": 54,
      "metadata": {},
      "outputs": [
        {
          "data": {
            "text/html": [
              "<div>\n",
              "<style scoped>\n",
              "    .dataframe tbody tr th:only-of-type {\n",
              "        vertical-align: middle;\n",
              "    }\n",
              "\n",
              "    .dataframe tbody tr th {\n",
              "        vertical-align: top;\n",
              "    }\n",
              "\n",
              "    .dataframe thead th {\n",
              "        text-align: right;\n",
              "    }\n",
              "</style>\n",
              "<table border=\"1\" class=\"dataframe\">\n",
              "  <thead>\n",
              "    <tr style=\"text-align: right;\">\n",
              "      <th></th>\n",
              "      <th>provinsi</th>\n",
              "      <th>2019-februari</th>\n",
              "      <th>2019-agustus</th>\n",
              "    </tr>\n",
              "  </thead>\n",
              "  <tbody>\n",
              "    <tr>\n",
              "      <th>0</th>\n",
              "      <td>ACEH</td>\n",
              "      <td>5.48</td>\n",
              "      <td>6.17</td>\n",
              "    </tr>\n",
              "    <tr>\n",
              "      <th>1</th>\n",
              "      <td>SUMATERA UTARA</td>\n",
              "      <td>5.57</td>\n",
              "      <td>5.39</td>\n",
              "    </tr>\n",
              "    <tr>\n",
              "      <th>2</th>\n",
              "      <td>SUMATERA BARAT</td>\n",
              "      <td>5.38</td>\n",
              "      <td>5.38</td>\n",
              "    </tr>\n",
              "    <tr>\n",
              "      <th>3</th>\n",
              "      <td>RIAU</td>\n",
              "      <td>5.36</td>\n",
              "      <td>5.76</td>\n",
              "    </tr>\n",
              "    <tr>\n",
              "      <th>4</th>\n",
              "      <td>JAMBI</td>\n",
              "      <td>3.52</td>\n",
              "      <td>4.06</td>\n",
              "    </tr>\n",
              "  </tbody>\n",
              "</table>\n",
              "</div>"
            ],
            "text/plain": [
              "         provinsi  2019-februari  2019-agustus\n",
              "0            ACEH           5.48          6.17\n",
              "1  SUMATERA UTARA           5.57          5.39\n",
              "2  SUMATERA BARAT           5.38          5.38\n",
              "3            RIAU           5.36          5.76\n",
              "4           JAMBI           3.52          4.06"
            ]
          },
          "execution_count": 54,
          "metadata": {},
          "output_type": "execute_result"
        }
      ],
      "source": [
        "df_2019['provinsi'] = df_2019['provinsi'].str.upper()\n",
        "df_2019.head()"
      ]
    },
    {
      "cell_type": "markdown",
      "metadata": {
        "id": "DHCp21H2vTyc"
      },
      "source": [
        "## TPT - 2020"
      ]
    },
    {
      "cell_type": "code",
      "execution_count": 55,
      "metadata": {},
      "outputs": [
        {
          "name": "stdout",
          "output_type": "stream",
          "text": [
            "<class 'pandas.core.frame.DataFrame'>\n",
            "RangeIndex: 35 entries, 0 to 34\n",
            "Data columns (total 5 columns):\n",
            " #   Column                                                Non-Null Count  Dtype  \n",
            "---  ------                                                --------------  -----  \n",
            " 0   Provinsi                                              35 non-null     object \n",
            " 1   Tingkat Pengangguran Terbuka (TPT) - Februari         35 non-null     float64\n",
            " 2   Tingkat Pengangguran Terbuka (TPT) - Agustus          35 non-null     float64\n",
            " 3   Tingkat Partisipasi Angkatan Kerja (TPAK) - Februari  35 non-null     float64\n",
            " 4   Tingkat Partisipasi Angkatan Kerja (TPAK) - Agustus   35 non-null     float64\n",
            "dtypes: float64(4), object(1)\n",
            "memory usage: 1.5+ KB\n"
          ]
        }
      ],
      "source": [
        "df_2020.info()"
      ]
    },
    {
      "cell_type": "code",
      "execution_count": 56,
      "metadata": {
        "id": "LOFVpDwfvVSR"
      },
      "outputs": [],
      "source": [
        "drop_cols = df_2020[['Tingkat Partisipasi Angkatan Kerja (TPAK) - Februari', 'Tingkat Partisipasi Angkatan Kerja (TPAK) - Agustus']]\n",
        "df_2020.drop(axis=1, columns=drop_cols, inplace=True)"
      ]
    },
    {
      "cell_type": "code",
      "execution_count": 57,
      "metadata": {
        "id": "Cnt0l8DRvh1c"
      },
      "outputs": [],
      "source": [
        "df_2020 = df_2020.rename(columns={'Provinsi':'provinsi',  'Tingkat Pengangguran Terbuka (TPT) - Februari':'2020-februari', 'Tingkat Pengangguran Terbuka (TPT) - Agustus':'2020-agustus'})"
      ]
    },
    {
      "cell_type": "code",
      "execution_count": 58,
      "metadata": {
        "id": "M_-UXsRf6Bzo"
      },
      "outputs": [],
      "source": [
        "df_2020.drop(df_2020.tail(1).index, inplace=True)"
      ]
    },
    {
      "cell_type": "code",
      "execution_count": 59,
      "metadata": {},
      "outputs": [
        {
          "data": {
            "text/html": [
              "<div>\n",
              "<style scoped>\n",
              "    .dataframe tbody tr th:only-of-type {\n",
              "        vertical-align: middle;\n",
              "    }\n",
              "\n",
              "    .dataframe tbody tr th {\n",
              "        vertical-align: top;\n",
              "    }\n",
              "\n",
              "    .dataframe thead th {\n",
              "        text-align: right;\n",
              "    }\n",
              "</style>\n",
              "<table border=\"1\" class=\"dataframe\">\n",
              "  <thead>\n",
              "    <tr style=\"text-align: right;\">\n",
              "      <th></th>\n",
              "      <th>provinsi</th>\n",
              "      <th>2020-februari</th>\n",
              "      <th>2020-agustus</th>\n",
              "    </tr>\n",
              "  </thead>\n",
              "  <tbody>\n",
              "    <tr>\n",
              "      <th>0</th>\n",
              "      <td>Aceh</td>\n",
              "      <td>5.40</td>\n",
              "      <td>6.59</td>\n",
              "    </tr>\n",
              "    <tr>\n",
              "      <th>1</th>\n",
              "      <td>Sumatera Utara</td>\n",
              "      <td>4.71</td>\n",
              "      <td>6.91</td>\n",
              "    </tr>\n",
              "    <tr>\n",
              "      <th>2</th>\n",
              "      <td>Sumatera Barat</td>\n",
              "      <td>5.25</td>\n",
              "      <td>6.88</td>\n",
              "    </tr>\n",
              "    <tr>\n",
              "      <th>3</th>\n",
              "      <td>Riau</td>\n",
              "      <td>4.92</td>\n",
              "      <td>6.32</td>\n",
              "    </tr>\n",
              "    <tr>\n",
              "      <th>4</th>\n",
              "      <td>Jambi</td>\n",
              "      <td>4.26</td>\n",
              "      <td>5.13</td>\n",
              "    </tr>\n",
              "  </tbody>\n",
              "</table>\n",
              "</div>"
            ],
            "text/plain": [
              "         provinsi  2020-februari  2020-agustus\n",
              "0            Aceh           5.40          6.59\n",
              "1  Sumatera Utara           4.71          6.91\n",
              "2  Sumatera Barat           5.25          6.88\n",
              "3            Riau           4.92          6.32\n",
              "4           Jambi           4.26          5.13"
            ]
          },
          "execution_count": 59,
          "metadata": {},
          "output_type": "execute_result"
        }
      ],
      "source": [
        "df_2020.head()"
      ]
    },
    {
      "cell_type": "code",
      "execution_count": 60,
      "metadata": {},
      "outputs": [
        {
          "data": {
            "text/html": [
              "<div>\n",
              "<style scoped>\n",
              "    .dataframe tbody tr th:only-of-type {\n",
              "        vertical-align: middle;\n",
              "    }\n",
              "\n",
              "    .dataframe tbody tr th {\n",
              "        vertical-align: top;\n",
              "    }\n",
              "\n",
              "    .dataframe thead th {\n",
              "        text-align: right;\n",
              "    }\n",
              "</style>\n",
              "<table border=\"1\" class=\"dataframe\">\n",
              "  <thead>\n",
              "    <tr style=\"text-align: right;\">\n",
              "      <th></th>\n",
              "      <th>provinsi</th>\n",
              "      <th>2020-februari</th>\n",
              "      <th>2020-agustus</th>\n",
              "    </tr>\n",
              "  </thead>\n",
              "  <tbody>\n",
              "    <tr>\n",
              "      <th>0</th>\n",
              "      <td>ACEH</td>\n",
              "      <td>5.40</td>\n",
              "      <td>6.59</td>\n",
              "    </tr>\n",
              "    <tr>\n",
              "      <th>1</th>\n",
              "      <td>SUMATERA UTARA</td>\n",
              "      <td>4.71</td>\n",
              "      <td>6.91</td>\n",
              "    </tr>\n",
              "    <tr>\n",
              "      <th>2</th>\n",
              "      <td>SUMATERA BARAT</td>\n",
              "      <td>5.25</td>\n",
              "      <td>6.88</td>\n",
              "    </tr>\n",
              "    <tr>\n",
              "      <th>3</th>\n",
              "      <td>RIAU</td>\n",
              "      <td>4.92</td>\n",
              "      <td>6.32</td>\n",
              "    </tr>\n",
              "    <tr>\n",
              "      <th>4</th>\n",
              "      <td>JAMBI</td>\n",
              "      <td>4.26</td>\n",
              "      <td>5.13</td>\n",
              "    </tr>\n",
              "  </tbody>\n",
              "</table>\n",
              "</div>"
            ],
            "text/plain": [
              "         provinsi  2020-februari  2020-agustus\n",
              "0            ACEH           5.40          6.59\n",
              "1  SUMATERA UTARA           4.71          6.91\n",
              "2  SUMATERA BARAT           5.25          6.88\n",
              "3            RIAU           4.92          6.32\n",
              "4           JAMBI           4.26          5.13"
            ]
          },
          "execution_count": 60,
          "metadata": {},
          "output_type": "execute_result"
        }
      ],
      "source": [
        "df_2020['provinsi'] = df_2020['provinsi'].str.upper()\n",
        "df_2020.head()"
      ]
    },
    {
      "cell_type": "markdown",
      "metadata": {
        "id": "szQxCiBNvyvP"
      },
      "source": [
        "## TPT - 2021"
      ]
    },
    {
      "cell_type": "code",
      "execution_count": 61,
      "metadata": {},
      "outputs": [
        {
          "name": "stdout",
          "output_type": "stream",
          "text": [
            "<class 'pandas.core.frame.DataFrame'>\n",
            "RangeIndex: 35 entries, 0 to 34\n",
            "Data columns (total 5 columns):\n",
            " #   Column                                                Non-Null Count  Dtype  \n",
            "---  ------                                                --------------  -----  \n",
            " 0   Provinsi                                              35 non-null     object \n",
            " 1   Tingkat Pengangguran Terbuka (TPT) - Februari         35 non-null     float64\n",
            " 2   Tingkat Pengangguran Terbuka (TPT) - Agustus          35 non-null     float64\n",
            " 3   Tingkat Partisipasi Angkatan Kerja (TPAK) - Februari  35 non-null     float64\n",
            " 4   Tingkat Partisipasi Angkatan Kerja (TPAK) - Agustus   35 non-null     float64\n",
            "dtypes: float64(4), object(1)\n",
            "memory usage: 1.5+ KB\n"
          ]
        }
      ],
      "source": [
        "df_2021.info()"
      ]
    },
    {
      "cell_type": "code",
      "execution_count": 62,
      "metadata": {
        "id": "kCVSxge9v1YA"
      },
      "outputs": [],
      "source": [
        "drop_cols = df_2021[['Tingkat Partisipasi Angkatan Kerja (TPAK) - Februari', 'Tingkat Partisipasi Angkatan Kerja (TPAK) - Agustus']]\n",
        "df_2021.drop(axis=1, columns=drop_cols, inplace=True)"
      ]
    },
    {
      "cell_type": "code",
      "execution_count": 63,
      "metadata": {
        "id": "3yd5ymjQv6Q8"
      },
      "outputs": [],
      "source": [
        "df_2021 = df_2021.rename(columns={'Provinsi':'provinsi',  'Tingkat Pengangguran Terbuka (TPT) - Februari':'2021-februari', 'Tingkat Pengangguran Terbuka (TPT) - Agustus':'2021-agustus'})"
      ]
    },
    {
      "cell_type": "code",
      "execution_count": 64,
      "metadata": {
        "id": "ZlekD9lm6FxB"
      },
      "outputs": [],
      "source": [
        "df_2021.drop(df_2021.tail(1).index, inplace=True)"
      ]
    },
    {
      "cell_type": "code",
      "execution_count": 65,
      "metadata": {},
      "outputs": [
        {
          "data": {
            "text/html": [
              "<div>\n",
              "<style scoped>\n",
              "    .dataframe tbody tr th:only-of-type {\n",
              "        vertical-align: middle;\n",
              "    }\n",
              "\n",
              "    .dataframe tbody tr th {\n",
              "        vertical-align: top;\n",
              "    }\n",
              "\n",
              "    .dataframe thead th {\n",
              "        text-align: right;\n",
              "    }\n",
              "</style>\n",
              "<table border=\"1\" class=\"dataframe\">\n",
              "  <thead>\n",
              "    <tr style=\"text-align: right;\">\n",
              "      <th></th>\n",
              "      <th>provinsi</th>\n",
              "      <th>2021-februari</th>\n",
              "      <th>2021-agustus</th>\n",
              "    </tr>\n",
              "  </thead>\n",
              "  <tbody>\n",
              "    <tr>\n",
              "      <th>0</th>\n",
              "      <td>Aceh</td>\n",
              "      <td>6.30</td>\n",
              "      <td>6.30</td>\n",
              "    </tr>\n",
              "    <tr>\n",
              "      <th>1</th>\n",
              "      <td>Sumatera Utara</td>\n",
              "      <td>6.01</td>\n",
              "      <td>6.33</td>\n",
              "    </tr>\n",
              "    <tr>\n",
              "      <th>2</th>\n",
              "      <td>Sumatera Barat</td>\n",
              "      <td>6.67</td>\n",
              "      <td>6.52</td>\n",
              "    </tr>\n",
              "    <tr>\n",
              "      <th>3</th>\n",
              "      <td>Riau</td>\n",
              "      <td>4.96</td>\n",
              "      <td>4.42</td>\n",
              "    </tr>\n",
              "    <tr>\n",
              "      <th>4</th>\n",
              "      <td>Jambi</td>\n",
              "      <td>4.76</td>\n",
              "      <td>5.09</td>\n",
              "    </tr>\n",
              "  </tbody>\n",
              "</table>\n",
              "</div>"
            ],
            "text/plain": [
              "         provinsi  2021-februari  2021-agustus\n",
              "0            Aceh           6.30          6.30\n",
              "1  Sumatera Utara           6.01          6.33\n",
              "2  Sumatera Barat           6.67          6.52\n",
              "3            Riau           4.96          4.42\n",
              "4           Jambi           4.76          5.09"
            ]
          },
          "execution_count": 65,
          "metadata": {},
          "output_type": "execute_result"
        }
      ],
      "source": [
        "df_2021.head()"
      ]
    },
    {
      "cell_type": "code",
      "execution_count": 66,
      "metadata": {},
      "outputs": [
        {
          "data": {
            "text/html": [
              "<div>\n",
              "<style scoped>\n",
              "    .dataframe tbody tr th:only-of-type {\n",
              "        vertical-align: middle;\n",
              "    }\n",
              "\n",
              "    .dataframe tbody tr th {\n",
              "        vertical-align: top;\n",
              "    }\n",
              "\n",
              "    .dataframe thead th {\n",
              "        text-align: right;\n",
              "    }\n",
              "</style>\n",
              "<table border=\"1\" class=\"dataframe\">\n",
              "  <thead>\n",
              "    <tr style=\"text-align: right;\">\n",
              "      <th></th>\n",
              "      <th>provinsi</th>\n",
              "      <th>2021-februari</th>\n",
              "      <th>2021-agustus</th>\n",
              "    </tr>\n",
              "  </thead>\n",
              "  <tbody>\n",
              "    <tr>\n",
              "      <th>0</th>\n",
              "      <td>ACEH</td>\n",
              "      <td>6.30</td>\n",
              "      <td>6.30</td>\n",
              "    </tr>\n",
              "    <tr>\n",
              "      <th>1</th>\n",
              "      <td>SUMATERA UTARA</td>\n",
              "      <td>6.01</td>\n",
              "      <td>6.33</td>\n",
              "    </tr>\n",
              "    <tr>\n",
              "      <th>2</th>\n",
              "      <td>SUMATERA BARAT</td>\n",
              "      <td>6.67</td>\n",
              "      <td>6.52</td>\n",
              "    </tr>\n",
              "    <tr>\n",
              "      <th>3</th>\n",
              "      <td>RIAU</td>\n",
              "      <td>4.96</td>\n",
              "      <td>4.42</td>\n",
              "    </tr>\n",
              "    <tr>\n",
              "      <th>4</th>\n",
              "      <td>JAMBI</td>\n",
              "      <td>4.76</td>\n",
              "      <td>5.09</td>\n",
              "    </tr>\n",
              "  </tbody>\n",
              "</table>\n",
              "</div>"
            ],
            "text/plain": [
              "         provinsi  2021-februari  2021-agustus\n",
              "0            ACEH           6.30          6.30\n",
              "1  SUMATERA UTARA           6.01          6.33\n",
              "2  SUMATERA BARAT           6.67          6.52\n",
              "3            RIAU           4.96          4.42\n",
              "4           JAMBI           4.76          5.09"
            ]
          },
          "execution_count": 66,
          "metadata": {},
          "output_type": "execute_result"
        }
      ],
      "source": [
        "df_2021['provinsi'] = df_2021['provinsi'].str.upper()\n",
        "df_2021.head()"
      ]
    },
    {
      "cell_type": "markdown",
      "metadata": {
        "id": "rIFkWuKJwFIo"
      },
      "source": [
        "## TPT - 2022"
      ]
    },
    {
      "cell_type": "code",
      "execution_count": 67,
      "metadata": {},
      "outputs": [
        {
          "name": "stdout",
          "output_type": "stream",
          "text": [
            "<class 'pandas.core.frame.DataFrame'>\n",
            "RangeIndex: 35 entries, 0 to 34\n",
            "Data columns (total 5 columns):\n",
            " #   Column                                                Non-Null Count  Dtype  \n",
            "---  ------                                                --------------  -----  \n",
            " 0   Provinsi                                              35 non-null     object \n",
            " 1   Tingkat Pengangguran Terbuka (TPT) - Februari         35 non-null     float64\n",
            " 2   Tingkat Pengangguran Terbuka (TPT) - Agustus          35 non-null     float64\n",
            " 3   Tingkat Partisipasi Angkatan Kerja (TPAK) - Februari  35 non-null     float64\n",
            " 4   Tingkat Partisipasi Angkatan Kerja (TPAK) - Agustus   35 non-null     float64\n",
            "dtypes: float64(4), object(1)\n",
            "memory usage: 1.5+ KB\n"
          ]
        }
      ],
      "source": [
        "df_2022.info()"
      ]
    },
    {
      "cell_type": "code",
      "execution_count": 68,
      "metadata": {
        "id": "b1ZETqIawHv4"
      },
      "outputs": [],
      "source": [
        "drop_cols = df_2022[['Tingkat Partisipasi Angkatan Kerja (TPAK) - Februari', 'Tingkat Partisipasi Angkatan Kerja (TPAK) - Agustus']]\n",
        "df_2022.drop(axis=1, columns=drop_cols, inplace=True)"
      ]
    },
    {
      "cell_type": "code",
      "execution_count": 69,
      "metadata": {
        "id": "CVWrTjJfwNgY"
      },
      "outputs": [],
      "source": [
        "df_2022 = df_2022.rename(columns={'Provinsi':'provinsi',  'Tingkat Pengangguran Terbuka (TPT) - Februari':'2022-februari', 'Tingkat Pengangguran Terbuka (TPT) - Agustus':'2022-agustus'})"
      ]
    },
    {
      "cell_type": "code",
      "execution_count": 70,
      "metadata": {
        "id": "lUfHAB0u6JVI"
      },
      "outputs": [],
      "source": [
        "df_2022.drop(df_2022.tail(1).index, inplace=True)"
      ]
    },
    {
      "cell_type": "code",
      "execution_count": 71,
      "metadata": {},
      "outputs": [
        {
          "data": {
            "text/html": [
              "<div>\n",
              "<style scoped>\n",
              "    .dataframe tbody tr th:only-of-type {\n",
              "        vertical-align: middle;\n",
              "    }\n",
              "\n",
              "    .dataframe tbody tr th {\n",
              "        vertical-align: top;\n",
              "    }\n",
              "\n",
              "    .dataframe thead th {\n",
              "        text-align: right;\n",
              "    }\n",
              "</style>\n",
              "<table border=\"1\" class=\"dataframe\">\n",
              "  <thead>\n",
              "    <tr style=\"text-align: right;\">\n",
              "      <th></th>\n",
              "      <th>provinsi</th>\n",
              "      <th>2022-februari</th>\n",
              "      <th>2022-agustus</th>\n",
              "    </tr>\n",
              "  </thead>\n",
              "  <tbody>\n",
              "    <tr>\n",
              "      <th>0</th>\n",
              "      <td>Aceh</td>\n",
              "      <td>5.97</td>\n",
              "      <td>6.17</td>\n",
              "    </tr>\n",
              "    <tr>\n",
              "      <th>1</th>\n",
              "      <td>Sumatera Utara</td>\n",
              "      <td>5.47</td>\n",
              "      <td>6.16</td>\n",
              "    </tr>\n",
              "    <tr>\n",
              "      <th>2</th>\n",
              "      <td>Sumatera Barat</td>\n",
              "      <td>6.17</td>\n",
              "      <td>6.28</td>\n",
              "    </tr>\n",
              "    <tr>\n",
              "      <th>3</th>\n",
              "      <td>Riau</td>\n",
              "      <td>4.40</td>\n",
              "      <td>4.37</td>\n",
              "    </tr>\n",
              "    <tr>\n",
              "      <th>4</th>\n",
              "      <td>Jambi</td>\n",
              "      <td>4.70</td>\n",
              "      <td>4.59</td>\n",
              "    </tr>\n",
              "  </tbody>\n",
              "</table>\n",
              "</div>"
            ],
            "text/plain": [
              "         provinsi  2022-februari  2022-agustus\n",
              "0            Aceh           5.97          6.17\n",
              "1  Sumatera Utara           5.47          6.16\n",
              "2  Sumatera Barat           6.17          6.28\n",
              "3            Riau           4.40          4.37\n",
              "4           Jambi           4.70          4.59"
            ]
          },
          "execution_count": 71,
          "metadata": {},
          "output_type": "execute_result"
        }
      ],
      "source": [
        "df_2022.head()"
      ]
    },
    {
      "cell_type": "code",
      "execution_count": 72,
      "metadata": {},
      "outputs": [
        {
          "data": {
            "text/html": [
              "<div>\n",
              "<style scoped>\n",
              "    .dataframe tbody tr th:only-of-type {\n",
              "        vertical-align: middle;\n",
              "    }\n",
              "\n",
              "    .dataframe tbody tr th {\n",
              "        vertical-align: top;\n",
              "    }\n",
              "\n",
              "    .dataframe thead th {\n",
              "        text-align: right;\n",
              "    }\n",
              "</style>\n",
              "<table border=\"1\" class=\"dataframe\">\n",
              "  <thead>\n",
              "    <tr style=\"text-align: right;\">\n",
              "      <th></th>\n",
              "      <th>provinsi</th>\n",
              "      <th>2022-februari</th>\n",
              "      <th>2022-agustus</th>\n",
              "    </tr>\n",
              "  </thead>\n",
              "  <tbody>\n",
              "    <tr>\n",
              "      <th>0</th>\n",
              "      <td>ACEH</td>\n",
              "      <td>5.97</td>\n",
              "      <td>6.17</td>\n",
              "    </tr>\n",
              "    <tr>\n",
              "      <th>1</th>\n",
              "      <td>SUMATERA UTARA</td>\n",
              "      <td>5.47</td>\n",
              "      <td>6.16</td>\n",
              "    </tr>\n",
              "    <tr>\n",
              "      <th>2</th>\n",
              "      <td>SUMATERA BARAT</td>\n",
              "      <td>6.17</td>\n",
              "      <td>6.28</td>\n",
              "    </tr>\n",
              "    <tr>\n",
              "      <th>3</th>\n",
              "      <td>RIAU</td>\n",
              "      <td>4.40</td>\n",
              "      <td>4.37</td>\n",
              "    </tr>\n",
              "    <tr>\n",
              "      <th>4</th>\n",
              "      <td>JAMBI</td>\n",
              "      <td>4.70</td>\n",
              "      <td>4.59</td>\n",
              "    </tr>\n",
              "  </tbody>\n",
              "</table>\n",
              "</div>"
            ],
            "text/plain": [
              "         provinsi  2022-februari  2022-agustus\n",
              "0            ACEH           5.97          6.17\n",
              "1  SUMATERA UTARA           5.47          6.16\n",
              "2  SUMATERA BARAT           6.17          6.28\n",
              "3            RIAU           4.40          4.37\n",
              "4           JAMBI           4.70          4.59"
            ]
          },
          "execution_count": 72,
          "metadata": {},
          "output_type": "execute_result"
        }
      ],
      "source": [
        "df_2022['provinsi'] = df_2022['provinsi'].str.upper()\n",
        "df_2022.head()"
      ]
    },
    {
      "cell_type": "markdown",
      "metadata": {
        "id": "8H1a3kDgwbag"
      },
      "source": [
        "## TPT - 2023"
      ]
    },
    {
      "cell_type": "code",
      "execution_count": 73,
      "metadata": {},
      "outputs": [
        {
          "name": "stdout",
          "output_type": "stream",
          "text": [
            "<class 'pandas.core.frame.DataFrame'>\n",
            "RangeIndex: 35 entries, 0 to 34\n",
            "Data columns (total 3 columns):\n",
            " #   Column                                         Non-Null Count  Dtype  \n",
            "---  ------                                         --------------  -----  \n",
            " 0   PROVINSI                                       35 non-null     object \n",
            " 1   Tingkat Pengangguran Terbuka (TPT) - Februari  35 non-null     float64\n",
            " 2   Tingkat Pengangguran Terbuka (TPT) - Agustus   35 non-null     float64\n",
            "dtypes: float64(2), object(1)\n",
            "memory usage: 972.0+ bytes\n"
          ]
        }
      ],
      "source": [
        "df_2023.info()"
      ]
    },
    {
      "cell_type": "code",
      "execution_count": 74,
      "metadata": {
        "id": "u7r7nrCZwfE3"
      },
      "outputs": [],
      "source": [
        "df_2023 = df_2023.rename(columns={'PROVINSI':'provinsi',  'Tingkat Pengangguran Terbuka (TPT) - Februari':'2023-februari', 'Tingkat Pengangguran Terbuka (TPT) - Agustus':'2023-agustus'})"
      ]
    },
    {
      "cell_type": "code",
      "execution_count": 75,
      "metadata": {
        "id": "GUgs7EoS6NhN"
      },
      "outputs": [],
      "source": [
        "df_2023.drop(df_2023.tail(1).index, inplace=True)"
      ]
    },
    {
      "cell_type": "code",
      "execution_count": 76,
      "metadata": {},
      "outputs": [
        {
          "data": {
            "text/html": [
              "<div>\n",
              "<style scoped>\n",
              "    .dataframe tbody tr th:only-of-type {\n",
              "        vertical-align: middle;\n",
              "    }\n",
              "\n",
              "    .dataframe tbody tr th {\n",
              "        vertical-align: top;\n",
              "    }\n",
              "\n",
              "    .dataframe thead th {\n",
              "        text-align: right;\n",
              "    }\n",
              "</style>\n",
              "<table border=\"1\" class=\"dataframe\">\n",
              "  <thead>\n",
              "    <tr style=\"text-align: right;\">\n",
              "      <th></th>\n",
              "      <th>provinsi</th>\n",
              "      <th>2023-februari</th>\n",
              "      <th>2023-agustus</th>\n",
              "    </tr>\n",
              "  </thead>\n",
              "  <tbody>\n",
              "    <tr>\n",
              "      <th>0</th>\n",
              "      <td>ACEH</td>\n",
              "      <td>5.75</td>\n",
              "      <td>6.03</td>\n",
              "    </tr>\n",
              "    <tr>\n",
              "      <th>1</th>\n",
              "      <td>SUMATERA UTARA</td>\n",
              "      <td>5.24</td>\n",
              "      <td>5.89</td>\n",
              "    </tr>\n",
              "    <tr>\n",
              "      <th>2</th>\n",
              "      <td>SUMATERA BARAT</td>\n",
              "      <td>5.90</td>\n",
              "      <td>5.94</td>\n",
              "    </tr>\n",
              "    <tr>\n",
              "      <th>3</th>\n",
              "      <td>RIAU</td>\n",
              "      <td>4.25</td>\n",
              "      <td>4.23</td>\n",
              "    </tr>\n",
              "    <tr>\n",
              "      <th>4</th>\n",
              "      <td>JAMBI</td>\n",
              "      <td>4.50</td>\n",
              "      <td>4.53</td>\n",
              "    </tr>\n",
              "  </tbody>\n",
              "</table>\n",
              "</div>"
            ],
            "text/plain": [
              "         provinsi  2023-februari  2023-agustus\n",
              "0            ACEH           5.75          6.03\n",
              "1  SUMATERA UTARA           5.24          5.89\n",
              "2  SUMATERA BARAT           5.90          5.94\n",
              "3            RIAU           4.25          4.23\n",
              "4           JAMBI           4.50          4.53"
            ]
          },
          "execution_count": 76,
          "metadata": {},
          "output_type": "execute_result"
        }
      ],
      "source": [
        "df_2023.head()"
      ]
    },
    {
      "cell_type": "markdown",
      "metadata": {},
      "source": [
        "# Merging Data"
      ]
    },
    {
      "cell_type": "code",
      "execution_count": 77,
      "metadata": {},
      "outputs": [],
      "source": [
        "df = pd.merge(df_2013, df_2014, on= 'provinsi')\n",
        "df = df.merge(right=df_2015, how='left', on= 'provinsi')\n",
        "df = df.merge(right=df_2016, how='left', on= 'provinsi')\n",
        "df = df.merge(right=df_2017, how='left', on= 'provinsi')\n",
        "df = df.merge(right=df_2018, how='left', on= 'provinsi')\n",
        "df = df.merge(right=df_2019, how='left', on= 'provinsi')\n",
        "df = df.merge(right=df_2020, how='left', on= 'provinsi')\n",
        "df = df.merge(right=df_2021, how='left', on= 'provinsi')\n",
        "df = df.merge(right=df_2022, how='left', on= 'provinsi')\n",
        "df = df.merge(right=df_2023, how='left', on= 'provinsi')\n"
      ]
    },
    {
      "cell_type": "code",
      "execution_count": 78,
      "metadata": {},
      "outputs": [
        {
          "data": {
            "text/html": [
              "<div>\n",
              "<style scoped>\n",
              "    .dataframe tbody tr th:only-of-type {\n",
              "        vertical-align: middle;\n",
              "    }\n",
              "\n",
              "    .dataframe tbody tr th {\n",
              "        vertical-align: top;\n",
              "    }\n",
              "\n",
              "    .dataframe thead th {\n",
              "        text-align: right;\n",
              "    }\n",
              "</style>\n",
              "<table border=\"1\" class=\"dataframe\">\n",
              "  <thead>\n",
              "    <tr style=\"text-align: right;\">\n",
              "      <th></th>\n",
              "      <th>provinsi</th>\n",
              "      <th>2013-februari</th>\n",
              "      <th>2013-agustus</th>\n",
              "      <th>2014-februari</th>\n",
              "      <th>2014-agustus</th>\n",
              "      <th>2015-februari</th>\n",
              "      <th>2015-agustus</th>\n",
              "      <th>2016-februari</th>\n",
              "      <th>2016-agustus</th>\n",
              "      <th>2017-februari</th>\n",
              "      <th>...</th>\n",
              "      <th>2019-februari</th>\n",
              "      <th>2019-agustus</th>\n",
              "      <th>2020-februari</th>\n",
              "      <th>2020-agustus</th>\n",
              "      <th>2021-februari</th>\n",
              "      <th>2021-agustus</th>\n",
              "      <th>2022-februari</th>\n",
              "      <th>2022-agustus</th>\n",
              "      <th>2023-februari</th>\n",
              "      <th>2023-agustus</th>\n",
              "    </tr>\n",
              "  </thead>\n",
              "  <tbody>\n",
              "    <tr>\n",
              "      <th>0</th>\n",
              "      <td>ACEH</td>\n",
              "      <td>8.34</td>\n",
              "      <td>10.12</td>\n",
              "      <td>6.75</td>\n",
              "      <td>9.02</td>\n",
              "      <td>7.73</td>\n",
              "      <td>9.93</td>\n",
              "      <td>8.13</td>\n",
              "      <td>7.57</td>\n",
              "      <td>7.39</td>\n",
              "      <td>...</td>\n",
              "      <td>5.48</td>\n",
              "      <td>6.17</td>\n",
              "      <td>5.40</td>\n",
              "      <td>6.59</td>\n",
              "      <td>6.30</td>\n",
              "      <td>6.30</td>\n",
              "      <td>5.97</td>\n",
              "      <td>6.17</td>\n",
              "      <td>5.75</td>\n",
              "      <td>6.03</td>\n",
              "    </tr>\n",
              "    <tr>\n",
              "      <th>1</th>\n",
              "      <td>SUMATERA UTARA</td>\n",
              "      <td>6.09</td>\n",
              "      <td>6.45</td>\n",
              "      <td>5.95</td>\n",
              "      <td>6.23</td>\n",
              "      <td>6.39</td>\n",
              "      <td>6.71</td>\n",
              "      <td>6.49</td>\n",
              "      <td>5.84</td>\n",
              "      <td>6.41</td>\n",
              "      <td>...</td>\n",
              "      <td>5.57</td>\n",
              "      <td>5.39</td>\n",
              "      <td>4.71</td>\n",
              "      <td>6.91</td>\n",
              "      <td>6.01</td>\n",
              "      <td>6.33</td>\n",
              "      <td>5.47</td>\n",
              "      <td>6.16</td>\n",
              "      <td>5.24</td>\n",
              "      <td>5.89</td>\n",
              "    </tr>\n",
              "    <tr>\n",
              "      <th>2</th>\n",
              "      <td>SUMATERA BARAT</td>\n",
              "      <td>6.39</td>\n",
              "      <td>7.02</td>\n",
              "      <td>6.32</td>\n",
              "      <td>6.50</td>\n",
              "      <td>5.99</td>\n",
              "      <td>6.89</td>\n",
              "      <td>5.81</td>\n",
              "      <td>5.09</td>\n",
              "      <td>5.80</td>\n",
              "      <td>...</td>\n",
              "      <td>5.38</td>\n",
              "      <td>5.38</td>\n",
              "      <td>5.25</td>\n",
              "      <td>6.88</td>\n",
              "      <td>6.67</td>\n",
              "      <td>6.52</td>\n",
              "      <td>6.17</td>\n",
              "      <td>6.28</td>\n",
              "      <td>5.90</td>\n",
              "      <td>5.94</td>\n",
              "    </tr>\n",
              "    <tr>\n",
              "      <th>3</th>\n",
              "      <td>RIAU</td>\n",
              "      <td>4.19</td>\n",
              "      <td>5.48</td>\n",
              "      <td>4.99</td>\n",
              "      <td>6.56</td>\n",
              "      <td>6.72</td>\n",
              "      <td>7.83</td>\n",
              "      <td>5.94</td>\n",
              "      <td>7.43</td>\n",
              "      <td>5.76</td>\n",
              "      <td>...</td>\n",
              "      <td>5.36</td>\n",
              "      <td>5.76</td>\n",
              "      <td>4.92</td>\n",
              "      <td>6.32</td>\n",
              "      <td>4.96</td>\n",
              "      <td>4.42</td>\n",
              "      <td>4.40</td>\n",
              "      <td>4.37</td>\n",
              "      <td>4.25</td>\n",
              "      <td>4.23</td>\n",
              "    </tr>\n",
              "    <tr>\n",
              "      <th>4</th>\n",
              "      <td>JAMBI</td>\n",
              "      <td>2.89</td>\n",
              "      <td>4.76</td>\n",
              "      <td>2.50</td>\n",
              "      <td>5.08</td>\n",
              "      <td>2.73</td>\n",
              "      <td>4.34</td>\n",
              "      <td>4.66</td>\n",
              "      <td>4.00</td>\n",
              "      <td>3.67</td>\n",
              "      <td>...</td>\n",
              "      <td>3.52</td>\n",
              "      <td>4.06</td>\n",
              "      <td>4.26</td>\n",
              "      <td>5.13</td>\n",
              "      <td>4.76</td>\n",
              "      <td>5.09</td>\n",
              "      <td>4.70</td>\n",
              "      <td>4.59</td>\n",
              "      <td>4.50</td>\n",
              "      <td>4.53</td>\n",
              "    </tr>\n",
              "  </tbody>\n",
              "</table>\n",
              "<p>5 rows × 23 columns</p>\n",
              "</div>"
            ],
            "text/plain": [
              "         provinsi  2013-februari  2013-agustus  2014-februari  2014-agustus  \\\n",
              "0            ACEH           8.34         10.12           6.75          9.02   \n",
              "1  SUMATERA UTARA           6.09          6.45           5.95          6.23   \n",
              "2  SUMATERA BARAT           6.39          7.02           6.32          6.50   \n",
              "3            RIAU           4.19          5.48           4.99          6.56   \n",
              "4           JAMBI           2.89          4.76           2.50          5.08   \n",
              "\n",
              "   2015-februari  2015-agustus  2016-februari  2016-agustus  2017-februari  \\\n",
              "0           7.73          9.93           8.13          7.57           7.39   \n",
              "1           6.39          6.71           6.49          5.84           6.41   \n",
              "2           5.99          6.89           5.81          5.09           5.80   \n",
              "3           6.72          7.83           5.94          7.43           5.76   \n",
              "4           2.73          4.34           4.66          4.00           3.67   \n",
              "\n",
              "   ...  2019-februari  2019-agustus  2020-februari  2020-agustus  \\\n",
              "0  ...           5.48          6.17           5.40          6.59   \n",
              "1  ...           5.57          5.39           4.71          6.91   \n",
              "2  ...           5.38          5.38           5.25          6.88   \n",
              "3  ...           5.36          5.76           4.92          6.32   \n",
              "4  ...           3.52          4.06           4.26          5.13   \n",
              "\n",
              "   2021-februari  2021-agustus  2022-februari  2022-agustus  2023-februari  \\\n",
              "0           6.30          6.30           5.97          6.17           5.75   \n",
              "1           6.01          6.33           5.47          6.16           5.24   \n",
              "2           6.67          6.52           6.17          6.28           5.90   \n",
              "3           4.96          4.42           4.40          4.37           4.25   \n",
              "4           4.76          5.09           4.70          4.59           4.50   \n",
              "\n",
              "   2023-agustus  \n",
              "0          6.03  \n",
              "1          5.89  \n",
              "2          5.94  \n",
              "3          4.23  \n",
              "4          4.53  \n",
              "\n",
              "[5 rows x 23 columns]"
            ]
          },
          "execution_count": 78,
          "metadata": {},
          "output_type": "execute_result"
        }
      ],
      "source": [
        "df.head()"
      ]
    },
    {
      "cell_type": "code",
      "execution_count": 79,
      "metadata": {},
      "outputs": [
        {
          "name": "stdout",
          "output_type": "stream",
          "text": [
            "<class 'pandas.core.frame.DataFrame'>\n",
            "RangeIndex: 34 entries, 0 to 33\n",
            "Data columns (total 23 columns):\n",
            " #   Column         Non-Null Count  Dtype  \n",
            "---  ------         --------------  -----  \n",
            " 0   provinsi       34 non-null     object \n",
            " 1   2013-februari  34 non-null     float64\n",
            " 2   2013-agustus   34 non-null     float64\n",
            " 3   2014-februari  34 non-null     float64\n",
            " 4   2014-agustus   34 non-null     float64\n",
            " 5   2015-februari  34 non-null     float64\n",
            " 6   2015-agustus   34 non-null     float64\n",
            " 7   2016-februari  34 non-null     float64\n",
            " 8   2016-agustus   34 non-null     float64\n",
            " 9   2017-februari  34 non-null     float64\n",
            " 10  2017-agustus   34 non-null     float64\n",
            " 11  2018-februari  34 non-null     float64\n",
            " 12  2018-agustus   34 non-null     float64\n",
            " 13  2019-februari  34 non-null     float64\n",
            " 14  2019-agustus   34 non-null     float64\n",
            " 15  2020-februari  34 non-null     float64\n",
            " 16  2020-agustus   34 non-null     float64\n",
            " 17  2021-februari  34 non-null     float64\n",
            " 18  2021-agustus   34 non-null     float64\n",
            " 19  2022-februari  34 non-null     float64\n",
            " 20  2022-agustus   34 non-null     float64\n",
            " 21  2023-februari  34 non-null     float64\n",
            " 22  2023-agustus   34 non-null     float64\n",
            "dtypes: float64(22), object(1)\n",
            "memory usage: 6.2+ KB\n"
          ]
        }
      ],
      "source": [
        "df.info()"
      ]
    },
    {
      "cell_type": "code",
      "execution_count": 80,
      "metadata": {},
      "outputs": [
        {
          "data": {
            "text/html": [
              "<div>\n",
              "<style scoped>\n",
              "    .dataframe tbody tr th:only-of-type {\n",
              "        vertical-align: middle;\n",
              "    }\n",
              "\n",
              "    .dataframe tbody tr th {\n",
              "        vertical-align: top;\n",
              "    }\n",
              "\n",
              "    .dataframe thead th {\n",
              "        text-align: right;\n",
              "    }\n",
              "</style>\n",
              "<table border=\"1\" class=\"dataframe\">\n",
              "  <thead>\n",
              "    <tr style=\"text-align: right;\">\n",
              "      <th></th>\n",
              "      <th>2013-februari</th>\n",
              "      <th>2013-agustus</th>\n",
              "      <th>2014-februari</th>\n",
              "      <th>2014-agustus</th>\n",
              "      <th>2015-februari</th>\n",
              "      <th>2015-agustus</th>\n",
              "      <th>2016-februari</th>\n",
              "      <th>2016-agustus</th>\n",
              "      <th>2017-februari</th>\n",
              "      <th>2017-agustus</th>\n",
              "      <th>...</th>\n",
              "      <th>2019-februari</th>\n",
              "      <th>2019-agustus</th>\n",
              "      <th>2020-februari</th>\n",
              "      <th>2020-agustus</th>\n",
              "      <th>2021-februari</th>\n",
              "      <th>2021-agustus</th>\n",
              "      <th>2022-februari</th>\n",
              "      <th>2022-agustus</th>\n",
              "      <th>2023-februari</th>\n",
              "      <th>2023-agustus</th>\n",
              "    </tr>\n",
              "  </thead>\n",
              "  <tbody>\n",
              "    <tr>\n",
              "      <th>count</th>\n",
              "      <td>34.000000</td>\n",
              "      <td>34.000000</td>\n",
              "      <td>34.000000</td>\n",
              "      <td>34.000000</td>\n",
              "      <td>34.000000</td>\n",
              "      <td>34.000000</td>\n",
              "      <td>34.000000</td>\n",
              "      <td>34.000000</td>\n",
              "      <td>34.000000</td>\n",
              "      <td>34.000000</td>\n",
              "      <td>...</td>\n",
              "      <td>34.000000</td>\n",
              "      <td>34.000000</td>\n",
              "      <td>34.000000</td>\n",
              "      <td>34.000000</td>\n",
              "      <td>34.000000</td>\n",
              "      <td>34.000000</td>\n",
              "      <td>34.000000</td>\n",
              "      <td>34.000000</td>\n",
              "      <td>34.000000</td>\n",
              "      <td>34.000000</td>\n",
              "    </tr>\n",
              "    <tr>\n",
              "      <th>mean</th>\n",
              "      <td>4.973529</td>\n",
              "      <td>5.343235</td>\n",
              "      <td>4.647059</td>\n",
              "      <td>5.401471</td>\n",
              "      <td>5.130588</td>\n",
              "      <td>5.980000</td>\n",
              "      <td>5.055882</td>\n",
              "      <td>4.989706</td>\n",
              "      <td>4.832647</td>\n",
              "      <td>5.102059</td>\n",
              "      <td>...</td>\n",
              "      <td>4.411176</td>\n",
              "      <td>4.712353</td>\n",
              "      <td>4.462353</td>\n",
              "      <td>6.033529</td>\n",
              "      <td>5.504412</td>\n",
              "      <td>5.492059</td>\n",
              "      <td>5.122941</td>\n",
              "      <td>4.966176</td>\n",
              "      <td>4.805588</td>\n",
              "      <td>4.613824</td>\n",
              "    </tr>\n",
              "    <tr>\n",
              "      <th>std</th>\n",
              "      <td>2.307118</td>\n",
              "      <td>2.184103</td>\n",
              "      <td>2.394153</td>\n",
              "      <td>2.071796</td>\n",
              "      <td>2.093017</td>\n",
              "      <td>1.957125</td>\n",
              "      <td>1.933402</td>\n",
              "      <td>1.932170</td>\n",
              "      <td>1.841431</td>\n",
              "      <td>1.838133</td>\n",
              "      <td>...</td>\n",
              "      <td>1.651374</td>\n",
              "      <td>1.558148</td>\n",
              "      <td>1.567849</td>\n",
              "      <td>2.013129</td>\n",
              "      <td>1.727330</td>\n",
              "      <td>1.818745</td>\n",
              "      <td>1.518944</td>\n",
              "      <td>1.600225</td>\n",
              "      <td>1.441952</td>\n",
              "      <td>1.419065</td>\n",
              "    </tr>\n",
              "    <tr>\n",
              "      <th>min</th>\n",
              "      <td>1.810000</td>\n",
              "      <td>1.830000</td>\n",
              "      <td>1.370000</td>\n",
              "      <td>1.900000</td>\n",
              "      <td>1.370000</td>\n",
              "      <td>1.990000</td>\n",
              "      <td>2.120000</td>\n",
              "      <td>1.890000</td>\n",
              "      <td>1.280000</td>\n",
              "      <td>1.480000</td>\n",
              "      <td>...</td>\n",
              "      <td>1.220000</td>\n",
              "      <td>1.570000</td>\n",
              "      <td>1.250000</td>\n",
              "      <td>3.320000</td>\n",
              "      <td>3.280000</td>\n",
              "      <td>3.010000</td>\n",
              "      <td>3.110000</td>\n",
              "      <td>2.340000</td>\n",
              "      <td>3.040000</td>\n",
              "      <td>2.270000</td>\n",
              "    </tr>\n",
              "    <tr>\n",
              "      <th>25%</th>\n",
              "      <td>3.152500</td>\n",
              "      <td>3.847500</td>\n",
              "      <td>2.565000</td>\n",
              "      <td>3.860000</td>\n",
              "      <td>3.372500</td>\n",
              "      <td>4.567500</td>\n",
              "      <td>3.662500</td>\n",
              "      <td>3.335000</td>\n",
              "      <td>3.560000</td>\n",
              "      <td>3.787500</td>\n",
              "      <td>...</td>\n",
              "      <td>3.227500</td>\n",
              "      <td>3.535000</td>\n",
              "      <td>3.335000</td>\n",
              "      <td>4.580000</td>\n",
              "      <td>4.257500</td>\n",
              "      <td>4.447500</td>\n",
              "      <td>3.985000</td>\n",
              "      <td>4.000000</td>\n",
              "      <td>3.730000</td>\n",
              "      <td>3.487500</td>\n",
              "    </tr>\n",
              "    <tr>\n",
              "      <th>50%</th>\n",
              "      <td>4.740000</td>\n",
              "      <td>4.800000</td>\n",
              "      <td>4.340000</td>\n",
              "      <td>5.080000</td>\n",
              "      <td>4.905000</td>\n",
              "      <td>5.685000</td>\n",
              "      <td>4.370000</td>\n",
              "      <td>4.625000</td>\n",
              "      <td>4.325000</td>\n",
              "      <td>4.480000</td>\n",
              "      <td>...</td>\n",
              "      <td>4.040000</td>\n",
              "      <td>4.395000</td>\n",
              "      <td>4.230000</td>\n",
              "      <td>5.570000</td>\n",
              "      <td>5.115000</td>\n",
              "      <td>5.060000</td>\n",
              "      <td>4.775000</td>\n",
              "      <td>4.685000</td>\n",
              "      <td>4.415000</td>\n",
              "      <td>4.320000</td>\n",
              "    </tr>\n",
              "    <tr>\n",
              "      <th>75%</th>\n",
              "      <td>6.080000</td>\n",
              "      <td>6.340000</td>\n",
              "      <td>5.910000</td>\n",
              "      <td>6.545000</td>\n",
              "      <td>6.637500</td>\n",
              "      <td>7.145000</td>\n",
              "      <td>6.112500</td>\n",
              "      <td>6.165000</td>\n",
              "      <td>6.040000</td>\n",
              "      <td>6.422500</td>\n",
              "      <td>...</td>\n",
              "      <td>5.495000</td>\n",
              "      <td>5.895000</td>\n",
              "      <td>5.385000</td>\n",
              "      <td>6.852500</td>\n",
              "      <td>6.270000</td>\n",
              "      <td>6.322500</td>\n",
              "      <td>5.922500</td>\n",
              "      <td>6.047500</td>\n",
              "      <td>5.695000</td>\n",
              "      <td>5.762500</td>\n",
              "    </tr>\n",
              "    <tr>\n",
              "      <th>max</th>\n",
              "      <td>9.770000</td>\n",
              "      <td>10.120000</td>\n",
              "      <td>9.870000</td>\n",
              "      <td>10.510000</td>\n",
              "      <td>9.050000</td>\n",
              "      <td>9.930000</td>\n",
              "      <td>9.030000</td>\n",
              "      <td>8.920000</td>\n",
              "      <td>8.550000</td>\n",
              "      <td>9.290000</td>\n",
              "      <td>...</td>\n",
              "      <td>7.780000</td>\n",
              "      <td>8.110000</td>\n",
              "      <td>7.990000</td>\n",
              "      <td>10.950000</td>\n",
              "      <td>10.120000</td>\n",
              "      <td>9.910000</td>\n",
              "      <td>8.530000</td>\n",
              "      <td>8.310000</td>\n",
              "      <td>7.970000</td>\n",
              "      <td>7.520000</td>\n",
              "    </tr>\n",
              "  </tbody>\n",
              "</table>\n",
              "<p>8 rows × 22 columns</p>\n",
              "</div>"
            ],
            "text/plain": [
              "       2013-februari  2013-agustus  2014-februari  2014-agustus  \\\n",
              "count      34.000000     34.000000      34.000000     34.000000   \n",
              "mean        4.973529      5.343235       4.647059      5.401471   \n",
              "std         2.307118      2.184103       2.394153      2.071796   \n",
              "min         1.810000      1.830000       1.370000      1.900000   \n",
              "25%         3.152500      3.847500       2.565000      3.860000   \n",
              "50%         4.740000      4.800000       4.340000      5.080000   \n",
              "75%         6.080000      6.340000       5.910000      6.545000   \n",
              "max         9.770000     10.120000       9.870000     10.510000   \n",
              "\n",
              "       2015-februari  2015-agustus  2016-februari  2016-agustus  \\\n",
              "count      34.000000     34.000000      34.000000     34.000000   \n",
              "mean        5.130588      5.980000       5.055882      4.989706   \n",
              "std         2.093017      1.957125       1.933402      1.932170   \n",
              "min         1.370000      1.990000       2.120000      1.890000   \n",
              "25%         3.372500      4.567500       3.662500      3.335000   \n",
              "50%         4.905000      5.685000       4.370000      4.625000   \n",
              "75%         6.637500      7.145000       6.112500      6.165000   \n",
              "max         9.050000      9.930000       9.030000      8.920000   \n",
              "\n",
              "       2017-februari  2017-agustus  ...  2019-februari  2019-agustus  \\\n",
              "count      34.000000     34.000000  ...      34.000000     34.000000   \n",
              "mean        4.832647      5.102059  ...       4.411176      4.712353   \n",
              "std         1.841431      1.838133  ...       1.651374      1.558148   \n",
              "min         1.280000      1.480000  ...       1.220000      1.570000   \n",
              "25%         3.560000      3.787500  ...       3.227500      3.535000   \n",
              "50%         4.325000      4.480000  ...       4.040000      4.395000   \n",
              "75%         6.040000      6.422500  ...       5.495000      5.895000   \n",
              "max         8.550000      9.290000  ...       7.780000      8.110000   \n",
              "\n",
              "       2020-februari  2020-agustus  2021-februari  2021-agustus  \\\n",
              "count      34.000000     34.000000      34.000000     34.000000   \n",
              "mean        4.462353      6.033529       5.504412      5.492059   \n",
              "std         1.567849      2.013129       1.727330      1.818745   \n",
              "min         1.250000      3.320000       3.280000      3.010000   \n",
              "25%         3.335000      4.580000       4.257500      4.447500   \n",
              "50%         4.230000      5.570000       5.115000      5.060000   \n",
              "75%         5.385000      6.852500       6.270000      6.322500   \n",
              "max         7.990000     10.950000      10.120000      9.910000   \n",
              "\n",
              "       2022-februari  2022-agustus  2023-februari  2023-agustus  \n",
              "count      34.000000     34.000000      34.000000     34.000000  \n",
              "mean        5.122941      4.966176       4.805588      4.613824  \n",
              "std         1.518944      1.600225       1.441952      1.419065  \n",
              "min         3.110000      2.340000       3.040000      2.270000  \n",
              "25%         3.985000      4.000000       3.730000      3.487500  \n",
              "50%         4.775000      4.685000       4.415000      4.320000  \n",
              "75%         5.922500      6.047500       5.695000      5.762500  \n",
              "max         8.530000      8.310000       7.970000      7.520000  \n",
              "\n",
              "[8 rows x 22 columns]"
            ]
          },
          "execution_count": 80,
          "metadata": {},
          "output_type": "execute_result"
        }
      ],
      "source": [
        "df.describe()"
      ]
    },
    {
      "cell_type": "markdown",
      "metadata": {},
      "source": [
        "# Modelling"
      ]
    },
    {
      "cell_type": "markdown",
      "metadata": {},
      "source": [
        "## Elbow Method for Optimal K"
      ]
    },
    {
      "cell_type": "code",
      "execution_count": 81,
      "metadata": {},
      "outputs": [
        {
          "data": {
            "application/vnd.plotly.v1+json": {
              "config": {
                "plotlyServerURL": "https://plot.ly"
              },
              "data": [
                {
                  "mode": "lines+markers",
                  "type": "scatter",
                  "x": [
                    1,
                    2,
                    3,
                    4,
                    5,
                    6,
                    7,
                    8,
                    9,
                    10
                  ],
                  "y": [
                    2490.4959735294115,
                    893.8831765151514,
                    600.4866519230769,
                    487.87720045454546,
                    444.96583999999996,
                    363.10243749999995,
                    315.74922499999997,
                    287.0306714285714,
                    256.87610499999994,
                    239.96571
                  ]
                }
              ],
              "layout": {
                "height": 500,
                "showlegend": true,
                "template": {
                  "data": {
                    "bar": [
                      {
                        "error_x": {
                          "color": "#2a3f5f"
                        },
                        "error_y": {
                          "color": "#2a3f5f"
                        },
                        "marker": {
                          "line": {
                            "color": "#E5ECF6",
                            "width": 0.5
                          },
                          "pattern": {
                            "fillmode": "overlay",
                            "size": 10,
                            "solidity": 0.2
                          }
                        },
                        "type": "bar"
                      }
                    ],
                    "barpolar": [
                      {
                        "marker": {
                          "line": {
                            "color": "#E5ECF6",
                            "width": 0.5
                          },
                          "pattern": {
                            "fillmode": "overlay",
                            "size": 10,
                            "solidity": 0.2
                          }
                        },
                        "type": "barpolar"
                      }
                    ],
                    "carpet": [
                      {
                        "aaxis": {
                          "endlinecolor": "#2a3f5f",
                          "gridcolor": "white",
                          "linecolor": "white",
                          "minorgridcolor": "white",
                          "startlinecolor": "#2a3f5f"
                        },
                        "baxis": {
                          "endlinecolor": "#2a3f5f",
                          "gridcolor": "white",
                          "linecolor": "white",
                          "minorgridcolor": "white",
                          "startlinecolor": "#2a3f5f"
                        },
                        "type": "carpet"
                      }
                    ],
                    "choropleth": [
                      {
                        "colorbar": {
                          "outlinewidth": 0,
                          "ticks": ""
                        },
                        "type": "choropleth"
                      }
                    ],
                    "contour": [
                      {
                        "colorbar": {
                          "outlinewidth": 0,
                          "ticks": ""
                        },
                        "colorscale": [
                          [
                            0,
                            "#0d0887"
                          ],
                          [
                            0.1111111111111111,
                            "#46039f"
                          ],
                          [
                            0.2222222222222222,
                            "#7201a8"
                          ],
                          [
                            0.3333333333333333,
                            "#9c179e"
                          ],
                          [
                            0.4444444444444444,
                            "#bd3786"
                          ],
                          [
                            0.5555555555555556,
                            "#d8576b"
                          ],
                          [
                            0.6666666666666666,
                            "#ed7953"
                          ],
                          [
                            0.7777777777777778,
                            "#fb9f3a"
                          ],
                          [
                            0.8888888888888888,
                            "#fdca26"
                          ],
                          [
                            1,
                            "#f0f921"
                          ]
                        ],
                        "type": "contour"
                      }
                    ],
                    "contourcarpet": [
                      {
                        "colorbar": {
                          "outlinewidth": 0,
                          "ticks": ""
                        },
                        "type": "contourcarpet"
                      }
                    ],
                    "heatmap": [
                      {
                        "colorbar": {
                          "outlinewidth": 0,
                          "ticks": ""
                        },
                        "colorscale": [
                          [
                            0,
                            "#0d0887"
                          ],
                          [
                            0.1111111111111111,
                            "#46039f"
                          ],
                          [
                            0.2222222222222222,
                            "#7201a8"
                          ],
                          [
                            0.3333333333333333,
                            "#9c179e"
                          ],
                          [
                            0.4444444444444444,
                            "#bd3786"
                          ],
                          [
                            0.5555555555555556,
                            "#d8576b"
                          ],
                          [
                            0.6666666666666666,
                            "#ed7953"
                          ],
                          [
                            0.7777777777777778,
                            "#fb9f3a"
                          ],
                          [
                            0.8888888888888888,
                            "#fdca26"
                          ],
                          [
                            1,
                            "#f0f921"
                          ]
                        ],
                        "type": "heatmap"
                      }
                    ],
                    "heatmapgl": [
                      {
                        "colorbar": {
                          "outlinewidth": 0,
                          "ticks": ""
                        },
                        "colorscale": [
                          [
                            0,
                            "#0d0887"
                          ],
                          [
                            0.1111111111111111,
                            "#46039f"
                          ],
                          [
                            0.2222222222222222,
                            "#7201a8"
                          ],
                          [
                            0.3333333333333333,
                            "#9c179e"
                          ],
                          [
                            0.4444444444444444,
                            "#bd3786"
                          ],
                          [
                            0.5555555555555556,
                            "#d8576b"
                          ],
                          [
                            0.6666666666666666,
                            "#ed7953"
                          ],
                          [
                            0.7777777777777778,
                            "#fb9f3a"
                          ],
                          [
                            0.8888888888888888,
                            "#fdca26"
                          ],
                          [
                            1,
                            "#f0f921"
                          ]
                        ],
                        "type": "heatmapgl"
                      }
                    ],
                    "histogram": [
                      {
                        "marker": {
                          "pattern": {
                            "fillmode": "overlay",
                            "size": 10,
                            "solidity": 0.2
                          }
                        },
                        "type": "histogram"
                      }
                    ],
                    "histogram2d": [
                      {
                        "colorbar": {
                          "outlinewidth": 0,
                          "ticks": ""
                        },
                        "colorscale": [
                          [
                            0,
                            "#0d0887"
                          ],
                          [
                            0.1111111111111111,
                            "#46039f"
                          ],
                          [
                            0.2222222222222222,
                            "#7201a8"
                          ],
                          [
                            0.3333333333333333,
                            "#9c179e"
                          ],
                          [
                            0.4444444444444444,
                            "#bd3786"
                          ],
                          [
                            0.5555555555555556,
                            "#d8576b"
                          ],
                          [
                            0.6666666666666666,
                            "#ed7953"
                          ],
                          [
                            0.7777777777777778,
                            "#fb9f3a"
                          ],
                          [
                            0.8888888888888888,
                            "#fdca26"
                          ],
                          [
                            1,
                            "#f0f921"
                          ]
                        ],
                        "type": "histogram2d"
                      }
                    ],
                    "histogram2dcontour": [
                      {
                        "colorbar": {
                          "outlinewidth": 0,
                          "ticks": ""
                        },
                        "colorscale": [
                          [
                            0,
                            "#0d0887"
                          ],
                          [
                            0.1111111111111111,
                            "#46039f"
                          ],
                          [
                            0.2222222222222222,
                            "#7201a8"
                          ],
                          [
                            0.3333333333333333,
                            "#9c179e"
                          ],
                          [
                            0.4444444444444444,
                            "#bd3786"
                          ],
                          [
                            0.5555555555555556,
                            "#d8576b"
                          ],
                          [
                            0.6666666666666666,
                            "#ed7953"
                          ],
                          [
                            0.7777777777777778,
                            "#fb9f3a"
                          ],
                          [
                            0.8888888888888888,
                            "#fdca26"
                          ],
                          [
                            1,
                            "#f0f921"
                          ]
                        ],
                        "type": "histogram2dcontour"
                      }
                    ],
                    "mesh3d": [
                      {
                        "colorbar": {
                          "outlinewidth": 0,
                          "ticks": ""
                        },
                        "type": "mesh3d"
                      }
                    ],
                    "parcoords": [
                      {
                        "line": {
                          "colorbar": {
                            "outlinewidth": 0,
                            "ticks": ""
                          }
                        },
                        "type": "parcoords"
                      }
                    ],
                    "pie": [
                      {
                        "automargin": true,
                        "type": "pie"
                      }
                    ],
                    "scatter": [
                      {
                        "fillpattern": {
                          "fillmode": "overlay",
                          "size": 10,
                          "solidity": 0.2
                        },
                        "type": "scatter"
                      }
                    ],
                    "scatter3d": [
                      {
                        "line": {
                          "colorbar": {
                            "outlinewidth": 0,
                            "ticks": ""
                          }
                        },
                        "marker": {
                          "colorbar": {
                            "outlinewidth": 0,
                            "ticks": ""
                          }
                        },
                        "type": "scatter3d"
                      }
                    ],
                    "scattercarpet": [
                      {
                        "marker": {
                          "colorbar": {
                            "outlinewidth": 0,
                            "ticks": ""
                          }
                        },
                        "type": "scattercarpet"
                      }
                    ],
                    "scattergeo": [
                      {
                        "marker": {
                          "colorbar": {
                            "outlinewidth": 0,
                            "ticks": ""
                          }
                        },
                        "type": "scattergeo"
                      }
                    ],
                    "scattergl": [
                      {
                        "marker": {
                          "colorbar": {
                            "outlinewidth": 0,
                            "ticks": ""
                          }
                        },
                        "type": "scattergl"
                      }
                    ],
                    "scattermapbox": [
                      {
                        "marker": {
                          "colorbar": {
                            "outlinewidth": 0,
                            "ticks": ""
                          }
                        },
                        "type": "scattermapbox"
                      }
                    ],
                    "scatterpolar": [
                      {
                        "marker": {
                          "colorbar": {
                            "outlinewidth": 0,
                            "ticks": ""
                          }
                        },
                        "type": "scatterpolar"
                      }
                    ],
                    "scatterpolargl": [
                      {
                        "marker": {
                          "colorbar": {
                            "outlinewidth": 0,
                            "ticks": ""
                          }
                        },
                        "type": "scatterpolargl"
                      }
                    ],
                    "scatterternary": [
                      {
                        "marker": {
                          "colorbar": {
                            "outlinewidth": 0,
                            "ticks": ""
                          }
                        },
                        "type": "scatterternary"
                      }
                    ],
                    "surface": [
                      {
                        "colorbar": {
                          "outlinewidth": 0,
                          "ticks": ""
                        },
                        "colorscale": [
                          [
                            0,
                            "#0d0887"
                          ],
                          [
                            0.1111111111111111,
                            "#46039f"
                          ],
                          [
                            0.2222222222222222,
                            "#7201a8"
                          ],
                          [
                            0.3333333333333333,
                            "#9c179e"
                          ],
                          [
                            0.4444444444444444,
                            "#bd3786"
                          ],
                          [
                            0.5555555555555556,
                            "#d8576b"
                          ],
                          [
                            0.6666666666666666,
                            "#ed7953"
                          ],
                          [
                            0.7777777777777778,
                            "#fb9f3a"
                          ],
                          [
                            0.8888888888888888,
                            "#fdca26"
                          ],
                          [
                            1,
                            "#f0f921"
                          ]
                        ],
                        "type": "surface"
                      }
                    ],
                    "table": [
                      {
                        "cells": {
                          "fill": {
                            "color": "#EBF0F8"
                          },
                          "line": {
                            "color": "white"
                          }
                        },
                        "header": {
                          "fill": {
                            "color": "#C8D4E3"
                          },
                          "line": {
                            "color": "white"
                          }
                        },
                        "type": "table"
                      }
                    ]
                  },
                  "layout": {
                    "annotationdefaults": {
                      "arrowcolor": "#2a3f5f",
                      "arrowhead": 0,
                      "arrowwidth": 1
                    },
                    "autotypenumbers": "strict",
                    "coloraxis": {
                      "colorbar": {
                        "outlinewidth": 0,
                        "ticks": ""
                      }
                    },
                    "colorscale": {
                      "diverging": [
                        [
                          0,
                          "#8e0152"
                        ],
                        [
                          0.1,
                          "#c51b7d"
                        ],
                        [
                          0.2,
                          "#de77ae"
                        ],
                        [
                          0.3,
                          "#f1b6da"
                        ],
                        [
                          0.4,
                          "#fde0ef"
                        ],
                        [
                          0.5,
                          "#f7f7f7"
                        ],
                        [
                          0.6,
                          "#e6f5d0"
                        ],
                        [
                          0.7,
                          "#b8e186"
                        ],
                        [
                          0.8,
                          "#7fbc41"
                        ],
                        [
                          0.9,
                          "#4d9221"
                        ],
                        [
                          1,
                          "#276419"
                        ]
                      ],
                      "sequential": [
                        [
                          0,
                          "#0d0887"
                        ],
                        [
                          0.1111111111111111,
                          "#46039f"
                        ],
                        [
                          0.2222222222222222,
                          "#7201a8"
                        ],
                        [
                          0.3333333333333333,
                          "#9c179e"
                        ],
                        [
                          0.4444444444444444,
                          "#bd3786"
                        ],
                        [
                          0.5555555555555556,
                          "#d8576b"
                        ],
                        [
                          0.6666666666666666,
                          "#ed7953"
                        ],
                        [
                          0.7777777777777778,
                          "#fb9f3a"
                        ],
                        [
                          0.8888888888888888,
                          "#fdca26"
                        ],
                        [
                          1,
                          "#f0f921"
                        ]
                      ],
                      "sequentialminus": [
                        [
                          0,
                          "#0d0887"
                        ],
                        [
                          0.1111111111111111,
                          "#46039f"
                        ],
                        [
                          0.2222222222222222,
                          "#7201a8"
                        ],
                        [
                          0.3333333333333333,
                          "#9c179e"
                        ],
                        [
                          0.4444444444444444,
                          "#bd3786"
                        ],
                        [
                          0.5555555555555556,
                          "#d8576b"
                        ],
                        [
                          0.6666666666666666,
                          "#ed7953"
                        ],
                        [
                          0.7777777777777778,
                          "#fb9f3a"
                        ],
                        [
                          0.8888888888888888,
                          "#fdca26"
                        ],
                        [
                          1,
                          "#f0f921"
                        ]
                      ]
                    },
                    "colorway": [
                      "#636efa",
                      "#EF553B",
                      "#00cc96",
                      "#ab63fa",
                      "#FFA15A",
                      "#19d3f3",
                      "#FF6692",
                      "#B6E880",
                      "#FF97FF",
                      "#FECB52"
                    ],
                    "font": {
                      "color": "#2a3f5f"
                    },
                    "geo": {
                      "bgcolor": "white",
                      "lakecolor": "white",
                      "landcolor": "#E5ECF6",
                      "showlakes": true,
                      "showland": true,
                      "subunitcolor": "white"
                    },
                    "hoverlabel": {
                      "align": "left"
                    },
                    "hovermode": "closest",
                    "mapbox": {
                      "style": "light"
                    },
                    "paper_bgcolor": "white",
                    "plot_bgcolor": "#E5ECF6",
                    "polar": {
                      "angularaxis": {
                        "gridcolor": "white",
                        "linecolor": "white",
                        "ticks": ""
                      },
                      "bgcolor": "#E5ECF6",
                      "radialaxis": {
                        "gridcolor": "white",
                        "linecolor": "white",
                        "ticks": ""
                      }
                    },
                    "scene": {
                      "xaxis": {
                        "backgroundcolor": "#E5ECF6",
                        "gridcolor": "white",
                        "gridwidth": 2,
                        "linecolor": "white",
                        "showbackground": true,
                        "ticks": "",
                        "zerolinecolor": "white"
                      },
                      "yaxis": {
                        "backgroundcolor": "#E5ECF6",
                        "gridcolor": "white",
                        "gridwidth": 2,
                        "linecolor": "white",
                        "showbackground": true,
                        "ticks": "",
                        "zerolinecolor": "white"
                      },
                      "zaxis": {
                        "backgroundcolor": "#E5ECF6",
                        "gridcolor": "white",
                        "gridwidth": 2,
                        "linecolor": "white",
                        "showbackground": true,
                        "ticks": "",
                        "zerolinecolor": "white"
                      }
                    },
                    "shapedefaults": {
                      "line": {
                        "color": "#2a3f5f"
                      }
                    },
                    "ternary": {
                      "aaxis": {
                        "gridcolor": "white",
                        "linecolor": "white",
                        "ticks": ""
                      },
                      "baxis": {
                        "gridcolor": "white",
                        "linecolor": "white",
                        "ticks": ""
                      },
                      "bgcolor": "#E5ECF6",
                      "caxis": {
                        "gridcolor": "white",
                        "linecolor": "white",
                        "ticks": ""
                      }
                    },
                    "title": {
                      "x": 0.05
                    },
                    "xaxis": {
                      "automargin": true,
                      "gridcolor": "white",
                      "linecolor": "white",
                      "ticks": "",
                      "title": {
                        "standoff": 15
                      },
                      "zerolinecolor": "white",
                      "zerolinewidth": 2
                    },
                    "yaxis": {
                      "automargin": true,
                      "gridcolor": "white",
                      "linecolor": "white",
                      "ticks": "",
                      "title": {
                        "standoff": 15
                      },
                      "zerolinecolor": "white",
                      "zerolinewidth": 2
                    }
                  }
                },
                "title": {
                  "text": "Elbow Method For Optimal K"
                },
                "width": 900,
                "xaxis": {
                  "title": {
                    "text": "Number of clusters (K)"
                  }
                },
                "yaxis": {
                  "title": {
                    "text": "Sum of Square Distance"
                  }
                }
              }
            }
          },
          "metadata": {},
          "output_type": "display_data"
        }
      ],
      "source": [
        "#scaler = MinMaxScaler()\n",
        "#clus_col = scaler.fit_transform(df[['avg-total']])\n",
        "clus_col = df.drop(columns= df[['provinsi']])\n",
        "\n",
        "k = range(1,11)\n",
        "wcss = {}\n",
        "for k in k :\n",
        "    km = KMeans(n_clusters = k, init='random', random_state=42)\n",
        "    km.fit(clus_col)\n",
        "    wcss[k] = km.inertia_\n",
        "\n",
        "\n",
        "fig = go.Figure(data = go.Scatter(x=list(wcss.keys()), y=list(wcss.values()), mode='lines+markers'))\n",
        "fig.update_layout(title = 'Elbow Method For Optimal K',\n",
        "                  xaxis = dict(title='Number of clusters (K)'),\n",
        "                  yaxis = dict(title='Sum of Square Distance'),\n",
        "                  showlegend = True,\n",
        "                  width = 900,\n",
        "                  height = 500)\n",
        "\n",
        "fig.show()"
      ]
    },
    {
      "cell_type": "code",
      "execution_count": 82,
      "metadata": {},
      "outputs": [
        {
          "name": "stdout",
          "output_type": "stream",
          "text": [
            "k = 2 | DBI-Score = 0.7041340965671974\n",
            "k = 3 | DBI-Score = 0.8725665498456157\n",
            "k = 4 | DBI-Score = 1.001904021007161\n",
            "k = 5 | DBI-Score = 1.0127920413891736\n",
            "k = 6 | DBI-Score = 1.1279416428096483\n",
            "k = 7 | DBI-Score = 1.1311290310331874\n",
            "k = 8 | DBI-Score = 0.9913245421513213\n",
            "k = 9 | DBI-Score = 0.944364876420058\n",
            "k = 10 | DBI-Score = 1.0135642296024518\n"
          ]
        }
      ],
      "source": [
        "dbi_score = []\n",
        "\n",
        "for k in range(2,11):\n",
        "    kmeans = KMeans(n_clusters=k, init='random', random_state=42)\n",
        "    kmeans.fit(clus_col)\n",
        "\n",
        "    labels = kmeans.labels_\n",
        "    dbi = davies_bouldin_score(clus_col, labels)\n",
        "    dbi_score.append(dbi)\n",
        "\n",
        "    print(f\"k = {k} | DBI-Score = {dbi}\")"
      ]
    },
    {
      "cell_type": "code",
      "execution_count": 83,
      "metadata": {},
      "outputs": [
        {
          "name": "stdout",
          "output_type": "stream",
          "text": [
            "k = 2 | Silhouette-Score = 0.518978359397432\n",
            "k = 3 | Silhouette-Score = 0.3608092595306322\n",
            "k = 4 | Silhouette-Score = 0.2878492728452253\n",
            "k = 5 | Silhouette-Score = 0.25313575642715935\n",
            "k = 6 | Silhouette-Score = 0.24313383702781124\n",
            "k = 7 | Silhouette-Score = 0.23872356559493238\n",
            "k = 8 | Silhouette-Score = 0.23213347354992345\n",
            "k = 9 | Silhouette-Score = 0.2119071775308382\n",
            "k = 10 | Silhouette-Score = 0.18622188382433924\n"
          ]
        }
      ],
      "source": [
        "shl_score = []\n",
        "\n",
        "for k in range(2,11):\n",
        "    kmeans = KMeans(n_clusters=k, init='random', random_state=42)\n",
        "    kmeans.fit(clus_col)\n",
        "\n",
        "    labels = kmeans.labels_\n",
        "    ss = silhouette_score(clus_col, labels)\n",
        "    shl_score.append(ss)\n",
        "\n",
        "    print(f\"k = {k} | Silhouette-Score = {ss}\")"
      ]
    },
    {
      "cell_type": "markdown",
      "metadata": {},
      "source": [
        "## K-Means Modelling"
      ]
    },
    {
      "cell_type": "markdown",
      "metadata": {},
      "source": [
        "### Modelling using K=3"
      ]
    },
    {
      "cell_type": "code",
      "execution_count": 84,
      "metadata": {},
      "outputs": [
        {
          "data": {
            "text/html": [
              "<div>\n",
              "<style scoped>\n",
              "    .dataframe tbody tr th:only-of-type {\n",
              "        vertical-align: middle;\n",
              "    }\n",
              "\n",
              "    .dataframe tbody tr th {\n",
              "        vertical-align: top;\n",
              "    }\n",
              "\n",
              "    .dataframe thead th {\n",
              "        text-align: right;\n",
              "    }\n",
              "</style>\n",
              "<table border=\"1\" class=\"dataframe\">\n",
              "  <thead>\n",
              "    <tr style=\"text-align: right;\">\n",
              "      <th></th>\n",
              "      <th>provinsi</th>\n",
              "      <th>2013-februari</th>\n",
              "      <th>2013-agustus</th>\n",
              "      <th>2014-februari</th>\n",
              "      <th>2014-agustus</th>\n",
              "      <th>2015-februari</th>\n",
              "      <th>2015-agustus</th>\n",
              "      <th>2016-februari</th>\n",
              "      <th>2016-agustus</th>\n",
              "      <th>2017-februari</th>\n",
              "      <th>...</th>\n",
              "      <th>2019-agustus</th>\n",
              "      <th>2020-februari</th>\n",
              "      <th>2020-agustus</th>\n",
              "      <th>2021-februari</th>\n",
              "      <th>2021-agustus</th>\n",
              "      <th>2022-februari</th>\n",
              "      <th>2022-agustus</th>\n",
              "      <th>2023-februari</th>\n",
              "      <th>2023-agustus</th>\n",
              "      <th>cluster</th>\n",
              "    </tr>\n",
              "  </thead>\n",
              "  <tbody>\n",
              "    <tr>\n",
              "      <th>0</th>\n",
              "      <td>ACEH</td>\n",
              "      <td>8.34</td>\n",
              "      <td>10.12</td>\n",
              "      <td>6.75</td>\n",
              "      <td>9.02</td>\n",
              "      <td>7.73</td>\n",
              "      <td>9.93</td>\n",
              "      <td>8.13</td>\n",
              "      <td>7.57</td>\n",
              "      <td>7.39</td>\n",
              "      <td>...</td>\n",
              "      <td>6.17</td>\n",
              "      <td>5.40</td>\n",
              "      <td>6.59</td>\n",
              "      <td>6.30</td>\n",
              "      <td>6.30</td>\n",
              "      <td>5.97</td>\n",
              "      <td>6.17</td>\n",
              "      <td>5.75</td>\n",
              "      <td>6.03</td>\n",
              "      <td>1</td>\n",
              "    </tr>\n",
              "    <tr>\n",
              "      <th>1</th>\n",
              "      <td>SUMATERA UTARA</td>\n",
              "      <td>6.09</td>\n",
              "      <td>6.45</td>\n",
              "      <td>5.95</td>\n",
              "      <td>6.23</td>\n",
              "      <td>6.39</td>\n",
              "      <td>6.71</td>\n",
              "      <td>6.49</td>\n",
              "      <td>5.84</td>\n",
              "      <td>6.41</td>\n",
              "      <td>...</td>\n",
              "      <td>5.39</td>\n",
              "      <td>4.71</td>\n",
              "      <td>6.91</td>\n",
              "      <td>6.01</td>\n",
              "      <td>6.33</td>\n",
              "      <td>5.47</td>\n",
              "      <td>6.16</td>\n",
              "      <td>5.24</td>\n",
              "      <td>5.89</td>\n",
              "      <td>0</td>\n",
              "    </tr>\n",
              "    <tr>\n",
              "      <th>2</th>\n",
              "      <td>SUMATERA BARAT</td>\n",
              "      <td>6.39</td>\n",
              "      <td>7.02</td>\n",
              "      <td>6.32</td>\n",
              "      <td>6.50</td>\n",
              "      <td>5.99</td>\n",
              "      <td>6.89</td>\n",
              "      <td>5.81</td>\n",
              "      <td>5.09</td>\n",
              "      <td>5.80</td>\n",
              "      <td>...</td>\n",
              "      <td>5.38</td>\n",
              "      <td>5.25</td>\n",
              "      <td>6.88</td>\n",
              "      <td>6.67</td>\n",
              "      <td>6.52</td>\n",
              "      <td>6.17</td>\n",
              "      <td>6.28</td>\n",
              "      <td>5.90</td>\n",
              "      <td>5.94</td>\n",
              "      <td>0</td>\n",
              "    </tr>\n",
              "    <tr>\n",
              "      <th>3</th>\n",
              "      <td>RIAU</td>\n",
              "      <td>4.19</td>\n",
              "      <td>5.48</td>\n",
              "      <td>4.99</td>\n",
              "      <td>6.56</td>\n",
              "      <td>6.72</td>\n",
              "      <td>7.83</td>\n",
              "      <td>5.94</td>\n",
              "      <td>7.43</td>\n",
              "      <td>5.76</td>\n",
              "      <td>...</td>\n",
              "      <td>5.76</td>\n",
              "      <td>4.92</td>\n",
              "      <td>6.32</td>\n",
              "      <td>4.96</td>\n",
              "      <td>4.42</td>\n",
              "      <td>4.40</td>\n",
              "      <td>4.37</td>\n",
              "      <td>4.25</td>\n",
              "      <td>4.23</td>\n",
              "      <td>0</td>\n",
              "    </tr>\n",
              "    <tr>\n",
              "      <th>4</th>\n",
              "      <td>JAMBI</td>\n",
              "      <td>2.89</td>\n",
              "      <td>4.76</td>\n",
              "      <td>2.50</td>\n",
              "      <td>5.08</td>\n",
              "      <td>2.73</td>\n",
              "      <td>4.34</td>\n",
              "      <td>4.66</td>\n",
              "      <td>4.00</td>\n",
              "      <td>3.67</td>\n",
              "      <td>...</td>\n",
              "      <td>4.06</td>\n",
              "      <td>4.26</td>\n",
              "      <td>5.13</td>\n",
              "      <td>4.76</td>\n",
              "      <td>5.09</td>\n",
              "      <td>4.70</td>\n",
              "      <td>4.59</td>\n",
              "      <td>4.50</td>\n",
              "      <td>4.53</td>\n",
              "      <td>2</td>\n",
              "    </tr>\n",
              "  </tbody>\n",
              "</table>\n",
              "<p>5 rows × 24 columns</p>\n",
              "</div>"
            ],
            "text/plain": [
              "         provinsi  2013-februari  2013-agustus  2014-februari  2014-agustus  \\\n",
              "0            ACEH           8.34         10.12           6.75          9.02   \n",
              "1  SUMATERA UTARA           6.09          6.45           5.95          6.23   \n",
              "2  SUMATERA BARAT           6.39          7.02           6.32          6.50   \n",
              "3            RIAU           4.19          5.48           4.99          6.56   \n",
              "4           JAMBI           2.89          4.76           2.50          5.08   \n",
              "\n",
              "   2015-februari  2015-agustus  2016-februari  2016-agustus  2017-februari  \\\n",
              "0           7.73          9.93           8.13          7.57           7.39   \n",
              "1           6.39          6.71           6.49          5.84           6.41   \n",
              "2           5.99          6.89           5.81          5.09           5.80   \n",
              "3           6.72          7.83           5.94          7.43           5.76   \n",
              "4           2.73          4.34           4.66          4.00           3.67   \n",
              "\n",
              "   ...  2019-agustus  2020-februari  2020-agustus  2021-februari  \\\n",
              "0  ...          6.17           5.40          6.59           6.30   \n",
              "1  ...          5.39           4.71          6.91           6.01   \n",
              "2  ...          5.38           5.25          6.88           6.67   \n",
              "3  ...          5.76           4.92          6.32           4.96   \n",
              "4  ...          4.06           4.26          5.13           4.76   \n",
              "\n",
              "   2021-agustus  2022-februari  2022-agustus  2023-februari  2023-agustus  \\\n",
              "0          6.30           5.97          6.17           5.75          6.03   \n",
              "1          6.33           5.47          6.16           5.24          5.89   \n",
              "2          6.52           6.17          6.28           5.90          5.94   \n",
              "3          4.42           4.40          4.37           4.25          4.23   \n",
              "4          5.09           4.70          4.59           4.50          4.53   \n",
              "\n",
              "   cluster  \n",
              "0        1  \n",
              "1        0  \n",
              "2        0  \n",
              "3        0  \n",
              "4        2  \n",
              "\n",
              "[5 rows x 24 columns]"
            ]
          },
          "execution_count": 84,
          "metadata": {},
          "output_type": "execute_result"
        }
      ],
      "source": [
        "km3_drop = df.drop(columns=df[['provinsi']], axis=1)\n",
        "\n",
        "kmeans_3 = KMeans(n_clusters=3, random_state=42)\n",
        "kmeans_3.fit(clus_col)\n",
        "df['cluster'] = kmeans_3.predict(clus_col)\n",
        "df.head()"
      ]
    },
    {
      "cell_type": "code",
      "execution_count": 85,
      "metadata": {},
      "outputs": [
        {
          "data": {
            "application/vnd.plotly.v1+json": {
              "config": {
                "plotlyServerURL": "https://plot.ly"
              },
              "data": [
                {
                  "hovertemplate": "PCA-1=%{x}<br>PCA-2=%{y}<br>cluster=%{marker.color}<extra></extra>",
                  "legendgroup": "",
                  "marker": {
                    "color": [
                      1,
                      0,
                      0,
                      0,
                      2,
                      0,
                      2,
                      0,
                      2,
                      1,
                      1,
                      1,
                      0,
                      2,
                      2,
                      1,
                      2,
                      2,
                      2,
                      0,
                      2,
                      2,
                      1,
                      0,
                      1,
                      2,
                      0,
                      2,
                      2,
                      2,
                      1,
                      0,
                      0,
                      2
                    ],
                    "coloraxis": "coloraxis",
                    "symbol": "circle"
                  },
                  "mode": "markers",
                  "name": "",
                  "orientation": "v",
                  "showlegend": false,
                  "type": "scatter",
                  "x": [
                    9.696844741593026,
                    4.335845272987654,
                    4.735507120106577,
                    2.435998675120348,
                    -4.516833308642655,
                    -2.0690824060853017,
                    -8.09198595727841,
                    -2.4698047085328616,
                    -4.300489860170597,
                    11.346729767577548,
                    11.522061860656487,
                    16.324246156291085,
                    0.274847202073945,
                    -7.482686938820895,
                    -3.1319631488631905,
                    17.172533525918176,
                    -12.038213196478443,
                    -4.461226300908933,
                    -8.853353571251317,
                    -2.848583767977853,
                    -6.497037046717369,
                    -3.849595472230487,
                    10.217622103503945,
                    -0.3809193950003515,
                    8.563017455235105,
                    -7.779177922162321,
                    1.3413687628677422,
                    -6.874049305733694,
                    -6.982900483691913,
                    -11.384333675935832,
                    11.193332661409547,
                    -1.098593609889213,
                    3.685940204737424,
                    -7.735065433707011
                  ],
                  "xaxis": "x",
                  "y": [
                    -3.614227030854465,
                    -0.08757965286615747,
                    0.3304102077035391,
                    -2.566166002559254,
                    0.8628839340017386,
                    -0.15463102862963585,
                    -0.6357830008044922,
                    -1.1758762631057749,
                    0.38585786090773405,
                    5.735221347546127,
                    2.361158581556509,
                    1.686470948285997,
                    1.1905152934459902,
                    0.9192528034019718,
                    1.7245776624501084,
                    0.6834456411349814,
                    5.153401956529935,
                    -3.026778384452872,
                    -0.00907030678211846,
                    1.9350127200170049,
                    0.9398764776335361,
                    0.2327786859122366,
                    -2.04894223716575,
                    -1.8102100651144497,
                    -0.3325984545935251,
                    -0.8449843014446491,
                    0.05019642712568263,
                    -0.6933635367922417,
                    -2.0240041446845245,
                    -0.27133302851104063,
                    -3.0050705964886406,
                    -0.940899284082591,
                    -0.14035926627421216,
                    -0.8091839624466861
                  ],
                  "yaxis": "y"
                }
              ],
              "layout": {
                "coloraxis": {
                  "colorbar": {
                    "title": {
                      "text": "cluster"
                    }
                  },
                  "colorscale": [
                    [
                      0,
                      "rgb(20,44,66)"
                    ],
                    [
                      1,
                      "rgb(90,179,244)"
                    ]
                  ]
                },
                "height": 400,
                "legend": {
                  "tracegroupgap": 0
                },
                "margin": {
                  "t": 60
                },
                "template": {
                  "data": {
                    "bar": [
                      {
                        "error_x": {
                          "color": "rgb(51,51,51)"
                        },
                        "error_y": {
                          "color": "rgb(51,51,51)"
                        },
                        "marker": {
                          "line": {
                            "color": "rgb(237,237,237)",
                            "width": 0.5
                          },
                          "pattern": {
                            "fillmode": "overlay",
                            "size": 10,
                            "solidity": 0.2
                          }
                        },
                        "type": "bar"
                      }
                    ],
                    "barpolar": [
                      {
                        "marker": {
                          "line": {
                            "color": "rgb(237,237,237)",
                            "width": 0.5
                          },
                          "pattern": {
                            "fillmode": "overlay",
                            "size": 10,
                            "solidity": 0.2
                          }
                        },
                        "type": "barpolar"
                      }
                    ],
                    "carpet": [
                      {
                        "aaxis": {
                          "endlinecolor": "rgb(51,51,51)",
                          "gridcolor": "white",
                          "linecolor": "white",
                          "minorgridcolor": "white",
                          "startlinecolor": "rgb(51,51,51)"
                        },
                        "baxis": {
                          "endlinecolor": "rgb(51,51,51)",
                          "gridcolor": "white",
                          "linecolor": "white",
                          "minorgridcolor": "white",
                          "startlinecolor": "rgb(51,51,51)"
                        },
                        "type": "carpet"
                      }
                    ],
                    "choropleth": [
                      {
                        "colorbar": {
                          "outlinewidth": 0,
                          "tickcolor": "rgb(237,237,237)",
                          "ticklen": 6,
                          "ticks": "inside"
                        },
                        "type": "choropleth"
                      }
                    ],
                    "contour": [
                      {
                        "colorbar": {
                          "outlinewidth": 0,
                          "tickcolor": "rgb(237,237,237)",
                          "ticklen": 6,
                          "ticks": "inside"
                        },
                        "colorscale": [
                          [
                            0,
                            "rgb(20,44,66)"
                          ],
                          [
                            1,
                            "rgb(90,179,244)"
                          ]
                        ],
                        "type": "contour"
                      }
                    ],
                    "contourcarpet": [
                      {
                        "colorbar": {
                          "outlinewidth": 0,
                          "tickcolor": "rgb(237,237,237)",
                          "ticklen": 6,
                          "ticks": "inside"
                        },
                        "type": "contourcarpet"
                      }
                    ],
                    "heatmap": [
                      {
                        "colorbar": {
                          "outlinewidth": 0,
                          "tickcolor": "rgb(237,237,237)",
                          "ticklen": 6,
                          "ticks": "inside"
                        },
                        "colorscale": [
                          [
                            0,
                            "rgb(20,44,66)"
                          ],
                          [
                            1,
                            "rgb(90,179,244)"
                          ]
                        ],
                        "type": "heatmap"
                      }
                    ],
                    "heatmapgl": [
                      {
                        "colorbar": {
                          "outlinewidth": 0,
                          "tickcolor": "rgb(237,237,237)",
                          "ticklen": 6,
                          "ticks": "inside"
                        },
                        "colorscale": [
                          [
                            0,
                            "rgb(20,44,66)"
                          ],
                          [
                            1,
                            "rgb(90,179,244)"
                          ]
                        ],
                        "type": "heatmapgl"
                      }
                    ],
                    "histogram": [
                      {
                        "marker": {
                          "pattern": {
                            "fillmode": "overlay",
                            "size": 10,
                            "solidity": 0.2
                          }
                        },
                        "type": "histogram"
                      }
                    ],
                    "histogram2d": [
                      {
                        "colorbar": {
                          "outlinewidth": 0,
                          "tickcolor": "rgb(237,237,237)",
                          "ticklen": 6,
                          "ticks": "inside"
                        },
                        "colorscale": [
                          [
                            0,
                            "rgb(20,44,66)"
                          ],
                          [
                            1,
                            "rgb(90,179,244)"
                          ]
                        ],
                        "type": "histogram2d"
                      }
                    ],
                    "histogram2dcontour": [
                      {
                        "colorbar": {
                          "outlinewidth": 0,
                          "tickcolor": "rgb(237,237,237)",
                          "ticklen": 6,
                          "ticks": "inside"
                        },
                        "colorscale": [
                          [
                            0,
                            "rgb(20,44,66)"
                          ],
                          [
                            1,
                            "rgb(90,179,244)"
                          ]
                        ],
                        "type": "histogram2dcontour"
                      }
                    ],
                    "mesh3d": [
                      {
                        "colorbar": {
                          "outlinewidth": 0,
                          "tickcolor": "rgb(237,237,237)",
                          "ticklen": 6,
                          "ticks": "inside"
                        },
                        "type": "mesh3d"
                      }
                    ],
                    "parcoords": [
                      {
                        "line": {
                          "colorbar": {
                            "outlinewidth": 0,
                            "tickcolor": "rgb(237,237,237)",
                            "ticklen": 6,
                            "ticks": "inside"
                          }
                        },
                        "type": "parcoords"
                      }
                    ],
                    "pie": [
                      {
                        "automargin": true,
                        "type": "pie"
                      }
                    ],
                    "scatter": [
                      {
                        "fillpattern": {
                          "fillmode": "overlay",
                          "size": 10,
                          "solidity": 0.2
                        },
                        "type": "scatter"
                      }
                    ],
                    "scatter3d": [
                      {
                        "line": {
                          "colorbar": {
                            "outlinewidth": 0,
                            "tickcolor": "rgb(237,237,237)",
                            "ticklen": 6,
                            "ticks": "inside"
                          }
                        },
                        "marker": {
                          "colorbar": {
                            "outlinewidth": 0,
                            "tickcolor": "rgb(237,237,237)",
                            "ticklen": 6,
                            "ticks": "inside"
                          }
                        },
                        "type": "scatter3d"
                      }
                    ],
                    "scattercarpet": [
                      {
                        "marker": {
                          "colorbar": {
                            "outlinewidth": 0,
                            "tickcolor": "rgb(237,237,237)",
                            "ticklen": 6,
                            "ticks": "inside"
                          }
                        },
                        "type": "scattercarpet"
                      }
                    ],
                    "scattergeo": [
                      {
                        "marker": {
                          "colorbar": {
                            "outlinewidth": 0,
                            "tickcolor": "rgb(237,237,237)",
                            "ticklen": 6,
                            "ticks": "inside"
                          }
                        },
                        "type": "scattergeo"
                      }
                    ],
                    "scattergl": [
                      {
                        "marker": {
                          "colorbar": {
                            "outlinewidth": 0,
                            "tickcolor": "rgb(237,237,237)",
                            "ticklen": 6,
                            "ticks": "inside"
                          }
                        },
                        "type": "scattergl"
                      }
                    ],
                    "scattermapbox": [
                      {
                        "marker": {
                          "colorbar": {
                            "outlinewidth": 0,
                            "tickcolor": "rgb(237,237,237)",
                            "ticklen": 6,
                            "ticks": "inside"
                          }
                        },
                        "type": "scattermapbox"
                      }
                    ],
                    "scatterpolar": [
                      {
                        "marker": {
                          "colorbar": {
                            "outlinewidth": 0,
                            "tickcolor": "rgb(237,237,237)",
                            "ticklen": 6,
                            "ticks": "inside"
                          }
                        },
                        "type": "scatterpolar"
                      }
                    ],
                    "scatterpolargl": [
                      {
                        "marker": {
                          "colorbar": {
                            "outlinewidth": 0,
                            "tickcolor": "rgb(237,237,237)",
                            "ticklen": 6,
                            "ticks": "inside"
                          }
                        },
                        "type": "scatterpolargl"
                      }
                    ],
                    "scatterternary": [
                      {
                        "marker": {
                          "colorbar": {
                            "outlinewidth": 0,
                            "tickcolor": "rgb(237,237,237)",
                            "ticklen": 6,
                            "ticks": "inside"
                          }
                        },
                        "type": "scatterternary"
                      }
                    ],
                    "surface": [
                      {
                        "colorbar": {
                          "outlinewidth": 0,
                          "tickcolor": "rgb(237,237,237)",
                          "ticklen": 6,
                          "ticks": "inside"
                        },
                        "colorscale": [
                          [
                            0,
                            "rgb(20,44,66)"
                          ],
                          [
                            1,
                            "rgb(90,179,244)"
                          ]
                        ],
                        "type": "surface"
                      }
                    ],
                    "table": [
                      {
                        "cells": {
                          "fill": {
                            "color": "rgb(237,237,237)"
                          },
                          "line": {
                            "color": "white"
                          }
                        },
                        "header": {
                          "fill": {
                            "color": "rgb(217,217,217)"
                          },
                          "line": {
                            "color": "white"
                          }
                        },
                        "type": "table"
                      }
                    ]
                  },
                  "layout": {
                    "annotationdefaults": {
                      "arrowhead": 0,
                      "arrowwidth": 1
                    },
                    "autotypenumbers": "strict",
                    "coloraxis": {
                      "colorbar": {
                        "outlinewidth": 0,
                        "tickcolor": "rgb(237,237,237)",
                        "ticklen": 6,
                        "ticks": "inside"
                      }
                    },
                    "colorscale": {
                      "sequential": [
                        [
                          0,
                          "rgb(20,44,66)"
                        ],
                        [
                          1,
                          "rgb(90,179,244)"
                        ]
                      ],
                      "sequentialminus": [
                        [
                          0,
                          "rgb(20,44,66)"
                        ],
                        [
                          1,
                          "rgb(90,179,244)"
                        ]
                      ]
                    },
                    "colorway": [
                      "#F8766D",
                      "#A3A500",
                      "#00BF7D",
                      "#00B0F6",
                      "#E76BF3"
                    ],
                    "font": {
                      "color": "rgb(51,51,51)"
                    },
                    "geo": {
                      "bgcolor": "white",
                      "lakecolor": "white",
                      "landcolor": "rgb(237,237,237)",
                      "showlakes": true,
                      "showland": true,
                      "subunitcolor": "white"
                    },
                    "hoverlabel": {
                      "align": "left"
                    },
                    "hovermode": "closest",
                    "paper_bgcolor": "white",
                    "plot_bgcolor": "rgb(237,237,237)",
                    "polar": {
                      "angularaxis": {
                        "gridcolor": "white",
                        "linecolor": "white",
                        "showgrid": true,
                        "tickcolor": "rgb(51,51,51)",
                        "ticks": "outside"
                      },
                      "bgcolor": "rgb(237,237,237)",
                      "radialaxis": {
                        "gridcolor": "white",
                        "linecolor": "white",
                        "showgrid": true,
                        "tickcolor": "rgb(51,51,51)",
                        "ticks": "outside"
                      }
                    },
                    "scene": {
                      "xaxis": {
                        "backgroundcolor": "rgb(237,237,237)",
                        "gridcolor": "white",
                        "gridwidth": 2,
                        "linecolor": "white",
                        "showbackground": true,
                        "showgrid": true,
                        "tickcolor": "rgb(51,51,51)",
                        "ticks": "outside",
                        "zerolinecolor": "white"
                      },
                      "yaxis": {
                        "backgroundcolor": "rgb(237,237,237)",
                        "gridcolor": "white",
                        "gridwidth": 2,
                        "linecolor": "white",
                        "showbackground": true,
                        "showgrid": true,
                        "tickcolor": "rgb(51,51,51)",
                        "ticks": "outside",
                        "zerolinecolor": "white"
                      },
                      "zaxis": {
                        "backgroundcolor": "rgb(237,237,237)",
                        "gridcolor": "white",
                        "gridwidth": 2,
                        "linecolor": "white",
                        "showbackground": true,
                        "showgrid": true,
                        "tickcolor": "rgb(51,51,51)",
                        "ticks": "outside",
                        "zerolinecolor": "white"
                      }
                    },
                    "shapedefaults": {
                      "fillcolor": "black",
                      "line": {
                        "width": 0
                      },
                      "opacity": 0.3
                    },
                    "ternary": {
                      "aaxis": {
                        "gridcolor": "white",
                        "linecolor": "white",
                        "showgrid": true,
                        "tickcolor": "rgb(51,51,51)",
                        "ticks": "outside"
                      },
                      "baxis": {
                        "gridcolor": "white",
                        "linecolor": "white",
                        "showgrid": true,
                        "tickcolor": "rgb(51,51,51)",
                        "ticks": "outside"
                      },
                      "bgcolor": "rgb(237,237,237)",
                      "caxis": {
                        "gridcolor": "white",
                        "linecolor": "white",
                        "showgrid": true,
                        "tickcolor": "rgb(51,51,51)",
                        "ticks": "outside"
                      }
                    },
                    "xaxis": {
                      "automargin": true,
                      "gridcolor": "white",
                      "linecolor": "white",
                      "showgrid": true,
                      "tickcolor": "rgb(51,51,51)",
                      "ticks": "outside",
                      "title": {
                        "standoff": 15
                      },
                      "zerolinecolor": "white"
                    },
                    "yaxis": {
                      "automargin": true,
                      "gridcolor": "white",
                      "linecolor": "white",
                      "showgrid": true,
                      "tickcolor": "rgb(51,51,51)",
                      "ticks": "outside",
                      "title": {
                        "standoff": 15
                      },
                      "zerolinecolor": "white"
                    }
                  }
                },
                "title": {
                  "text": "cluster with K=3"
                },
                "width": 600,
                "xaxis": {
                  "anchor": "y",
                  "domain": [
                    0,
                    1
                  ],
                  "title": {
                    "text": "PCA-1"
                  }
                },
                "yaxis": {
                  "anchor": "x",
                  "domain": [
                    0,
                    1
                  ],
                  "title": {
                    "text": "PCA-2"
                  }
                }
              }
            }
          },
          "metadata": {},
          "output_type": "display_data"
        }
      ],
      "source": [
        "pca_drop = df.drop(columns=df[['provinsi', 'cluster']], axis=1)\n",
        "\n",
        "pca = PCA(n_components=2)\n",
        "pca_col = pca.fit_transform(pca_drop)\n",
        "\n",
        "viz_df_3 = pd.DataFrame(data=pca_col, columns=['PCA-1', 'PCA-2'])\n",
        "viz_df_3['cluster'] = df['cluster']\n",
        "\n",
        "fig = px.scatter(viz_df_3, \n",
        "                 x='PCA-1', \n",
        "                 y='PCA-2',\n",
        "                 color='cluster',\n",
        "                 template='ggplot2')\n",
        "\n",
        "fig.update_layout(title= 'cluster with K=3',\n",
        "                  \n",
        "                  width= 600,\n",
        "                  height= 400)\n",
        "\n",
        "fig.show()"
      ]
    },
    {
      "cell_type": "markdown",
      "metadata": {},
      "source": [
        "### Modelling Using K=2"
      ]
    },
    {
      "cell_type": "code",
      "execution_count": 86,
      "metadata": {},
      "outputs": [
        {
          "data": {
            "text/html": [
              "<div>\n",
              "<style scoped>\n",
              "    .dataframe tbody tr th:only-of-type {\n",
              "        vertical-align: middle;\n",
              "    }\n",
              "\n",
              "    .dataframe tbody tr th {\n",
              "        vertical-align: top;\n",
              "    }\n",
              "\n",
              "    .dataframe thead th {\n",
              "        text-align: right;\n",
              "    }\n",
              "</style>\n",
              "<table border=\"1\" class=\"dataframe\">\n",
              "  <thead>\n",
              "    <tr style=\"text-align: right;\">\n",
              "      <th></th>\n",
              "      <th>provinsi</th>\n",
              "      <th>2013-februari</th>\n",
              "      <th>2013-agustus</th>\n",
              "      <th>2014-februari</th>\n",
              "      <th>2014-agustus</th>\n",
              "      <th>2015-februari</th>\n",
              "      <th>2015-agustus</th>\n",
              "      <th>2016-februari</th>\n",
              "      <th>2016-agustus</th>\n",
              "      <th>2017-februari</th>\n",
              "      <th>...</th>\n",
              "      <th>2019-agustus</th>\n",
              "      <th>2020-februari</th>\n",
              "      <th>2020-agustus</th>\n",
              "      <th>2021-februari</th>\n",
              "      <th>2021-agustus</th>\n",
              "      <th>2022-februari</th>\n",
              "      <th>2022-agustus</th>\n",
              "      <th>2023-februari</th>\n",
              "      <th>2023-agustus</th>\n",
              "      <th>cluster</th>\n",
              "    </tr>\n",
              "  </thead>\n",
              "  <tbody>\n",
              "    <tr>\n",
              "      <th>0</th>\n",
              "      <td>ACEH</td>\n",
              "      <td>8.34</td>\n",
              "      <td>10.12</td>\n",
              "      <td>6.75</td>\n",
              "      <td>9.02</td>\n",
              "      <td>7.73</td>\n",
              "      <td>9.93</td>\n",
              "      <td>8.13</td>\n",
              "      <td>7.57</td>\n",
              "      <td>7.39</td>\n",
              "      <td>...</td>\n",
              "      <td>6.17</td>\n",
              "      <td>5.40</td>\n",
              "      <td>6.59</td>\n",
              "      <td>6.30</td>\n",
              "      <td>6.30</td>\n",
              "      <td>5.97</td>\n",
              "      <td>6.17</td>\n",
              "      <td>5.75</td>\n",
              "      <td>6.03</td>\n",
              "      <td>0</td>\n",
              "    </tr>\n",
              "    <tr>\n",
              "      <th>1</th>\n",
              "      <td>SUMATERA UTARA</td>\n",
              "      <td>6.09</td>\n",
              "      <td>6.45</td>\n",
              "      <td>5.95</td>\n",
              "      <td>6.23</td>\n",
              "      <td>6.39</td>\n",
              "      <td>6.71</td>\n",
              "      <td>6.49</td>\n",
              "      <td>5.84</td>\n",
              "      <td>6.41</td>\n",
              "      <td>...</td>\n",
              "      <td>5.39</td>\n",
              "      <td>4.71</td>\n",
              "      <td>6.91</td>\n",
              "      <td>6.01</td>\n",
              "      <td>6.33</td>\n",
              "      <td>5.47</td>\n",
              "      <td>6.16</td>\n",
              "      <td>5.24</td>\n",
              "      <td>5.89</td>\n",
              "      <td>0</td>\n",
              "    </tr>\n",
              "    <tr>\n",
              "      <th>2</th>\n",
              "      <td>SUMATERA BARAT</td>\n",
              "      <td>6.39</td>\n",
              "      <td>7.02</td>\n",
              "      <td>6.32</td>\n",
              "      <td>6.50</td>\n",
              "      <td>5.99</td>\n",
              "      <td>6.89</td>\n",
              "      <td>5.81</td>\n",
              "      <td>5.09</td>\n",
              "      <td>5.80</td>\n",
              "      <td>...</td>\n",
              "      <td>5.38</td>\n",
              "      <td>5.25</td>\n",
              "      <td>6.88</td>\n",
              "      <td>6.67</td>\n",
              "      <td>6.52</td>\n",
              "      <td>6.17</td>\n",
              "      <td>6.28</td>\n",
              "      <td>5.90</td>\n",
              "      <td>5.94</td>\n",
              "      <td>0</td>\n",
              "    </tr>\n",
              "    <tr>\n",
              "      <th>3</th>\n",
              "      <td>RIAU</td>\n",
              "      <td>4.19</td>\n",
              "      <td>5.48</td>\n",
              "      <td>4.99</td>\n",
              "      <td>6.56</td>\n",
              "      <td>6.72</td>\n",
              "      <td>7.83</td>\n",
              "      <td>5.94</td>\n",
              "      <td>7.43</td>\n",
              "      <td>5.76</td>\n",
              "      <td>...</td>\n",
              "      <td>5.76</td>\n",
              "      <td>4.92</td>\n",
              "      <td>6.32</td>\n",
              "      <td>4.96</td>\n",
              "      <td>4.42</td>\n",
              "      <td>4.40</td>\n",
              "      <td>4.37</td>\n",
              "      <td>4.25</td>\n",
              "      <td>4.23</td>\n",
              "      <td>0</td>\n",
              "    </tr>\n",
              "    <tr>\n",
              "      <th>4</th>\n",
              "      <td>JAMBI</td>\n",
              "      <td>2.89</td>\n",
              "      <td>4.76</td>\n",
              "      <td>2.50</td>\n",
              "      <td>5.08</td>\n",
              "      <td>2.73</td>\n",
              "      <td>4.34</td>\n",
              "      <td>4.66</td>\n",
              "      <td>4.00</td>\n",
              "      <td>3.67</td>\n",
              "      <td>...</td>\n",
              "      <td>4.06</td>\n",
              "      <td>4.26</td>\n",
              "      <td>5.13</td>\n",
              "      <td>4.76</td>\n",
              "      <td>5.09</td>\n",
              "      <td>4.70</td>\n",
              "      <td>4.59</td>\n",
              "      <td>4.50</td>\n",
              "      <td>4.53</td>\n",
              "      <td>1</td>\n",
              "    </tr>\n",
              "  </tbody>\n",
              "</table>\n",
              "<p>5 rows × 24 columns</p>\n",
              "</div>"
            ],
            "text/plain": [
              "         provinsi  2013-februari  2013-agustus  2014-februari  2014-agustus  \\\n",
              "0            ACEH           8.34         10.12           6.75          9.02   \n",
              "1  SUMATERA UTARA           6.09          6.45           5.95          6.23   \n",
              "2  SUMATERA BARAT           6.39          7.02           6.32          6.50   \n",
              "3            RIAU           4.19          5.48           4.99          6.56   \n",
              "4           JAMBI           2.89          4.76           2.50          5.08   \n",
              "\n",
              "   2015-februari  2015-agustus  2016-februari  2016-agustus  2017-februari  \\\n",
              "0           7.73          9.93           8.13          7.57           7.39   \n",
              "1           6.39          6.71           6.49          5.84           6.41   \n",
              "2           5.99          6.89           5.81          5.09           5.80   \n",
              "3           6.72          7.83           5.94          7.43           5.76   \n",
              "4           2.73          4.34           4.66          4.00           3.67   \n",
              "\n",
              "   ...  2019-agustus  2020-februari  2020-agustus  2021-februari  \\\n",
              "0  ...          6.17           5.40          6.59           6.30   \n",
              "1  ...          5.39           4.71          6.91           6.01   \n",
              "2  ...          5.38           5.25          6.88           6.67   \n",
              "3  ...          5.76           4.92          6.32           4.96   \n",
              "4  ...          4.06           4.26          5.13           4.76   \n",
              "\n",
              "   2021-agustus  2022-februari  2022-agustus  2023-februari  2023-agustus  \\\n",
              "0          6.30           5.97          6.17           5.75          6.03   \n",
              "1          6.33           5.47          6.16           5.24          5.89   \n",
              "2          6.52           6.17          6.28           5.90          5.94   \n",
              "3          4.42           4.40          4.37           4.25          4.23   \n",
              "4          5.09           4.70          4.59           4.50          4.53   \n",
              "\n",
              "   cluster  \n",
              "0        0  \n",
              "1        0  \n",
              "2        0  \n",
              "3        0  \n",
              "4        1  \n",
              "\n",
              "[5 rows x 24 columns]"
            ]
          },
          "execution_count": 86,
          "metadata": {},
          "output_type": "execute_result"
        }
      ],
      "source": [
        "km2_drop = df.drop(columns=df[['provinsi', 'cluster']], axis=1)\n",
        "\n",
        "kmeans_2 = KMeans(n_clusters=2, init='random', random_state=42)\n",
        "kmeans_2.fit(clus_col)\n",
        "df['cluster'] = kmeans_2.predict(km2_drop)\n",
        "df.head()"
      ]
    },
    {
      "cell_type": "code",
      "execution_count": 87,
      "metadata": {},
      "outputs": [
        {
          "data": {
            "application/vnd.plotly.v1+json": {
              "config": {
                "plotlyServerURL": "https://plot.ly"
              },
              "data": [
                {
                  "hovertemplate": "PCA-1=%{x}<br>PCA-2=%{y}<br>cluster=%{marker.color}<extra></extra>",
                  "legendgroup": "",
                  "marker": {
                    "color": [
                      0,
                      0,
                      0,
                      0,
                      1,
                      1,
                      1,
                      1,
                      1,
                      0,
                      0,
                      0,
                      1,
                      1,
                      1,
                      0,
                      1,
                      1,
                      1,
                      1,
                      1,
                      1,
                      0,
                      1,
                      0,
                      1,
                      1,
                      1,
                      1,
                      1,
                      0,
                      1,
                      0,
                      1
                    ],
                    "coloraxis": "coloraxis",
                    "symbol": "circle"
                  },
                  "mode": "markers",
                  "name": "",
                  "orientation": "v",
                  "showlegend": false,
                  "type": "scatter",
                  "x": [
                    9.696844741593026,
                    4.335845272987654,
                    4.735507120106577,
                    2.435998675120348,
                    -4.516833308642655,
                    -2.0690824060853017,
                    -8.09198595727841,
                    -2.4698047085328616,
                    -4.300489860170597,
                    11.346729767577548,
                    11.522061860656487,
                    16.324246156291085,
                    0.274847202073945,
                    -7.482686938820895,
                    -3.1319631488631905,
                    17.172533525918176,
                    -12.038213196478443,
                    -4.461226300908933,
                    -8.853353571251317,
                    -2.848583767977853,
                    -6.497037046717369,
                    -3.849595472230487,
                    10.217622103503945,
                    -0.3809193950003515,
                    8.563017455235105,
                    -7.779177922162321,
                    1.3413687628677422,
                    -6.874049305733694,
                    -6.982900483691913,
                    -11.384333675935832,
                    11.193332661409547,
                    -1.098593609889213,
                    3.685940204737424,
                    -7.735065433707011
                  ],
                  "xaxis": "x",
                  "y": [
                    -3.614227030854465,
                    -0.08757965286615747,
                    0.3304102077035391,
                    -2.566166002559254,
                    0.8628839340017386,
                    -0.15463102862963585,
                    -0.6357830008044922,
                    -1.1758762631057749,
                    0.38585786090773405,
                    5.735221347546127,
                    2.361158581556509,
                    1.686470948285997,
                    1.1905152934459902,
                    0.9192528034019718,
                    1.7245776624501084,
                    0.6834456411349814,
                    5.153401956529935,
                    -3.026778384452872,
                    -0.00907030678211846,
                    1.9350127200170049,
                    0.9398764776335361,
                    0.2327786859122366,
                    -2.04894223716575,
                    -1.8102100651144497,
                    -0.3325984545935251,
                    -0.8449843014446491,
                    0.05019642712568263,
                    -0.6933635367922417,
                    -2.0240041446845245,
                    -0.27133302851104063,
                    -3.0050705964886406,
                    -0.940899284082591,
                    -0.14035926627421216,
                    -0.8091839624466861
                  ],
                  "yaxis": "y"
                }
              ],
              "layout": {
                "coloraxis": {
                  "colorbar": {
                    "title": {
                      "text": "cluster"
                    }
                  },
                  "colorscale": [
                    [
                      0,
                      "rgb(20,44,66)"
                    ],
                    [
                      1,
                      "rgb(90,179,244)"
                    ]
                  ]
                },
                "height": 400,
                "legend": {
                  "tracegroupgap": 0
                },
                "margin": {
                  "t": 60
                },
                "template": {
                  "data": {
                    "bar": [
                      {
                        "error_x": {
                          "color": "rgb(51,51,51)"
                        },
                        "error_y": {
                          "color": "rgb(51,51,51)"
                        },
                        "marker": {
                          "line": {
                            "color": "rgb(237,237,237)",
                            "width": 0.5
                          },
                          "pattern": {
                            "fillmode": "overlay",
                            "size": 10,
                            "solidity": 0.2
                          }
                        },
                        "type": "bar"
                      }
                    ],
                    "barpolar": [
                      {
                        "marker": {
                          "line": {
                            "color": "rgb(237,237,237)",
                            "width": 0.5
                          },
                          "pattern": {
                            "fillmode": "overlay",
                            "size": 10,
                            "solidity": 0.2
                          }
                        },
                        "type": "barpolar"
                      }
                    ],
                    "carpet": [
                      {
                        "aaxis": {
                          "endlinecolor": "rgb(51,51,51)",
                          "gridcolor": "white",
                          "linecolor": "white",
                          "minorgridcolor": "white",
                          "startlinecolor": "rgb(51,51,51)"
                        },
                        "baxis": {
                          "endlinecolor": "rgb(51,51,51)",
                          "gridcolor": "white",
                          "linecolor": "white",
                          "minorgridcolor": "white",
                          "startlinecolor": "rgb(51,51,51)"
                        },
                        "type": "carpet"
                      }
                    ],
                    "choropleth": [
                      {
                        "colorbar": {
                          "outlinewidth": 0,
                          "tickcolor": "rgb(237,237,237)",
                          "ticklen": 6,
                          "ticks": "inside"
                        },
                        "type": "choropleth"
                      }
                    ],
                    "contour": [
                      {
                        "colorbar": {
                          "outlinewidth": 0,
                          "tickcolor": "rgb(237,237,237)",
                          "ticklen": 6,
                          "ticks": "inside"
                        },
                        "colorscale": [
                          [
                            0,
                            "rgb(20,44,66)"
                          ],
                          [
                            1,
                            "rgb(90,179,244)"
                          ]
                        ],
                        "type": "contour"
                      }
                    ],
                    "contourcarpet": [
                      {
                        "colorbar": {
                          "outlinewidth": 0,
                          "tickcolor": "rgb(237,237,237)",
                          "ticklen": 6,
                          "ticks": "inside"
                        },
                        "type": "contourcarpet"
                      }
                    ],
                    "heatmap": [
                      {
                        "colorbar": {
                          "outlinewidth": 0,
                          "tickcolor": "rgb(237,237,237)",
                          "ticklen": 6,
                          "ticks": "inside"
                        },
                        "colorscale": [
                          [
                            0,
                            "rgb(20,44,66)"
                          ],
                          [
                            1,
                            "rgb(90,179,244)"
                          ]
                        ],
                        "type": "heatmap"
                      }
                    ],
                    "heatmapgl": [
                      {
                        "colorbar": {
                          "outlinewidth": 0,
                          "tickcolor": "rgb(237,237,237)",
                          "ticklen": 6,
                          "ticks": "inside"
                        },
                        "colorscale": [
                          [
                            0,
                            "rgb(20,44,66)"
                          ],
                          [
                            1,
                            "rgb(90,179,244)"
                          ]
                        ],
                        "type": "heatmapgl"
                      }
                    ],
                    "histogram": [
                      {
                        "marker": {
                          "pattern": {
                            "fillmode": "overlay",
                            "size": 10,
                            "solidity": 0.2
                          }
                        },
                        "type": "histogram"
                      }
                    ],
                    "histogram2d": [
                      {
                        "colorbar": {
                          "outlinewidth": 0,
                          "tickcolor": "rgb(237,237,237)",
                          "ticklen": 6,
                          "ticks": "inside"
                        },
                        "colorscale": [
                          [
                            0,
                            "rgb(20,44,66)"
                          ],
                          [
                            1,
                            "rgb(90,179,244)"
                          ]
                        ],
                        "type": "histogram2d"
                      }
                    ],
                    "histogram2dcontour": [
                      {
                        "colorbar": {
                          "outlinewidth": 0,
                          "tickcolor": "rgb(237,237,237)",
                          "ticklen": 6,
                          "ticks": "inside"
                        },
                        "colorscale": [
                          [
                            0,
                            "rgb(20,44,66)"
                          ],
                          [
                            1,
                            "rgb(90,179,244)"
                          ]
                        ],
                        "type": "histogram2dcontour"
                      }
                    ],
                    "mesh3d": [
                      {
                        "colorbar": {
                          "outlinewidth": 0,
                          "tickcolor": "rgb(237,237,237)",
                          "ticklen": 6,
                          "ticks": "inside"
                        },
                        "type": "mesh3d"
                      }
                    ],
                    "parcoords": [
                      {
                        "line": {
                          "colorbar": {
                            "outlinewidth": 0,
                            "tickcolor": "rgb(237,237,237)",
                            "ticklen": 6,
                            "ticks": "inside"
                          }
                        },
                        "type": "parcoords"
                      }
                    ],
                    "pie": [
                      {
                        "automargin": true,
                        "type": "pie"
                      }
                    ],
                    "scatter": [
                      {
                        "fillpattern": {
                          "fillmode": "overlay",
                          "size": 10,
                          "solidity": 0.2
                        },
                        "type": "scatter"
                      }
                    ],
                    "scatter3d": [
                      {
                        "line": {
                          "colorbar": {
                            "outlinewidth": 0,
                            "tickcolor": "rgb(237,237,237)",
                            "ticklen": 6,
                            "ticks": "inside"
                          }
                        },
                        "marker": {
                          "colorbar": {
                            "outlinewidth": 0,
                            "tickcolor": "rgb(237,237,237)",
                            "ticklen": 6,
                            "ticks": "inside"
                          }
                        },
                        "type": "scatter3d"
                      }
                    ],
                    "scattercarpet": [
                      {
                        "marker": {
                          "colorbar": {
                            "outlinewidth": 0,
                            "tickcolor": "rgb(237,237,237)",
                            "ticklen": 6,
                            "ticks": "inside"
                          }
                        },
                        "type": "scattercarpet"
                      }
                    ],
                    "scattergeo": [
                      {
                        "marker": {
                          "colorbar": {
                            "outlinewidth": 0,
                            "tickcolor": "rgb(237,237,237)",
                            "ticklen": 6,
                            "ticks": "inside"
                          }
                        },
                        "type": "scattergeo"
                      }
                    ],
                    "scattergl": [
                      {
                        "marker": {
                          "colorbar": {
                            "outlinewidth": 0,
                            "tickcolor": "rgb(237,237,237)",
                            "ticklen": 6,
                            "ticks": "inside"
                          }
                        },
                        "type": "scattergl"
                      }
                    ],
                    "scattermapbox": [
                      {
                        "marker": {
                          "colorbar": {
                            "outlinewidth": 0,
                            "tickcolor": "rgb(237,237,237)",
                            "ticklen": 6,
                            "ticks": "inside"
                          }
                        },
                        "type": "scattermapbox"
                      }
                    ],
                    "scatterpolar": [
                      {
                        "marker": {
                          "colorbar": {
                            "outlinewidth": 0,
                            "tickcolor": "rgb(237,237,237)",
                            "ticklen": 6,
                            "ticks": "inside"
                          }
                        },
                        "type": "scatterpolar"
                      }
                    ],
                    "scatterpolargl": [
                      {
                        "marker": {
                          "colorbar": {
                            "outlinewidth": 0,
                            "tickcolor": "rgb(237,237,237)",
                            "ticklen": 6,
                            "ticks": "inside"
                          }
                        },
                        "type": "scatterpolargl"
                      }
                    ],
                    "scatterternary": [
                      {
                        "marker": {
                          "colorbar": {
                            "outlinewidth": 0,
                            "tickcolor": "rgb(237,237,237)",
                            "ticklen": 6,
                            "ticks": "inside"
                          }
                        },
                        "type": "scatterternary"
                      }
                    ],
                    "surface": [
                      {
                        "colorbar": {
                          "outlinewidth": 0,
                          "tickcolor": "rgb(237,237,237)",
                          "ticklen": 6,
                          "ticks": "inside"
                        },
                        "colorscale": [
                          [
                            0,
                            "rgb(20,44,66)"
                          ],
                          [
                            1,
                            "rgb(90,179,244)"
                          ]
                        ],
                        "type": "surface"
                      }
                    ],
                    "table": [
                      {
                        "cells": {
                          "fill": {
                            "color": "rgb(237,237,237)"
                          },
                          "line": {
                            "color": "white"
                          }
                        },
                        "header": {
                          "fill": {
                            "color": "rgb(217,217,217)"
                          },
                          "line": {
                            "color": "white"
                          }
                        },
                        "type": "table"
                      }
                    ]
                  },
                  "layout": {
                    "annotationdefaults": {
                      "arrowhead": 0,
                      "arrowwidth": 1
                    },
                    "autotypenumbers": "strict",
                    "coloraxis": {
                      "colorbar": {
                        "outlinewidth": 0,
                        "tickcolor": "rgb(237,237,237)",
                        "ticklen": 6,
                        "ticks": "inside"
                      }
                    },
                    "colorscale": {
                      "sequential": [
                        [
                          0,
                          "rgb(20,44,66)"
                        ],
                        [
                          1,
                          "rgb(90,179,244)"
                        ]
                      ],
                      "sequentialminus": [
                        [
                          0,
                          "rgb(20,44,66)"
                        ],
                        [
                          1,
                          "rgb(90,179,244)"
                        ]
                      ]
                    },
                    "colorway": [
                      "#F8766D",
                      "#A3A500",
                      "#00BF7D",
                      "#00B0F6",
                      "#E76BF3"
                    ],
                    "font": {
                      "color": "rgb(51,51,51)"
                    },
                    "geo": {
                      "bgcolor": "white",
                      "lakecolor": "white",
                      "landcolor": "rgb(237,237,237)",
                      "showlakes": true,
                      "showland": true,
                      "subunitcolor": "white"
                    },
                    "hoverlabel": {
                      "align": "left"
                    },
                    "hovermode": "closest",
                    "paper_bgcolor": "white",
                    "plot_bgcolor": "rgb(237,237,237)",
                    "polar": {
                      "angularaxis": {
                        "gridcolor": "white",
                        "linecolor": "white",
                        "showgrid": true,
                        "tickcolor": "rgb(51,51,51)",
                        "ticks": "outside"
                      },
                      "bgcolor": "rgb(237,237,237)",
                      "radialaxis": {
                        "gridcolor": "white",
                        "linecolor": "white",
                        "showgrid": true,
                        "tickcolor": "rgb(51,51,51)",
                        "ticks": "outside"
                      }
                    },
                    "scene": {
                      "xaxis": {
                        "backgroundcolor": "rgb(237,237,237)",
                        "gridcolor": "white",
                        "gridwidth": 2,
                        "linecolor": "white",
                        "showbackground": true,
                        "showgrid": true,
                        "tickcolor": "rgb(51,51,51)",
                        "ticks": "outside",
                        "zerolinecolor": "white"
                      },
                      "yaxis": {
                        "backgroundcolor": "rgb(237,237,237)",
                        "gridcolor": "white",
                        "gridwidth": 2,
                        "linecolor": "white",
                        "showbackground": true,
                        "showgrid": true,
                        "tickcolor": "rgb(51,51,51)",
                        "ticks": "outside",
                        "zerolinecolor": "white"
                      },
                      "zaxis": {
                        "backgroundcolor": "rgb(237,237,237)",
                        "gridcolor": "white",
                        "gridwidth": 2,
                        "linecolor": "white",
                        "showbackground": true,
                        "showgrid": true,
                        "tickcolor": "rgb(51,51,51)",
                        "ticks": "outside",
                        "zerolinecolor": "white"
                      }
                    },
                    "shapedefaults": {
                      "fillcolor": "black",
                      "line": {
                        "width": 0
                      },
                      "opacity": 0.3
                    },
                    "ternary": {
                      "aaxis": {
                        "gridcolor": "white",
                        "linecolor": "white",
                        "showgrid": true,
                        "tickcolor": "rgb(51,51,51)",
                        "ticks": "outside"
                      },
                      "baxis": {
                        "gridcolor": "white",
                        "linecolor": "white",
                        "showgrid": true,
                        "tickcolor": "rgb(51,51,51)",
                        "ticks": "outside"
                      },
                      "bgcolor": "rgb(237,237,237)",
                      "caxis": {
                        "gridcolor": "white",
                        "linecolor": "white",
                        "showgrid": true,
                        "tickcolor": "rgb(51,51,51)",
                        "ticks": "outside"
                      }
                    },
                    "xaxis": {
                      "automargin": true,
                      "gridcolor": "white",
                      "linecolor": "white",
                      "showgrid": true,
                      "tickcolor": "rgb(51,51,51)",
                      "ticks": "outside",
                      "title": {
                        "standoff": 15
                      },
                      "zerolinecolor": "white"
                    },
                    "yaxis": {
                      "automargin": true,
                      "gridcolor": "white",
                      "linecolor": "white",
                      "showgrid": true,
                      "tickcolor": "rgb(51,51,51)",
                      "ticks": "outside",
                      "title": {
                        "standoff": 15
                      },
                      "zerolinecolor": "white"
                    }
                  }
                },
                "title": {
                  "text": "cluster with K=2"
                },
                "width": 600,
                "xaxis": {
                  "anchor": "y",
                  "domain": [
                    0,
                    1
                  ],
                  "title": {
                    "text": "PCA-1"
                  }
                },
                "yaxis": {
                  "anchor": "x",
                  "domain": [
                    0,
                    1
                  ],
                  "title": {
                    "text": "PCA-2"
                  }
                }
              }
            }
          },
          "metadata": {},
          "output_type": "display_data"
        }
      ],
      "source": [
        "pca_drop = df.drop(columns=df[['provinsi', 'cluster']], axis=1)\n",
        "\n",
        "pca = PCA(n_components=2)\n",
        "pca_col = pca.fit_transform(pca_drop)\n",
        "\n",
        "viz_df_2 = pd.DataFrame(data=pca_col, columns=['PCA-1', 'PCA-2'])\n",
        "viz_df_2['cluster'] = df['cluster']\n",
        "\n",
        "fig = px.scatter(viz_df_2, \n",
        "                 x='PCA-1', \n",
        "                 y='PCA-2',\n",
        "                 color='cluster',\n",
        "                 template='ggplot2')\n",
        "\n",
        "fig.update_layout(title= 'cluster with K=2',\n",
        "                  \n",
        "                  width= 600,\n",
        "                  height= 400)\n",
        "\n",
        "fig.show()"
      ]
    },
    {
      "cell_type": "markdown",
      "metadata": {},
      "source": [
        "## Final Result"
      ]
    },
    {
      "cell_type": "code",
      "execution_count": 88,
      "metadata": {},
      "outputs": [
        {
          "data": {
            "text/html": [
              "<div>\n",
              "<style scoped>\n",
              "    .dataframe tbody tr th:only-of-type {\n",
              "        vertical-align: middle;\n",
              "    }\n",
              "\n",
              "    .dataframe tbody tr th {\n",
              "        vertical-align: top;\n",
              "    }\n",
              "\n",
              "    .dataframe thead th {\n",
              "        text-align: right;\n",
              "    }\n",
              "</style>\n",
              "<table border=\"1\" class=\"dataframe\">\n",
              "  <thead>\n",
              "    <tr style=\"text-align: right;\">\n",
              "      <th></th>\n",
              "      <th>provinsi</th>\n",
              "      <th>2013-februari</th>\n",
              "      <th>2013-agustus</th>\n",
              "      <th>2014-februari</th>\n",
              "      <th>2014-agustus</th>\n",
              "      <th>2015-februari</th>\n",
              "      <th>2015-agustus</th>\n",
              "      <th>2016-februari</th>\n",
              "      <th>2016-agustus</th>\n",
              "      <th>2017-februari</th>\n",
              "      <th>...</th>\n",
              "      <th>2019-agustus</th>\n",
              "      <th>2020-februari</th>\n",
              "      <th>2020-agustus</th>\n",
              "      <th>2021-februari</th>\n",
              "      <th>2021-agustus</th>\n",
              "      <th>2022-februari</th>\n",
              "      <th>2022-agustus</th>\n",
              "      <th>2023-februari</th>\n",
              "      <th>2023-agustus</th>\n",
              "      <th>cluster</th>\n",
              "    </tr>\n",
              "  </thead>\n",
              "  <tbody>\n",
              "    <tr>\n",
              "      <th>0</th>\n",
              "      <td>ACEH</td>\n",
              "      <td>8.34</td>\n",
              "      <td>10.12</td>\n",
              "      <td>6.75</td>\n",
              "      <td>9.02</td>\n",
              "      <td>7.73</td>\n",
              "      <td>9.93</td>\n",
              "      <td>8.13</td>\n",
              "      <td>7.57</td>\n",
              "      <td>7.39</td>\n",
              "      <td>...</td>\n",
              "      <td>6.17</td>\n",
              "      <td>5.40</td>\n",
              "      <td>6.59</td>\n",
              "      <td>6.30</td>\n",
              "      <td>6.30</td>\n",
              "      <td>5.97</td>\n",
              "      <td>6.17</td>\n",
              "      <td>5.75</td>\n",
              "      <td>6.03</td>\n",
              "      <td>0</td>\n",
              "    </tr>\n",
              "    <tr>\n",
              "      <th>1</th>\n",
              "      <td>SUMATERA UTARA</td>\n",
              "      <td>6.09</td>\n",
              "      <td>6.45</td>\n",
              "      <td>5.95</td>\n",
              "      <td>6.23</td>\n",
              "      <td>6.39</td>\n",
              "      <td>6.71</td>\n",
              "      <td>6.49</td>\n",
              "      <td>5.84</td>\n",
              "      <td>6.41</td>\n",
              "      <td>...</td>\n",
              "      <td>5.39</td>\n",
              "      <td>4.71</td>\n",
              "      <td>6.91</td>\n",
              "      <td>6.01</td>\n",
              "      <td>6.33</td>\n",
              "      <td>5.47</td>\n",
              "      <td>6.16</td>\n",
              "      <td>5.24</td>\n",
              "      <td>5.89</td>\n",
              "      <td>0</td>\n",
              "    </tr>\n",
              "    <tr>\n",
              "      <th>2</th>\n",
              "      <td>SUMATERA BARAT</td>\n",
              "      <td>6.39</td>\n",
              "      <td>7.02</td>\n",
              "      <td>6.32</td>\n",
              "      <td>6.50</td>\n",
              "      <td>5.99</td>\n",
              "      <td>6.89</td>\n",
              "      <td>5.81</td>\n",
              "      <td>5.09</td>\n",
              "      <td>5.80</td>\n",
              "      <td>...</td>\n",
              "      <td>5.38</td>\n",
              "      <td>5.25</td>\n",
              "      <td>6.88</td>\n",
              "      <td>6.67</td>\n",
              "      <td>6.52</td>\n",
              "      <td>6.17</td>\n",
              "      <td>6.28</td>\n",
              "      <td>5.90</td>\n",
              "      <td>5.94</td>\n",
              "      <td>0</td>\n",
              "    </tr>\n",
              "    <tr>\n",
              "      <th>3</th>\n",
              "      <td>RIAU</td>\n",
              "      <td>4.19</td>\n",
              "      <td>5.48</td>\n",
              "      <td>4.99</td>\n",
              "      <td>6.56</td>\n",
              "      <td>6.72</td>\n",
              "      <td>7.83</td>\n",
              "      <td>5.94</td>\n",
              "      <td>7.43</td>\n",
              "      <td>5.76</td>\n",
              "      <td>...</td>\n",
              "      <td>5.76</td>\n",
              "      <td>4.92</td>\n",
              "      <td>6.32</td>\n",
              "      <td>4.96</td>\n",
              "      <td>4.42</td>\n",
              "      <td>4.40</td>\n",
              "      <td>4.37</td>\n",
              "      <td>4.25</td>\n",
              "      <td>4.23</td>\n",
              "      <td>0</td>\n",
              "    </tr>\n",
              "    <tr>\n",
              "      <th>4</th>\n",
              "      <td>JAMBI</td>\n",
              "      <td>2.89</td>\n",
              "      <td>4.76</td>\n",
              "      <td>2.50</td>\n",
              "      <td>5.08</td>\n",
              "      <td>2.73</td>\n",
              "      <td>4.34</td>\n",
              "      <td>4.66</td>\n",
              "      <td>4.00</td>\n",
              "      <td>3.67</td>\n",
              "      <td>...</td>\n",
              "      <td>4.06</td>\n",
              "      <td>4.26</td>\n",
              "      <td>5.13</td>\n",
              "      <td>4.76</td>\n",
              "      <td>5.09</td>\n",
              "      <td>4.70</td>\n",
              "      <td>4.59</td>\n",
              "      <td>4.50</td>\n",
              "      <td>4.53</td>\n",
              "      <td>1</td>\n",
              "    </tr>\n",
              "  </tbody>\n",
              "</table>\n",
              "<p>5 rows × 24 columns</p>\n",
              "</div>"
            ],
            "text/plain": [
              "         provinsi  2013-februari  2013-agustus  2014-februari  2014-agustus  \\\n",
              "0            ACEH           8.34         10.12           6.75          9.02   \n",
              "1  SUMATERA UTARA           6.09          6.45           5.95          6.23   \n",
              "2  SUMATERA BARAT           6.39          7.02           6.32          6.50   \n",
              "3            RIAU           4.19          5.48           4.99          6.56   \n",
              "4           JAMBI           2.89          4.76           2.50          5.08   \n",
              "\n",
              "   2015-februari  2015-agustus  2016-februari  2016-agustus  2017-februari  \\\n",
              "0           7.73          9.93           8.13          7.57           7.39   \n",
              "1           6.39          6.71           6.49          5.84           6.41   \n",
              "2           5.99          6.89           5.81          5.09           5.80   \n",
              "3           6.72          7.83           5.94          7.43           5.76   \n",
              "4           2.73          4.34           4.66          4.00           3.67   \n",
              "\n",
              "   ...  2019-agustus  2020-februari  2020-agustus  2021-februari  \\\n",
              "0  ...          6.17           5.40          6.59           6.30   \n",
              "1  ...          5.39           4.71          6.91           6.01   \n",
              "2  ...          5.38           5.25          6.88           6.67   \n",
              "3  ...          5.76           4.92          6.32           4.96   \n",
              "4  ...          4.06           4.26          5.13           4.76   \n",
              "\n",
              "   2021-agustus  2022-februari  2022-agustus  2023-februari  2023-agustus  \\\n",
              "0          6.30           5.97          6.17           5.75          6.03   \n",
              "1          6.33           5.47          6.16           5.24          5.89   \n",
              "2          6.52           6.17          6.28           5.90          5.94   \n",
              "3          4.42           4.40          4.37           4.25          4.23   \n",
              "4          5.09           4.70          4.59           4.50          4.53   \n",
              "\n",
              "   cluster  \n",
              "0        0  \n",
              "1        0  \n",
              "2        0  \n",
              "3        0  \n",
              "4        1  \n",
              "\n",
              "[5 rows x 24 columns]"
            ]
          },
          "execution_count": 88,
          "metadata": {},
          "output_type": "execute_result"
        }
      ],
      "source": [
        "clus_col = df.drop(columns=df[['provinsi', 'cluster']], axis=1)\n",
        "\n",
        "kmeans = KMeans(n_clusters=2, init='random', random_state=42)\n",
        "kmeans.fit(clus_col)\n",
        "df['cluster'] = kmeans.predict(clus_col)\n",
        "df.head()"
      ]
    },
    {
      "cell_type": "code",
      "execution_count": 89,
      "metadata": {},
      "outputs": [
        {
          "name": "stdout",
          "output_type": "stream",
          "text": [
            "0.7041340965671974\n"
          ]
        }
      ],
      "source": [
        "dbi_score = davies_bouldin_score(clus_col, labels=kmeans.labels_)\n",
        "print(dbi_score)"
      ]
    },
    {
      "cell_type": "code",
      "execution_count": 90,
      "metadata": {},
      "outputs": [
        {
          "data": {
            "text/plain": [
              "array([[7.26      , 7.59      , 7.0075    , 7.62      , 7.3675    ,\n",
              "        8.13333333, 7.25666667, 7.1825    , 6.94666667, 7.13666667,\n",
              "        6.52833333, 6.77833333, 6.15666667, 6.49666667, 6.055     ,\n",
              "        8.14166667, 7.29166667, 7.28666667, 6.70083333, 6.61333333,\n",
              "        6.3625    , 6.12333333],\n",
              "       [3.72636364, 4.11772727, 3.35954545, 4.19136364, 3.91045455,\n",
              "        4.80545455, 3.85545455, 3.79363636, 3.67954545, 3.99227273,\n",
              "        3.44181818, 3.72590909, 3.45909091, 3.73909091, 3.59363636,\n",
              "        4.88363636, 4.52954545, 4.51318182, 4.26227273, 4.06772727,\n",
              "        3.95636364, 3.79045455]])"
            ]
          },
          "execution_count": 90,
          "metadata": {},
          "output_type": "execute_result"
        }
      ],
      "source": [
        "kmeans.cluster_centers_"
      ]
    },
    {
      "cell_type": "code",
      "execution_count": 91,
      "metadata": {},
      "outputs": [
        {
          "name": "stdout",
          "output_type": "stream",
          "text": [
            "[7.26       7.59       7.0075     7.62       7.3675     8.13333333\n",
            " 7.25666667 7.1825     6.94666667 7.13666667 6.52833333 6.77833333\n",
            " 6.15666667 6.49666667 6.055      8.14166667 7.29166667 7.28666667\n",
            " 6.70083333 6.61333333 6.3625     6.12333333]\n"
          ]
        }
      ],
      "source": [
        "cluster_centers = kmeans.cluster_centers_\n",
        "center_0 = cluster_centers[0]\n",
        "print(center_0)"
      ]
    },
    {
      "cell_type": "code",
      "execution_count": 92,
      "metadata": {},
      "outputs": [
        {
          "name": "stdout",
          "output_type": "stream",
          "text": [
            "[3.72636364 4.11772727 3.35954545 4.19136364 3.91045455 4.80545455\n",
            " 3.85545455 3.79363636 3.67954545 3.99227273 3.44181818 3.72590909\n",
            " 3.45909091 3.73909091 3.59363636 4.88363636 4.52954545 4.51318182\n",
            " 4.26227273 4.06772727 3.95636364 3.79045455]\n"
          ]
        }
      ],
      "source": [
        "cluster_centers = kmeans.cluster_centers_\n",
        "center_1 = cluster_centers[1]\n",
        "print(center_1)"
      ]
    },
    {
      "cell_type": "code",
      "execution_count": 93,
      "metadata": {},
      "outputs": [
        {
          "data": {
            "text/plain": [
              "3"
            ]
          },
          "execution_count": 93,
          "metadata": {},
          "output_type": "execute_result"
        }
      ],
      "source": [
        "kmeans.n_iter_"
      ]
    },
    {
      "cell_type": "code",
      "execution_count": 94,
      "metadata": {},
      "outputs": [
        {
          "data": {
            "text/plain": [
              "cluster\n",
              "1    22\n",
              "0    12\n",
              "Name: count, dtype: int64"
            ]
          },
          "execution_count": 94,
          "metadata": {},
          "output_type": "execute_result"
        }
      ],
      "source": [
        "df['cluster'].value_counts()"
      ]
    },
    {
      "cell_type": "code",
      "execution_count": 95,
      "metadata": {},
      "outputs": [
        {
          "data": {
            "text/html": [
              "<div>\n",
              "<style scoped>\n",
              "    .dataframe tbody tr th:only-of-type {\n",
              "        vertical-align: middle;\n",
              "    }\n",
              "\n",
              "    .dataframe tbody tr th {\n",
              "        vertical-align: top;\n",
              "    }\n",
              "\n",
              "    .dataframe thead th {\n",
              "        text-align: right;\n",
              "    }\n",
              "</style>\n",
              "<table border=\"1\" class=\"dataframe\">\n",
              "  <thead>\n",
              "    <tr style=\"text-align: right;\">\n",
              "      <th></th>\n",
              "      <th>2013-februari</th>\n",
              "      <th>2013-agustus</th>\n",
              "      <th>2014-februari</th>\n",
              "      <th>2014-agustus</th>\n",
              "      <th>2015-februari</th>\n",
              "      <th>2015-agustus</th>\n",
              "      <th>2016-februari</th>\n",
              "      <th>2016-agustus</th>\n",
              "      <th>2017-februari</th>\n",
              "      <th>2017-agustus</th>\n",
              "      <th>...</th>\n",
              "      <th>2019-februari</th>\n",
              "      <th>2019-agustus</th>\n",
              "      <th>2020-februari</th>\n",
              "      <th>2020-agustus</th>\n",
              "      <th>2021-februari</th>\n",
              "      <th>2021-agustus</th>\n",
              "      <th>2022-februari</th>\n",
              "      <th>2022-agustus</th>\n",
              "      <th>2023-februari</th>\n",
              "      <th>2023-agustus</th>\n",
              "    </tr>\n",
              "    <tr>\n",
              "      <th>cluster</th>\n",
              "      <th></th>\n",
              "      <th></th>\n",
              "      <th></th>\n",
              "      <th></th>\n",
              "      <th></th>\n",
              "      <th></th>\n",
              "      <th></th>\n",
              "      <th></th>\n",
              "      <th></th>\n",
              "      <th></th>\n",
              "      <th></th>\n",
              "      <th></th>\n",
              "      <th></th>\n",
              "      <th></th>\n",
              "      <th></th>\n",
              "      <th></th>\n",
              "      <th></th>\n",
              "      <th></th>\n",
              "      <th></th>\n",
              "      <th></th>\n",
              "      <th></th>\n",
              "    </tr>\n",
              "  </thead>\n",
              "  <tbody>\n",
              "    <tr>\n",
              "      <th>0</th>\n",
              "      <td>9.77</td>\n",
              "      <td>10.12</td>\n",
              "      <td>9.87</td>\n",
              "      <td>10.51</td>\n",
              "      <td>9.05</td>\n",
              "      <td>9.93</td>\n",
              "      <td>9.03</td>\n",
              "      <td>8.92</td>\n",
              "      <td>8.55</td>\n",
              "      <td>9.29</td>\n",
              "      <td>...</td>\n",
              "      <td>7.78</td>\n",
              "      <td>8.11</td>\n",
              "      <td>7.99</td>\n",
              "      <td>10.95</td>\n",
              "      <td>10.12</td>\n",
              "      <td>9.91</td>\n",
              "      <td>8.53</td>\n",
              "      <td>8.31</td>\n",
              "      <td>7.97</td>\n",
              "      <td>7.52</td>\n",
              "    </tr>\n",
              "    <tr>\n",
              "      <th>1</th>\n",
              "      <td>5.88</td>\n",
              "      <td>6.01</td>\n",
              "      <td>5.79</td>\n",
              "      <td>5.75</td>\n",
              "      <td>5.81</td>\n",
              "      <td>6.29</td>\n",
              "      <td>6.17</td>\n",
              "      <td>5.45</td>\n",
              "      <td>5.17</td>\n",
              "      <td>5.61</td>\n",
              "      <td>...</td>\n",
              "      <td>5.84</td>\n",
              "      <td>4.81</td>\n",
              "      <td>5.71</td>\n",
              "      <td>6.48</td>\n",
              "      <td>5.96</td>\n",
              "      <td>5.95</td>\n",
              "      <td>5.75</td>\n",
              "      <td>5.57</td>\n",
              "      <td>5.26</td>\n",
              "      <td>5.13</td>\n",
              "    </tr>\n",
              "  </tbody>\n",
              "</table>\n",
              "<p>2 rows × 22 columns</p>\n",
              "</div>"
            ],
            "text/plain": [
              "         2013-februari  2013-agustus  2014-februari  2014-agustus  \\\n",
              "cluster                                                             \n",
              "0                 9.77         10.12           9.87         10.51   \n",
              "1                 5.88          6.01           5.79          5.75   \n",
              "\n",
              "         2015-februari  2015-agustus  2016-februari  2016-agustus  \\\n",
              "cluster                                                             \n",
              "0                 9.05          9.93           9.03          8.92   \n",
              "1                 5.81          6.29           6.17          5.45   \n",
              "\n",
              "         2017-februari  2017-agustus  ...  2019-februari  2019-agustus  \\\n",
              "cluster                               ...                                \n",
              "0                 8.55          9.29  ...           7.78          8.11   \n",
              "1                 5.17          5.61  ...           5.84          4.81   \n",
              "\n",
              "         2020-februari  2020-agustus  2021-februari  2021-agustus  \\\n",
              "cluster                                                             \n",
              "0                 7.99         10.95          10.12          9.91   \n",
              "1                 5.71          6.48           5.96          5.95   \n",
              "\n",
              "         2022-februari  2022-agustus  2023-februari  2023-agustus  \n",
              "cluster                                                            \n",
              "0                 8.53          8.31           7.97          7.52  \n",
              "1                 5.75          5.57           5.26          5.13  \n",
              "\n",
              "[2 rows x 22 columns]"
            ]
          },
          "execution_count": 95,
          "metadata": {},
          "output_type": "execute_result"
        }
      ],
      "source": [
        "clus_des = clus_col.columns.tolist()\n",
        "df.groupby('cluster')[clus_des].max()"
      ]
    },
    {
      "cell_type": "code",
      "execution_count": 96,
      "metadata": {},
      "outputs": [
        {
          "data": {
            "text/html": [
              "<div>\n",
              "<style scoped>\n",
              "    .dataframe tbody tr th:only-of-type {\n",
              "        vertical-align: middle;\n",
              "    }\n",
              "\n",
              "    .dataframe tbody tr th {\n",
              "        vertical-align: top;\n",
              "    }\n",
              "\n",
              "    .dataframe thead th {\n",
              "        text-align: right;\n",
              "    }\n",
              "</style>\n",
              "<table border=\"1\" class=\"dataframe\">\n",
              "  <thead>\n",
              "    <tr style=\"text-align: right;\">\n",
              "      <th></th>\n",
              "      <th>2013-februari</th>\n",
              "      <th>2013-agustus</th>\n",
              "      <th>2014-februari</th>\n",
              "      <th>2014-agustus</th>\n",
              "      <th>2015-februari</th>\n",
              "      <th>2015-agustus</th>\n",
              "      <th>2016-februari</th>\n",
              "      <th>2016-agustus</th>\n",
              "      <th>2017-februari</th>\n",
              "      <th>2017-agustus</th>\n",
              "      <th>...</th>\n",
              "      <th>2019-februari</th>\n",
              "      <th>2019-agustus</th>\n",
              "      <th>2020-februari</th>\n",
              "      <th>2020-agustus</th>\n",
              "      <th>2021-februari</th>\n",
              "      <th>2021-agustus</th>\n",
              "      <th>2022-februari</th>\n",
              "      <th>2022-agustus</th>\n",
              "      <th>2023-februari</th>\n",
              "      <th>2023-agustus</th>\n",
              "    </tr>\n",
              "    <tr>\n",
              "      <th>cluster</th>\n",
              "      <th></th>\n",
              "      <th></th>\n",
              "      <th></th>\n",
              "      <th></th>\n",
              "      <th></th>\n",
              "      <th></th>\n",
              "      <th></th>\n",
              "      <th></th>\n",
              "      <th></th>\n",
              "      <th></th>\n",
              "      <th></th>\n",
              "      <th></th>\n",
              "      <th></th>\n",
              "      <th></th>\n",
              "      <th></th>\n",
              "      <th></th>\n",
              "      <th></th>\n",
              "      <th></th>\n",
              "      <th></th>\n",
              "      <th></th>\n",
              "      <th></th>\n",
              "    </tr>\n",
              "  </thead>\n",
              "  <tbody>\n",
              "    <tr>\n",
              "      <th>0</th>\n",
              "      <td>7.260000</td>\n",
              "      <td>7.590000</td>\n",
              "      <td>7.007500</td>\n",
              "      <td>7.620000</td>\n",
              "      <td>7.367500</td>\n",
              "      <td>8.133333</td>\n",
              "      <td>7.256667</td>\n",
              "      <td>7.182500</td>\n",
              "      <td>6.946667</td>\n",
              "      <td>7.136667</td>\n",
              "      <td>...</td>\n",
              "      <td>6.156667</td>\n",
              "      <td>6.496667</td>\n",
              "      <td>6.055000</td>\n",
              "      <td>8.141667</td>\n",
              "      <td>7.291667</td>\n",
              "      <td>7.286667</td>\n",
              "      <td>6.700833</td>\n",
              "      <td>6.613333</td>\n",
              "      <td>6.362500</td>\n",
              "      <td>6.123333</td>\n",
              "    </tr>\n",
              "    <tr>\n",
              "      <th>1</th>\n",
              "      <td>3.726364</td>\n",
              "      <td>4.117727</td>\n",
              "      <td>3.359545</td>\n",
              "      <td>4.191364</td>\n",
              "      <td>3.910455</td>\n",
              "      <td>4.805455</td>\n",
              "      <td>3.855455</td>\n",
              "      <td>3.793636</td>\n",
              "      <td>3.679545</td>\n",
              "      <td>3.992273</td>\n",
              "      <td>...</td>\n",
              "      <td>3.459091</td>\n",
              "      <td>3.739091</td>\n",
              "      <td>3.593636</td>\n",
              "      <td>4.883636</td>\n",
              "      <td>4.529545</td>\n",
              "      <td>4.513182</td>\n",
              "      <td>4.262273</td>\n",
              "      <td>4.067727</td>\n",
              "      <td>3.956364</td>\n",
              "      <td>3.790455</td>\n",
              "    </tr>\n",
              "  </tbody>\n",
              "</table>\n",
              "<p>2 rows × 22 columns</p>\n",
              "</div>"
            ],
            "text/plain": [
              "         2013-februari  2013-agustus  2014-februari  2014-agustus  \\\n",
              "cluster                                                             \n",
              "0             7.260000      7.590000       7.007500      7.620000   \n",
              "1             3.726364      4.117727       3.359545      4.191364   \n",
              "\n",
              "         2015-februari  2015-agustus  2016-februari  2016-agustus  \\\n",
              "cluster                                                             \n",
              "0             7.367500      8.133333       7.256667      7.182500   \n",
              "1             3.910455      4.805455       3.855455      3.793636   \n",
              "\n",
              "         2017-februari  2017-agustus  ...  2019-februari  2019-agustus  \\\n",
              "cluster                               ...                                \n",
              "0             6.946667      7.136667  ...       6.156667      6.496667   \n",
              "1             3.679545      3.992273  ...       3.459091      3.739091   \n",
              "\n",
              "         2020-februari  2020-agustus  2021-februari  2021-agustus  \\\n",
              "cluster                                                             \n",
              "0             6.055000      8.141667       7.291667      7.286667   \n",
              "1             3.593636      4.883636       4.529545      4.513182   \n",
              "\n",
              "         2022-februari  2022-agustus  2023-februari  2023-agustus  \n",
              "cluster                                                            \n",
              "0             6.700833      6.613333       6.362500      6.123333  \n",
              "1             4.262273      4.067727       3.956364      3.790455  \n",
              "\n",
              "[2 rows x 22 columns]"
            ]
          },
          "execution_count": 96,
          "metadata": {},
          "output_type": "execute_result"
        }
      ],
      "source": [
        "clus_des = clus_col.columns.tolist()\n",
        "df.groupby('cluster')[clus_des].mean()"
      ]
    },
    {
      "cell_type": "code",
      "execution_count": 97,
      "metadata": {},
      "outputs": [
        {
          "name": "stdout",
          "output_type": "stream",
          "text": [
            "            provinsi  cluster\n",
            "0               ACEH        0\n",
            "1     SUMATERA UTARA        0\n",
            "2     SUMATERA BARAT        0\n",
            "3               RIAU        0\n",
            "9     KEPULAUAN RIAU        0\n",
            "10       DKI JAKARTA        0\n",
            "11        JAWA BARAT        0\n",
            "15            BANTEN        0\n",
            "22  KALIMANTAN TIMUR        0\n",
            "24    SULAWESI UTARA        0\n",
            "30            MALUKU        0\n",
            "32       PAPUA BARAT        0\n"
          ]
        }
      ],
      "source": [
        "cluster_0 = df[df['cluster'] == 0]\n",
        "print(cluster_0[['provinsi', 'cluster']])"
      ]
    },
    {
      "cell_type": "code",
      "execution_count": 98,
      "metadata": {},
      "outputs": [
        {
          "name": "stdout",
          "output_type": "stream",
          "text": [
            "                     provinsi  cluster\n",
            "4                       JAMBI        1\n",
            "5            SUMATERA SELATAN        1\n",
            "6                    BENGKULU        1\n",
            "7                     LAMPUNG        1\n",
            "8   KEPULAUAN BANGKA BELITUNG        1\n",
            "12                JAWA TENGAH        1\n",
            "13              DI YOGYAKARTA        1\n",
            "14                 JAWA TIMUR        1\n",
            "16                       BALI        1\n",
            "17        NUSA TENGGARA BARAT        1\n",
            "18        NUSA TENGGARA TIMUR        1\n",
            "19           KALIMANTAN BARAT        1\n",
            "20          KALIMANTAN TENGAH        1\n",
            "21         KALIMANTAN SELATAN        1\n",
            "23           KALIMANTAN UTARA        1\n",
            "25            SULAWESI TENGAH        1\n",
            "26           SULAWESI SELATAN        1\n",
            "27          SULAWESI TENGGARA        1\n",
            "28                  GORONTALO        1\n",
            "29             SULAWESI BARAT        1\n",
            "31               MALUKU UTARA        1\n",
            "33                      PAPUA        1\n"
          ]
        }
      ],
      "source": [
        "cluster_1 = df[df['cluster'] == 1]\n",
        "print(cluster_1[['provinsi', 'cluster']])"
      ]
    },
    {
      "cell_type": "code",
      "execution_count": 99,
      "metadata": {},
      "outputs": [
        {
          "data": {
            "text/html": [
              "<div>\n",
              "<style scoped>\n",
              "    .dataframe tbody tr th:only-of-type {\n",
              "        vertical-align: middle;\n",
              "    }\n",
              "\n",
              "    .dataframe tbody tr th {\n",
              "        vertical-align: top;\n",
              "    }\n",
              "\n",
              "    .dataframe thead th {\n",
              "        text-align: right;\n",
              "    }\n",
              "</style>\n",
              "<table border=\"1\" class=\"dataframe\">\n",
              "  <thead>\n",
              "    <tr style=\"text-align: right;\">\n",
              "      <th></th>\n",
              "      <th>provinsi</th>\n",
              "      <th>2013-februari</th>\n",
              "      <th>2013-agustus</th>\n",
              "      <th>2014-februari</th>\n",
              "      <th>2014-agustus</th>\n",
              "      <th>2015-februari</th>\n",
              "      <th>2015-agustus</th>\n",
              "      <th>2016-februari</th>\n",
              "      <th>2016-agustus</th>\n",
              "      <th>2017-februari</th>\n",
              "      <th>...</th>\n",
              "      <th>2020-februari</th>\n",
              "      <th>2020-agustus</th>\n",
              "      <th>2021-februari</th>\n",
              "      <th>2021-agustus</th>\n",
              "      <th>2022-februari</th>\n",
              "      <th>2022-agustus</th>\n",
              "      <th>2023-februari</th>\n",
              "      <th>2023-agustus</th>\n",
              "      <th>cluster</th>\n",
              "      <th>label</th>\n",
              "    </tr>\n",
              "  </thead>\n",
              "  <tbody>\n",
              "    <tr>\n",
              "      <th>0</th>\n",
              "      <td>ACEH</td>\n",
              "      <td>8.34</td>\n",
              "      <td>10.12</td>\n",
              "      <td>6.75</td>\n",
              "      <td>9.02</td>\n",
              "      <td>7.73</td>\n",
              "      <td>9.93</td>\n",
              "      <td>8.13</td>\n",
              "      <td>7.57</td>\n",
              "      <td>7.39</td>\n",
              "      <td>...</td>\n",
              "      <td>5.40</td>\n",
              "      <td>6.59</td>\n",
              "      <td>6.30</td>\n",
              "      <td>6.30</td>\n",
              "      <td>5.97</td>\n",
              "      <td>6.17</td>\n",
              "      <td>5.75</td>\n",
              "      <td>6.03</td>\n",
              "      <td>0</td>\n",
              "      <td>Tinggi</td>\n",
              "    </tr>\n",
              "    <tr>\n",
              "      <th>1</th>\n",
              "      <td>SUMATERA UTARA</td>\n",
              "      <td>6.09</td>\n",
              "      <td>6.45</td>\n",
              "      <td>5.95</td>\n",
              "      <td>6.23</td>\n",
              "      <td>6.39</td>\n",
              "      <td>6.71</td>\n",
              "      <td>6.49</td>\n",
              "      <td>5.84</td>\n",
              "      <td>6.41</td>\n",
              "      <td>...</td>\n",
              "      <td>4.71</td>\n",
              "      <td>6.91</td>\n",
              "      <td>6.01</td>\n",
              "      <td>6.33</td>\n",
              "      <td>5.47</td>\n",
              "      <td>6.16</td>\n",
              "      <td>5.24</td>\n",
              "      <td>5.89</td>\n",
              "      <td>0</td>\n",
              "      <td>Tinggi</td>\n",
              "    </tr>\n",
              "    <tr>\n",
              "      <th>2</th>\n",
              "      <td>SUMATERA BARAT</td>\n",
              "      <td>6.39</td>\n",
              "      <td>7.02</td>\n",
              "      <td>6.32</td>\n",
              "      <td>6.50</td>\n",
              "      <td>5.99</td>\n",
              "      <td>6.89</td>\n",
              "      <td>5.81</td>\n",
              "      <td>5.09</td>\n",
              "      <td>5.80</td>\n",
              "      <td>...</td>\n",
              "      <td>5.25</td>\n",
              "      <td>6.88</td>\n",
              "      <td>6.67</td>\n",
              "      <td>6.52</td>\n",
              "      <td>6.17</td>\n",
              "      <td>6.28</td>\n",
              "      <td>5.90</td>\n",
              "      <td>5.94</td>\n",
              "      <td>0</td>\n",
              "      <td>Tinggi</td>\n",
              "    </tr>\n",
              "    <tr>\n",
              "      <th>3</th>\n",
              "      <td>RIAU</td>\n",
              "      <td>4.19</td>\n",
              "      <td>5.48</td>\n",
              "      <td>4.99</td>\n",
              "      <td>6.56</td>\n",
              "      <td>6.72</td>\n",
              "      <td>7.83</td>\n",
              "      <td>5.94</td>\n",
              "      <td>7.43</td>\n",
              "      <td>5.76</td>\n",
              "      <td>...</td>\n",
              "      <td>4.92</td>\n",
              "      <td>6.32</td>\n",
              "      <td>4.96</td>\n",
              "      <td>4.42</td>\n",
              "      <td>4.40</td>\n",
              "      <td>4.37</td>\n",
              "      <td>4.25</td>\n",
              "      <td>4.23</td>\n",
              "      <td>0</td>\n",
              "      <td>Tinggi</td>\n",
              "    </tr>\n",
              "    <tr>\n",
              "      <th>4</th>\n",
              "      <td>JAMBI</td>\n",
              "      <td>2.89</td>\n",
              "      <td>4.76</td>\n",
              "      <td>2.50</td>\n",
              "      <td>5.08</td>\n",
              "      <td>2.73</td>\n",
              "      <td>4.34</td>\n",
              "      <td>4.66</td>\n",
              "      <td>4.00</td>\n",
              "      <td>3.67</td>\n",
              "      <td>...</td>\n",
              "      <td>4.26</td>\n",
              "      <td>5.13</td>\n",
              "      <td>4.76</td>\n",
              "      <td>5.09</td>\n",
              "      <td>4.70</td>\n",
              "      <td>4.59</td>\n",
              "      <td>4.50</td>\n",
              "      <td>4.53</td>\n",
              "      <td>1</td>\n",
              "      <td>Rendah</td>\n",
              "    </tr>\n",
              "    <tr>\n",
              "      <th>5</th>\n",
              "      <td>SUMATERA SELATAN</td>\n",
              "      <td>5.41</td>\n",
              "      <td>4.84</td>\n",
              "      <td>3.84</td>\n",
              "      <td>4.96</td>\n",
              "      <td>5.03</td>\n",
              "      <td>6.07</td>\n",
              "      <td>3.94</td>\n",
              "      <td>4.31</td>\n",
              "      <td>3.80</td>\n",
              "      <td>...</td>\n",
              "      <td>3.90</td>\n",
              "      <td>5.51</td>\n",
              "      <td>5.17</td>\n",
              "      <td>4.98</td>\n",
              "      <td>4.74</td>\n",
              "      <td>4.63</td>\n",
              "      <td>4.53</td>\n",
              "      <td>4.11</td>\n",
              "      <td>1</td>\n",
              "      <td>Rendah</td>\n",
              "    </tr>\n",
              "    <tr>\n",
              "      <th>6</th>\n",
              "      <td>BENGKULU</td>\n",
              "      <td>2.10</td>\n",
              "      <td>4.61</td>\n",
              "      <td>1.62</td>\n",
              "      <td>3.47</td>\n",
              "      <td>3.21</td>\n",
              "      <td>4.91</td>\n",
              "      <td>3.84</td>\n",
              "      <td>3.30</td>\n",
              "      <td>2.81</td>\n",
              "      <td>...</td>\n",
              "      <td>3.08</td>\n",
              "      <td>4.07</td>\n",
              "      <td>3.72</td>\n",
              "      <td>3.65</td>\n",
              "      <td>3.39</td>\n",
              "      <td>3.59</td>\n",
              "      <td>3.21</td>\n",
              "      <td>3.42</td>\n",
              "      <td>1</td>\n",
              "      <td>Rendah</td>\n",
              "    </tr>\n",
              "    <tr>\n",
              "      <th>7</th>\n",
              "      <td>LAMPUNG</td>\n",
              "      <td>5.07</td>\n",
              "      <td>5.69</td>\n",
              "      <td>5.08</td>\n",
              "      <td>4.79</td>\n",
              "      <td>3.44</td>\n",
              "      <td>5.14</td>\n",
              "      <td>4.54</td>\n",
              "      <td>4.62</td>\n",
              "      <td>4.43</td>\n",
              "      <td>...</td>\n",
              "      <td>4.26</td>\n",
              "      <td>4.67</td>\n",
              "      <td>4.54</td>\n",
              "      <td>4.69</td>\n",
              "      <td>4.31</td>\n",
              "      <td>4.52</td>\n",
              "      <td>4.18</td>\n",
              "      <td>4.23</td>\n",
              "      <td>1</td>\n",
              "      <td>Rendah</td>\n",
              "    </tr>\n",
              "    <tr>\n",
              "      <th>8</th>\n",
              "      <td>KEPULAUAN BANGKA BELITUNG</td>\n",
              "      <td>3.22</td>\n",
              "      <td>3.65</td>\n",
              "      <td>2.67</td>\n",
              "      <td>5.14</td>\n",
              "      <td>3.35</td>\n",
              "      <td>6.29</td>\n",
              "      <td>6.17</td>\n",
              "      <td>2.60</td>\n",
              "      <td>4.46</td>\n",
              "      <td>...</td>\n",
              "      <td>3.35</td>\n",
              "      <td>5.25</td>\n",
              "      <td>5.04</td>\n",
              "      <td>5.03</td>\n",
              "      <td>4.18</td>\n",
              "      <td>4.77</td>\n",
              "      <td>3.89</td>\n",
              "      <td>4.56</td>\n",
              "      <td>1</td>\n",
              "      <td>Rendah</td>\n",
              "    </tr>\n",
              "    <tr>\n",
              "      <th>9</th>\n",
              "      <td>KEPULAUAN RIAU</td>\n",
              "      <td>6.05</td>\n",
              "      <td>5.63</td>\n",
              "      <td>5.26</td>\n",
              "      <td>6.69</td>\n",
              "      <td>9.05</td>\n",
              "      <td>6.20</td>\n",
              "      <td>9.03</td>\n",
              "      <td>7.69</td>\n",
              "      <td>6.44</td>\n",
              "      <td>...</td>\n",
              "      <td>5.98</td>\n",
              "      <td>10.34</td>\n",
              "      <td>10.12</td>\n",
              "      <td>9.91</td>\n",
              "      <td>8.02</td>\n",
              "      <td>8.23</td>\n",
              "      <td>7.61</td>\n",
              "      <td>6.80</td>\n",
              "      <td>0</td>\n",
              "      <td>Tinggi</td>\n",
              "    </tr>\n",
              "    <tr>\n",
              "      <th>10</th>\n",
              "      <td>DKI JAKARTA</td>\n",
              "      <td>9.64</td>\n",
              "      <td>8.63</td>\n",
              "      <td>9.84</td>\n",
              "      <td>8.47</td>\n",
              "      <td>8.36</td>\n",
              "      <td>7.23</td>\n",
              "      <td>5.77</td>\n",
              "      <td>6.12</td>\n",
              "      <td>5.36</td>\n",
              "      <td>...</td>\n",
              "      <td>5.15</td>\n",
              "      <td>10.95</td>\n",
              "      <td>8.51</td>\n",
              "      <td>8.50</td>\n",
              "      <td>8.00</td>\n",
              "      <td>7.18</td>\n",
              "      <td>7.57</td>\n",
              "      <td>6.53</td>\n",
              "      <td>0</td>\n",
              "      <td>Tinggi</td>\n",
              "    </tr>\n",
              "    <tr>\n",
              "      <th>11</th>\n",
              "      <td>JAWA BARAT</td>\n",
              "      <td>8.88</td>\n",
              "      <td>9.16</td>\n",
              "      <td>8.66</td>\n",
              "      <td>8.45</td>\n",
              "      <td>8.40</td>\n",
              "      <td>8.72</td>\n",
              "      <td>8.57</td>\n",
              "      <td>8.89</td>\n",
              "      <td>8.49</td>\n",
              "      <td>...</td>\n",
              "      <td>7.71</td>\n",
              "      <td>10.46</td>\n",
              "      <td>8.92</td>\n",
              "      <td>9.82</td>\n",
              "      <td>8.35</td>\n",
              "      <td>8.31</td>\n",
              "      <td>7.89</td>\n",
              "      <td>7.44</td>\n",
              "      <td>0</td>\n",
              "      <td>Tinggi</td>\n",
              "    </tr>\n",
              "    <tr>\n",
              "      <th>12</th>\n",
              "      <td>JAWA TENGAH</td>\n",
              "      <td>5.53</td>\n",
              "      <td>6.01</td>\n",
              "      <td>5.45</td>\n",
              "      <td>5.68</td>\n",
              "      <td>5.31</td>\n",
              "      <td>4.99</td>\n",
              "      <td>4.20</td>\n",
              "      <td>4.63</td>\n",
              "      <td>4.15</td>\n",
              "      <td>...</td>\n",
              "      <td>4.20</td>\n",
              "      <td>6.48</td>\n",
              "      <td>5.96</td>\n",
              "      <td>5.95</td>\n",
              "      <td>5.75</td>\n",
              "      <td>5.57</td>\n",
              "      <td>5.24</td>\n",
              "      <td>5.13</td>\n",
              "      <td>1</td>\n",
              "      <td>Rendah</td>\n",
              "    </tr>\n",
              "    <tr>\n",
              "      <th>13</th>\n",
              "      <td>DI YOGYAKARTA</td>\n",
              "      <td>3.75</td>\n",
              "      <td>3.24</td>\n",
              "      <td>2.16</td>\n",
              "      <td>3.33</td>\n",
              "      <td>4.07</td>\n",
              "      <td>4.07</td>\n",
              "      <td>2.81</td>\n",
              "      <td>2.72</td>\n",
              "      <td>2.84</td>\n",
              "      <td>...</td>\n",
              "      <td>3.38</td>\n",
              "      <td>4.57</td>\n",
              "      <td>4.28</td>\n",
              "      <td>4.56</td>\n",
              "      <td>3.73</td>\n",
              "      <td>4.06</td>\n",
              "      <td>3.58</td>\n",
              "      <td>3.69</td>\n",
              "      <td>1</td>\n",
              "      <td>Rendah</td>\n",
              "    </tr>\n",
              "    <tr>\n",
              "      <th>14</th>\n",
              "      <td>JAWA TIMUR</td>\n",
              "      <td>3.97</td>\n",
              "      <td>4.30</td>\n",
              "      <td>4.02</td>\n",
              "      <td>4.19</td>\n",
              "      <td>4.31</td>\n",
              "      <td>4.47</td>\n",
              "      <td>4.14</td>\n",
              "      <td>4.21</td>\n",
              "      <td>4.10</td>\n",
              "      <td>...</td>\n",
              "      <td>3.60</td>\n",
              "      <td>5.84</td>\n",
              "      <td>5.17</td>\n",
              "      <td>5.74</td>\n",
              "      <td>4.81</td>\n",
              "      <td>5.49</td>\n",
              "      <td>4.33</td>\n",
              "      <td>4.88</td>\n",
              "      <td>1</td>\n",
              "      <td>Rendah</td>\n",
              "    </tr>\n",
              "    <tr>\n",
              "      <th>15</th>\n",
              "      <td>BANTEN</td>\n",
              "      <td>9.77</td>\n",
              "      <td>9.54</td>\n",
              "      <td>9.87</td>\n",
              "      <td>9.07</td>\n",
              "      <td>8.58</td>\n",
              "      <td>9.55</td>\n",
              "      <td>7.95</td>\n",
              "      <td>8.92</td>\n",
              "      <td>7.75</td>\n",
              "      <td>...</td>\n",
              "      <td>7.99</td>\n",
              "      <td>10.64</td>\n",
              "      <td>9.01</td>\n",
              "      <td>8.98</td>\n",
              "      <td>8.53</td>\n",
              "      <td>8.09</td>\n",
              "      <td>7.97</td>\n",
              "      <td>7.52</td>\n",
              "      <td>0</td>\n",
              "      <td>Tinggi</td>\n",
              "    </tr>\n",
              "    <tr>\n",
              "      <th>16</th>\n",
              "      <td>BALI</td>\n",
              "      <td>1.93</td>\n",
              "      <td>1.83</td>\n",
              "      <td>1.37</td>\n",
              "      <td>1.90</td>\n",
              "      <td>1.37</td>\n",
              "      <td>1.99</td>\n",
              "      <td>2.12</td>\n",
              "      <td>1.89</td>\n",
              "      <td>1.28</td>\n",
              "      <td>...</td>\n",
              "      <td>1.25</td>\n",
              "      <td>5.63</td>\n",
              "      <td>5.42</td>\n",
              "      <td>5.37</td>\n",
              "      <td>4.84</td>\n",
              "      <td>4.80</td>\n",
              "      <td>3.73</td>\n",
              "      <td>2.69</td>\n",
              "      <td>1</td>\n",
              "      <td>Rendah</td>\n",
              "    </tr>\n",
              "    <tr>\n",
              "      <th>17</th>\n",
              "      <td>NUSA TENGGARA BARAT</td>\n",
              "      <td>5.28</td>\n",
              "      <td>5.30</td>\n",
              "      <td>5.30</td>\n",
              "      <td>5.75</td>\n",
              "      <td>4.98</td>\n",
              "      <td>5.69</td>\n",
              "      <td>3.66</td>\n",
              "      <td>3.94</td>\n",
              "      <td>3.86</td>\n",
              "      <td>...</td>\n",
              "      <td>3.04</td>\n",
              "      <td>4.22</td>\n",
              "      <td>3.97</td>\n",
              "      <td>3.01</td>\n",
              "      <td>3.92</td>\n",
              "      <td>2.89</td>\n",
              "      <td>3.73</td>\n",
              "      <td>2.80</td>\n",
              "      <td>1</td>\n",
              "      <td>Rendah</td>\n",
              "    </tr>\n",
              "    <tr>\n",
              "      <th>18</th>\n",
              "      <td>NUSA TENGGARA TIMUR</td>\n",
              "      <td>2.12</td>\n",
              "      <td>3.25</td>\n",
              "      <td>1.97</td>\n",
              "      <td>3.26</td>\n",
              "      <td>3.12</td>\n",
              "      <td>3.83</td>\n",
              "      <td>3.59</td>\n",
              "      <td>3.25</td>\n",
              "      <td>3.21</td>\n",
              "      <td>...</td>\n",
              "      <td>2.64</td>\n",
              "      <td>4.28</td>\n",
              "      <td>3.38</td>\n",
              "      <td>3.77</td>\n",
              "      <td>3.30</td>\n",
              "      <td>3.54</td>\n",
              "      <td>3.10</td>\n",
              "      <td>3.14</td>\n",
              "      <td>1</td>\n",
              "      <td>Rendah</td>\n",
              "    </tr>\n",
              "    <tr>\n",
              "      <th>19</th>\n",
              "      <td>KALIMANTAN BARAT</td>\n",
              "      <td>3.13</td>\n",
              "      <td>3.99</td>\n",
              "      <td>2.53</td>\n",
              "      <td>4.04</td>\n",
              "      <td>4.78</td>\n",
              "      <td>5.15</td>\n",
              "      <td>4.58</td>\n",
              "      <td>4.23</td>\n",
              "      <td>4.22</td>\n",
              "      <td>...</td>\n",
              "      <td>4.47</td>\n",
              "      <td>5.81</td>\n",
              "      <td>5.73</td>\n",
              "      <td>5.82</td>\n",
              "      <td>4.86</td>\n",
              "      <td>5.11</td>\n",
              "      <td>4.52</td>\n",
              "      <td>5.05</td>\n",
              "      <td>1</td>\n",
              "      <td>Rendah</td>\n",
              "    </tr>\n",
              "    <tr>\n",
              "      <th>20</th>\n",
              "      <td>KALIMANTAN TENGAH</td>\n",
              "      <td>1.81</td>\n",
              "      <td>3.00</td>\n",
              "      <td>2.71</td>\n",
              "      <td>3.24</td>\n",
              "      <td>3.14</td>\n",
              "      <td>4.54</td>\n",
              "      <td>3.67</td>\n",
              "      <td>4.82</td>\n",
              "      <td>3.13</td>\n",
              "      <td>...</td>\n",
              "      <td>3.33</td>\n",
              "      <td>4.58</td>\n",
              "      <td>4.25</td>\n",
              "      <td>4.53</td>\n",
              "      <td>4.20</td>\n",
              "      <td>4.26</td>\n",
              "      <td>3.84</td>\n",
              "      <td>4.10</td>\n",
              "      <td>1</td>\n",
              "      <td>Rendah</td>\n",
              "    </tr>\n",
              "    <tr>\n",
              "      <th>21</th>\n",
              "      <td>KALIMANTAN SELATAN</td>\n",
              "      <td>3.88</td>\n",
              "      <td>3.66</td>\n",
              "      <td>4.03</td>\n",
              "      <td>3.80</td>\n",
              "      <td>4.83</td>\n",
              "      <td>4.92</td>\n",
              "      <td>3.63</td>\n",
              "      <td>5.45</td>\n",
              "      <td>3.53</td>\n",
              "      <td>...</td>\n",
              "      <td>3.67</td>\n",
              "      <td>4.74</td>\n",
              "      <td>4.33</td>\n",
              "      <td>4.95</td>\n",
              "      <td>4.20</td>\n",
              "      <td>4.74</td>\n",
              "      <td>3.95</td>\n",
              "      <td>4.31</td>\n",
              "      <td>1</td>\n",
              "      <td>Rendah</td>\n",
              "    </tr>\n",
              "    <tr>\n",
              "      <th>22</th>\n",
              "      <td>KALIMANTAN TIMUR</td>\n",
              "      <td>8.94</td>\n",
              "      <td>7.95</td>\n",
              "      <td>8.89</td>\n",
              "      <td>7.38</td>\n",
              "      <td>7.17</td>\n",
              "      <td>7.50</td>\n",
              "      <td>8.86</td>\n",
              "      <td>7.95</td>\n",
              "      <td>8.55</td>\n",
              "      <td>...</td>\n",
              "      <td>6.72</td>\n",
              "      <td>6.87</td>\n",
              "      <td>6.81</td>\n",
              "      <td>6.83</td>\n",
              "      <td>6.77</td>\n",
              "      <td>5.71</td>\n",
              "      <td>6.37</td>\n",
              "      <td>5.31</td>\n",
              "      <td>0</td>\n",
              "      <td>Tinggi</td>\n",
              "    </tr>\n",
              "    <tr>\n",
              "      <th>23</th>\n",
              "      <td>KALIMANTAN UTARA</td>\n",
              "      <td>4.97</td>\n",
              "      <td>5.34</td>\n",
              "      <td>4.65</td>\n",
              "      <td>5.40</td>\n",
              "      <td>5.79</td>\n",
              "      <td>5.68</td>\n",
              "      <td>3.92</td>\n",
              "      <td>5.23</td>\n",
              "      <td>5.17</td>\n",
              "      <td>...</td>\n",
              "      <td>5.71</td>\n",
              "      <td>4.97</td>\n",
              "      <td>4.67</td>\n",
              "      <td>4.58</td>\n",
              "      <td>4.62</td>\n",
              "      <td>4.33</td>\n",
              "      <td>4.10</td>\n",
              "      <td>4.01</td>\n",
              "      <td>1</td>\n",
              "      <td>Rendah</td>\n",
              "    </tr>\n",
              "    <tr>\n",
              "      <th>24</th>\n",
              "      <td>SULAWESI UTARA</td>\n",
              "      <td>7.50</td>\n",
              "      <td>6.79</td>\n",
              "      <td>7.27</td>\n",
              "      <td>7.54</td>\n",
              "      <td>8.69</td>\n",
              "      <td>9.03</td>\n",
              "      <td>7.82</td>\n",
              "      <td>6.18</td>\n",
              "      <td>6.12</td>\n",
              "      <td>...</td>\n",
              "      <td>5.34</td>\n",
              "      <td>7.37</td>\n",
              "      <td>7.28</td>\n",
              "      <td>7.06</td>\n",
              "      <td>6.51</td>\n",
              "      <td>6.61</td>\n",
              "      <td>6.19</td>\n",
              "      <td>6.10</td>\n",
              "      <td>0</td>\n",
              "      <td>Tinggi</td>\n",
              "    </tr>\n",
              "    <tr>\n",
              "      <th>25</th>\n",
              "      <td>SULAWESI TENGAH</td>\n",
              "      <td>2.67</td>\n",
              "      <td>4.19</td>\n",
              "      <td>2.92</td>\n",
              "      <td>3.68</td>\n",
              "      <td>2.99</td>\n",
              "      <td>4.10</td>\n",
              "      <td>3.46</td>\n",
              "      <td>3.29</td>\n",
              "      <td>2.97</td>\n",
              "      <td>...</td>\n",
              "      <td>2.93</td>\n",
              "      <td>3.77</td>\n",
              "      <td>3.73</td>\n",
              "      <td>3.75</td>\n",
              "      <td>3.67</td>\n",
              "      <td>3.00</td>\n",
              "      <td>3.49</td>\n",
              "      <td>2.95</td>\n",
              "      <td>1</td>\n",
              "      <td>Rendah</td>\n",
              "    </tr>\n",
              "    <tr>\n",
              "      <th>26</th>\n",
              "      <td>SULAWESI SELATAN</td>\n",
              "      <td>5.88</td>\n",
              "      <td>5.10</td>\n",
              "      <td>5.79</td>\n",
              "      <td>5.08</td>\n",
              "      <td>5.81</td>\n",
              "      <td>5.95</td>\n",
              "      <td>5.11</td>\n",
              "      <td>4.80</td>\n",
              "      <td>4.77</td>\n",
              "      <td>...</td>\n",
              "      <td>5.70</td>\n",
              "      <td>6.31</td>\n",
              "      <td>5.79</td>\n",
              "      <td>5.72</td>\n",
              "      <td>5.75</td>\n",
              "      <td>4.51</td>\n",
              "      <td>5.26</td>\n",
              "      <td>4.33</td>\n",
              "      <td>1</td>\n",
              "      <td>Rendah</td>\n",
              "    </tr>\n",
              "    <tr>\n",
              "      <th>27</th>\n",
              "      <td>SULAWESI TENGGARA</td>\n",
              "      <td>3.43</td>\n",
              "      <td>4.38</td>\n",
              "      <td>2.13</td>\n",
              "      <td>4.43</td>\n",
              "      <td>3.62</td>\n",
              "      <td>5.55</td>\n",
              "      <td>3.78</td>\n",
              "      <td>2.72</td>\n",
              "      <td>3.14</td>\n",
              "      <td>...</td>\n",
              "      <td>3.10</td>\n",
              "      <td>4.58</td>\n",
              "      <td>4.22</td>\n",
              "      <td>3.92</td>\n",
              "      <td>3.86</td>\n",
              "      <td>3.36</td>\n",
              "      <td>3.66</td>\n",
              "      <td>3.15</td>\n",
              "      <td>1</td>\n",
              "      <td>Rendah</td>\n",
              "    </tr>\n",
              "    <tr>\n",
              "      <th>28</th>\n",
              "      <td>GORONTALO</td>\n",
              "      <td>4.51</td>\n",
              "      <td>4.15</td>\n",
              "      <td>2.44</td>\n",
              "      <td>4.18</td>\n",
              "      <td>3.06</td>\n",
              "      <td>4.65</td>\n",
              "      <td>3.88</td>\n",
              "      <td>2.76</td>\n",
              "      <td>3.65</td>\n",
              "      <td>...</td>\n",
              "      <td>3.29</td>\n",
              "      <td>4.28</td>\n",
              "      <td>3.41</td>\n",
              "      <td>3.01</td>\n",
              "      <td>3.25</td>\n",
              "      <td>2.58</td>\n",
              "      <td>3.07</td>\n",
              "      <td>3.06</td>\n",
              "      <td>1</td>\n",
              "      <td>Rendah</td>\n",
              "    </tr>\n",
              "    <tr>\n",
              "      <th>29</th>\n",
              "      <td>SULAWESI BARAT</td>\n",
              "      <td>2.02</td>\n",
              "      <td>2.35</td>\n",
              "      <td>1.60</td>\n",
              "      <td>2.08</td>\n",
              "      <td>1.81</td>\n",
              "      <td>3.35</td>\n",
              "      <td>2.72</td>\n",
              "      <td>3.33</td>\n",
              "      <td>2.98</td>\n",
              "      <td>...</td>\n",
              "      <td>2.39</td>\n",
              "      <td>3.32</td>\n",
              "      <td>3.28</td>\n",
              "      <td>3.13</td>\n",
              "      <td>3.11</td>\n",
              "      <td>2.34</td>\n",
              "      <td>3.04</td>\n",
              "      <td>2.27</td>\n",
              "      <td>1</td>\n",
              "      <td>Rendah</td>\n",
              "    </tr>\n",
              "    <tr>\n",
              "      <th>30</th>\n",
              "      <td>MALUKU</td>\n",
              "      <td>6.97</td>\n",
              "      <td>9.91</td>\n",
              "      <td>6.59</td>\n",
              "      <td>10.51</td>\n",
              "      <td>6.72</td>\n",
              "      <td>9.93</td>\n",
              "      <td>6.98</td>\n",
              "      <td>7.05</td>\n",
              "      <td>7.77</td>\n",
              "      <td>...</td>\n",
              "      <td>6.71</td>\n",
              "      <td>7.57</td>\n",
              "      <td>6.73</td>\n",
              "      <td>6.93</td>\n",
              "      <td>6.44</td>\n",
              "      <td>6.88</td>\n",
              "      <td>6.08</td>\n",
              "      <td>6.31</td>\n",
              "      <td>0</td>\n",
              "      <td>Tinggi</td>\n",
              "    </tr>\n",
              "    <tr>\n",
              "      <th>31</th>\n",
              "      <td>MALUKU UTARA</td>\n",
              "      <td>5.50</td>\n",
              "      <td>3.80</td>\n",
              "      <td>5.65</td>\n",
              "      <td>5.29</td>\n",
              "      <td>5.56</td>\n",
              "      <td>6.05</td>\n",
              "      <td>3.43</td>\n",
              "      <td>4.01</td>\n",
              "      <td>4.82</td>\n",
              "      <td>...</td>\n",
              "      <td>4.09</td>\n",
              "      <td>5.15</td>\n",
              "      <td>5.06</td>\n",
              "      <td>4.71</td>\n",
              "      <td>4.98</td>\n",
              "      <td>3.98</td>\n",
              "      <td>4.60</td>\n",
              "      <td>4.31</td>\n",
              "      <td>1</td>\n",
              "      <td>Rendah</td>\n",
              "    </tr>\n",
              "    <tr>\n",
              "      <th>32</th>\n",
              "      <td>PAPUA BARAT</td>\n",
              "      <td>4.36</td>\n",
              "      <td>4.40</td>\n",
              "      <td>3.70</td>\n",
              "      <td>5.02</td>\n",
              "      <td>4.61</td>\n",
              "      <td>8.08</td>\n",
              "      <td>5.73</td>\n",
              "      <td>7.46</td>\n",
              "      <td>7.52</td>\n",
              "      <td>...</td>\n",
              "      <td>6.78</td>\n",
              "      <td>6.80</td>\n",
              "      <td>6.18</td>\n",
              "      <td>5.84</td>\n",
              "      <td>5.78</td>\n",
              "      <td>5.37</td>\n",
              "      <td>5.53</td>\n",
              "      <td>5.38</td>\n",
              "      <td>0</td>\n",
              "      <td>Tinggi</td>\n",
              "    </tr>\n",
              "    <tr>\n",
              "      <th>33</th>\n",
              "      <td>PAPUA</td>\n",
              "      <td>2.91</td>\n",
              "      <td>3.15</td>\n",
              "      <td>3.48</td>\n",
              "      <td>3.44</td>\n",
              "      <td>3.72</td>\n",
              "      <td>3.99</td>\n",
              "      <td>2.97</td>\n",
              "      <td>3.35</td>\n",
              "      <td>3.96</td>\n",
              "      <td>...</td>\n",
              "      <td>3.42</td>\n",
              "      <td>4.28</td>\n",
              "      <td>3.77</td>\n",
              "      <td>3.33</td>\n",
              "      <td>3.60</td>\n",
              "      <td>2.83</td>\n",
              "      <td>3.49</td>\n",
              "      <td>2.67</td>\n",
              "      <td>1</td>\n",
              "      <td>Rendah</td>\n",
              "    </tr>\n",
              "  </tbody>\n",
              "</table>\n",
              "<p>34 rows × 25 columns</p>\n",
              "</div>"
            ],
            "text/plain": [
              "                     provinsi  2013-februari  2013-agustus  2014-februari  \\\n",
              "0                        ACEH           8.34         10.12           6.75   \n",
              "1              SUMATERA UTARA           6.09          6.45           5.95   \n",
              "2              SUMATERA BARAT           6.39          7.02           6.32   \n",
              "3                        RIAU           4.19          5.48           4.99   \n",
              "4                       JAMBI           2.89          4.76           2.50   \n",
              "5            SUMATERA SELATAN           5.41          4.84           3.84   \n",
              "6                    BENGKULU           2.10          4.61           1.62   \n",
              "7                     LAMPUNG           5.07          5.69           5.08   \n",
              "8   KEPULAUAN BANGKA BELITUNG           3.22          3.65           2.67   \n",
              "9              KEPULAUAN RIAU           6.05          5.63           5.26   \n",
              "10                DKI JAKARTA           9.64          8.63           9.84   \n",
              "11                 JAWA BARAT           8.88          9.16           8.66   \n",
              "12                JAWA TENGAH           5.53          6.01           5.45   \n",
              "13              DI YOGYAKARTA           3.75          3.24           2.16   \n",
              "14                 JAWA TIMUR           3.97          4.30           4.02   \n",
              "15                     BANTEN           9.77          9.54           9.87   \n",
              "16                       BALI           1.93          1.83           1.37   \n",
              "17        NUSA TENGGARA BARAT           5.28          5.30           5.30   \n",
              "18        NUSA TENGGARA TIMUR           2.12          3.25           1.97   \n",
              "19           KALIMANTAN BARAT           3.13          3.99           2.53   \n",
              "20          KALIMANTAN TENGAH           1.81          3.00           2.71   \n",
              "21         KALIMANTAN SELATAN           3.88          3.66           4.03   \n",
              "22           KALIMANTAN TIMUR           8.94          7.95           8.89   \n",
              "23           KALIMANTAN UTARA           4.97          5.34           4.65   \n",
              "24             SULAWESI UTARA           7.50          6.79           7.27   \n",
              "25            SULAWESI TENGAH           2.67          4.19           2.92   \n",
              "26           SULAWESI SELATAN           5.88          5.10           5.79   \n",
              "27          SULAWESI TENGGARA           3.43          4.38           2.13   \n",
              "28                  GORONTALO           4.51          4.15           2.44   \n",
              "29             SULAWESI BARAT           2.02          2.35           1.60   \n",
              "30                     MALUKU           6.97          9.91           6.59   \n",
              "31               MALUKU UTARA           5.50          3.80           5.65   \n",
              "32                PAPUA BARAT           4.36          4.40           3.70   \n",
              "33                      PAPUA           2.91          3.15           3.48   \n",
              "\n",
              "    2014-agustus  2015-februari  2015-agustus  2016-februari  2016-agustus  \\\n",
              "0           9.02           7.73          9.93           8.13          7.57   \n",
              "1           6.23           6.39          6.71           6.49          5.84   \n",
              "2           6.50           5.99          6.89           5.81          5.09   \n",
              "3           6.56           6.72          7.83           5.94          7.43   \n",
              "4           5.08           2.73          4.34           4.66          4.00   \n",
              "5           4.96           5.03          6.07           3.94          4.31   \n",
              "6           3.47           3.21          4.91           3.84          3.30   \n",
              "7           4.79           3.44          5.14           4.54          4.62   \n",
              "8           5.14           3.35          6.29           6.17          2.60   \n",
              "9           6.69           9.05          6.20           9.03          7.69   \n",
              "10          8.47           8.36          7.23           5.77          6.12   \n",
              "11          8.45           8.40          8.72           8.57          8.89   \n",
              "12          5.68           5.31          4.99           4.20          4.63   \n",
              "13          3.33           4.07          4.07           2.81          2.72   \n",
              "14          4.19           4.31          4.47           4.14          4.21   \n",
              "15          9.07           8.58          9.55           7.95          8.92   \n",
              "16          1.90           1.37          1.99           2.12          1.89   \n",
              "17          5.75           4.98          5.69           3.66          3.94   \n",
              "18          3.26           3.12          3.83           3.59          3.25   \n",
              "19          4.04           4.78          5.15           4.58          4.23   \n",
              "20          3.24           3.14          4.54           3.67          4.82   \n",
              "21          3.80           4.83          4.92           3.63          5.45   \n",
              "22          7.38           7.17          7.50           8.86          7.95   \n",
              "23          5.40           5.79          5.68           3.92          5.23   \n",
              "24          7.54           8.69          9.03           7.82          6.18   \n",
              "25          3.68           2.99          4.10           3.46          3.29   \n",
              "26          5.08           5.81          5.95           5.11          4.80   \n",
              "27          4.43           3.62          5.55           3.78          2.72   \n",
              "28          4.18           3.06          4.65           3.88          2.76   \n",
              "29          2.08           1.81          3.35           2.72          3.33   \n",
              "30         10.51           6.72          9.93           6.98          7.05   \n",
              "31          5.29           5.56          6.05           3.43          4.01   \n",
              "32          5.02           4.61          8.08           5.73          7.46   \n",
              "33          3.44           3.72          3.99           2.97          3.35   \n",
              "\n",
              "    2017-februari  ...  2020-februari  2020-agustus  2021-februari  \\\n",
              "0            7.39  ...           5.40          6.59           6.30   \n",
              "1            6.41  ...           4.71          6.91           6.01   \n",
              "2            5.80  ...           5.25          6.88           6.67   \n",
              "3            5.76  ...           4.92          6.32           4.96   \n",
              "4            3.67  ...           4.26          5.13           4.76   \n",
              "5            3.80  ...           3.90          5.51           5.17   \n",
              "6            2.81  ...           3.08          4.07           3.72   \n",
              "7            4.43  ...           4.26          4.67           4.54   \n",
              "8            4.46  ...           3.35          5.25           5.04   \n",
              "9            6.44  ...           5.98         10.34          10.12   \n",
              "10           5.36  ...           5.15         10.95           8.51   \n",
              "11           8.49  ...           7.71         10.46           8.92   \n",
              "12           4.15  ...           4.20          6.48           5.96   \n",
              "13           2.84  ...           3.38          4.57           4.28   \n",
              "14           4.10  ...           3.60          5.84           5.17   \n",
              "15           7.75  ...           7.99         10.64           9.01   \n",
              "16           1.28  ...           1.25          5.63           5.42   \n",
              "17           3.86  ...           3.04          4.22           3.97   \n",
              "18           3.21  ...           2.64          4.28           3.38   \n",
              "19           4.22  ...           4.47          5.81           5.73   \n",
              "20           3.13  ...           3.33          4.58           4.25   \n",
              "21           3.53  ...           3.67          4.74           4.33   \n",
              "22           8.55  ...           6.72          6.87           6.81   \n",
              "23           5.17  ...           5.71          4.97           4.67   \n",
              "24           6.12  ...           5.34          7.37           7.28   \n",
              "25           2.97  ...           2.93          3.77           3.73   \n",
              "26           4.77  ...           5.70          6.31           5.79   \n",
              "27           3.14  ...           3.10          4.58           4.22   \n",
              "28           3.65  ...           3.29          4.28           3.41   \n",
              "29           2.98  ...           2.39          3.32           3.28   \n",
              "30           7.77  ...           6.71          7.57           6.73   \n",
              "31           4.82  ...           4.09          5.15           5.06   \n",
              "32           7.52  ...           6.78          6.80           6.18   \n",
              "33           3.96  ...           3.42          4.28           3.77   \n",
              "\n",
              "    2021-agustus  2022-februari  2022-agustus  2023-februari  2023-agustus  \\\n",
              "0           6.30           5.97          6.17           5.75          6.03   \n",
              "1           6.33           5.47          6.16           5.24          5.89   \n",
              "2           6.52           6.17          6.28           5.90          5.94   \n",
              "3           4.42           4.40          4.37           4.25          4.23   \n",
              "4           5.09           4.70          4.59           4.50          4.53   \n",
              "5           4.98           4.74          4.63           4.53          4.11   \n",
              "6           3.65           3.39          3.59           3.21          3.42   \n",
              "7           4.69           4.31          4.52           4.18          4.23   \n",
              "8           5.03           4.18          4.77           3.89          4.56   \n",
              "9           9.91           8.02          8.23           7.61          6.80   \n",
              "10          8.50           8.00          7.18           7.57          6.53   \n",
              "11          9.82           8.35          8.31           7.89          7.44   \n",
              "12          5.95           5.75          5.57           5.24          5.13   \n",
              "13          4.56           3.73          4.06           3.58          3.69   \n",
              "14          5.74           4.81          5.49           4.33          4.88   \n",
              "15          8.98           8.53          8.09           7.97          7.52   \n",
              "16          5.37           4.84          4.80           3.73          2.69   \n",
              "17          3.01           3.92          2.89           3.73          2.80   \n",
              "18          3.77           3.30          3.54           3.10          3.14   \n",
              "19          5.82           4.86          5.11           4.52          5.05   \n",
              "20          4.53           4.20          4.26           3.84          4.10   \n",
              "21          4.95           4.20          4.74           3.95          4.31   \n",
              "22          6.83           6.77          5.71           6.37          5.31   \n",
              "23          4.58           4.62          4.33           4.10          4.01   \n",
              "24          7.06           6.51          6.61           6.19          6.10   \n",
              "25          3.75           3.67          3.00           3.49          2.95   \n",
              "26          5.72           5.75          4.51           5.26          4.33   \n",
              "27          3.92           3.86          3.36           3.66          3.15   \n",
              "28          3.01           3.25          2.58           3.07          3.06   \n",
              "29          3.13           3.11          2.34           3.04          2.27   \n",
              "30          6.93           6.44          6.88           6.08          6.31   \n",
              "31          4.71           4.98          3.98           4.60          4.31   \n",
              "32          5.84           5.78          5.37           5.53          5.38   \n",
              "33          3.33           3.60          2.83           3.49          2.67   \n",
              "\n",
              "    cluster   label  \n",
              "0         0  Tinggi  \n",
              "1         0  Tinggi  \n",
              "2         0  Tinggi  \n",
              "3         0  Tinggi  \n",
              "4         1  Rendah  \n",
              "5         1  Rendah  \n",
              "6         1  Rendah  \n",
              "7         1  Rendah  \n",
              "8         1  Rendah  \n",
              "9         0  Tinggi  \n",
              "10        0  Tinggi  \n",
              "11        0  Tinggi  \n",
              "12        1  Rendah  \n",
              "13        1  Rendah  \n",
              "14        1  Rendah  \n",
              "15        0  Tinggi  \n",
              "16        1  Rendah  \n",
              "17        1  Rendah  \n",
              "18        1  Rendah  \n",
              "19        1  Rendah  \n",
              "20        1  Rendah  \n",
              "21        1  Rendah  \n",
              "22        0  Tinggi  \n",
              "23        1  Rendah  \n",
              "24        0  Tinggi  \n",
              "25        1  Rendah  \n",
              "26        1  Rendah  \n",
              "27        1  Rendah  \n",
              "28        1  Rendah  \n",
              "29        1  Rendah  \n",
              "30        0  Tinggi  \n",
              "31        1  Rendah  \n",
              "32        0  Tinggi  \n",
              "33        1  Rendah  \n",
              "\n",
              "[34 rows x 25 columns]"
            ]
          },
          "execution_count": 99,
          "metadata": {},
          "output_type": "execute_result"
        }
      ],
      "source": [
        "def labelling(x) :\n",
        "    if x == 0:\n",
        "        return \"Tinggi\"\n",
        "    else:\n",
        "        return \"Rendah\"\n",
        "\n",
        "df['label'] = df['cluster'].apply(labelling)\n",
        "df"
      ]
    },
    {
      "cell_type": "code",
      "execution_count": 100,
      "metadata": {},
      "outputs": [],
      "source": [
        "#df.to_excel('final-output.xlsx', index=False)"
      ]
    }
  ],
  "metadata": {
    "colab": {
      "collapsed_sections": [
        "KZ1fszmhpPZM",
        "iHmSE4t7rGwe",
        "nS9J-PXIe301",
        "6KW1VxUngLmV",
        "EkBBMq-thHSW",
        "1iDcNErshuK7",
        "aFK7tSS5ujGI",
        "VpV-9OrB4adH",
        "qSr4xiequyH7",
        "DHCp21H2vTyc",
        "szQxCiBNvyvP",
        "8H1a3kDgwbag"
      ],
      "provenance": [],
      "toc_visible": true
    },
    "kernelspec": {
      "display_name": "Python 3",
      "name": "python3"
    },
    "language_info": {
      "codemirror_mode": {
        "name": "ipython",
        "version": 3
      },
      "file_extension": ".py",
      "mimetype": "text/x-python",
      "name": "python",
      "nbconvert_exporter": "python",
      "pygments_lexer": "ipython3",
      "version": "3.11.6"
    }
  },
  "nbformat": 4,
  "nbformat_minor": 0
}
